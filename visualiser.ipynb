{
 "cells": [
  {
   "cell_type": "markdown",
   "metadata": {},
   "source": [
    "### GENERAL"
   ]
  },
  {
   "cell_type": "code",
   "execution_count": 3,
   "metadata": {},
   "outputs": [
    {
     "data": {
      "application/vnd.plotly.v1+json": {
       "config": {
        "plotlyServerURL": "https://plot.ly"
       },
       "data": [
        {
         "hovertemplate": "Identity=%{y}<br>Frame=%{x}<extra></extra>",
         "legendgroup": "Wataru",
         "marker": {
          "color": "#636efa",
          "symbol": "circle"
         },
         "mode": "markers",
         "name": "Wataru",
         "showlegend": true,
         "type": "scattergl",
         "x": [
          1001,
          1002,
          1003,
          1004,
          1005,
          1019,
          1020,
          1021,
          1041,
          1042,
          1043,
          1044,
          1045,
          1046,
          1047,
          1048,
          1049,
          1050,
          1054,
          1055,
          1056,
          1057,
          1058,
          1059,
          1060,
          1064,
          1065,
          1105,
          1106,
          1129,
          1156,
          1157,
          1213,
          1214,
          1221,
          1222,
          1223,
          1225,
          1226,
          1227,
          1228,
          1245,
          1246,
          1247,
          1257,
          1258,
          1259,
          1262,
          1268,
          1269,
          1270,
          1281,
          1282,
          1624,
          1625,
          1626,
          1678,
          1690,
          1691,
          1697,
          1734,
          1736,
          1737,
          1782,
          1965,
          1982,
          2004,
          2010,
          2011,
          2012,
          2013,
          2014,
          2015,
          2016,
          2017,
          2077,
          2078,
          2079,
          2080,
          2081,
          2082,
          2083,
          2084,
          2085,
          2086,
          2087,
          2108,
          2109,
          2110,
          2117,
          2118,
          2119,
          2120,
          2121,
          2122,
          411,
          427,
          428,
          429,
          459,
          460,
          461,
          698,
          782,
          783,
          807,
          808,
          809,
          810,
          973
         ],
         "xaxis": "x",
         "y": [
          "Wataru",
          "Wataru",
          "Wataru",
          "Wataru",
          "Wataru",
          "Wataru",
          "Wataru",
          "Wataru",
          "Wataru",
          "Wataru",
          "Wataru",
          "Wataru",
          "Wataru",
          "Wataru",
          "Wataru",
          "Wataru",
          "Wataru",
          "Wataru",
          "Wataru",
          "Wataru",
          "Wataru",
          "Wataru",
          "Wataru",
          "Wataru",
          "Wataru",
          "Wataru",
          "Wataru",
          "Wataru",
          "Wataru",
          "Wataru",
          "Wataru",
          "Wataru",
          "Wataru",
          "Wataru",
          "Wataru",
          "Wataru",
          "Wataru",
          "Wataru",
          "Wataru",
          "Wataru",
          "Wataru",
          "Wataru",
          "Wataru",
          "Wataru",
          "Wataru",
          "Wataru",
          "Wataru",
          "Wataru",
          "Wataru",
          "Wataru",
          "Wataru",
          "Wataru",
          "Wataru",
          "Wataru",
          "Wataru",
          "Wataru",
          "Wataru",
          "Wataru",
          "Wataru",
          "Wataru",
          "Wataru",
          "Wataru",
          "Wataru",
          "Wataru",
          "Wataru",
          "Wataru",
          "Wataru",
          "Wataru",
          "Wataru",
          "Wataru",
          "Wataru",
          "Wataru",
          "Wataru",
          "Wataru",
          "Wataru",
          "Wataru",
          "Wataru",
          "Wataru",
          "Wataru",
          "Wataru",
          "Wataru",
          "Wataru",
          "Wataru",
          "Wataru",
          "Wataru",
          "Wataru",
          "Wataru",
          "Wataru",
          "Wataru",
          "Wataru",
          "Wataru",
          "Wataru",
          "Wataru",
          "Wataru",
          "Wataru",
          "Wataru",
          "Wataru",
          "Wataru",
          "Wataru",
          "Wataru",
          "Wataru",
          "Wataru",
          "Wataru",
          "Wataru",
          "Wataru",
          "Wataru",
          "Wataru",
          "Wataru",
          "Wataru",
          "Wataru"
         ],
         "yaxis": "y"
        },
        {
         "hovertemplate": "Identity=%{y}<br>Frame=%{x}<extra></extra>",
         "legendgroup": "Carl",
         "marker": {
          "color": "#EF553B",
          "symbol": "circle"
         },
         "mode": "markers",
         "name": "Carl",
         "showlegend": true,
         "type": "scattergl",
         "x": [
          1013,
          1023,
          1026,
          1027,
          1034,
          1035,
          1039,
          1040,
          1042,
          1065,
          1235,
          1240,
          1247,
          1274,
          1275,
          1277,
          1279,
          1280,
          1281,
          1282,
          1283,
          1290,
          1291,
          1292,
          1293,
          171,
          1719,
          1721,
          173,
          174,
          175,
          178,
          179,
          180,
          181,
          2101,
          2102,
          2103,
          2105,
          2107,
          2108,
          2109,
          2115,
          2116,
          2117,
          2118,
          2119,
          2120,
          2121,
          2125,
          2127,
          2128,
          2133,
          2134,
          2135,
          2139,
          2143,
          2144,
          2147,
          2148,
          2149,
          2153,
          2154,
          2155,
          2167,
          2173,
          2174,
          303,
          304,
          310,
          311,
          312,
          314,
          315,
          317,
          318,
          320,
          321,
          330,
          331,
          332,
          333,
          334,
          335,
          338,
          339,
          340,
          341,
          342,
          343,
          344,
          345,
          346,
          347,
          348,
          349,
          356,
          363,
          367,
          368,
          369,
          370,
          371,
          372,
          407,
          414,
          415,
          416,
          418,
          419,
          461,
          462,
          467,
          468,
          469,
          472,
          483,
          484,
          502,
          505,
          516,
          517,
          518,
          519,
          520,
          527,
          528,
          529,
          530,
          532,
          533,
          534,
          535,
          536,
          570,
          571,
          572,
          573,
          574,
          581,
          600,
          604,
          614,
          615,
          616,
          643,
          644,
          645,
          646,
          648,
          661,
          663,
          664,
          685,
          688,
          689,
          700,
          704,
          705,
          714,
          715,
          716,
          728,
          731,
          732,
          733,
          734,
          777,
          778,
          800,
          853,
          900,
          923,
          924,
          927,
          929,
          930,
          931
         ],
         "xaxis": "x",
         "y": [
          "Carl",
          "Carl",
          "Carl",
          "Carl",
          "Carl",
          "Carl",
          "Carl",
          "Carl",
          "Carl",
          "Carl",
          "Carl",
          "Carl",
          "Carl",
          "Carl",
          "Carl",
          "Carl",
          "Carl",
          "Carl",
          "Carl",
          "Carl",
          "Carl",
          "Carl",
          "Carl",
          "Carl",
          "Carl",
          "Carl",
          "Carl",
          "Carl",
          "Carl",
          "Carl",
          "Carl",
          "Carl",
          "Carl",
          "Carl",
          "Carl",
          "Carl",
          "Carl",
          "Carl",
          "Carl",
          "Carl",
          "Carl",
          "Carl",
          "Carl",
          "Carl",
          "Carl",
          "Carl",
          "Carl",
          "Carl",
          "Carl",
          "Carl",
          "Carl",
          "Carl",
          "Carl",
          "Carl",
          "Carl",
          "Carl",
          "Carl",
          "Carl",
          "Carl",
          "Carl",
          "Carl",
          "Carl",
          "Carl",
          "Carl",
          "Carl",
          "Carl",
          "Carl",
          "Carl",
          "Carl",
          "Carl",
          "Carl",
          "Carl",
          "Carl",
          "Carl",
          "Carl",
          "Carl",
          "Carl",
          "Carl",
          "Carl",
          "Carl",
          "Carl",
          "Carl",
          "Carl",
          "Carl",
          "Carl",
          "Carl",
          "Carl",
          "Carl",
          "Carl",
          "Carl",
          "Carl",
          "Carl",
          "Carl",
          "Carl",
          "Carl",
          "Carl",
          "Carl",
          "Carl",
          "Carl",
          "Carl",
          "Carl",
          "Carl",
          "Carl",
          "Carl",
          "Carl",
          "Carl",
          "Carl",
          "Carl",
          "Carl",
          "Carl",
          "Carl",
          "Carl",
          "Carl",
          "Carl",
          "Carl",
          "Carl",
          "Carl",
          "Carl",
          "Carl",
          "Carl",
          "Carl",
          "Carl",
          "Carl",
          "Carl",
          "Carl",
          "Carl",
          "Carl",
          "Carl",
          "Carl",
          "Carl",
          "Carl",
          "Carl",
          "Carl",
          "Carl",
          "Carl",
          "Carl",
          "Carl",
          "Carl",
          "Carl",
          "Carl",
          "Carl",
          "Carl",
          "Carl",
          "Carl",
          "Carl",
          "Carl",
          "Carl",
          "Carl",
          "Carl",
          "Carl",
          "Carl",
          "Carl",
          "Carl",
          "Carl",
          "Carl",
          "Carl",
          "Carl",
          "Carl",
          "Carl",
          "Carl",
          "Carl",
          "Carl",
          "Carl",
          "Carl",
          "Carl",
          "Carl",
          "Carl",
          "Carl",
          "Carl",
          "Carl",
          "Carl",
          "Carl",
          "Carl",
          "Carl",
          "Carl",
          "Carl",
          "Carl",
          "Carl"
         ],
         "yaxis": "y"
        },
        {
         "hovertemplate": "Identity=%{y}<br>Frame=%{x}<extra></extra>",
         "legendgroup": "Keming",
         "marker": {
          "color": "#00cc96",
          "symbol": "circle"
         },
         "mode": "markers",
         "name": "Keming",
         "showlegend": true,
         "type": "scattergl",
         "x": [
          1236,
          1256,
          1257,
          1258,
          1259,
          1287,
          1288,
          1384,
          1385,
          1386,
          1387,
          1388,
          1393,
          1403,
          1404,
          1405,
          1406,
          1417,
          1418,
          1448,
          1452,
          1459,
          1463,
          1522,
          1523,
          1524,
          1525,
          1526,
          1527,
          1529,
          1530,
          1532,
          1541,
          1585,
          1586,
          1589,
          159,
          1590,
          1600,
          1601,
          1602,
          1606,
          1607,
          1610,
          162,
          1651,
          1666,
          1667,
          169,
          1693,
          1694,
          1695,
          170,
          1702,
          1703,
          1765,
          1766,
          1767,
          1768,
          1811,
          1821,
          1974,
          1975,
          1976,
          1977,
          1979,
          1980,
          1981,
          1992,
          205,
          206,
          209,
          211,
          2119,
          2120,
          2121,
          2122,
          2165,
          2188,
          2191,
          2192,
          2193,
          2280,
          2281,
          2282,
          2293,
          2294,
          2295,
          2296,
          2297,
          252,
          253,
          257,
          258,
          287,
          368,
          370,
          409,
          410,
          492,
          493,
          541,
          542,
          647,
          654,
          657,
          705,
          713,
          79,
          872,
          902,
          923,
          924,
          93,
          94,
          95
         ],
         "xaxis": "x",
         "y": [
          "Keming",
          "Keming",
          "Keming",
          "Keming",
          "Keming",
          "Keming",
          "Keming",
          "Keming",
          "Keming",
          "Keming",
          "Keming",
          "Keming",
          "Keming",
          "Keming",
          "Keming",
          "Keming",
          "Keming",
          "Keming",
          "Keming",
          "Keming",
          "Keming",
          "Keming",
          "Keming",
          "Keming",
          "Keming",
          "Keming",
          "Keming",
          "Keming",
          "Keming",
          "Keming",
          "Keming",
          "Keming",
          "Keming",
          "Keming",
          "Keming",
          "Keming",
          "Keming",
          "Keming",
          "Keming",
          "Keming",
          "Keming",
          "Keming",
          "Keming",
          "Keming",
          "Keming",
          "Keming",
          "Keming",
          "Keming",
          "Keming",
          "Keming",
          "Keming",
          "Keming",
          "Keming",
          "Keming",
          "Keming",
          "Keming",
          "Keming",
          "Keming",
          "Keming",
          "Keming",
          "Keming",
          "Keming",
          "Keming",
          "Keming",
          "Keming",
          "Keming",
          "Keming",
          "Keming",
          "Keming",
          "Keming",
          "Keming",
          "Keming",
          "Keming",
          "Keming",
          "Keming",
          "Keming",
          "Keming",
          "Keming",
          "Keming",
          "Keming",
          "Keming",
          "Keming",
          "Keming",
          "Keming",
          "Keming",
          "Keming",
          "Keming",
          "Keming",
          "Keming",
          "Keming",
          "Keming",
          "Keming",
          "Keming",
          "Keming",
          "Keming",
          "Keming",
          "Keming",
          "Keming",
          "Keming",
          "Keming",
          "Keming",
          "Keming",
          "Keming",
          "Keming",
          "Keming",
          "Keming",
          "Keming",
          "Keming",
          "Keming",
          "Keming",
          "Keming",
          "Keming",
          "Keming",
          "Keming",
          "Keming",
          "Keming"
         ],
         "yaxis": "y"
        },
        {
         "hovertemplate": "Identity=%{y}<br>Frame=%{x}<extra></extra>",
         "legendgroup": "Professor_Yuan",
         "marker": {
          "color": "#ab63fa",
          "symbol": "circle"
         },
         "mode": "markers",
         "name": "Professor_Yuan",
         "showlegend": true,
         "type": "scattergl",
         "x": [
          1002,
          1003,
          1004,
          1005,
          1006,
          1007,
          1019,
          1025,
          1029,
          1032,
          1033,
          1052,
          1072,
          1117,
          1144,
          1161,
          1166,
          1172,
          1173,
          1174,
          1175,
          1200,
          1205,
          1206,
          1212,
          1213,
          1219,
          1220,
          1221,
          1222,
          1225,
          1241,
          1242,
          1243,
          1244,
          1245,
          1251,
          1252,
          1253,
          1336,
          1337,
          1338,
          1368,
          1369,
          1434,
          1465,
          1471,
          1472,
          1475,
          1476,
          1485,
          1493,
          1494,
          1495,
          1526,
          1527,
          1528,
          1529,
          1531,
          1532,
          1535,
          1538,
          1540,
          1543,
          1544,
          1545,
          1549,
          1551,
          1552,
          1553,
          1588,
          1613,
          1614,
          1647,
          264,
          265,
          270,
          271,
          272,
          273,
          274,
          275,
          281,
          282,
          283,
          284,
          285,
          286,
          287,
          288,
          289,
          292,
          293,
          294,
          295,
          399,
          417,
          463,
          464,
          465,
          466,
          467,
          468,
          469,
          470,
          474,
          475,
          482,
          489,
          494,
          495,
          498,
          499,
          500,
          501,
          502,
          503,
          517,
          518,
          519,
          520,
          521,
          522,
          523,
          603,
          614,
          616,
          629,
          634,
          668,
          722,
          723,
          724,
          725,
          726,
          727,
          728,
          729,
          730,
          731,
          738,
          739,
          740,
          741,
          742,
          743,
          744,
          745,
          746,
          747,
          748,
          800,
          801,
          802,
          803,
          804,
          814,
          820,
          821,
          822,
          841,
          846,
          847,
          848,
          849,
          850,
          851,
          857,
          859,
          865,
          883,
          921,
          922,
          923,
          929,
          931,
          994,
          995,
          996,
          997,
          998
         ],
         "xaxis": "x",
         "y": [
          "Professor_Yuan",
          "Professor_Yuan",
          "Professor_Yuan",
          "Professor_Yuan",
          "Professor_Yuan",
          "Professor_Yuan",
          "Professor_Yuan",
          "Professor_Yuan",
          "Professor_Yuan",
          "Professor_Yuan",
          "Professor_Yuan",
          "Professor_Yuan",
          "Professor_Yuan",
          "Professor_Yuan",
          "Professor_Yuan",
          "Professor_Yuan",
          "Professor_Yuan",
          "Professor_Yuan",
          "Professor_Yuan",
          "Professor_Yuan",
          "Professor_Yuan",
          "Professor_Yuan",
          "Professor_Yuan",
          "Professor_Yuan",
          "Professor_Yuan",
          "Professor_Yuan",
          "Professor_Yuan",
          "Professor_Yuan",
          "Professor_Yuan",
          "Professor_Yuan",
          "Professor_Yuan",
          "Professor_Yuan",
          "Professor_Yuan",
          "Professor_Yuan",
          "Professor_Yuan",
          "Professor_Yuan",
          "Professor_Yuan",
          "Professor_Yuan",
          "Professor_Yuan",
          "Professor_Yuan",
          "Professor_Yuan",
          "Professor_Yuan",
          "Professor_Yuan",
          "Professor_Yuan",
          "Professor_Yuan",
          "Professor_Yuan",
          "Professor_Yuan",
          "Professor_Yuan",
          "Professor_Yuan",
          "Professor_Yuan",
          "Professor_Yuan",
          "Professor_Yuan",
          "Professor_Yuan",
          "Professor_Yuan",
          "Professor_Yuan",
          "Professor_Yuan",
          "Professor_Yuan",
          "Professor_Yuan",
          "Professor_Yuan",
          "Professor_Yuan",
          "Professor_Yuan",
          "Professor_Yuan",
          "Professor_Yuan",
          "Professor_Yuan",
          "Professor_Yuan",
          "Professor_Yuan",
          "Professor_Yuan",
          "Professor_Yuan",
          "Professor_Yuan",
          "Professor_Yuan",
          "Professor_Yuan",
          "Professor_Yuan",
          "Professor_Yuan",
          "Professor_Yuan",
          "Professor_Yuan",
          "Professor_Yuan",
          "Professor_Yuan",
          "Professor_Yuan",
          "Professor_Yuan",
          "Professor_Yuan",
          "Professor_Yuan",
          "Professor_Yuan",
          "Professor_Yuan",
          "Professor_Yuan",
          "Professor_Yuan",
          "Professor_Yuan",
          "Professor_Yuan",
          "Professor_Yuan",
          "Professor_Yuan",
          "Professor_Yuan",
          "Professor_Yuan",
          "Professor_Yuan",
          "Professor_Yuan",
          "Professor_Yuan",
          "Professor_Yuan",
          "Professor_Yuan",
          "Professor_Yuan",
          "Professor_Yuan",
          "Professor_Yuan",
          "Professor_Yuan",
          "Professor_Yuan",
          "Professor_Yuan",
          "Professor_Yuan",
          "Professor_Yuan",
          "Professor_Yuan",
          "Professor_Yuan",
          "Professor_Yuan",
          "Professor_Yuan",
          "Professor_Yuan",
          "Professor_Yuan",
          "Professor_Yuan",
          "Professor_Yuan",
          "Professor_Yuan",
          "Professor_Yuan",
          "Professor_Yuan",
          "Professor_Yuan",
          "Professor_Yuan",
          "Professor_Yuan",
          "Professor_Yuan",
          "Professor_Yuan",
          "Professor_Yuan",
          "Professor_Yuan",
          "Professor_Yuan",
          "Professor_Yuan",
          "Professor_Yuan",
          "Professor_Yuan",
          "Professor_Yuan",
          "Professor_Yuan",
          "Professor_Yuan",
          "Professor_Yuan",
          "Professor_Yuan",
          "Professor_Yuan",
          "Professor_Yuan",
          "Professor_Yuan",
          "Professor_Yuan",
          "Professor_Yuan",
          "Professor_Yuan",
          "Professor_Yuan",
          "Professor_Yuan",
          "Professor_Yuan",
          "Professor_Yuan",
          "Professor_Yuan",
          "Professor_Yuan",
          "Professor_Yuan",
          "Professor_Yuan",
          "Professor_Yuan",
          "Professor_Yuan",
          "Professor_Yuan",
          "Professor_Yuan",
          "Professor_Yuan",
          "Professor_Yuan",
          "Professor_Yuan",
          "Professor_Yuan",
          "Professor_Yuan",
          "Professor_Yuan",
          "Professor_Yuan",
          "Professor_Yuan",
          "Professor_Yuan",
          "Professor_Yuan",
          "Professor_Yuan",
          "Professor_Yuan",
          "Professor_Yuan",
          "Professor_Yuan",
          "Professor_Yuan",
          "Professor_Yuan",
          "Professor_Yuan",
          "Professor_Yuan",
          "Professor_Yuan",
          "Professor_Yuan",
          "Professor_Yuan",
          "Professor_Yuan",
          "Professor_Yuan",
          "Professor_Yuan",
          "Professor_Yuan",
          "Professor_Yuan",
          "Professor_Yuan",
          "Professor_Yuan",
          "Professor_Yuan",
          "Professor_Yuan",
          "Professor_Yuan",
          "Professor_Yuan"
         ],
         "yaxis": "y"
        },
        {
         "hovertemplate": "Identity=%{y}<br>Frame=%{x}<extra></extra>",
         "legendgroup": "Bo_Kang",
         "marker": {
          "color": "#FFA15A",
          "symbol": "circle"
         },
         "mode": "markers",
         "name": "Bo_Kang",
         "showlegend": true,
         "type": "scattergl",
         "x": [
          1042,
          1044,
          1045,
          1046,
          1047,
          1059,
          1090,
          1091,
          1093,
          1094,
          1096,
          1097,
          1245,
          1295,
          1296,
          1320,
          1332,
          1450,
          1575,
          158,
          1996,
          201,
          204,
          214,
          215,
          216,
          217,
          218,
          224,
          2309,
          2312,
          2313,
          2314,
          2315,
          2316,
          2317,
          2320,
          2321,
          2322,
          2323,
          2327,
          2328,
          2329,
          2330,
          2334,
          2347,
          2348,
          2349,
          248,
          423,
          424,
          427,
          428,
          429,
          497,
          511,
          512,
          530,
          531,
          532,
          533,
          584,
          601,
          602,
          603,
          604,
          654,
          655,
          657,
          659,
          678,
          73,
          745,
          746,
          747,
          748,
          749,
          753,
          755,
          76,
          762,
          763,
          764,
          765,
          766,
          768,
          77,
          773,
          78,
          80,
          801,
          809,
          847,
          848,
          849,
          862,
          890,
          891,
          892,
          893,
          894,
          895,
          896,
          897,
          898,
          899,
          900,
          902,
          903,
          911,
          912,
          913,
          931,
          932,
          933,
          934,
          989,
          990,
          993
         ],
         "xaxis": "x",
         "y": [
          "Bo_Kang",
          "Bo_Kang",
          "Bo_Kang",
          "Bo_Kang",
          "Bo_Kang",
          "Bo_Kang",
          "Bo_Kang",
          "Bo_Kang",
          "Bo_Kang",
          "Bo_Kang",
          "Bo_Kang",
          "Bo_Kang",
          "Bo_Kang",
          "Bo_Kang",
          "Bo_Kang",
          "Bo_Kang",
          "Bo_Kang",
          "Bo_Kang",
          "Bo_Kang",
          "Bo_Kang",
          "Bo_Kang",
          "Bo_Kang",
          "Bo_Kang",
          "Bo_Kang",
          "Bo_Kang",
          "Bo_Kang",
          "Bo_Kang",
          "Bo_Kang",
          "Bo_Kang",
          "Bo_Kang",
          "Bo_Kang",
          "Bo_Kang",
          "Bo_Kang",
          "Bo_Kang",
          "Bo_Kang",
          "Bo_Kang",
          "Bo_Kang",
          "Bo_Kang",
          "Bo_Kang",
          "Bo_Kang",
          "Bo_Kang",
          "Bo_Kang",
          "Bo_Kang",
          "Bo_Kang",
          "Bo_Kang",
          "Bo_Kang",
          "Bo_Kang",
          "Bo_Kang",
          "Bo_Kang",
          "Bo_Kang",
          "Bo_Kang",
          "Bo_Kang",
          "Bo_Kang",
          "Bo_Kang",
          "Bo_Kang",
          "Bo_Kang",
          "Bo_Kang",
          "Bo_Kang",
          "Bo_Kang",
          "Bo_Kang",
          "Bo_Kang",
          "Bo_Kang",
          "Bo_Kang",
          "Bo_Kang",
          "Bo_Kang",
          "Bo_Kang",
          "Bo_Kang",
          "Bo_Kang",
          "Bo_Kang",
          "Bo_Kang",
          "Bo_Kang",
          "Bo_Kang",
          "Bo_Kang",
          "Bo_Kang",
          "Bo_Kang",
          "Bo_Kang",
          "Bo_Kang",
          "Bo_Kang",
          "Bo_Kang",
          "Bo_Kang",
          "Bo_Kang",
          "Bo_Kang",
          "Bo_Kang",
          "Bo_Kang",
          "Bo_Kang",
          "Bo_Kang",
          "Bo_Kang",
          "Bo_Kang",
          "Bo_Kang",
          "Bo_Kang",
          "Bo_Kang",
          "Bo_Kang",
          "Bo_Kang",
          "Bo_Kang",
          "Bo_Kang",
          "Bo_Kang",
          "Bo_Kang",
          "Bo_Kang",
          "Bo_Kang",
          "Bo_Kang",
          "Bo_Kang",
          "Bo_Kang",
          "Bo_Kang",
          "Bo_Kang",
          "Bo_Kang",
          "Bo_Kang",
          "Bo_Kang",
          "Bo_Kang",
          "Bo_Kang",
          "Bo_Kang",
          "Bo_Kang",
          "Bo_Kang",
          "Bo_Kang",
          "Bo_Kang",
          "Bo_Kang",
          "Bo_Kang",
          "Bo_Kang",
          "Bo_Kang",
          "Bo_Kang"
         ],
         "yaxis": "y"
        },
        {
         "hovertemplate": "Identity=%{y}<br>Frame=%{x}<extra></extra>",
         "legendgroup": "Haoru",
         "marker": {
          "color": "#19d3f3",
          "symbol": "circle"
         },
         "mode": "markers",
         "name": "Haoru",
         "showlegend": true,
         "type": "scattergl",
         "x": [
          1006,
          1211,
          1250,
          1440,
          159,
          159,
          161,
          162,
          163,
          164,
          165,
          1691,
          1692,
          1694,
          1699,
          1701,
          1702,
          1707,
          1708,
          1709,
          1710,
          1756,
          1758,
          1760,
          1765,
          1770,
          1780,
          1807,
          1820,
          1822,
          1823,
          1825,
          1826,
          1827,
          1828,
          1829,
          1830,
          1831,
          1832,
          1863,
          1864,
          1865,
          1866,
          1867,
          1871,
          1873,
          1877,
          1878,
          1905,
          1906,
          1907,
          1908,
          1909,
          1915,
          1916,
          1917,
          1920,
          1921,
          1922,
          1923,
          1924,
          1931,
          1933,
          1965,
          1973,
          1974,
          1975,
          1979,
          1980,
          1981,
          1982,
          1984,
          1989,
          1990,
          2188,
          2189,
          2200,
          2233,
          2235,
          250,
          251,
          275,
          276,
          277,
          279,
          280,
          281,
          282,
          283,
          284,
          294,
          295,
          296,
          297,
          298,
          299,
          300,
          302,
          316,
          320,
          324,
          325,
          326,
          327,
          328,
          329,
          331,
          332,
          367,
          368,
          369,
          370,
          374,
          375,
          376,
          399,
          400,
          403,
          404,
          405,
          406,
          407,
          409,
          410,
          741,
          742,
          743,
          744,
          745,
          746,
          882,
          911,
          913,
          915
         ],
         "xaxis": "x",
         "y": [
          "Haoru",
          "Haoru",
          "Haoru",
          "Haoru",
          "Haoru",
          "Haoru",
          "Haoru",
          "Haoru",
          "Haoru",
          "Haoru",
          "Haoru",
          "Haoru",
          "Haoru",
          "Haoru",
          "Haoru",
          "Haoru",
          "Haoru",
          "Haoru",
          "Haoru",
          "Haoru",
          "Haoru",
          "Haoru",
          "Haoru",
          "Haoru",
          "Haoru",
          "Haoru",
          "Haoru",
          "Haoru",
          "Haoru",
          "Haoru",
          "Haoru",
          "Haoru",
          "Haoru",
          "Haoru",
          "Haoru",
          "Haoru",
          "Haoru",
          "Haoru",
          "Haoru",
          "Haoru",
          "Haoru",
          "Haoru",
          "Haoru",
          "Haoru",
          "Haoru",
          "Haoru",
          "Haoru",
          "Haoru",
          "Haoru",
          "Haoru",
          "Haoru",
          "Haoru",
          "Haoru",
          "Haoru",
          "Haoru",
          "Haoru",
          "Haoru",
          "Haoru",
          "Haoru",
          "Haoru",
          "Haoru",
          "Haoru",
          "Haoru",
          "Haoru",
          "Haoru",
          "Haoru",
          "Haoru",
          "Haoru",
          "Haoru",
          "Haoru",
          "Haoru",
          "Haoru",
          "Haoru",
          "Haoru",
          "Haoru",
          "Haoru",
          "Haoru",
          "Haoru",
          "Haoru",
          "Haoru",
          "Haoru",
          "Haoru",
          "Haoru",
          "Haoru",
          "Haoru",
          "Haoru",
          "Haoru",
          "Haoru",
          "Haoru",
          "Haoru",
          "Haoru",
          "Haoru",
          "Haoru",
          "Haoru",
          "Haoru",
          "Haoru",
          "Haoru",
          "Haoru",
          "Haoru",
          "Haoru",
          "Haoru",
          "Haoru",
          "Haoru",
          "Haoru",
          "Haoru",
          "Haoru",
          "Haoru",
          "Haoru",
          "Haoru",
          "Haoru",
          "Haoru",
          "Haoru",
          "Haoru",
          "Haoru",
          "Haoru",
          "Haoru",
          "Haoru",
          "Haoru",
          "Haoru",
          "Haoru",
          "Haoru",
          "Haoru",
          "Haoru",
          "Haoru",
          "Haoru",
          "Haoru",
          "Haoru",
          "Haoru",
          "Haoru",
          "Haoru",
          "Haoru",
          "Haoru",
          "Haoru",
          "Haoru"
         ],
         "yaxis": "y"
        },
        {
         "hovertemplate": "Identity=%{y}<br>Frame=%{x}<extra></extra>",
         "legendgroup": "Jesse",
         "marker": {
          "color": "#FF6692",
          "symbol": "circle"
         },
         "mode": "markers",
         "name": "Jesse",
         "showlegend": true,
         "type": "scattergl",
         "x": [
          1190,
          1262,
          1265,
          1266,
          1267,
          1268,
          1271,
          1272,
          1285,
          1286,
          1287,
          1288,
          1289,
          1290,
          1291,
          1293,
          1294,
          1295,
          1296,
          1312,
          1356,
          1505,
          1509,
          1510,
          1511,
          1512,
          1516,
          1517,
          1521,
          1526,
          1529,
          1531,
          1532,
          1552,
          1553,
          1573,
          1574,
          1575,
          1576,
          1581,
          1582,
          1583,
          1593,
          1598,
          1599,
          1946,
          2082,
          2083,
          2086,
          2087,
          2095,
          2096,
          2117,
          2118,
          2119,
          2120,
          2121,
          2122,
          2123,
          2588,
          2589,
          2590,
          2591,
          2592,
          2593,
          2594,
          2595,
          2693,
          2694,
          2700,
          2701,
          2702,
          2703,
          2704,
          2734,
          2736,
          2738,
          2750,
          2754,
          2763,
          2764,
          2772,
          2778,
          2779,
          2781,
          2782,
          2783,
          2788,
          2794,
          301,
          358,
          359,
          360,
          362,
          368,
          369,
          370,
          378,
          379,
          380,
          382,
          383,
          384,
          385,
          386,
          392,
          393,
          564,
          600,
          604,
          605,
          606,
          607,
          608,
          609,
          615,
          704,
          714,
          718,
          868,
          869,
          870,
          871,
          873,
          874,
          876,
          877,
          879
         ],
         "xaxis": "x",
         "y": [
          "Jesse",
          "Jesse",
          "Jesse",
          "Jesse",
          "Jesse",
          "Jesse",
          "Jesse",
          "Jesse",
          "Jesse",
          "Jesse",
          "Jesse",
          "Jesse",
          "Jesse",
          "Jesse",
          "Jesse",
          "Jesse",
          "Jesse",
          "Jesse",
          "Jesse",
          "Jesse",
          "Jesse",
          "Jesse",
          "Jesse",
          "Jesse",
          "Jesse",
          "Jesse",
          "Jesse",
          "Jesse",
          "Jesse",
          "Jesse",
          "Jesse",
          "Jesse",
          "Jesse",
          "Jesse",
          "Jesse",
          "Jesse",
          "Jesse",
          "Jesse",
          "Jesse",
          "Jesse",
          "Jesse",
          "Jesse",
          "Jesse",
          "Jesse",
          "Jesse",
          "Jesse",
          "Jesse",
          "Jesse",
          "Jesse",
          "Jesse",
          "Jesse",
          "Jesse",
          "Jesse",
          "Jesse",
          "Jesse",
          "Jesse",
          "Jesse",
          "Jesse",
          "Jesse",
          "Jesse",
          "Jesse",
          "Jesse",
          "Jesse",
          "Jesse",
          "Jesse",
          "Jesse",
          "Jesse",
          "Jesse",
          "Jesse",
          "Jesse",
          "Jesse",
          "Jesse",
          "Jesse",
          "Jesse",
          "Jesse",
          "Jesse",
          "Jesse",
          "Jesse",
          "Jesse",
          "Jesse",
          "Jesse",
          "Jesse",
          "Jesse",
          "Jesse",
          "Jesse",
          "Jesse",
          "Jesse",
          "Jesse",
          "Jesse",
          "Jesse",
          "Jesse",
          "Jesse",
          "Jesse",
          "Jesse",
          "Jesse",
          "Jesse",
          "Jesse",
          "Jesse",
          "Jesse",
          "Jesse",
          "Jesse",
          "Jesse",
          "Jesse",
          "Jesse",
          "Jesse",
          "Jesse",
          "Jesse",
          "Jesse",
          "Jesse",
          "Jesse",
          "Jesse",
          "Jesse",
          "Jesse",
          "Jesse",
          "Jesse",
          "Jesse",
          "Jesse",
          "Jesse",
          "Jesse",
          "Jesse",
          "Jesse",
          "Jesse",
          "Jesse",
          "Jesse",
          "Jesse",
          "Jesse",
          "Jesse",
          "Jesse"
         ],
         "yaxis": "y"
        },
        {
         "hovertemplate": "Identity=%{y}<br>Frame=%{x}<extra></extra>",
         "legendgroup": "Vic",
         "marker": {
          "color": "#B6E880",
          "symbol": "circle"
         },
         "mode": "markers",
         "name": "Vic",
         "showlegend": true,
         "type": "scattergl",
         "x": [
          1148,
          1149,
          1150,
          1153,
          1347,
          1348,
          1349,
          1350,
          1351,
          1352,
          1362,
          1385,
          1386,
          1387,
          1388,
          1389,
          1390,
          1391,
          1392,
          1393,
          1398,
          1399,
          1400,
          1401,
          1402,
          1431,
          1432,
          1434,
          1435,
          1436,
          1437,
          1442,
          1443,
          1444,
          1445,
          1446,
          1449,
          1450,
          1451,
          1636,
          1637,
          1640,
          1642,
          1651,
          1652,
          1653,
          1665,
          1666,
          1669,
          1670,
          1958,
          1959,
          1960,
          1961,
          1962,
          1963,
          1964,
          1965,
          1966,
          1967,
          1968,
          1970,
          1971,
          1972,
          1973,
          1974,
          1975,
          1976,
          1978,
          1979,
          1980,
          1981,
          1982,
          1983,
          1987,
          2044,
          2045,
          2046,
          2068,
          2069,
          2070,
          2071,
          2072,
          2073,
          2081,
          2082,
          2083,
          2181,
          2182,
          2183,
          2214,
          2215,
          2216,
          2217,
          2414,
          2415,
          643,
          688,
          699,
          862,
          863,
          864,
          865,
          866,
          868,
          870,
          874,
          875,
          896,
          897,
          898,
          899,
          900,
          901,
          905,
          906,
          910,
          911,
          916,
          917,
          918
         ],
         "xaxis": "x",
         "y": [
          "Vic",
          "Vic",
          "Vic",
          "Vic",
          "Vic",
          "Vic",
          "Vic",
          "Vic",
          "Vic",
          "Vic",
          "Vic",
          "Vic",
          "Vic",
          "Vic",
          "Vic",
          "Vic",
          "Vic",
          "Vic",
          "Vic",
          "Vic",
          "Vic",
          "Vic",
          "Vic",
          "Vic",
          "Vic",
          "Vic",
          "Vic",
          "Vic",
          "Vic",
          "Vic",
          "Vic",
          "Vic",
          "Vic",
          "Vic",
          "Vic",
          "Vic",
          "Vic",
          "Vic",
          "Vic",
          "Vic",
          "Vic",
          "Vic",
          "Vic",
          "Vic",
          "Vic",
          "Vic",
          "Vic",
          "Vic",
          "Vic",
          "Vic",
          "Vic",
          "Vic",
          "Vic",
          "Vic",
          "Vic",
          "Vic",
          "Vic",
          "Vic",
          "Vic",
          "Vic",
          "Vic",
          "Vic",
          "Vic",
          "Vic",
          "Vic",
          "Vic",
          "Vic",
          "Vic",
          "Vic",
          "Vic",
          "Vic",
          "Vic",
          "Vic",
          "Vic",
          "Vic",
          "Vic",
          "Vic",
          "Vic",
          "Vic",
          "Vic",
          "Vic",
          "Vic",
          "Vic",
          "Vic",
          "Vic",
          "Vic",
          "Vic",
          "Vic",
          "Vic",
          "Vic",
          "Vic",
          "Vic",
          "Vic",
          "Vic",
          "Vic",
          "Vic",
          "Vic",
          "Vic",
          "Vic",
          "Vic",
          "Vic",
          "Vic",
          "Vic",
          "Vic",
          "Vic",
          "Vic",
          "Vic",
          "Vic",
          "Vic",
          "Vic",
          "Vic",
          "Vic",
          "Vic",
          "Vic",
          "Vic",
          "Vic",
          "Vic",
          "Vic",
          "Vic",
          "Vic",
          "Vic"
         ],
         "yaxis": "y"
        },
        {
         "hovertemplate": "Identity=%{y}<br>Frame=%{x}<extra></extra>",
         "legendgroup": "Hitokiri_Joe",
         "marker": {
          "color": "#FF97FF",
          "symbol": "circle"
         },
         "mode": "markers",
         "name": "Hitokiri_Joe",
         "showlegend": true,
         "type": "scattergl",
         "x": [
          1083,
          1114,
          1116,
          1117,
          1118,
          1198,
          1201,
          1202,
          1207,
          1208,
          1209,
          1307,
          1308,
          1311,
          1312,
          1313,
          1315,
          1349,
          1350,
          1385,
          1416,
          1417,
          1421,
          1619,
          1720,
          1725,
          1764,
          1767,
          2151,
          2185,
          2186,
          2187,
          2199,
          2201,
          2202,
          2223,
          2246,
          2247,
          2249,
          2250,
          2271,
          2273,
          2313,
          2317,
          2318,
          2319,
          2334,
          2335,
          2341,
          2342,
          2396,
          2397,
          2398,
          2399,
          2400,
          2401,
          2402,
          2403,
          2404,
          2405,
          2407,
          2408,
          2419,
          2420,
          2421,
          2423,
          2429,
          243,
          2434,
          2461,
          2477,
          2478,
          249,
          252,
          253,
          254,
          488,
          560,
          568,
          569,
          572,
          573,
          593,
          602,
          643,
          646,
          647,
          704,
          706,
          718,
          719,
          750,
          751,
          752,
          753,
          754,
          772,
          795,
          802,
          805,
          806,
          818,
          84,
          845,
          859,
          861,
          87,
          88,
          89,
          892,
          896,
          90,
          928,
          933,
          943,
          944,
          945,
          946,
          948,
          952,
          953,
          954
         ],
         "xaxis": "x",
         "y": [
          "Hitokiri_Joe",
          "Hitokiri_Joe",
          "Hitokiri_Joe",
          "Hitokiri_Joe",
          "Hitokiri_Joe",
          "Hitokiri_Joe",
          "Hitokiri_Joe",
          "Hitokiri_Joe",
          "Hitokiri_Joe",
          "Hitokiri_Joe",
          "Hitokiri_Joe",
          "Hitokiri_Joe",
          "Hitokiri_Joe",
          "Hitokiri_Joe",
          "Hitokiri_Joe",
          "Hitokiri_Joe",
          "Hitokiri_Joe",
          "Hitokiri_Joe",
          "Hitokiri_Joe",
          "Hitokiri_Joe",
          "Hitokiri_Joe",
          "Hitokiri_Joe",
          "Hitokiri_Joe",
          "Hitokiri_Joe",
          "Hitokiri_Joe",
          "Hitokiri_Joe",
          "Hitokiri_Joe",
          "Hitokiri_Joe",
          "Hitokiri_Joe",
          "Hitokiri_Joe",
          "Hitokiri_Joe",
          "Hitokiri_Joe",
          "Hitokiri_Joe",
          "Hitokiri_Joe",
          "Hitokiri_Joe",
          "Hitokiri_Joe",
          "Hitokiri_Joe",
          "Hitokiri_Joe",
          "Hitokiri_Joe",
          "Hitokiri_Joe",
          "Hitokiri_Joe",
          "Hitokiri_Joe",
          "Hitokiri_Joe",
          "Hitokiri_Joe",
          "Hitokiri_Joe",
          "Hitokiri_Joe",
          "Hitokiri_Joe",
          "Hitokiri_Joe",
          "Hitokiri_Joe",
          "Hitokiri_Joe",
          "Hitokiri_Joe",
          "Hitokiri_Joe",
          "Hitokiri_Joe",
          "Hitokiri_Joe",
          "Hitokiri_Joe",
          "Hitokiri_Joe",
          "Hitokiri_Joe",
          "Hitokiri_Joe",
          "Hitokiri_Joe",
          "Hitokiri_Joe",
          "Hitokiri_Joe",
          "Hitokiri_Joe",
          "Hitokiri_Joe",
          "Hitokiri_Joe",
          "Hitokiri_Joe",
          "Hitokiri_Joe",
          "Hitokiri_Joe",
          "Hitokiri_Joe",
          "Hitokiri_Joe",
          "Hitokiri_Joe",
          "Hitokiri_Joe",
          "Hitokiri_Joe",
          "Hitokiri_Joe",
          "Hitokiri_Joe",
          "Hitokiri_Joe",
          "Hitokiri_Joe",
          "Hitokiri_Joe",
          "Hitokiri_Joe",
          "Hitokiri_Joe",
          "Hitokiri_Joe",
          "Hitokiri_Joe",
          "Hitokiri_Joe",
          "Hitokiri_Joe",
          "Hitokiri_Joe",
          "Hitokiri_Joe",
          "Hitokiri_Joe",
          "Hitokiri_Joe",
          "Hitokiri_Joe",
          "Hitokiri_Joe",
          "Hitokiri_Joe",
          "Hitokiri_Joe",
          "Hitokiri_Joe",
          "Hitokiri_Joe",
          "Hitokiri_Joe",
          "Hitokiri_Joe",
          "Hitokiri_Joe",
          "Hitokiri_Joe",
          "Hitokiri_Joe",
          "Hitokiri_Joe",
          "Hitokiri_Joe",
          "Hitokiri_Joe",
          "Hitokiri_Joe",
          "Hitokiri_Joe",
          "Hitokiri_Joe",
          "Hitokiri_Joe",
          "Hitokiri_Joe",
          "Hitokiri_Joe",
          "Hitokiri_Joe",
          "Hitokiri_Joe",
          "Hitokiri_Joe",
          "Hitokiri_Joe",
          "Hitokiri_Joe",
          "Hitokiri_Joe",
          "Hitokiri_Joe",
          "Hitokiri_Joe",
          "Hitokiri_Joe",
          "Hitokiri_Joe",
          "Hitokiri_Joe",
          "Hitokiri_Joe",
          "Hitokiri_Joe",
          "Hitokiri_Joe",
          "Hitokiri_Joe"
         ],
         "yaxis": "y"
        },
        {
         "hovertemplate": "Identity=%{y}<br>Frame=%{x}<extra></extra>",
         "legendgroup": "Alex_Sebastian",
         "marker": {
          "color": "#FECB52",
          "symbol": "circle"
         },
         "mode": "markers",
         "name": "Alex_Sebastian",
         "showlegend": true,
         "type": "scattergl",
         "x": [
          1002,
          1007,
          1036,
          1046,
          1067,
          1068,
          1069,
          1070,
          1071,
          1078,
          1079,
          1080,
          1081,
          1082,
          1083,
          1084,
          1085,
          1086,
          1087,
          1088,
          1089,
          1090,
          1091,
          1092,
          1093,
          1094,
          1095,
          1096,
          1097,
          1098,
          1099,
          1100,
          1101,
          1102,
          1103,
          1122,
          1195,
          1196,
          1197,
          1198,
          1199,
          1200,
          1201,
          1202,
          1203,
          1207,
          1209,
          1211,
          1212,
          1216,
          1217,
          1304,
          1305,
          1306,
          1307,
          1308,
          1309,
          1310,
          1311,
          1337,
          1338,
          1400,
          1403,
          1404,
          1510,
          1512,
          1523,
          1527,
          1537,
          1577,
          1587,
          1589,
          1605,
          1612,
          1613,
          1614,
          1689,
          1692,
          1693,
          1701,
          1702,
          1704,
          1706,
          1711,
          1712,
          1713,
          1714,
          1715,
          1716,
          1718,
          1719,
          1720,
          1722,
          1730,
          1736,
          1738,
          1739,
          1740,
          1741,
          1742,
          1761,
          1762,
          1766,
          1767,
          1769,
          1770,
          1771,
          1779,
          1781,
          1782,
          1795,
          1799,
          1804,
          1806,
          1815,
          1816,
          1817,
          1818,
          1840,
          1841,
          1849,
          1851,
          1852,
          1877,
          1878,
          1879,
          1881,
          1882,
          1885,
          1886,
          1887,
          1888,
          1889,
          1890,
          1891,
          1897,
          1898,
          1905,
          1906,
          1908,
          1909,
          1910,
          1911,
          1912,
          1913,
          1914,
          1918,
          1919,
          1920,
          1975,
          1977,
          2057,
          2058,
          2059,
          2060,
          2073,
          2074,
          2078,
          2081,
          2085,
          2099,
          2149,
          2219,
          2220,
          2228,
          2350,
          2352,
          2355,
          2356,
          2357,
          2362,
          2363,
          2366,
          2370,
          2371,
          2373,
          2376,
          2380,
          2384,
          2387,
          2389,
          2396,
          2398,
          2403,
          2405,
          2408,
          2409,
          816,
          836,
          837,
          848,
          849,
          851,
          855,
          856,
          857,
          858,
          859,
          865,
          871,
          873,
          874,
          877,
          882,
          883,
          884,
          885,
          889,
          890,
          891,
          892,
          896,
          898,
          903,
          904,
          909,
          913,
          914,
          915,
          916,
          920,
          921,
          922
         ],
         "xaxis": "x",
         "y": [
          "Alex_Sebastian",
          "Alex_Sebastian",
          "Alex_Sebastian",
          "Alex_Sebastian",
          "Alex_Sebastian",
          "Alex_Sebastian",
          "Alex_Sebastian",
          "Alex_Sebastian",
          "Alex_Sebastian",
          "Alex_Sebastian",
          "Alex_Sebastian",
          "Alex_Sebastian",
          "Alex_Sebastian",
          "Alex_Sebastian",
          "Alex_Sebastian",
          "Alex_Sebastian",
          "Alex_Sebastian",
          "Alex_Sebastian",
          "Alex_Sebastian",
          "Alex_Sebastian",
          "Alex_Sebastian",
          "Alex_Sebastian",
          "Alex_Sebastian",
          "Alex_Sebastian",
          "Alex_Sebastian",
          "Alex_Sebastian",
          "Alex_Sebastian",
          "Alex_Sebastian",
          "Alex_Sebastian",
          "Alex_Sebastian",
          "Alex_Sebastian",
          "Alex_Sebastian",
          "Alex_Sebastian",
          "Alex_Sebastian",
          "Alex_Sebastian",
          "Alex_Sebastian",
          "Alex_Sebastian",
          "Alex_Sebastian",
          "Alex_Sebastian",
          "Alex_Sebastian",
          "Alex_Sebastian",
          "Alex_Sebastian",
          "Alex_Sebastian",
          "Alex_Sebastian",
          "Alex_Sebastian",
          "Alex_Sebastian",
          "Alex_Sebastian",
          "Alex_Sebastian",
          "Alex_Sebastian",
          "Alex_Sebastian",
          "Alex_Sebastian",
          "Alex_Sebastian",
          "Alex_Sebastian",
          "Alex_Sebastian",
          "Alex_Sebastian",
          "Alex_Sebastian",
          "Alex_Sebastian",
          "Alex_Sebastian",
          "Alex_Sebastian",
          "Alex_Sebastian",
          "Alex_Sebastian",
          "Alex_Sebastian",
          "Alex_Sebastian",
          "Alex_Sebastian",
          "Alex_Sebastian",
          "Alex_Sebastian",
          "Alex_Sebastian",
          "Alex_Sebastian",
          "Alex_Sebastian",
          "Alex_Sebastian",
          "Alex_Sebastian",
          "Alex_Sebastian",
          "Alex_Sebastian",
          "Alex_Sebastian",
          "Alex_Sebastian",
          "Alex_Sebastian",
          "Alex_Sebastian",
          "Alex_Sebastian",
          "Alex_Sebastian",
          "Alex_Sebastian",
          "Alex_Sebastian",
          "Alex_Sebastian",
          "Alex_Sebastian",
          "Alex_Sebastian",
          "Alex_Sebastian",
          "Alex_Sebastian",
          "Alex_Sebastian",
          "Alex_Sebastian",
          "Alex_Sebastian",
          "Alex_Sebastian",
          "Alex_Sebastian",
          "Alex_Sebastian",
          "Alex_Sebastian",
          "Alex_Sebastian",
          "Alex_Sebastian",
          "Alex_Sebastian",
          "Alex_Sebastian",
          "Alex_Sebastian",
          "Alex_Sebastian",
          "Alex_Sebastian",
          "Alex_Sebastian",
          "Alex_Sebastian",
          "Alex_Sebastian",
          "Alex_Sebastian",
          "Alex_Sebastian",
          "Alex_Sebastian",
          "Alex_Sebastian",
          "Alex_Sebastian",
          "Alex_Sebastian",
          "Alex_Sebastian",
          "Alex_Sebastian",
          "Alex_Sebastian",
          "Alex_Sebastian",
          "Alex_Sebastian",
          "Alex_Sebastian",
          "Alex_Sebastian",
          "Alex_Sebastian",
          "Alex_Sebastian",
          "Alex_Sebastian",
          "Alex_Sebastian",
          "Alex_Sebastian",
          "Alex_Sebastian",
          "Alex_Sebastian",
          "Alex_Sebastian",
          "Alex_Sebastian",
          "Alex_Sebastian",
          "Alex_Sebastian",
          "Alex_Sebastian",
          "Alex_Sebastian",
          "Alex_Sebastian",
          "Alex_Sebastian",
          "Alex_Sebastian",
          "Alex_Sebastian",
          "Alex_Sebastian",
          "Alex_Sebastian",
          "Alex_Sebastian",
          "Alex_Sebastian",
          "Alex_Sebastian",
          "Alex_Sebastian",
          "Alex_Sebastian",
          "Alex_Sebastian",
          "Alex_Sebastian",
          "Alex_Sebastian",
          "Alex_Sebastian",
          "Alex_Sebastian",
          "Alex_Sebastian",
          "Alex_Sebastian",
          "Alex_Sebastian",
          "Alex_Sebastian",
          "Alex_Sebastian",
          "Alex_Sebastian",
          "Alex_Sebastian",
          "Alex_Sebastian",
          "Alex_Sebastian",
          "Alex_Sebastian",
          "Alex_Sebastian",
          "Alex_Sebastian",
          "Alex_Sebastian",
          "Alex_Sebastian",
          "Alex_Sebastian",
          "Alex_Sebastian",
          "Alex_Sebastian",
          "Alex_Sebastian",
          "Alex_Sebastian",
          "Alex_Sebastian",
          "Alex_Sebastian",
          "Alex_Sebastian",
          "Alex_Sebastian",
          "Alex_Sebastian",
          "Alex_Sebastian",
          "Alex_Sebastian",
          "Alex_Sebastian",
          "Alex_Sebastian",
          "Alex_Sebastian",
          "Alex_Sebastian",
          "Alex_Sebastian",
          "Alex_Sebastian",
          "Alex_Sebastian",
          "Alex_Sebastian",
          "Alex_Sebastian",
          "Alex_Sebastian",
          "Alex_Sebastian",
          "Alex_Sebastian",
          "Alex_Sebastian",
          "Alex_Sebastian",
          "Alex_Sebastian",
          "Alex_Sebastian",
          "Alex_Sebastian",
          "Alex_Sebastian",
          "Alex_Sebastian",
          "Alex_Sebastian",
          "Alex_Sebastian",
          "Alex_Sebastian",
          "Alex_Sebastian",
          "Alex_Sebastian",
          "Alex_Sebastian",
          "Alex_Sebastian",
          "Alex_Sebastian",
          "Alex_Sebastian",
          "Alex_Sebastian",
          "Alex_Sebastian",
          "Alex_Sebastian",
          "Alex_Sebastian",
          "Alex_Sebastian",
          "Alex_Sebastian",
          "Alex_Sebastian",
          "Alex_Sebastian",
          "Alex_Sebastian",
          "Alex_Sebastian",
          "Alex_Sebastian",
          "Alex_Sebastian",
          "Alex_Sebastian",
          "Alex_Sebastian",
          "Alex_Sebastian",
          "Alex_Sebastian",
          "Alex_Sebastian",
          "Alex_Sebastian",
          "Alex_Sebastian",
          "Alex_Sebastian",
          "Alex_Sebastian",
          "Alex_Sebastian",
          "Alex_Sebastian",
          "Alex_Sebastian"
         ],
         "yaxis": "y"
        },
        {
         "hovertemplate": "Identity=%{y}<br>Frame=%{x}<extra></extra>",
         "legendgroup": "Jud",
         "marker": {
          "color": "#636efa",
          "symbol": "circle"
         },
         "mode": "markers",
         "name": "Jud",
         "showlegend": true,
         "type": "scattergl",
         "x": [
          1455,
          1456,
          1457,
          1462,
          1465,
          1473,
          1483,
          1484,
          1490,
          1491,
          1493,
          1494,
          1495,
          1498,
          1499,
          1500,
          1503,
          1504,
          1506,
          1507,
          1508,
          1509,
          1510,
          1511,
          1512,
          1513,
          1514,
          1516,
          1517,
          1518,
          1519,
          1520,
          1521,
          1522,
          1523,
          1524,
          1525,
          1527,
          1528,
          1530,
          1531,
          1532,
          1533,
          1534,
          1535,
          1539,
          1540,
          1541,
          1542,
          1543,
          1544,
          1545,
          1546,
          1547,
          1548,
          1550,
          1551,
          1552,
          1553,
          1554,
          1555,
          1556,
          1557,
          1558,
          1559,
          1560,
          1561,
          1562,
          1563,
          1564,
          1565,
          1566,
          1567,
          1568,
          1569,
          1570,
          1571,
          1572,
          1573,
          1574,
          1575,
          1576,
          1577,
          1578,
          1579,
          1580,
          1581,
          1582,
          1583,
          1584,
          1585,
          1586,
          1587,
          1588,
          1589,
          1590,
          1591,
          1592,
          1593,
          1594,
          1595,
          1596,
          1597,
          1598,
          1599,
          1600,
          1601,
          1602,
          1603,
          1604,
          1609,
          1610,
          1611,
          1613,
          1614,
          1615,
          1616,
          1617,
          1622,
          1623,
          1624,
          1625,
          1626,
          1628,
          1629,
          1630,
          1631,
          1632,
          1636,
          1638,
          1641,
          1644,
          1646,
          1654,
          1655,
          1661,
          1711,
          1928,
          2003,
          2104,
          2110,
          2153,
          2155,
          2214,
          2215,
          2218,
          2219,
          2220,
          2221,
          2222,
          2223,
          2224,
          2225,
          2226,
          2227,
          2228,
          2229,
          2230,
          2231,
          2232,
          2233,
          2234,
          2235,
          2626,
          2627,
          2628,
          2629,
          2643,
          2651,
          2658,
          2698,
          2699,
          2700,
          2701,
          2702,
          2704,
          2705,
          2706,
          2741,
          2745,
          2746,
          2748,
          2896,
          2897,
          2899,
          2900,
          2901,
          2902,
          2903,
          2904,
          2905,
          2910,
          2911,
          2912,
          2913,
          2914,
          2915,
          2916,
          2917,
          2918,
          2921,
          3181,
          388,
          389,
          406,
          493
         ],
         "xaxis": "x",
         "y": [
          "Jud",
          "Jud",
          "Jud",
          "Jud",
          "Jud",
          "Jud",
          "Jud",
          "Jud",
          "Jud",
          "Jud",
          "Jud",
          "Jud",
          "Jud",
          "Jud",
          "Jud",
          "Jud",
          "Jud",
          "Jud",
          "Jud",
          "Jud",
          "Jud",
          "Jud",
          "Jud",
          "Jud",
          "Jud",
          "Jud",
          "Jud",
          "Jud",
          "Jud",
          "Jud",
          "Jud",
          "Jud",
          "Jud",
          "Jud",
          "Jud",
          "Jud",
          "Jud",
          "Jud",
          "Jud",
          "Jud",
          "Jud",
          "Jud",
          "Jud",
          "Jud",
          "Jud",
          "Jud",
          "Jud",
          "Jud",
          "Jud",
          "Jud",
          "Jud",
          "Jud",
          "Jud",
          "Jud",
          "Jud",
          "Jud",
          "Jud",
          "Jud",
          "Jud",
          "Jud",
          "Jud",
          "Jud",
          "Jud",
          "Jud",
          "Jud",
          "Jud",
          "Jud",
          "Jud",
          "Jud",
          "Jud",
          "Jud",
          "Jud",
          "Jud",
          "Jud",
          "Jud",
          "Jud",
          "Jud",
          "Jud",
          "Jud",
          "Jud",
          "Jud",
          "Jud",
          "Jud",
          "Jud",
          "Jud",
          "Jud",
          "Jud",
          "Jud",
          "Jud",
          "Jud",
          "Jud",
          "Jud",
          "Jud",
          "Jud",
          "Jud",
          "Jud",
          "Jud",
          "Jud",
          "Jud",
          "Jud",
          "Jud",
          "Jud",
          "Jud",
          "Jud",
          "Jud",
          "Jud",
          "Jud",
          "Jud",
          "Jud",
          "Jud",
          "Jud",
          "Jud",
          "Jud",
          "Jud",
          "Jud",
          "Jud",
          "Jud",
          "Jud",
          "Jud",
          "Jud",
          "Jud",
          "Jud",
          "Jud",
          "Jud",
          "Jud",
          "Jud",
          "Jud",
          "Jud",
          "Jud",
          "Jud",
          "Jud",
          "Jud",
          "Jud",
          "Jud",
          "Jud",
          "Jud",
          "Jud",
          "Jud",
          "Jud",
          "Jud",
          "Jud",
          "Jud",
          "Jud",
          "Jud",
          "Jud",
          "Jud",
          "Jud",
          "Jud",
          "Jud",
          "Jud",
          "Jud",
          "Jud",
          "Jud",
          "Jud",
          "Jud",
          "Jud",
          "Jud",
          "Jud",
          "Jud",
          "Jud",
          "Jud",
          "Jud",
          "Jud",
          "Jud",
          "Jud",
          "Jud",
          "Jud",
          "Jud",
          "Jud",
          "Jud",
          "Jud",
          "Jud",
          "Jud",
          "Jud",
          "Jud",
          "Jud",
          "Jud",
          "Jud",
          "Jud",
          "Jud",
          "Jud",
          "Jud",
          "Jud",
          "Jud",
          "Jud",
          "Jud",
          "Jud",
          "Jud",
          "Jud",
          "Jud",
          "Jud",
          "Jud",
          "Jud",
          "Jud",
          "Jud",
          "Jud",
          "Jud",
          "Jud",
          "Jud",
          "Jud",
          "Jud",
          "Jud",
          "Jud",
          "Jud",
          "Jud",
          "Jud"
         ],
         "yaxis": "y"
        },
        {
         "hovertemplate": "Identity=%{y}<br>Frame=%{x}<extra></extra>",
         "legendgroup": "Natsuhisa",
         "marker": {
          "color": "#EF553B",
          "symbol": "circle"
         },
         "mode": "markers",
         "name": "Natsuhisa",
         "showlegend": true,
         "type": "scattergl",
         "x": [
          100,
          1006,
          1015,
          1027,
          1030,
          1073,
          1075,
          1077,
          1085,
          1087,
          1088,
          1089,
          1091,
          1092,
          1093,
          1094,
          1095,
          1096,
          1098,
          110,
          111,
          1115,
          1118,
          1119,
          1167,
          1168,
          1196,
          1198,
          1199,
          1200,
          1237,
          1238,
          1239,
          1249,
          1261,
          1265,
          1266,
          1271,
          1272,
          132,
          1324,
          1325,
          1326,
          1327,
          1328,
          139,
          144,
          1495,
          1496,
          1520,
          1521,
          1570,
          1571,
          1572,
          1573,
          1607,
          1612,
          1613,
          1614,
          1615,
          1616,
          1621,
          1622,
          1628,
          1629,
          1630,
          1640,
          172,
          173,
          175,
          177,
          1855,
          1856,
          1857,
          1858,
          1859,
          1911,
          1937,
          1938,
          1948,
          1949,
          1951,
          1960,
          1961,
          1962,
          1963,
          1965,
          1966,
          1973,
          1974,
          1976,
          1978,
          1979,
          198,
          1980,
          1983,
          1984,
          1988,
          2016,
          2017,
          2018,
          2019,
          2020,
          2021,
          2023,
          203,
          204,
          205,
          214,
          215,
          216,
          220,
          225,
          227,
          229,
          230,
          329,
          330,
          331,
          347,
          355,
          360,
          373,
          374,
          374,
          376,
          377,
          378,
          379,
          381,
          382,
          383,
          385,
          386,
          387,
          438,
          439,
          53,
          54,
          612,
          618,
          619,
          65,
          66,
          67,
          681,
          682,
          69,
          70,
          71,
          72,
          75,
          755,
          756,
          757,
          758,
          759,
          76,
          760,
          764,
          766,
          779,
          78,
          780,
          781,
          80,
          813,
          84,
          913,
          914,
          915,
          976,
          977,
          978,
          982,
          983,
          984,
          985,
          99,
          997,
          998
         ],
         "xaxis": "x",
         "y": [
          "Natsuhisa",
          "Natsuhisa",
          "Natsuhisa",
          "Natsuhisa",
          "Natsuhisa",
          "Natsuhisa",
          "Natsuhisa",
          "Natsuhisa",
          "Natsuhisa",
          "Natsuhisa",
          "Natsuhisa",
          "Natsuhisa",
          "Natsuhisa",
          "Natsuhisa",
          "Natsuhisa",
          "Natsuhisa",
          "Natsuhisa",
          "Natsuhisa",
          "Natsuhisa",
          "Natsuhisa",
          "Natsuhisa",
          "Natsuhisa",
          "Natsuhisa",
          "Natsuhisa",
          "Natsuhisa",
          "Natsuhisa",
          "Natsuhisa",
          "Natsuhisa",
          "Natsuhisa",
          "Natsuhisa",
          "Natsuhisa",
          "Natsuhisa",
          "Natsuhisa",
          "Natsuhisa",
          "Natsuhisa",
          "Natsuhisa",
          "Natsuhisa",
          "Natsuhisa",
          "Natsuhisa",
          "Natsuhisa",
          "Natsuhisa",
          "Natsuhisa",
          "Natsuhisa",
          "Natsuhisa",
          "Natsuhisa",
          "Natsuhisa",
          "Natsuhisa",
          "Natsuhisa",
          "Natsuhisa",
          "Natsuhisa",
          "Natsuhisa",
          "Natsuhisa",
          "Natsuhisa",
          "Natsuhisa",
          "Natsuhisa",
          "Natsuhisa",
          "Natsuhisa",
          "Natsuhisa",
          "Natsuhisa",
          "Natsuhisa",
          "Natsuhisa",
          "Natsuhisa",
          "Natsuhisa",
          "Natsuhisa",
          "Natsuhisa",
          "Natsuhisa",
          "Natsuhisa",
          "Natsuhisa",
          "Natsuhisa",
          "Natsuhisa",
          "Natsuhisa",
          "Natsuhisa",
          "Natsuhisa",
          "Natsuhisa",
          "Natsuhisa",
          "Natsuhisa",
          "Natsuhisa",
          "Natsuhisa",
          "Natsuhisa",
          "Natsuhisa",
          "Natsuhisa",
          "Natsuhisa",
          "Natsuhisa",
          "Natsuhisa",
          "Natsuhisa",
          "Natsuhisa",
          "Natsuhisa",
          "Natsuhisa",
          "Natsuhisa",
          "Natsuhisa",
          "Natsuhisa",
          "Natsuhisa",
          "Natsuhisa",
          "Natsuhisa",
          "Natsuhisa",
          "Natsuhisa",
          "Natsuhisa",
          "Natsuhisa",
          "Natsuhisa",
          "Natsuhisa",
          "Natsuhisa",
          "Natsuhisa",
          "Natsuhisa",
          "Natsuhisa",
          "Natsuhisa",
          "Natsuhisa",
          "Natsuhisa",
          "Natsuhisa",
          "Natsuhisa",
          "Natsuhisa",
          "Natsuhisa",
          "Natsuhisa",
          "Natsuhisa",
          "Natsuhisa",
          "Natsuhisa",
          "Natsuhisa",
          "Natsuhisa",
          "Natsuhisa",
          "Natsuhisa",
          "Natsuhisa",
          "Natsuhisa",
          "Natsuhisa",
          "Natsuhisa",
          "Natsuhisa",
          "Natsuhisa",
          "Natsuhisa",
          "Natsuhisa",
          "Natsuhisa",
          "Natsuhisa",
          "Natsuhisa",
          "Natsuhisa",
          "Natsuhisa",
          "Natsuhisa",
          "Natsuhisa",
          "Natsuhisa",
          "Natsuhisa",
          "Natsuhisa",
          "Natsuhisa",
          "Natsuhisa",
          "Natsuhisa",
          "Natsuhisa",
          "Natsuhisa",
          "Natsuhisa",
          "Natsuhisa",
          "Natsuhisa",
          "Natsuhisa",
          "Natsuhisa",
          "Natsuhisa",
          "Natsuhisa",
          "Natsuhisa",
          "Natsuhisa",
          "Natsuhisa",
          "Natsuhisa",
          "Natsuhisa",
          "Natsuhisa",
          "Natsuhisa",
          "Natsuhisa",
          "Natsuhisa",
          "Natsuhisa",
          "Natsuhisa",
          "Natsuhisa",
          "Natsuhisa",
          "Natsuhisa",
          "Natsuhisa",
          "Natsuhisa",
          "Natsuhisa",
          "Natsuhisa",
          "Natsuhisa",
          "Natsuhisa",
          "Natsuhisa",
          "Natsuhisa",
          "Natsuhisa",
          "Natsuhisa",
          "Natsuhisa",
          "Natsuhisa",
          "Natsuhisa",
          "Natsuhisa",
          "Natsuhisa",
          "Natsuhisa",
          "Natsuhisa",
          "Natsuhisa"
         ],
         "yaxis": "y"
        },
        {
         "hovertemplate": "Identity=%{y}<br>Frame=%{x}<extra></extra>",
         "legendgroup": "Ishun",
         "marker": {
          "color": "#00cc96",
          "symbol": "circle"
         },
         "mode": "markers",
         "name": "Ishun",
         "showlegend": true,
         "type": "scattergl",
         "x": [
          1158,
          1180,
          1181,
          1182,
          1183,
          1184,
          1186,
          1190,
          1191,
          1201,
          1202,
          1203,
          1204,
          1205,
          1217,
          1218,
          1220,
          1221,
          1222,
          1223,
          1234,
          1235,
          1236,
          1240,
          1271,
          1638,
          1871,
          1872,
          1873,
          1874,
          2088,
          2090,
          2093,
          2103,
          2104,
          2105,
          2106,
          2107,
          2108,
          2109,
          224,
          2333,
          2350,
          2351,
          2352,
          2353,
          2354,
          2355,
          2356,
          2357,
          2358,
          2359,
          2360,
          2361,
          2362,
          2363,
          2364,
          2371,
          246,
          247,
          249,
          250,
          251,
          252,
          253,
          255,
          256,
          257,
          258,
          259,
          260,
          263,
          264,
          280,
          281,
          282,
          283,
          284,
          297,
          299,
          300,
          301,
          387,
          388,
          389,
          390,
          391,
          395,
          541,
          542,
          642,
          643,
          645,
          66,
          70,
          74,
          75,
          902,
          903,
          944
         ],
         "xaxis": "x",
         "y": [
          "Ishun",
          "Ishun",
          "Ishun",
          "Ishun",
          "Ishun",
          "Ishun",
          "Ishun",
          "Ishun",
          "Ishun",
          "Ishun",
          "Ishun",
          "Ishun",
          "Ishun",
          "Ishun",
          "Ishun",
          "Ishun",
          "Ishun",
          "Ishun",
          "Ishun",
          "Ishun",
          "Ishun",
          "Ishun",
          "Ishun",
          "Ishun",
          "Ishun",
          "Ishun",
          "Ishun",
          "Ishun",
          "Ishun",
          "Ishun",
          "Ishun",
          "Ishun",
          "Ishun",
          "Ishun",
          "Ishun",
          "Ishun",
          "Ishun",
          "Ishun",
          "Ishun",
          "Ishun",
          "Ishun",
          "Ishun",
          "Ishun",
          "Ishun",
          "Ishun",
          "Ishun",
          "Ishun",
          "Ishun",
          "Ishun",
          "Ishun",
          "Ishun",
          "Ishun",
          "Ishun",
          "Ishun",
          "Ishun",
          "Ishun",
          "Ishun",
          "Ishun",
          "Ishun",
          "Ishun",
          "Ishun",
          "Ishun",
          "Ishun",
          "Ishun",
          "Ishun",
          "Ishun",
          "Ishun",
          "Ishun",
          "Ishun",
          "Ishun",
          "Ishun",
          "Ishun",
          "Ishun",
          "Ishun",
          "Ishun",
          "Ishun",
          "Ishun",
          "Ishun",
          "Ishun",
          "Ishun",
          "Ishun",
          "Ishun",
          "Ishun",
          "Ishun",
          "Ishun",
          "Ishun",
          "Ishun",
          "Ishun",
          "Ishun",
          "Ishun",
          "Ishun",
          "Ishun",
          "Ishun",
          "Ishun",
          "Ishun",
          "Ishun",
          "Ishun",
          "Ishun",
          "Ishun",
          "Ishun"
         ],
         "yaxis": "y"
        },
        {
         "hovertemplate": "Identity=%{y}<br>Frame=%{x}<extra></extra>",
         "legendgroup": "Ballin",
         "marker": {
          "color": "#ab63fa",
          "symbol": "circle"
         },
         "mode": "markers",
         "name": "Ballin",
         "showlegend": true,
         "type": "scattergl",
         "x": [
          1002,
          1003,
          1009,
          1035,
          1036,
          1037,
          1071,
          1072,
          1073,
          1074,
          1075,
          1076,
          1083,
          1084,
          1085,
          1097,
          1098,
          1099,
          1100,
          1101,
          1102,
          1103,
          1104,
          1105,
          1106,
          1107,
          1384,
          1385,
          1509,
          1510,
          1511,
          1513,
          1514,
          1563,
          1564,
          1565,
          1566,
          1567,
          1575,
          1576,
          1577,
          1588,
          1671,
          1702,
          1720,
          1721,
          1722,
          1724,
          1725,
          1726,
          1727,
          1728,
          1730,
          1731,
          1732,
          1733,
          1734,
          1735,
          1736,
          1741,
          1742,
          1744,
          1745,
          1746,
          1747,
          1748,
          1749,
          1750,
          2001,
          257,
          2596,
          2597,
          2598,
          2601,
          2602,
          2603,
          261,
          262,
          263,
          264,
          269,
          270,
          280,
          281,
          297,
          299,
          400,
          401,
          402,
          406,
          424,
          425,
          471,
          474,
          492,
          493,
          494,
          495,
          496,
          497,
          498,
          499,
          500,
          501,
          502,
          503,
          504,
          505,
          506,
          507,
          57,
          58,
          59,
          606,
          607,
          608,
          63,
          631,
          632,
          638,
          639,
          640,
          641,
          642,
          645,
          646,
          650,
          655,
          744,
          745,
          746,
          747,
          777,
          778,
          779,
          783,
          784,
          785,
          793,
          808,
          811,
          812,
          818,
          821,
          822,
          823,
          824,
          825,
          929,
          931,
          932,
          933,
          934,
          941,
          942,
          943,
          960
         ],
         "xaxis": "x",
         "y": [
          "Ballin",
          "Ballin",
          "Ballin",
          "Ballin",
          "Ballin",
          "Ballin",
          "Ballin",
          "Ballin",
          "Ballin",
          "Ballin",
          "Ballin",
          "Ballin",
          "Ballin",
          "Ballin",
          "Ballin",
          "Ballin",
          "Ballin",
          "Ballin",
          "Ballin",
          "Ballin",
          "Ballin",
          "Ballin",
          "Ballin",
          "Ballin",
          "Ballin",
          "Ballin",
          "Ballin",
          "Ballin",
          "Ballin",
          "Ballin",
          "Ballin",
          "Ballin",
          "Ballin",
          "Ballin",
          "Ballin",
          "Ballin",
          "Ballin",
          "Ballin",
          "Ballin",
          "Ballin",
          "Ballin",
          "Ballin",
          "Ballin",
          "Ballin",
          "Ballin",
          "Ballin",
          "Ballin",
          "Ballin",
          "Ballin",
          "Ballin",
          "Ballin",
          "Ballin",
          "Ballin",
          "Ballin",
          "Ballin",
          "Ballin",
          "Ballin",
          "Ballin",
          "Ballin",
          "Ballin",
          "Ballin",
          "Ballin",
          "Ballin",
          "Ballin",
          "Ballin",
          "Ballin",
          "Ballin",
          "Ballin",
          "Ballin",
          "Ballin",
          "Ballin",
          "Ballin",
          "Ballin",
          "Ballin",
          "Ballin",
          "Ballin",
          "Ballin",
          "Ballin",
          "Ballin",
          "Ballin",
          "Ballin",
          "Ballin",
          "Ballin",
          "Ballin",
          "Ballin",
          "Ballin",
          "Ballin",
          "Ballin",
          "Ballin",
          "Ballin",
          "Ballin",
          "Ballin",
          "Ballin",
          "Ballin",
          "Ballin",
          "Ballin",
          "Ballin",
          "Ballin",
          "Ballin",
          "Ballin",
          "Ballin",
          "Ballin",
          "Ballin",
          "Ballin",
          "Ballin",
          "Ballin",
          "Ballin",
          "Ballin",
          "Ballin",
          "Ballin",
          "Ballin",
          "Ballin",
          "Ballin",
          "Ballin",
          "Ballin",
          "Ballin",
          "Ballin",
          "Ballin",
          "Ballin",
          "Ballin",
          "Ballin",
          "Ballin",
          "Ballin",
          "Ballin",
          "Ballin",
          "Ballin",
          "Ballin",
          "Ballin",
          "Ballin",
          "Ballin",
          "Ballin",
          "Ballin",
          "Ballin",
          "Ballin",
          "Ballin",
          "Ballin",
          "Ballin",
          "Ballin",
          "Ballin",
          "Ballin",
          "Ballin",
          "Ballin",
          "Ballin",
          "Ballin",
          "Ballin",
          "Ballin",
          "Ballin",
          "Ballin",
          "Ballin",
          "Ballin",
          "Ballin",
          "Ballin",
          "Ballin",
          "Ballin",
          "Ballin",
          "Ballin",
          "Ballin"
         ],
         "yaxis": "y"
        },
        {
         "hovertemplate": "Identity=%{y}<br>Frame=%{x}<extra></extra>",
         "legendgroup": "Einar",
         "marker": {
          "color": "#FFA15A",
          "symbol": "circle"
         },
         "mode": "markers",
         "name": "Einar",
         "showlegend": true,
         "type": "scattergl",
         "x": [
          1036,
          1038,
          1039,
          1042,
          1044,
          1046,
          1047,
          1048,
          1053,
          1054,
          1156,
          1157,
          1159,
          1160,
          1161,
          1162,
          1165,
          1166,
          1169,
          1199,
          1200,
          1203,
          1204,
          1205,
          1206,
          1207,
          1208,
          1209,
          1210,
          1213,
          1215,
          1216,
          1255,
          1256,
          1257,
          1258,
          1259,
          1260,
          1261,
          1262,
          1263,
          1264,
          1265,
          1266,
          1267,
          1268,
          1269,
          1270,
          1271,
          1273,
          1274,
          1275,
          1276,
          1277,
          1278,
          1279,
          1280,
          1281,
          1282,
          1283,
          1284,
          1285,
          1336,
          1337,
          1338,
          1343,
          1344,
          1347,
          1352,
          1353,
          1354,
          1420,
          1423,
          1814,
          1817,
          1832,
          1833,
          1834,
          1835,
          1837,
          1839,
          1840,
          1843,
          1844,
          1848,
          1849,
          1850,
          1862,
          1866,
          1867,
          1868,
          1869,
          1872,
          1874,
          1879,
          1880,
          1894,
          1895,
          1901,
          1902,
          1903,
          1908,
          1909,
          1910,
          1932,
          1933,
          1936,
          1937,
          1938,
          1939,
          1948,
          1950,
          1954,
          1955,
          1956,
          1957,
          1958,
          1962,
          1974,
          1976,
          2072,
          2346,
          2362,
          2364,
          2365,
          2367,
          2471,
          2472,
          2489,
          2504,
          2506,
          2518,
          2519,
          2524,
          2525,
          2526,
          2527,
          2532,
          2533,
          2536,
          2537,
          2538,
          2539,
          2540,
          2541,
          2542,
          2544,
          2545,
          2546,
          2547,
          2548,
          2551,
          2552,
          2556,
          2557,
          2558,
          2562,
          2564,
          2565,
          2567,
          2588,
          2589,
          2608,
          2610,
          2628,
          2631,
          2632,
          2633,
          2635,
          2636,
          2638,
          2641,
          2643,
          2647,
          2650,
          2651,
          2652,
          2653,
          2654,
          2655,
          2659,
          2661,
          2666,
          2667,
          299,
          342,
          343,
          344,
          349,
          351,
          353,
          428,
          435,
          438,
          440,
          448,
          449,
          458,
          459,
          460,
          466,
          467,
          468,
          477,
          479,
          481,
          527,
          528,
          529,
          530,
          531,
          532,
          536,
          537,
          538,
          539,
          628,
          664,
          672,
          674,
          676,
          677,
          678,
          679,
          766,
          768,
          769,
          800,
          801,
          802,
          803,
          804,
          806,
          811,
          812,
          813,
          814,
          849,
          850,
          858,
          860,
          861,
          966
         ],
         "xaxis": "x",
         "y": [
          "Einar",
          "Einar",
          "Einar",
          "Einar",
          "Einar",
          "Einar",
          "Einar",
          "Einar",
          "Einar",
          "Einar",
          "Einar",
          "Einar",
          "Einar",
          "Einar",
          "Einar",
          "Einar",
          "Einar",
          "Einar",
          "Einar",
          "Einar",
          "Einar",
          "Einar",
          "Einar",
          "Einar",
          "Einar",
          "Einar",
          "Einar",
          "Einar",
          "Einar",
          "Einar",
          "Einar",
          "Einar",
          "Einar",
          "Einar",
          "Einar",
          "Einar",
          "Einar",
          "Einar",
          "Einar",
          "Einar",
          "Einar",
          "Einar",
          "Einar",
          "Einar",
          "Einar",
          "Einar",
          "Einar",
          "Einar",
          "Einar",
          "Einar",
          "Einar",
          "Einar",
          "Einar",
          "Einar",
          "Einar",
          "Einar",
          "Einar",
          "Einar",
          "Einar",
          "Einar",
          "Einar",
          "Einar",
          "Einar",
          "Einar",
          "Einar",
          "Einar",
          "Einar",
          "Einar",
          "Einar",
          "Einar",
          "Einar",
          "Einar",
          "Einar",
          "Einar",
          "Einar",
          "Einar",
          "Einar",
          "Einar",
          "Einar",
          "Einar",
          "Einar",
          "Einar",
          "Einar",
          "Einar",
          "Einar",
          "Einar",
          "Einar",
          "Einar",
          "Einar",
          "Einar",
          "Einar",
          "Einar",
          "Einar",
          "Einar",
          "Einar",
          "Einar",
          "Einar",
          "Einar",
          "Einar",
          "Einar",
          "Einar",
          "Einar",
          "Einar",
          "Einar",
          "Einar",
          "Einar",
          "Einar",
          "Einar",
          "Einar",
          "Einar",
          "Einar",
          "Einar",
          "Einar",
          "Einar",
          "Einar",
          "Einar",
          "Einar",
          "Einar",
          "Einar",
          "Einar",
          "Einar",
          "Einar",
          "Einar",
          "Einar",
          "Einar",
          "Einar",
          "Einar",
          "Einar",
          "Einar",
          "Einar",
          "Einar",
          "Einar",
          "Einar",
          "Einar",
          "Einar",
          "Einar",
          "Einar",
          "Einar",
          "Einar",
          "Einar",
          "Einar",
          "Einar",
          "Einar",
          "Einar",
          "Einar",
          "Einar",
          "Einar",
          "Einar",
          "Einar",
          "Einar",
          "Einar",
          "Einar",
          "Einar",
          "Einar",
          "Einar",
          "Einar",
          "Einar",
          "Einar",
          "Einar",
          "Einar",
          "Einar",
          "Einar",
          "Einar",
          "Einar",
          "Einar",
          "Einar",
          "Einar",
          "Einar",
          "Einar",
          "Einar",
          "Einar",
          "Einar",
          "Einar",
          "Einar",
          "Einar",
          "Einar",
          "Einar",
          "Einar",
          "Einar",
          "Einar",
          "Einar",
          "Einar",
          "Einar",
          "Einar",
          "Einar",
          "Einar",
          "Einar",
          "Einar",
          "Einar",
          "Einar",
          "Einar",
          "Einar",
          "Einar",
          "Einar",
          "Einar",
          "Einar",
          "Einar",
          "Einar",
          "Einar",
          "Einar",
          "Einar",
          "Einar",
          "Einar",
          "Einar",
          "Einar",
          "Einar",
          "Einar",
          "Einar",
          "Einar",
          "Einar",
          "Einar",
          "Einar",
          "Einar",
          "Einar",
          "Einar",
          "Einar",
          "Einar",
          "Einar",
          "Einar",
          "Einar",
          "Einar",
          "Einar",
          "Einar",
          "Einar",
          "Einar",
          "Einar",
          "Einar",
          "Einar",
          "Einar",
          "Einar",
          "Einar",
          "Einar",
          "Einar",
          "Einar",
          "Einar",
          "Einar",
          "Einar",
          "Einar",
          "Einar",
          "Einar",
          "Einar",
          "Einar",
          "Einar"
         ],
         "yaxis": "y"
        },
        {
         "hovertemplate": "Identity=%{y}<br>Frame=%{x}<extra></extra>",
         "legendgroup": "David",
         "marker": {
          "color": "#19d3f3",
          "symbol": "circle"
         },
         "mode": "markers",
         "name": "David",
         "showlegend": true,
         "type": "scattergl",
         "x": [
          1000,
          1001,
          1031,
          1032,
          1061,
          1062,
          1066,
          1067,
          1073,
          1083,
          1085,
          1086,
          1087,
          1093,
          1094,
          1133,
          1134,
          1135,
          1136,
          1140,
          1141,
          1142,
          1144,
          1181,
          1185,
          1186,
          1209,
          1241,
          1244,
          1245,
          1250,
          1251,
          1252,
          1256,
          1257,
          1302,
          1303,
          1304,
          1305,
          1306,
          1307,
          1308,
          131,
          1313,
          1316,
          1317,
          1318,
          1321,
          1322,
          1323,
          1324,
          1325,
          1326,
          1327,
          1328,
          1331,
          1332,
          1342,
          1343,
          1344,
          1345,
          1346,
          1348,
          1349,
          143,
          1464,
          1470,
          1504,
          1524,
          1525,
          1526,
          1546,
          1547,
          1548,
          1554,
          1555,
          1562,
          1565,
          1566,
          1567,
          1568,
          1569,
          1588,
          2014,
          2016,
          2017,
          2021,
          2023,
          2036,
          2038,
          2044,
          2045,
          2046,
          2050,
          2051,
          2052,
          2053,
          2054,
          2519,
          2520,
          2521,
          2523,
          2526,
          2527,
          2528,
          2529,
          2531,
          2539,
          2540,
          2541,
          2547,
          2685,
          727,
          728,
          729,
          730,
          783,
          81,
          82,
          83,
          84,
          861,
          862,
          864,
          868,
          869,
          886,
          887,
          888,
          889,
          890,
          891,
          892,
          893,
          895,
          896,
          899,
          900,
          903,
          908,
          911,
          912,
          914,
          915,
          916,
          917,
          918,
          920,
          926,
          938,
          940,
          942,
          972,
          973,
          974,
          975,
          977,
          978,
          994,
          995,
          996,
          997,
          998,
          999
         ],
         "xaxis": "x",
         "y": [
          "David",
          "David",
          "David",
          "David",
          "David",
          "David",
          "David",
          "David",
          "David",
          "David",
          "David",
          "David",
          "David",
          "David",
          "David",
          "David",
          "David",
          "David",
          "David",
          "David",
          "David",
          "David",
          "David",
          "David",
          "David",
          "David",
          "David",
          "David",
          "David",
          "David",
          "David",
          "David",
          "David",
          "David",
          "David",
          "David",
          "David",
          "David",
          "David",
          "David",
          "David",
          "David",
          "David",
          "David",
          "David",
          "David",
          "David",
          "David",
          "David",
          "David",
          "David",
          "David",
          "David",
          "David",
          "David",
          "David",
          "David",
          "David",
          "David",
          "David",
          "David",
          "David",
          "David",
          "David",
          "David",
          "David",
          "David",
          "David",
          "David",
          "David",
          "David",
          "David",
          "David",
          "David",
          "David",
          "David",
          "David",
          "David",
          "David",
          "David",
          "David",
          "David",
          "David",
          "David",
          "David",
          "David",
          "David",
          "David",
          "David",
          "David",
          "David",
          "David",
          "David",
          "David",
          "David",
          "David",
          "David",
          "David",
          "David",
          "David",
          "David",
          "David",
          "David",
          "David",
          "David",
          "David",
          "David",
          "David",
          "David",
          "David",
          "David",
          "David",
          "David",
          "David",
          "David",
          "David",
          "David",
          "David",
          "David",
          "David",
          "David",
          "David",
          "David",
          "David",
          "David",
          "David",
          "David",
          "David",
          "David",
          "David",
          "David",
          "David",
          "David",
          "David",
          "David",
          "David",
          "David",
          "David",
          "David",
          "David",
          "David",
          "David",
          "David",
          "David",
          "David",
          "David",
          "David",
          "David",
          "David",
          "David",
          "David",
          "David",
          "David",
          "David",
          "David",
          "David",
          "David",
          "David",
          "David",
          "David",
          "David",
          "David",
          "David",
          "David"
         ],
         "yaxis": "y"
        }
       ],
       "layout": {
        "height": 560,
        "legend": {
         "title": {
          "text": "Identity"
         },
         "tracegroupgap": 0
        },
        "template": {
         "data": {
          "bar": [
           {
            "error_x": {
             "color": "#2a3f5f"
            },
            "error_y": {
             "color": "#2a3f5f"
            },
            "marker": {
             "line": {
              "color": "#E5ECF6",
              "width": 0.5
             },
             "pattern": {
              "fillmode": "overlay",
              "size": 10,
              "solidity": 0.2
             }
            },
            "type": "bar"
           }
          ],
          "barpolar": [
           {
            "marker": {
             "line": {
              "color": "#E5ECF6",
              "width": 0.5
             },
             "pattern": {
              "fillmode": "overlay",
              "size": 10,
              "solidity": 0.2
             }
            },
            "type": "barpolar"
           }
          ],
          "carpet": [
           {
            "aaxis": {
             "endlinecolor": "#2a3f5f",
             "gridcolor": "white",
             "linecolor": "white",
             "minorgridcolor": "white",
             "startlinecolor": "#2a3f5f"
            },
            "baxis": {
             "endlinecolor": "#2a3f5f",
             "gridcolor": "white",
             "linecolor": "white",
             "minorgridcolor": "white",
             "startlinecolor": "#2a3f5f"
            },
            "type": "carpet"
           }
          ],
          "choropleth": [
           {
            "colorbar": {
             "outlinewidth": 0,
             "ticks": ""
            },
            "type": "choropleth"
           }
          ],
          "contour": [
           {
            "colorbar": {
             "outlinewidth": 0,
             "ticks": ""
            },
            "colorscale": [
             [
              0,
              "#0d0887"
             ],
             [
              0.1111111111111111,
              "#46039f"
             ],
             [
              0.2222222222222222,
              "#7201a8"
             ],
             [
              0.3333333333333333,
              "#9c179e"
             ],
             [
              0.4444444444444444,
              "#bd3786"
             ],
             [
              0.5555555555555556,
              "#d8576b"
             ],
             [
              0.6666666666666666,
              "#ed7953"
             ],
             [
              0.7777777777777778,
              "#fb9f3a"
             ],
             [
              0.8888888888888888,
              "#fdca26"
             ],
             [
              1,
              "#f0f921"
             ]
            ],
            "type": "contour"
           }
          ],
          "contourcarpet": [
           {
            "colorbar": {
             "outlinewidth": 0,
             "ticks": ""
            },
            "type": "contourcarpet"
           }
          ],
          "heatmap": [
           {
            "colorbar": {
             "outlinewidth": 0,
             "ticks": ""
            },
            "colorscale": [
             [
              0,
              "#0d0887"
             ],
             [
              0.1111111111111111,
              "#46039f"
             ],
             [
              0.2222222222222222,
              "#7201a8"
             ],
             [
              0.3333333333333333,
              "#9c179e"
             ],
             [
              0.4444444444444444,
              "#bd3786"
             ],
             [
              0.5555555555555556,
              "#d8576b"
             ],
             [
              0.6666666666666666,
              "#ed7953"
             ],
             [
              0.7777777777777778,
              "#fb9f3a"
             ],
             [
              0.8888888888888888,
              "#fdca26"
             ],
             [
              1,
              "#f0f921"
             ]
            ],
            "type": "heatmap"
           }
          ],
          "heatmapgl": [
           {
            "colorbar": {
             "outlinewidth": 0,
             "ticks": ""
            },
            "colorscale": [
             [
              0,
              "#0d0887"
             ],
             [
              0.1111111111111111,
              "#46039f"
             ],
             [
              0.2222222222222222,
              "#7201a8"
             ],
             [
              0.3333333333333333,
              "#9c179e"
             ],
             [
              0.4444444444444444,
              "#bd3786"
             ],
             [
              0.5555555555555556,
              "#d8576b"
             ],
             [
              0.6666666666666666,
              "#ed7953"
             ],
             [
              0.7777777777777778,
              "#fb9f3a"
             ],
             [
              0.8888888888888888,
              "#fdca26"
             ],
             [
              1,
              "#f0f921"
             ]
            ],
            "type": "heatmapgl"
           }
          ],
          "histogram": [
           {
            "marker": {
             "pattern": {
              "fillmode": "overlay",
              "size": 10,
              "solidity": 0.2
             }
            },
            "type": "histogram"
           }
          ],
          "histogram2d": [
           {
            "colorbar": {
             "outlinewidth": 0,
             "ticks": ""
            },
            "colorscale": [
             [
              0,
              "#0d0887"
             ],
             [
              0.1111111111111111,
              "#46039f"
             ],
             [
              0.2222222222222222,
              "#7201a8"
             ],
             [
              0.3333333333333333,
              "#9c179e"
             ],
             [
              0.4444444444444444,
              "#bd3786"
             ],
             [
              0.5555555555555556,
              "#d8576b"
             ],
             [
              0.6666666666666666,
              "#ed7953"
             ],
             [
              0.7777777777777778,
              "#fb9f3a"
             ],
             [
              0.8888888888888888,
              "#fdca26"
             ],
             [
              1,
              "#f0f921"
             ]
            ],
            "type": "histogram2d"
           }
          ],
          "histogram2dcontour": [
           {
            "colorbar": {
             "outlinewidth": 0,
             "ticks": ""
            },
            "colorscale": [
             [
              0,
              "#0d0887"
             ],
             [
              0.1111111111111111,
              "#46039f"
             ],
             [
              0.2222222222222222,
              "#7201a8"
             ],
             [
              0.3333333333333333,
              "#9c179e"
             ],
             [
              0.4444444444444444,
              "#bd3786"
             ],
             [
              0.5555555555555556,
              "#d8576b"
             ],
             [
              0.6666666666666666,
              "#ed7953"
             ],
             [
              0.7777777777777778,
              "#fb9f3a"
             ],
             [
              0.8888888888888888,
              "#fdca26"
             ],
             [
              1,
              "#f0f921"
             ]
            ],
            "type": "histogram2dcontour"
           }
          ],
          "mesh3d": [
           {
            "colorbar": {
             "outlinewidth": 0,
             "ticks": ""
            },
            "type": "mesh3d"
           }
          ],
          "parcoords": [
           {
            "line": {
             "colorbar": {
              "outlinewidth": 0,
              "ticks": ""
             }
            },
            "type": "parcoords"
           }
          ],
          "pie": [
           {
            "automargin": true,
            "type": "pie"
           }
          ],
          "scatter": [
           {
            "fillpattern": {
             "fillmode": "overlay",
             "size": 10,
             "solidity": 0.2
            },
            "type": "scatter"
           }
          ],
          "scatter3d": [
           {
            "line": {
             "colorbar": {
              "outlinewidth": 0,
              "ticks": ""
             }
            },
            "marker": {
             "colorbar": {
              "outlinewidth": 0,
              "ticks": ""
             }
            },
            "type": "scatter3d"
           }
          ],
          "scattercarpet": [
           {
            "marker": {
             "colorbar": {
              "outlinewidth": 0,
              "ticks": ""
             }
            },
            "type": "scattercarpet"
           }
          ],
          "scattergeo": [
           {
            "marker": {
             "colorbar": {
              "outlinewidth": 0,
              "ticks": ""
             }
            },
            "type": "scattergeo"
           }
          ],
          "scattergl": [
           {
            "marker": {
             "colorbar": {
              "outlinewidth": 0,
              "ticks": ""
             }
            },
            "type": "scattergl"
           }
          ],
          "scattermapbox": [
           {
            "marker": {
             "colorbar": {
              "outlinewidth": 0,
              "ticks": ""
             }
            },
            "type": "scattermapbox"
           }
          ],
          "scatterpolar": [
           {
            "marker": {
             "colorbar": {
              "outlinewidth": 0,
              "ticks": ""
             }
            },
            "type": "scatterpolar"
           }
          ],
          "scatterpolargl": [
           {
            "marker": {
             "colorbar": {
              "outlinewidth": 0,
              "ticks": ""
             }
            },
            "type": "scatterpolargl"
           }
          ],
          "scatterternary": [
           {
            "marker": {
             "colorbar": {
              "outlinewidth": 0,
              "ticks": ""
             }
            },
            "type": "scatterternary"
           }
          ],
          "surface": [
           {
            "colorbar": {
             "outlinewidth": 0,
             "ticks": ""
            },
            "colorscale": [
             [
              0,
              "#0d0887"
             ],
             [
              0.1111111111111111,
              "#46039f"
             ],
             [
              0.2222222222222222,
              "#7201a8"
             ],
             [
              0.3333333333333333,
              "#9c179e"
             ],
             [
              0.4444444444444444,
              "#bd3786"
             ],
             [
              0.5555555555555556,
              "#d8576b"
             ],
             [
              0.6666666666666666,
              "#ed7953"
             ],
             [
              0.7777777777777778,
              "#fb9f3a"
             ],
             [
              0.8888888888888888,
              "#fdca26"
             ],
             [
              1,
              "#f0f921"
             ]
            ],
            "type": "surface"
           }
          ],
          "table": [
           {
            "cells": {
             "fill": {
              "color": "#EBF0F8"
             },
             "line": {
              "color": "white"
             }
            },
            "header": {
             "fill": {
              "color": "#C8D4E3"
             },
             "line": {
              "color": "white"
             }
            },
            "type": "table"
           }
          ]
         },
         "layout": {
          "annotationdefaults": {
           "arrowcolor": "#2a3f5f",
           "arrowhead": 0,
           "arrowwidth": 1
          },
          "autotypenumbers": "strict",
          "coloraxis": {
           "colorbar": {
            "outlinewidth": 0,
            "ticks": ""
           }
          },
          "colorscale": {
           "diverging": [
            [
             0,
             "#8e0152"
            ],
            [
             0.1,
             "#c51b7d"
            ],
            [
             0.2,
             "#de77ae"
            ],
            [
             0.3,
             "#f1b6da"
            ],
            [
             0.4,
             "#fde0ef"
            ],
            [
             0.5,
             "#f7f7f7"
            ],
            [
             0.6,
             "#e6f5d0"
            ],
            [
             0.7,
             "#b8e186"
            ],
            [
             0.8,
             "#7fbc41"
            ],
            [
             0.9,
             "#4d9221"
            ],
            [
             1,
             "#276419"
            ]
           ],
           "sequential": [
            [
             0,
             "#0d0887"
            ],
            [
             0.1111111111111111,
             "#46039f"
            ],
            [
             0.2222222222222222,
             "#7201a8"
            ],
            [
             0.3333333333333333,
             "#9c179e"
            ],
            [
             0.4444444444444444,
             "#bd3786"
            ],
            [
             0.5555555555555556,
             "#d8576b"
            ],
            [
             0.6666666666666666,
             "#ed7953"
            ],
            [
             0.7777777777777778,
             "#fb9f3a"
            ],
            [
             0.8888888888888888,
             "#fdca26"
            ],
            [
             1,
             "#f0f921"
            ]
           ],
           "sequentialminus": [
            [
             0,
             "#0d0887"
            ],
            [
             0.1111111111111111,
             "#46039f"
            ],
            [
             0.2222222222222222,
             "#7201a8"
            ],
            [
             0.3333333333333333,
             "#9c179e"
            ],
            [
             0.4444444444444444,
             "#bd3786"
            ],
            [
             0.5555555555555556,
             "#d8576b"
            ],
            [
             0.6666666666666666,
             "#ed7953"
            ],
            [
             0.7777777777777778,
             "#fb9f3a"
            ],
            [
             0.8888888888888888,
             "#fdca26"
            ],
            [
             1,
             "#f0f921"
            ]
           ]
          },
          "colorway": [
           "#636efa",
           "#EF553B",
           "#00cc96",
           "#ab63fa",
           "#FFA15A",
           "#19d3f3",
           "#FF6692",
           "#B6E880",
           "#FF97FF",
           "#FECB52"
          ],
          "font": {
           "color": "#2a3f5f"
          },
          "geo": {
           "bgcolor": "white",
           "lakecolor": "white",
           "landcolor": "#E5ECF6",
           "showlakes": true,
           "showland": true,
           "subunitcolor": "white"
          },
          "hoverlabel": {
           "align": "left"
          },
          "hovermode": "closest",
          "mapbox": {
           "style": "light"
          },
          "paper_bgcolor": "white",
          "plot_bgcolor": "#E5ECF6",
          "polar": {
           "angularaxis": {
            "gridcolor": "white",
            "linecolor": "white",
            "ticks": ""
           },
           "bgcolor": "#E5ECF6",
           "radialaxis": {
            "gridcolor": "white",
            "linecolor": "white",
            "ticks": ""
           }
          },
          "scene": {
           "xaxis": {
            "backgroundcolor": "#E5ECF6",
            "gridcolor": "white",
            "gridwidth": 2,
            "linecolor": "white",
            "showbackground": true,
            "ticks": "",
            "zerolinecolor": "white"
           },
           "yaxis": {
            "backgroundcolor": "#E5ECF6",
            "gridcolor": "white",
            "gridwidth": 2,
            "linecolor": "white",
            "showbackground": true,
            "ticks": "",
            "zerolinecolor": "white"
           },
           "zaxis": {
            "backgroundcolor": "#E5ECF6",
            "gridcolor": "white",
            "gridwidth": 2,
            "linecolor": "white",
            "showbackground": true,
            "ticks": "",
            "zerolinecolor": "white"
           }
          },
          "shapedefaults": {
           "line": {
            "color": "#2a3f5f"
           }
          },
          "ternary": {
           "aaxis": {
            "gridcolor": "white",
            "linecolor": "white",
            "ticks": ""
           },
           "baxis": {
            "gridcolor": "white",
            "linecolor": "white",
            "ticks": ""
           },
           "bgcolor": "#E5ECF6",
           "caxis": {
            "gridcolor": "white",
            "linecolor": "white",
            "ticks": ""
           }
          },
          "title": {
           "x": 0.05
          },
          "xaxis": {
           "automargin": true,
           "gridcolor": "white",
           "linecolor": "white",
           "ticks": "",
           "title": {
            "standoff": 15
           },
           "zerolinecolor": "white",
           "zerolinewidth": 2
          },
          "yaxis": {
           "automargin": true,
           "gridcolor": "white",
           "linecolor": "white",
           "ticks": "",
           "title": {
            "standoff": 15
           },
           "zerolinecolor": "white",
           "zerolinewidth": 2
          }
         }
        },
        "title": {
         "text": "Face Recognition Results of the Rivals"
        },
        "xaxis": {
         "anchor": "y",
         "domain": [
          0,
          1
         ],
         "title": {
          "text": "Frame"
         }
        },
        "yaxis": {
         "anchor": "x",
         "categoryarray": [
          "David",
          "Einar",
          "Ballin",
          "Ishun",
          "Natsuhisa",
          "Jud",
          "Alex_Sebastian",
          "Hitokiri_Joe",
          "Vic",
          "Jesse",
          "Haoru",
          "Bo_Kang",
          "Professor_Yuan",
          "Keming",
          "Carl",
          "Wataru"
         ],
         "categoryorder": "array",
         "domain": [
          0,
          1
         ],
         "title": {
          "text": "Identity"
         }
        }
       }
      }
     },
     "metadata": {},
     "output_type": "display_data"
    }
   ],
   "source": [
    "# User plotly to visualize something\n",
    "\n",
    "import plotly.express as px\n",
    "import pandas as pd\n",
    "\n",
    "# Load all csv files in csv/\n",
    "import glob\n",
    "import os\n",
    "\n",
    "csv_files = glob.glob(\"csv/*.csv\")\n",
    "# Convert all entries to structured data with attribute 0 as frame number, 1 as Face Box, and 5 as Identity\n",
    "# Skip first two lines of each file\n",
    "# Skip rows where Identity is N/A\n",
    "\n",
    "USE_GENERAL_NAMES = False\n",
    "USE_GENDER_NAMES = True\n",
    "IGNORE_MINOR_CHARACTERS = True\n",
    "\n",
    "FILM_FRAME_TOTALS = {\n",
    "\t\"Cliff\": 2097,\n",
    "\t\"Our Village\": 2377,\n",
    "\t\"Diary of Nurse\": 2297,\n",
    "\t\"Sabrina\": 2751,\n",
    "\t\"The Man from Laramie\": 2477,\n",
    "\t\"Human Desire\": 2200,\n",
    "\t\"Chikamatsu Story\": 2460,\n",
    "\t\"Black River\": 2552,\n",
    "\t\"Duel in the Sun\": 3207,\n",
    "\t\"Gilda\": 2652,\n",
    "\t\"Jigoku Mon\": 2151,\n",
    "\t\"Kurutta Kajitsu\": 2076,\n",
    "\t\"Notorious\": 2433,\n",
    "\t\"Oklahoma\": 3577,\n",
    "\t\"Vikings\": 2740,\n",
    "\t\"Waves of Life\": 2465\n",
    "}\n",
    "\n",
    "RIVALS = [\"Keming\", \"Professor Yuan\", \"Haoru\", \"David\", \"Vic\", \"Carl\", \"Ishun\", \"Hitokiri Joe\", \"Natsuhisa\", \"Bo Kang\", \"Wataru\", \"Jud\", \"Alex Sebastian\", \"Ballin\", \"Einar\", \"Jesse\"]\n",
    "MALES = []#[\"Zhanwu\", \"Fan Jun\", \"Changping\", \"Linus\", \"Will\", \"Jeff\", \"Mohei\", \"Nishida\", \"Haruji\", \"Jin Zhang\", \"Moritoo\", \"Curly\", \"Devlin\", \"Johnny\", \"Eric\", \"Lewt\"]\n",
    "LADIES = []#[\"Shuzhen\", \"Fang Qing\", \"Suhua\", \"Sabrina\", \"Barbara\", \"Vicki\", \"Osan\", \"Shizuko\", \"Eri\", \"Ye Suping\", \"Kesa\", \"Laurey\", \"Alicia\", \"Gilda\", \"Morgana\", \"Pearl\"]\n",
    "\n",
    "PROTAGONISTS = []#[\"Zhanwu\", \"Fang Qing\", \"Suhua\", \"Sabrina\", \"Will\", \"Jeff\", \"Mohei\", \"Nishida\", \"Haruji\", \"Jin Zhang\", \"Moritoo\", \"Curly\", \"Alicia\", \"Johnny\", \"Eric\", \"Pearl\"]\n",
    "LOVES = []#[\"Shuzhen\", \"Fan Jun\", \"Changping\", \"Linus\", \"Barbara\", \"Vicki\", \"Osan\", \"Shizuko\", \"Eri\", \"Ye Suping\", \"Kesa\", \"Laurey\", \"Devlin\", \"Gilda\", \"Morgana\", \"Lewt\"]\n",
    "\n",
    "def get_name(name):\n",
    "\tif USE_GENDER_NAMES:\n",
    "\t\tif name in MALES:\n",
    "\t\t\tname = \"Male\"\n",
    "\t\telif name in LADIES:\n",
    "\t\t\tname = \"Female\"\n",
    "\telse:\n",
    "\t\tif name in PROTAGONISTS:\n",
    "\t\t\tname = \"Protagonist\"\n",
    "\t\telif name in LOVES:\n",
    "\t\t\tname = \"Love\"\n",
    "\treturn name\n",
    "\n",
    "data = []\n",
    "for file in csv_files:\n",
    "\twith open(file) as f:\n",
    "\t\tlines = f.readlines()[2:]\n",
    "\t\tfor line in lines:\n",
    "\t\t\tline = line.split(\",\")\n",
    "\t\t\tif line[5] != \"\\\"N/A\\\"\":\n",
    "\t\t\t\t# Att 3 is frame numbder / film's total frames (the film is the name of the current csv file)\n",
    "\t\t\t\ttotal = FILM_FRAME_TOTALS[os.path.basename(file)[:-4]]\n",
    "\t\t\t\tframe = int(line[0][1:][:-1])\n",
    "\t\t\t\tname = line[5][1:][:-1]\n",
    "\t\t\t\tif USE_GENERAL_NAMES:\n",
    "\t\t\t\t\tif name in RIVALS:\n",
    "\t\t\t\t\t\tname = \"Rival\"\n",
    "\t\t\t\t\tname = get_name(name)\n",
    "\t\t\t\tif IGNORE_MINOR_CHARACTERS:\n",
    "\t\t\t\t\tif USE_GENERAL_NAMES:\n",
    "\t\t\t\t\t\tif name not in [\"Rival\", \"Protagonist\", \"Female\", \"Male\", \"Love\"]:\n",
    "\t\t\t\t\t\t\tcontinue\n",
    "\t\t\t\t\telse:\n",
    "\t\t\t\t\t\tif name not in RIVALS:\n",
    "\t\t\t\t\t\t\tif name not in PROTAGONISTS:\n",
    "\t\t\t\t\t\t\t\tif name not in LOVES:\n",
    "\t\t\t\t\t\t\t\t\tcontinue\n",
    "\t\t\t\tdata.append([frame, line[1], name.replace(\" \", \"_\"), frame / total * 9])\n",
    "\n",
    "df = pd.DataFrame(data, columns=[\"Frame\", \"Face Box\", \"Identity\", \"Timeline\"])\n",
    "df[\"Identity\"] = df[\"Identity\"].astype(str)\n",
    "df[\"Identity\"] = df[\"Identity\"].apply(lambda x: x.split(\" \")[0])\n",
    "\n",
    "# Create a scatter plot of the data\n",
    "fig = px.scatter(df, height=560, x=\"Frame\", y=\"Identity\", color=\"Identity\", title=\"Face Recognition Results of the Rivals\")\n",
    "fig.show()\n",
    "\n"
   ]
  },
  {
   "cell_type": "markdown",
   "metadata": {},
   "source": [
    "### CHUNKED PRESENCE"
   ]
  },
  {
   "cell_type": "code",
   "execution_count": null,
   "metadata": {},
   "outputs": [
    {
     "name": "stdout",
     "output_type": "stream",
     "text": [
      "1000\n",
      "1000\n",
      "4\n",
      "1001\n",
      "1001\n",
      "4\n",
      "1004\n",
      "1031\n",
      "4\n",
      "1032\n",
      "1032\n",
      "4\n",
      "1035\n",
      "1061\n",
      "4\n",
      "1062\n",
      "1062\n",
      "4\n",
      "1066\n",
      "1066\n",
      "4\n",
      "1067\n",
      "1067\n",
      "4\n",
      "107\n",
      "1073\n",
      "4\n",
      "1081\n",
      "1083\n",
      "4\n",
      "1085\n",
      "1085\n",
      "4\n",
      "1086\n",
      "1086\n",
      "4\n",
      "1087\n",
      "1087\n",
      "4\n",
      "1093\n",
      "1093\n",
      "4\n",
      "1094\n",
      "1094\n",
      "4\n",
      "1109\n",
      "1133\n",
      "4\n",
      "1133\n",
      "1134\n",
      "4\n",
      "1134\n",
      "1135\n",
      "4\n",
      "1136\n",
      "1136\n",
      "4\n",
      "1136\n",
      "1140\n",
      "4\n",
      "1141\n",
      "1141\n",
      "4\n",
      "1142\n",
      "1142\n",
      "4\n",
      "1144\n",
      "1144\n",
      "4\n",
      "115\n",
      "1181\n",
      "4\n",
      "1181\n",
      "1185\n",
      "4\n",
      "1186\n",
      "1186\n",
      "4\n",
      "1187\n",
      "1209\n",
      "4\n",
      "121\n",
      "1241\n",
      "5\n",
      "1242\n",
      "1244\n",
      "5\n",
      "1245\n",
      "1245\n",
      "5\n",
      "1246\n",
      "1250\n",
      "5\n",
      "1251\n",
      "1251\n",
      "5\n",
      "1252\n",
      "1252\n",
      "5\n",
      "1253\n",
      "1256\n",
      "5\n",
      "1257\n",
      "1257\n",
      "5\n",
      "1258\n",
      "1302\n",
      "5\n",
      "1303\n",
      "1303\n",
      "5\n",
      "1304\n",
      "1304\n",
      "5\n",
      "1305\n",
      "1305\n",
      "5\n",
      "1306\n",
      "1306\n",
      "5\n",
      "1306\n",
      "1307\n",
      "5\n",
      "1308\n",
      "1308\n",
      "5\n",
      "1309\n",
      "131\n",
      "1\n",
      "1311\n",
      "1313\n",
      "5\n",
      "1316\n",
      "1316\n",
      "5\n",
      "1317\n",
      "1317\n",
      "5\n",
      "1318\n",
      "1318\n",
      "5\n",
      "1321\n",
      "1321\n",
      "5\n",
      "1322\n",
      "1322\n",
      "5\n",
      "1323\n",
      "1323\n",
      "5\n",
      "1324\n",
      "1324\n",
      "5\n",
      "1325\n",
      "1325\n",
      "5\n",
      "1326\n",
      "1326\n",
      "5\n",
      "1327\n",
      "1327\n",
      "5\n",
      "1328\n",
      "1328\n",
      "5\n",
      "1329\n",
      "1331\n",
      "5\n",
      "1332\n",
      "1332\n",
      "5\n",
      "1332\n",
      "1342\n",
      "5\n",
      "1342\n",
      "1343\n",
      "5\n",
      "1343\n",
      "1344\n",
      "5\n",
      "1345\n",
      "1345\n",
      "5\n",
      "1346\n",
      "1346\n",
      "5\n",
      "1348\n",
      "1348\n",
      "5\n",
      "1349\n",
      "1349\n",
      "5\n",
      "1377\n",
      "143\n",
      "1\n",
      "1430\n",
      "1464\n",
      "5\n",
      "1465\n",
      "1470\n",
      "5\n",
      "1474\n",
      "1504\n",
      "5\n",
      "1524\n",
      "1524\n",
      "5\n",
      "1525\n",
      "1525\n",
      "5\n",
      "1526\n",
      "1526\n",
      "5\n",
      "1546\n",
      "1546\n",
      "6\n",
      "1547\n",
      "1547\n",
      "6\n",
      "1548\n",
      "1548\n",
      "6\n",
      "1549\n",
      "1554\n",
      "6\n",
      "1555\n",
      "1555\n",
      "6\n",
      "156\n",
      "1562\n",
      "6\n",
      "1564\n",
      "1565\n",
      "6\n",
      "1566\n",
      "1566\n",
      "6\n",
      "1567\n",
      "1567\n",
      "6\n",
      "1568\n",
      "1568\n",
      "6\n",
      "1569\n",
      "1569\n",
      "6\n",
      "1570\n",
      "1588\n",
      "6\n",
      "1598\n",
      "2014\n",
      "7\n",
      "2015\n",
      "2016\n",
      "7\n",
      "2017\n",
      "2017\n",
      "7\n",
      "2017\n",
      "2021\n",
      "7\n",
      "2022\n",
      "2023\n",
      "7\n",
      "2023\n",
      "2036\n",
      "7\n",
      "2036\n",
      "2038\n",
      "7\n",
      "2038\n",
      "2044\n",
      "7\n",
      "2045\n",
      "2045\n",
      "7\n",
      "2046\n",
      "2046\n",
      "7\n",
      "2047\n",
      "2050\n",
      "7\n",
      "2051\n",
      "2051\n",
      "7\n",
      "2052\n",
      "2052\n",
      "7\n",
      "2053\n",
      "2053\n",
      "7\n",
      "2054\n",
      "2054\n",
      "7\n",
      "2055\n",
      "2519\n",
      "9\n",
      "2520\n",
      "2520\n",
      "9\n",
      "2521\n",
      "2521\n",
      "9\n",
      "2522\n",
      "2523\n",
      "9\n",
      "2524\n",
      "2526\n",
      "9\n",
      "2527\n",
      "2527\n",
      "9\n",
      "2528\n",
      "2528\n",
      "9\n",
      "2529\n",
      "2529\n",
      "9\n",
      "2531\n",
      "2531\n",
      "9\n",
      "2534\n",
      "2539\n",
      "9\n",
      "2540\n",
      "2540\n",
      "9\n",
      "2540\n",
      "2541\n",
      "9\n",
      "2542\n",
      "2547\n",
      "9\n",
      "2556\n",
      "2685\n",
      "9\n",
      "2685\n",
      "727\n",
      "3\n",
      "728\n",
      "728\n",
      "3\n",
      "729\n",
      "729\n",
      "3\n",
      "73\n",
      "730\n",
      "3\n",
      "731\n",
      "783\n",
      "3\n",
      "784\n",
      "81\n",
      "1\n",
      "814\n",
      "82\n",
      "1\n",
      "820\n",
      "83\n",
      "1\n",
      "830\n",
      "84\n",
      "1\n",
      "842\n",
      "861\n",
      "3\n",
      "862\n",
      "862\n",
      "3\n",
      "863\n",
      "864\n",
      "3\n",
      "865\n",
      "868\n",
      "3\n",
      "869\n",
      "869\n",
      "3\n",
      "881\n",
      "886\n",
      "3\n",
      "887\n",
      "887\n",
      "3\n",
      "888\n",
      "888\n",
      "3\n",
      "888\n",
      "889\n",
      "3\n",
      "890\n",
      "890\n",
      "3\n",
      "890\n",
      "891\n",
      "3\n",
      "891\n",
      "892\n",
      "3\n",
      "892\n",
      "893\n",
      "3\n",
      "893\n",
      "895\n",
      "3\n",
      "895\n",
      "896\n",
      "3\n",
      "896\n",
      "899\n",
      "3\n",
      "899\n",
      "900\n",
      "3\n",
      "901\n",
      "903\n",
      "3\n",
      "906\n",
      "908\n",
      "3\n",
      "910\n",
      "911\n",
      "3\n",
      "912\n",
      "912\n",
      "3\n",
      "913\n",
      "914\n",
      "3\n",
      "915\n",
      "915\n",
      "3\n",
      "915\n",
      "916\n",
      "3\n",
      "916\n",
      "917\n",
      "3\n",
      "918\n",
      "918\n",
      "4\n",
      "918\n",
      "920\n",
      "4\n",
      "921\n",
      "926\n",
      "4\n",
      "938\n",
      "938\n",
      "4\n",
      "94\n",
      "940\n",
      "4\n",
      "942\n",
      "942\n",
      "4\n",
      "945\n",
      "972\n",
      "4\n",
      "973\n",
      "973\n",
      "4\n",
      "974\n",
      "974\n",
      "4\n",
      "975\n",
      "975\n",
      "4\n",
      "976\n",
      "977\n",
      "4\n",
      "978\n",
      "978\n",
      "4\n",
      "980\n",
      "994\n",
      "4\n",
      "995\n",
      "995\n",
      "4\n",
      "996\n",
      "996\n",
      "4\n",
      "997\n",
      "997\n",
      "4\n",
      "998\n",
      "998\n",
      "4\n",
      "999\n",
      "999\n",
      "4\n",
      "0 David\n",
      "2 David\n",
      "8 David\n",
      "0 Sabrina\n",
      "0 Linus\n"
     ]
    },
    {
     "data": {
      "application/vnd.plotly.v1+json": {
       "config": {
        "plotlyServerURL": "https://plot.ly"
       },
       "data": [
        {
         "hovertemplate": "Identity=Sabrina<br>Timeline=%{x}<br>Value=%{y}<extra></extra>",
         "legendgroup": "Sabrina",
         "line": {
          "color": "#636efa",
          "dash": "solid"
         },
         "marker": {
          "symbol": "circle"
         },
         "mode": "lines",
         "name": "Sabrina",
         "orientation": "v",
         "showlegend": true,
         "type": "scatter",
         "x": [
          1,
          2,
          3,
          4,
          5,
          6,
          7,
          8,
          9
         ],
         "xaxis": "x",
         "y": [
          0.8135593220338984,
          0.5176470588235295,
          0.5166666666666667,
          0.46464646464646464,
          0.5165562913907285,
          0.24444444444444444,
          0.5316455696202531,
          0.5660377358490566,
          0.35714285714285715
         ],
         "yaxis": "y"
        },
        {
         "hovertemplate": "Identity=David<br>Timeline=%{x}<br>Value=%{y}<extra></extra>",
         "legendgroup": "David",
         "line": {
          "color": "#EF553B",
          "dash": "solid"
         },
         "marker": {
          "symbol": "circle"
         },
         "mode": "lines",
         "name": "David",
         "orientation": "v",
         "showlegend": true,
         "type": "scatter",
         "x": [
          1,
          3,
          4,
          5,
          6,
          7,
          9
         ],
         "xaxis": "x",
         "y": [
          0.1016949152542373,
          0.25,
          0.45454545454545453,
          0.2781456953642384,
          0.08888888888888889,
          0.0949367088607595,
          0.16666666666666666
         ],
         "yaxis": "y"
        },
        {
         "hovertemplate": "Identity=Linus<br>Timeline=%{x}<br>Value=%{y}<extra></extra>",
         "legendgroup": "Linus",
         "line": {
          "color": "#00cc96",
          "dash": "solid"
         },
         "marker": {
          "symbol": "circle"
         },
         "mode": "lines",
         "name": "Linus",
         "orientation": "v",
         "showlegend": true,
         "type": "scatter",
         "x": [
          1,
          2,
          3,
          4,
          5,
          6,
          7,
          8,
          9
         ],
         "xaxis": "x",
         "y": [
          0.0847457627118644,
          0.4823529411764706,
          0.23333333333333334,
          0.08080808080808081,
          0.2052980132450331,
          0.6666666666666666,
          0.37341772151898733,
          0.4339622641509434,
          0.47619047619047616
         ],
         "yaxis": "y"
        }
       ],
       "layout": {
        "legend": {
         "title": {
          "text": "Identity"
         },
         "tracegroupgap": 0
        },
        "template": {
         "data": {
          "bar": [
           {
            "error_x": {
             "color": "#2a3f5f"
            },
            "error_y": {
             "color": "#2a3f5f"
            },
            "marker": {
             "line": {
              "color": "#E5ECF6",
              "width": 0.5
             },
             "pattern": {
              "fillmode": "overlay",
              "size": 10,
              "solidity": 0.2
             }
            },
            "type": "bar"
           }
          ],
          "barpolar": [
           {
            "marker": {
             "line": {
              "color": "#E5ECF6",
              "width": 0.5
             },
             "pattern": {
              "fillmode": "overlay",
              "size": 10,
              "solidity": 0.2
             }
            },
            "type": "barpolar"
           }
          ],
          "carpet": [
           {
            "aaxis": {
             "endlinecolor": "#2a3f5f",
             "gridcolor": "white",
             "linecolor": "white",
             "minorgridcolor": "white",
             "startlinecolor": "#2a3f5f"
            },
            "baxis": {
             "endlinecolor": "#2a3f5f",
             "gridcolor": "white",
             "linecolor": "white",
             "minorgridcolor": "white",
             "startlinecolor": "#2a3f5f"
            },
            "type": "carpet"
           }
          ],
          "choropleth": [
           {
            "colorbar": {
             "outlinewidth": 0,
             "ticks": ""
            },
            "type": "choropleth"
           }
          ],
          "contour": [
           {
            "colorbar": {
             "outlinewidth": 0,
             "ticks": ""
            },
            "colorscale": [
             [
              0,
              "#0d0887"
             ],
             [
              0.1111111111111111,
              "#46039f"
             ],
             [
              0.2222222222222222,
              "#7201a8"
             ],
             [
              0.3333333333333333,
              "#9c179e"
             ],
             [
              0.4444444444444444,
              "#bd3786"
             ],
             [
              0.5555555555555556,
              "#d8576b"
             ],
             [
              0.6666666666666666,
              "#ed7953"
             ],
             [
              0.7777777777777778,
              "#fb9f3a"
             ],
             [
              0.8888888888888888,
              "#fdca26"
             ],
             [
              1,
              "#f0f921"
             ]
            ],
            "type": "contour"
           }
          ],
          "contourcarpet": [
           {
            "colorbar": {
             "outlinewidth": 0,
             "ticks": ""
            },
            "type": "contourcarpet"
           }
          ],
          "heatmap": [
           {
            "colorbar": {
             "outlinewidth": 0,
             "ticks": ""
            },
            "colorscale": [
             [
              0,
              "#0d0887"
             ],
             [
              0.1111111111111111,
              "#46039f"
             ],
             [
              0.2222222222222222,
              "#7201a8"
             ],
             [
              0.3333333333333333,
              "#9c179e"
             ],
             [
              0.4444444444444444,
              "#bd3786"
             ],
             [
              0.5555555555555556,
              "#d8576b"
             ],
             [
              0.6666666666666666,
              "#ed7953"
             ],
             [
              0.7777777777777778,
              "#fb9f3a"
             ],
             [
              0.8888888888888888,
              "#fdca26"
             ],
             [
              1,
              "#f0f921"
             ]
            ],
            "type": "heatmap"
           }
          ],
          "heatmapgl": [
           {
            "colorbar": {
             "outlinewidth": 0,
             "ticks": ""
            },
            "colorscale": [
             [
              0,
              "#0d0887"
             ],
             [
              0.1111111111111111,
              "#46039f"
             ],
             [
              0.2222222222222222,
              "#7201a8"
             ],
             [
              0.3333333333333333,
              "#9c179e"
             ],
             [
              0.4444444444444444,
              "#bd3786"
             ],
             [
              0.5555555555555556,
              "#d8576b"
             ],
             [
              0.6666666666666666,
              "#ed7953"
             ],
             [
              0.7777777777777778,
              "#fb9f3a"
             ],
             [
              0.8888888888888888,
              "#fdca26"
             ],
             [
              1,
              "#f0f921"
             ]
            ],
            "type": "heatmapgl"
           }
          ],
          "histogram": [
           {
            "marker": {
             "pattern": {
              "fillmode": "overlay",
              "size": 10,
              "solidity": 0.2
             }
            },
            "type": "histogram"
           }
          ],
          "histogram2d": [
           {
            "colorbar": {
             "outlinewidth": 0,
             "ticks": ""
            },
            "colorscale": [
             [
              0,
              "#0d0887"
             ],
             [
              0.1111111111111111,
              "#46039f"
             ],
             [
              0.2222222222222222,
              "#7201a8"
             ],
             [
              0.3333333333333333,
              "#9c179e"
             ],
             [
              0.4444444444444444,
              "#bd3786"
             ],
             [
              0.5555555555555556,
              "#d8576b"
             ],
             [
              0.6666666666666666,
              "#ed7953"
             ],
             [
              0.7777777777777778,
              "#fb9f3a"
             ],
             [
              0.8888888888888888,
              "#fdca26"
             ],
             [
              1,
              "#f0f921"
             ]
            ],
            "type": "histogram2d"
           }
          ],
          "histogram2dcontour": [
           {
            "colorbar": {
             "outlinewidth": 0,
             "ticks": ""
            },
            "colorscale": [
             [
              0,
              "#0d0887"
             ],
             [
              0.1111111111111111,
              "#46039f"
             ],
             [
              0.2222222222222222,
              "#7201a8"
             ],
             [
              0.3333333333333333,
              "#9c179e"
             ],
             [
              0.4444444444444444,
              "#bd3786"
             ],
             [
              0.5555555555555556,
              "#d8576b"
             ],
             [
              0.6666666666666666,
              "#ed7953"
             ],
             [
              0.7777777777777778,
              "#fb9f3a"
             ],
             [
              0.8888888888888888,
              "#fdca26"
             ],
             [
              1,
              "#f0f921"
             ]
            ],
            "type": "histogram2dcontour"
           }
          ],
          "mesh3d": [
           {
            "colorbar": {
             "outlinewidth": 0,
             "ticks": ""
            },
            "type": "mesh3d"
           }
          ],
          "parcoords": [
           {
            "line": {
             "colorbar": {
              "outlinewidth": 0,
              "ticks": ""
             }
            },
            "type": "parcoords"
           }
          ],
          "pie": [
           {
            "automargin": true,
            "type": "pie"
           }
          ],
          "scatter": [
           {
            "fillpattern": {
             "fillmode": "overlay",
             "size": 10,
             "solidity": 0.2
            },
            "type": "scatter"
           }
          ],
          "scatter3d": [
           {
            "line": {
             "colorbar": {
              "outlinewidth": 0,
              "ticks": ""
             }
            },
            "marker": {
             "colorbar": {
              "outlinewidth": 0,
              "ticks": ""
             }
            },
            "type": "scatter3d"
           }
          ],
          "scattercarpet": [
           {
            "marker": {
             "colorbar": {
              "outlinewidth": 0,
              "ticks": ""
             }
            },
            "type": "scattercarpet"
           }
          ],
          "scattergeo": [
           {
            "marker": {
             "colorbar": {
              "outlinewidth": 0,
              "ticks": ""
             }
            },
            "type": "scattergeo"
           }
          ],
          "scattergl": [
           {
            "marker": {
             "colorbar": {
              "outlinewidth": 0,
              "ticks": ""
             }
            },
            "type": "scattergl"
           }
          ],
          "scattermapbox": [
           {
            "marker": {
             "colorbar": {
              "outlinewidth": 0,
              "ticks": ""
             }
            },
            "type": "scattermapbox"
           }
          ],
          "scatterpolar": [
           {
            "marker": {
             "colorbar": {
              "outlinewidth": 0,
              "ticks": ""
             }
            },
            "type": "scatterpolar"
           }
          ],
          "scatterpolargl": [
           {
            "marker": {
             "colorbar": {
              "outlinewidth": 0,
              "ticks": ""
             }
            },
            "type": "scatterpolargl"
           }
          ],
          "scatterternary": [
           {
            "marker": {
             "colorbar": {
              "outlinewidth": 0,
              "ticks": ""
             }
            },
            "type": "scatterternary"
           }
          ],
          "surface": [
           {
            "colorbar": {
             "outlinewidth": 0,
             "ticks": ""
            },
            "colorscale": [
             [
              0,
              "#0d0887"
             ],
             [
              0.1111111111111111,
              "#46039f"
             ],
             [
              0.2222222222222222,
              "#7201a8"
             ],
             [
              0.3333333333333333,
              "#9c179e"
             ],
             [
              0.4444444444444444,
              "#bd3786"
             ],
             [
              0.5555555555555556,
              "#d8576b"
             ],
             [
              0.6666666666666666,
              "#ed7953"
             ],
             [
              0.7777777777777778,
              "#fb9f3a"
             ],
             [
              0.8888888888888888,
              "#fdca26"
             ],
             [
              1,
              "#f0f921"
             ]
            ],
            "type": "surface"
           }
          ],
          "table": [
           {
            "cells": {
             "fill": {
              "color": "#EBF0F8"
             },
             "line": {
              "color": "white"
             }
            },
            "header": {
             "fill": {
              "color": "#C8D4E3"
             },
             "line": {
              "color": "white"
             }
            },
            "type": "table"
           }
          ]
         },
         "layout": {
          "annotationdefaults": {
           "arrowcolor": "#2a3f5f",
           "arrowhead": 0,
           "arrowwidth": 1
          },
          "autotypenumbers": "strict",
          "coloraxis": {
           "colorbar": {
            "outlinewidth": 0,
            "ticks": ""
           }
          },
          "colorscale": {
           "diverging": [
            [
             0,
             "#8e0152"
            ],
            [
             0.1,
             "#c51b7d"
            ],
            [
             0.2,
             "#de77ae"
            ],
            [
             0.3,
             "#f1b6da"
            ],
            [
             0.4,
             "#fde0ef"
            ],
            [
             0.5,
             "#f7f7f7"
            ],
            [
             0.6,
             "#e6f5d0"
            ],
            [
             0.7,
             "#b8e186"
            ],
            [
             0.8,
             "#7fbc41"
            ],
            [
             0.9,
             "#4d9221"
            ],
            [
             1,
             "#276419"
            ]
           ],
           "sequential": [
            [
             0,
             "#0d0887"
            ],
            [
             0.1111111111111111,
             "#46039f"
            ],
            [
             0.2222222222222222,
             "#7201a8"
            ],
            [
             0.3333333333333333,
             "#9c179e"
            ],
            [
             0.4444444444444444,
             "#bd3786"
            ],
            [
             0.5555555555555556,
             "#d8576b"
            ],
            [
             0.6666666666666666,
             "#ed7953"
            ],
            [
             0.7777777777777778,
             "#fb9f3a"
            ],
            [
             0.8888888888888888,
             "#fdca26"
            ],
            [
             1,
             "#f0f921"
            ]
           ],
           "sequentialminus": [
            [
             0,
             "#0d0887"
            ],
            [
             0.1111111111111111,
             "#46039f"
            ],
            [
             0.2222222222222222,
             "#7201a8"
            ],
            [
             0.3333333333333333,
             "#9c179e"
            ],
            [
             0.4444444444444444,
             "#bd3786"
            ],
            [
             0.5555555555555556,
             "#d8576b"
            ],
            [
             0.6666666666666666,
             "#ed7953"
            ],
            [
             0.7777777777777778,
             "#fb9f3a"
            ],
            [
             0.8888888888888888,
             "#fdca26"
            ],
            [
             1,
             "#f0f921"
            ]
           ]
          },
          "colorway": [
           "#636efa",
           "#EF553B",
           "#00cc96",
           "#ab63fa",
           "#FFA15A",
           "#19d3f3",
           "#FF6692",
           "#B6E880",
           "#FF97FF",
           "#FECB52"
          ],
          "font": {
           "color": "#2a3f5f"
          },
          "geo": {
           "bgcolor": "white",
           "lakecolor": "white",
           "landcolor": "#E5ECF6",
           "showlakes": true,
           "showland": true,
           "subunitcolor": "white"
          },
          "hoverlabel": {
           "align": "left"
          },
          "hovermode": "closest",
          "mapbox": {
           "style": "light"
          },
          "paper_bgcolor": "white",
          "plot_bgcolor": "#E5ECF6",
          "polar": {
           "angularaxis": {
            "gridcolor": "white",
            "linecolor": "white",
            "ticks": ""
           },
           "bgcolor": "#E5ECF6",
           "radialaxis": {
            "gridcolor": "white",
            "linecolor": "white",
            "ticks": ""
           }
          },
          "scene": {
           "xaxis": {
            "backgroundcolor": "#E5ECF6",
            "gridcolor": "white",
            "gridwidth": 2,
            "linecolor": "white",
            "showbackground": true,
            "ticks": "",
            "zerolinecolor": "white"
           },
           "yaxis": {
            "backgroundcolor": "#E5ECF6",
            "gridcolor": "white",
            "gridwidth": 2,
            "linecolor": "white",
            "showbackground": true,
            "ticks": "",
            "zerolinecolor": "white"
           },
           "zaxis": {
            "backgroundcolor": "#E5ECF6",
            "gridcolor": "white",
            "gridwidth": 2,
            "linecolor": "white",
            "showbackground": true,
            "ticks": "",
            "zerolinecolor": "white"
           }
          },
          "shapedefaults": {
           "line": {
            "color": "#2a3f5f"
           }
          },
          "ternary": {
           "aaxis": {
            "gridcolor": "white",
            "linecolor": "white",
            "ticks": ""
           },
           "baxis": {
            "gridcolor": "white",
            "linecolor": "white",
            "ticks": ""
           },
           "bgcolor": "#E5ECF6",
           "caxis": {
            "gridcolor": "white",
            "linecolor": "white",
            "ticks": ""
           }
          },
          "title": {
           "x": 0.05
          },
          "xaxis": {
           "automargin": true,
           "gridcolor": "white",
           "linecolor": "white",
           "ticks": "",
           "title": {
            "standoff": 15
           },
           "zerolinecolor": "white",
           "zerolinewidth": 2
          },
          "yaxis": {
           "automargin": true,
           "gridcolor": "white",
           "linecolor": "white",
           "ticks": "",
           "title": {
            "standoff": 15
           },
           "zerolinecolor": "white",
           "zerolinewidth": 2
          }
         }
        },
        "title": {
         "text": "Chunked Average Temporal Presence in Gilda"
        },
        "xaxis": {
         "anchor": "y",
         "domain": [
          0,
          1
         ],
         "title": {
          "text": "Timeline"
         }
        },
        "yaxis": {
         "anchor": "x",
         "domain": [
          0,
          1
         ],
         "title": {
          "text": "Value"
         }
        }
       }
      }
     },
     "metadata": {},
     "output_type": "display_data"
    }
   ],
   "source": [
    "CHUNKING = 9\n",
    "\n",
    "# User plotly to visualize something\n",
    "\n",
    "import plotly.express as px\n",
    "import pandas as pd\n",
    "\n",
    "# Load all csv files in csv/\n",
    "import glob\n",
    "import os\n",
    "\n",
    "csv_files = glob.glob(\"csv/Sabrina.csv\")\n",
    "# Convert all entries to structured data with attribute 0 as frame number, 1 as Face Box, and 5 as Identity\n",
    "# Skip first two lines of each file\n",
    "# Skip rows where Identity is N/A\n",
    "\n",
    "USE_GENERAL_NAMES = False\n",
    "USE_GENDER_NAMES = False\n",
    "\n",
    "USE_AVERAGE = True\n",
    "\n",
    "IGNORE_MINOR_CHARACTERS = True\n",
    "\n",
    "FILM_FRAME_TOTALS = {\n",
    "\t\"Cliff\": 2097,\n",
    "\t\"Our Village\": 2377,\n",
    "\t\"Diary of Nurse\": 2297,\n",
    "\t\"Sabrina\": 2751,\n",
    "\t\"The Man from Laramie\": 2477,\n",
    "\t\"Human Desire\": 2200,\n",
    "\t\"Chikamatsu Story\": 2460,\n",
    "\t\"Black River\": 2552,\n",
    "\t\"Duel in the Sun\": 3207,\n",
    "\t\"Gilda\": 2652,\n",
    "\t\"Jigoku Mon\": 2151,\n",
    "\t\"Kurutta Kajitsu\": 2076,\n",
    "\t\"Notorious\": 2433,\n",
    "\t\"Oklahoma\": 3577,\n",
    "\t\"Vikings\": 2740,\n",
    "\t\"Waves of Life\": 2465\n",
    "}\n",
    "\n",
    "RIVALS = [\"Keming\", \"Professor Yuan\", \"Haoru\", \"David\", \"Vic\", \"Carl\", \"Ishun\", \"Hitokiri Joe\", \"Natsuhisa\", \"Bo Kang\", \"Wataru\", \"Jud\", \"Alex Sebastian\", \"Ballin\", \"Einar\", \"Jesse\"]\n",
    "MALES = [\"Zhanwu\", \"Fan Jun\", \"Changping\", \"Linus\", \"Will\", \"Jeff\", \"Mohei\", \"Nishida\", \"Haruji\", \"Jin Zhang\", \"Moritoo\", \"Curly\", \"Devlin\", \"Johnny\", \"Eric\", \"Lewt\"]\n",
    "LADIES = [\"Shuzhen\", \"Fang Qing\", \"Suhua\", \"Sabrina\", \"Barbara\", \"Vicki\", \"Osan\", \"Shizuko\", \"Eri\", \"Ye Suping\", \"Kesa\", \"Laurey\", \"Alicia\", \"Gilda\", \"Morgana\", \"Pearl\"]\n",
    "\n",
    "PROTAGONISTS = [\"Zhanwu\", \"Fang Qing\", \"Suhua\", \"Sabrina\", \"Will\", \"Jeff\", \"Mohei\", \"Nishida\", \"Haruji\", \"Jin Zhang\", \"Moritoo\", \"Curly\", \"Alicia\", \"Johnny\", \"Eric\", \"Pearl\"]\n",
    "LOVES = [\"Shuzhen\", \"Fan Jun\", \"Changping\", \"Linus\", \"Barbara\", \"Vicki\", \"Osan\", \"Shizuko\", \"Eri\", \"Ye Suping\", \"Kesa\", \"Laurey\", \"Devlin\", \"Gilda\", \"Morgana\", \"Lewt\"]\n",
    "\n",
    "def find_section(range_start, range_end, num_sections, value):\n",
    "    \"\"\"\n",
    "    Given a range [range_start, range_end], this function splits it into\n",
    "    num_sections and returns which section (1-based index) the value falls into.\n",
    "\n",
    "    :param range_start: The start of the range (inclusive).\n",
    "    :param range_end: The end of the range (inclusive).\n",
    "    :param num_sections: Number of sections to divide the range into.\n",
    "    :param value: The value for which we want to determine the section index.\n",
    "    :return: The section index (1-based) where the value fits.\n",
    "    \"\"\"\n",
    "    # Handle edge cases, e.g., if value < range_start or value > range_end\n",
    "    if value <= range_start:\n",
    "        return 1\n",
    "    if value >= range_end:\n",
    "        return num_sections\n",
    "\n",
    "    # Compute the size of each section\n",
    "    section_size = (range_end - range_start) / num_sections\n",
    "\n",
    "    # Determine which section the value falls into using integer division\n",
    "    section_index = int((value - range_start) // section_size) + 1\n",
    "\n",
    "    # Make sure the section index doesn't exceed num_sections\n",
    "    if section_index > num_sections:\n",
    "        section_index = num_sections\n",
    "\n",
    "    return section_index\n",
    "\n",
    "def get_name(name):\n",
    "\tif USE_GENDER_NAMES:\n",
    "\t\tif name in MALES:\n",
    "\t\t\tname = \"Male\"\n",
    "\t\telif name in LADIES:\n",
    "\t\t\tname = \"Female\"\n",
    "\telse:\n",
    "\t\tif name in PROTAGONISTS:\n",
    "\t\t\tname = \"Protagonist\"\n",
    "\t\telif name in LOVES:\n",
    "\t\t\tname = \"Love\"\n",
    "\treturn name\n",
    "\n",
    "data = []\n",
    "chunks = []\n",
    "chunk_totals = []\n",
    "for i in range(CHUNKING + 1):\n",
    "\tchunk_totals.append(0)\n",
    "for i in range(CHUNKING + 1):\n",
    "\tchunks.append({})\n",
    "\n",
    "all_names = []\n",
    "\n",
    "for file in csv_files:\n",
    "\twith open(file) as f:\n",
    "\t\tlines = f.readlines()[2:]\n",
    "\t\tfor line in lines:\n",
    "\t\t\tline = line.split(\",\")\n",
    "\t\t\tif line[5] != \"\\\"N/A\\\"\":\n",
    "\t\t\t\t# Att 3 is frame numbder / film's total frames (the film is the name of the current csv file)\n",
    "\t\t\t\ttotal = FILM_FRAME_TOTALS[os.path.basename(file)[:-4]]\n",
    "\t\t\t\tframe = int(line[0][1:][:-1])\n",
    "\n",
    "\t\t\t\tname = line[5][1:][:-1]\n",
    "\t\t\t\tif USE_GENERAL_NAMES:\n",
    "\t\t\t\t\tif name in RIVALS:\n",
    "\t\t\t\t\t\tname = \"Rival\"\n",
    "\t\t\t\t\tname = get_name(name)\n",
    "\t\t\t\tif IGNORE_MINOR_CHARACTERS:\n",
    "\t\t\t\t\tif USE_GENERAL_NAMES:\n",
    "\t\t\t\t\t\tif name not in [\"Rival\", \"Protagonist\", \"Female\", \"Male\", \"Love\"]:\n",
    "\t\t\t\t\t\t\tcontinue\n",
    "\t\t\t\t\telse:\n",
    "\t\t\t\t\t\tif name not in RIVALS:\n",
    "\t\t\t\t\t\t\tif name not in PROTAGONISTS:\n",
    "\t\t\t\t\t\t\t\tif name not in LOVES:\n",
    "\t\t\t\t\t\t\t\t\tcontinue\n",
    "\t\t\t\ttime = find_section(0, total, CHUNKING, frame)\n",
    "\t\t\t\tif name not in all_names:\n",
    "\t\t\t\t\tall_names.append(name)\n",
    "\t\t\t\t# the chunk array time participant is a dictionary of the participants in that chunk\n",
    "\t\t\t\tchunk_totals[time] += 1\n",
    "\t\t\t\tif name not in chunks[time]:\n",
    "\t\t\t\t\tchunks[time][name] = 0\n",
    "\t\t\t\tchunks[time][name] += 1\n",
    "\t\t\t\t#data.append([frame, line[1], name, time])\n",
    "\n",
    "for i in range(CHUNKING+1):\n",
    "\tfor name in chunks[i]:\n",
    "\t\tif USE_AVERAGE:\n",
    "\t\t\tdata.append([i, name, chunks[i][name] / chunk_totals[i]])\n",
    "\t\telse:\n",
    "\t\t\tdata.append([i, name, chunks[i][name]])\n",
    "\n",
    "for n in all_names:\n",
    "\tfor i in range(CHUNKING+1):\n",
    "\t\tif n not in chunks[i]:\n",
    "\t\t\tchunks[i][n] = 0\n",
    "\t\t\tprint(i, n)\n",
    "\n",
    "df = pd.DataFrame(data, columns=[\"Timeline\", \"Identity\", \"Value\"])\n",
    "df[\"Identity\"] = df[\"Identity\"].astype(str)\n",
    "df[\"Identity\"] = df[\"Identity\"].apply(lambda x: x.split(\" \")[0])\n",
    "\n",
    "# Create a scatter plot of the data\n",
    "fig = px.line(df, x=\"Timeline\", y=\"Value\", color=\"Identity\", title=\"Chunked Average Temporal Presence in Gilda\")\n",
    "fig.show()\n",
    "\n"
   ]
  },
  {
   "cell_type": "markdown",
   "metadata": {},
   "source": [
    "### CHUNKED FACE BOX SIZE (AVERAGE OR TOTAL)\n",
    "[DEPRECATED]"
   ]
  },
  {
   "cell_type": "code",
   "execution_count": 5,
   "metadata": {},
   "outputs": [
    {
     "data": {
      "application/vnd.plotly.v1+json": {
       "config": {
        "plotlyServerURL": "https://plot.ly"
       },
       "data": [
        {
         "hovertemplate": "Identity=Love<br>Timeline=%{x}<br>Value=%{y}<extra></extra>",
         "legendgroup": "Love",
         "line": {
          "color": "#636efa",
          "dash": "solid"
         },
         "marker": {
          "symbol": "circle"
         },
         "mode": "lines",
         "name": "Love",
         "orientation": "v",
         "showlegend": true,
         "type": "scatter",
         "x": [
          1,
          2,
          3,
          4,
          5,
          6,
          7,
          8,
          9
         ],
         "xaxis": "x",
         "y": [
          0.03922045361931456,
          0.04657957838821215,
          0.04452797060455864,
          0.0320629202477655,
          0.054440308416412876,
          0.043075383479435896,
          0.056341313512718746,
          0.03870491820373374,
          0.07076784896414913
         ],
         "yaxis": "y"
        },
        {
         "hovertemplate": "Identity=Protagonist<br>Timeline=%{x}<br>Value=%{y}<extra></extra>",
         "legendgroup": "Protagonist",
         "line": {
          "color": "#EF553B",
          "dash": "solid"
         },
         "marker": {
          "symbol": "circle"
         },
         "mode": "lines",
         "name": "Protagonist",
         "orientation": "v",
         "showlegend": true,
         "type": "scatter",
         "x": [
          1,
          2,
          3,
          4,
          5,
          6,
          7,
          8,
          9
         ],
         "xaxis": "x",
         "y": [
          0.05228943447565007,
          0.050209306224360935,
          0.045883356612044436,
          0.04236953194491908,
          0.048901794762266214,
          0.04854248144849175,
          0.05088641177443436,
          0.061856223251100545,
          0.06559665698023694
         ],
         "yaxis": "y"
        },
        {
         "hovertemplate": "Identity=Rival<br>Timeline=%{x}<br>Value=%{y}<extra></extra>",
         "legendgroup": "Rival",
         "line": {
          "color": "#00cc96",
          "dash": "solid"
         },
         "marker": {
          "symbol": "circle"
         },
         "mode": "lines",
         "name": "Rival",
         "orientation": "v",
         "showlegend": true,
         "type": "scatter",
         "x": [
          1,
          2,
          3,
          4,
          5,
          6,
          7,
          8,
          9
         ],
         "xaxis": "x",
         "y": [
          0.05714938856773998,
          0.031981833372841134,
          0.038527528401575334,
          0.04061913757225998,
          0.0388487605242287,
          0.03496658565444821,
          0.04227682764544498,
          0.045665872868319364,
          0.059564547270768764
         ],
         "yaxis": "y"
        }
       ],
       "layout": {
        "legend": {
         "title": {
          "text": "Identity"
         },
         "tracegroupgap": 0
        },
        "template": {
         "data": {
          "bar": [
           {
            "error_x": {
             "color": "#2a3f5f"
            },
            "error_y": {
             "color": "#2a3f5f"
            },
            "marker": {
             "line": {
              "color": "#E5ECF6",
              "width": 0.5
             },
             "pattern": {
              "fillmode": "overlay",
              "size": 10,
              "solidity": 0.2
             }
            },
            "type": "bar"
           }
          ],
          "barpolar": [
           {
            "marker": {
             "line": {
              "color": "#E5ECF6",
              "width": 0.5
             },
             "pattern": {
              "fillmode": "overlay",
              "size": 10,
              "solidity": 0.2
             }
            },
            "type": "barpolar"
           }
          ],
          "carpet": [
           {
            "aaxis": {
             "endlinecolor": "#2a3f5f",
             "gridcolor": "white",
             "linecolor": "white",
             "minorgridcolor": "white",
             "startlinecolor": "#2a3f5f"
            },
            "baxis": {
             "endlinecolor": "#2a3f5f",
             "gridcolor": "white",
             "linecolor": "white",
             "minorgridcolor": "white",
             "startlinecolor": "#2a3f5f"
            },
            "type": "carpet"
           }
          ],
          "choropleth": [
           {
            "colorbar": {
             "outlinewidth": 0,
             "ticks": ""
            },
            "type": "choropleth"
           }
          ],
          "contour": [
           {
            "colorbar": {
             "outlinewidth": 0,
             "ticks": ""
            },
            "colorscale": [
             [
              0,
              "#0d0887"
             ],
             [
              0.1111111111111111,
              "#46039f"
             ],
             [
              0.2222222222222222,
              "#7201a8"
             ],
             [
              0.3333333333333333,
              "#9c179e"
             ],
             [
              0.4444444444444444,
              "#bd3786"
             ],
             [
              0.5555555555555556,
              "#d8576b"
             ],
             [
              0.6666666666666666,
              "#ed7953"
             ],
             [
              0.7777777777777778,
              "#fb9f3a"
             ],
             [
              0.8888888888888888,
              "#fdca26"
             ],
             [
              1,
              "#f0f921"
             ]
            ],
            "type": "contour"
           }
          ],
          "contourcarpet": [
           {
            "colorbar": {
             "outlinewidth": 0,
             "ticks": ""
            },
            "type": "contourcarpet"
           }
          ],
          "heatmap": [
           {
            "colorbar": {
             "outlinewidth": 0,
             "ticks": ""
            },
            "colorscale": [
             [
              0,
              "#0d0887"
             ],
             [
              0.1111111111111111,
              "#46039f"
             ],
             [
              0.2222222222222222,
              "#7201a8"
             ],
             [
              0.3333333333333333,
              "#9c179e"
             ],
             [
              0.4444444444444444,
              "#bd3786"
             ],
             [
              0.5555555555555556,
              "#d8576b"
             ],
             [
              0.6666666666666666,
              "#ed7953"
             ],
             [
              0.7777777777777778,
              "#fb9f3a"
             ],
             [
              0.8888888888888888,
              "#fdca26"
             ],
             [
              1,
              "#f0f921"
             ]
            ],
            "type": "heatmap"
           }
          ],
          "heatmapgl": [
           {
            "colorbar": {
             "outlinewidth": 0,
             "ticks": ""
            },
            "colorscale": [
             [
              0,
              "#0d0887"
             ],
             [
              0.1111111111111111,
              "#46039f"
             ],
             [
              0.2222222222222222,
              "#7201a8"
             ],
             [
              0.3333333333333333,
              "#9c179e"
             ],
             [
              0.4444444444444444,
              "#bd3786"
             ],
             [
              0.5555555555555556,
              "#d8576b"
             ],
             [
              0.6666666666666666,
              "#ed7953"
             ],
             [
              0.7777777777777778,
              "#fb9f3a"
             ],
             [
              0.8888888888888888,
              "#fdca26"
             ],
             [
              1,
              "#f0f921"
             ]
            ],
            "type": "heatmapgl"
           }
          ],
          "histogram": [
           {
            "marker": {
             "pattern": {
              "fillmode": "overlay",
              "size": 10,
              "solidity": 0.2
             }
            },
            "type": "histogram"
           }
          ],
          "histogram2d": [
           {
            "colorbar": {
             "outlinewidth": 0,
             "ticks": ""
            },
            "colorscale": [
             [
              0,
              "#0d0887"
             ],
             [
              0.1111111111111111,
              "#46039f"
             ],
             [
              0.2222222222222222,
              "#7201a8"
             ],
             [
              0.3333333333333333,
              "#9c179e"
             ],
             [
              0.4444444444444444,
              "#bd3786"
             ],
             [
              0.5555555555555556,
              "#d8576b"
             ],
             [
              0.6666666666666666,
              "#ed7953"
             ],
             [
              0.7777777777777778,
              "#fb9f3a"
             ],
             [
              0.8888888888888888,
              "#fdca26"
             ],
             [
              1,
              "#f0f921"
             ]
            ],
            "type": "histogram2d"
           }
          ],
          "histogram2dcontour": [
           {
            "colorbar": {
             "outlinewidth": 0,
             "ticks": ""
            },
            "colorscale": [
             [
              0,
              "#0d0887"
             ],
             [
              0.1111111111111111,
              "#46039f"
             ],
             [
              0.2222222222222222,
              "#7201a8"
             ],
             [
              0.3333333333333333,
              "#9c179e"
             ],
             [
              0.4444444444444444,
              "#bd3786"
             ],
             [
              0.5555555555555556,
              "#d8576b"
             ],
             [
              0.6666666666666666,
              "#ed7953"
             ],
             [
              0.7777777777777778,
              "#fb9f3a"
             ],
             [
              0.8888888888888888,
              "#fdca26"
             ],
             [
              1,
              "#f0f921"
             ]
            ],
            "type": "histogram2dcontour"
           }
          ],
          "mesh3d": [
           {
            "colorbar": {
             "outlinewidth": 0,
             "ticks": ""
            },
            "type": "mesh3d"
           }
          ],
          "parcoords": [
           {
            "line": {
             "colorbar": {
              "outlinewidth": 0,
              "ticks": ""
             }
            },
            "type": "parcoords"
           }
          ],
          "pie": [
           {
            "automargin": true,
            "type": "pie"
           }
          ],
          "scatter": [
           {
            "fillpattern": {
             "fillmode": "overlay",
             "size": 10,
             "solidity": 0.2
            },
            "type": "scatter"
           }
          ],
          "scatter3d": [
           {
            "line": {
             "colorbar": {
              "outlinewidth": 0,
              "ticks": ""
             }
            },
            "marker": {
             "colorbar": {
              "outlinewidth": 0,
              "ticks": ""
             }
            },
            "type": "scatter3d"
           }
          ],
          "scattercarpet": [
           {
            "marker": {
             "colorbar": {
              "outlinewidth": 0,
              "ticks": ""
             }
            },
            "type": "scattercarpet"
           }
          ],
          "scattergeo": [
           {
            "marker": {
             "colorbar": {
              "outlinewidth": 0,
              "ticks": ""
             }
            },
            "type": "scattergeo"
           }
          ],
          "scattergl": [
           {
            "marker": {
             "colorbar": {
              "outlinewidth": 0,
              "ticks": ""
             }
            },
            "type": "scattergl"
           }
          ],
          "scattermapbox": [
           {
            "marker": {
             "colorbar": {
              "outlinewidth": 0,
              "ticks": ""
             }
            },
            "type": "scattermapbox"
           }
          ],
          "scatterpolar": [
           {
            "marker": {
             "colorbar": {
              "outlinewidth": 0,
              "ticks": ""
             }
            },
            "type": "scatterpolar"
           }
          ],
          "scatterpolargl": [
           {
            "marker": {
             "colorbar": {
              "outlinewidth": 0,
              "ticks": ""
             }
            },
            "type": "scatterpolargl"
           }
          ],
          "scatterternary": [
           {
            "marker": {
             "colorbar": {
              "outlinewidth": 0,
              "ticks": ""
             }
            },
            "type": "scatterternary"
           }
          ],
          "surface": [
           {
            "colorbar": {
             "outlinewidth": 0,
             "ticks": ""
            },
            "colorscale": [
             [
              0,
              "#0d0887"
             ],
             [
              0.1111111111111111,
              "#46039f"
             ],
             [
              0.2222222222222222,
              "#7201a8"
             ],
             [
              0.3333333333333333,
              "#9c179e"
             ],
             [
              0.4444444444444444,
              "#bd3786"
             ],
             [
              0.5555555555555556,
              "#d8576b"
             ],
             [
              0.6666666666666666,
              "#ed7953"
             ],
             [
              0.7777777777777778,
              "#fb9f3a"
             ],
             [
              0.8888888888888888,
              "#fdca26"
             ],
             [
              1,
              "#f0f921"
             ]
            ],
            "type": "surface"
           }
          ],
          "table": [
           {
            "cells": {
             "fill": {
              "color": "#EBF0F8"
             },
             "line": {
              "color": "white"
             }
            },
            "header": {
             "fill": {
              "color": "#C8D4E3"
             },
             "line": {
              "color": "white"
             }
            },
            "type": "table"
           }
          ]
         },
         "layout": {
          "annotationdefaults": {
           "arrowcolor": "#2a3f5f",
           "arrowhead": 0,
           "arrowwidth": 1
          },
          "autotypenumbers": "strict",
          "coloraxis": {
           "colorbar": {
            "outlinewidth": 0,
            "ticks": ""
           }
          },
          "colorscale": {
           "diverging": [
            [
             0,
             "#8e0152"
            ],
            [
             0.1,
             "#c51b7d"
            ],
            [
             0.2,
             "#de77ae"
            ],
            [
             0.3,
             "#f1b6da"
            ],
            [
             0.4,
             "#fde0ef"
            ],
            [
             0.5,
             "#f7f7f7"
            ],
            [
             0.6,
             "#e6f5d0"
            ],
            [
             0.7,
             "#b8e186"
            ],
            [
             0.8,
             "#7fbc41"
            ],
            [
             0.9,
             "#4d9221"
            ],
            [
             1,
             "#276419"
            ]
           ],
           "sequential": [
            [
             0,
             "#0d0887"
            ],
            [
             0.1111111111111111,
             "#46039f"
            ],
            [
             0.2222222222222222,
             "#7201a8"
            ],
            [
             0.3333333333333333,
             "#9c179e"
            ],
            [
             0.4444444444444444,
             "#bd3786"
            ],
            [
             0.5555555555555556,
             "#d8576b"
            ],
            [
             0.6666666666666666,
             "#ed7953"
            ],
            [
             0.7777777777777778,
             "#fb9f3a"
            ],
            [
             0.8888888888888888,
             "#fdca26"
            ],
            [
             1,
             "#f0f921"
            ]
           ],
           "sequentialminus": [
            [
             0,
             "#0d0887"
            ],
            [
             0.1111111111111111,
             "#46039f"
            ],
            [
             0.2222222222222222,
             "#7201a8"
            ],
            [
             0.3333333333333333,
             "#9c179e"
            ],
            [
             0.4444444444444444,
             "#bd3786"
            ],
            [
             0.5555555555555556,
             "#d8576b"
            ],
            [
             0.6666666666666666,
             "#ed7953"
            ],
            [
             0.7777777777777778,
             "#fb9f3a"
            ],
            [
             0.8888888888888888,
             "#fdca26"
            ],
            [
             1,
             "#f0f921"
            ]
           ]
          },
          "colorway": [
           "#636efa",
           "#EF553B",
           "#00cc96",
           "#ab63fa",
           "#FFA15A",
           "#19d3f3",
           "#FF6692",
           "#B6E880",
           "#FF97FF",
           "#FECB52"
          ],
          "font": {
           "color": "#2a3f5f"
          },
          "geo": {
           "bgcolor": "white",
           "lakecolor": "white",
           "landcolor": "#E5ECF6",
           "showlakes": true,
           "showland": true,
           "subunitcolor": "white"
          },
          "hoverlabel": {
           "align": "left"
          },
          "hovermode": "closest",
          "mapbox": {
           "style": "light"
          },
          "paper_bgcolor": "white",
          "plot_bgcolor": "#E5ECF6",
          "polar": {
           "angularaxis": {
            "gridcolor": "white",
            "linecolor": "white",
            "ticks": ""
           },
           "bgcolor": "#E5ECF6",
           "radialaxis": {
            "gridcolor": "white",
            "linecolor": "white",
            "ticks": ""
           }
          },
          "scene": {
           "xaxis": {
            "backgroundcolor": "#E5ECF6",
            "gridcolor": "white",
            "gridwidth": 2,
            "linecolor": "white",
            "showbackground": true,
            "ticks": "",
            "zerolinecolor": "white"
           },
           "yaxis": {
            "backgroundcolor": "#E5ECF6",
            "gridcolor": "white",
            "gridwidth": 2,
            "linecolor": "white",
            "showbackground": true,
            "ticks": "",
            "zerolinecolor": "white"
           },
           "zaxis": {
            "backgroundcolor": "#E5ECF6",
            "gridcolor": "white",
            "gridwidth": 2,
            "linecolor": "white",
            "showbackground": true,
            "ticks": "",
            "zerolinecolor": "white"
           }
          },
          "shapedefaults": {
           "line": {
            "color": "#2a3f5f"
           }
          },
          "ternary": {
           "aaxis": {
            "gridcolor": "white",
            "linecolor": "white",
            "ticks": ""
           },
           "baxis": {
            "gridcolor": "white",
            "linecolor": "white",
            "ticks": ""
           },
           "bgcolor": "#E5ECF6",
           "caxis": {
            "gridcolor": "white",
            "linecolor": "white",
            "ticks": ""
           }
          },
          "title": {
           "x": 0.05
          },
          "xaxis": {
           "automargin": true,
           "gridcolor": "white",
           "linecolor": "white",
           "ticks": "",
           "title": {
            "standoff": 15
           },
           "zerolinecolor": "white",
           "zerolinewidth": 2
          },
          "yaxis": {
           "automargin": true,
           "gridcolor": "white",
           "linecolor": "white",
           "ticks": "",
           "title": {
            "standoff": 15
           },
           "zerolinecolor": "white",
           "zerolinewidth": 2
          }
         }
        },
        "title": {
         "text": "Face Recognition"
        },
        "xaxis": {
         "anchor": "y",
         "domain": [
          0,
          1
         ],
         "title": {
          "text": "Timeline"
         }
        },
        "yaxis": {
         "anchor": "x",
         "domain": [
          0,
          1
         ],
         "title": {
          "text": "Value"
         }
        }
       }
      }
     },
     "metadata": {},
     "output_type": "display_data"
    }
   ],
   "source": [
    "CHUNKING = 9\n",
    "\n",
    "# User plotly to visualize something\n",
    "\n",
    "import plotly.express as px\n",
    "import pandas as pd\n",
    "\n",
    "# Load all csv files in csv/\n",
    "import glob\n",
    "import os\n",
    "\n",
    "csv_files = glob.glob(\"csv/*.csv\")\n",
    "# Convert all entries to structured data with attribute 0 as frame number, 1 as Face Box, and 5 as Identity\n",
    "# Skip first two lines of each file\n",
    "# Skip rows where Identity is N/A\n",
    "\n",
    "USE_AVERAGE = True\n",
    "\n",
    "USE_GENERAL_NAMES = True\n",
    "USE_GENDER_NAMES = False\n",
    "IGNORE_MINOR_CHARACTERS = True\n",
    "\n",
    "FILM_FRAME_TOTALS = {\n",
    "\t\"Cliff\": 2097,\n",
    "\t\"Our Village\": 2377,\n",
    "\t\"Diary of Nurse\": 2297,\n",
    "\t\"Sabrina\": 2751,\n",
    "\t\"The Man from Laramie\": 2477,\n",
    "\t\"Human Desire\": 2200,\n",
    "\t\"Chikamatsu Story\": 2460,\n",
    "\t\"Black River\": 2552,\n",
    "\t\"Duel in the Sun\": 3207,\n",
    "\t\"Gilda\": 2652,\n",
    "\t\"Jigoku Mon\": 2151,\n",
    "\t\"Kurutta Kajitsu\": 2076,\n",
    "\t\"Notorious\": 2433,\n",
    "\t\"Oklahoma\": 3577,\n",
    "\t\"Vikings\": 2740,\n",
    "\t\"Waves of Life\": 2465\n",
    "}\n",
    "\n",
    "RIVALS = [\"Keming\", \"Professor Yuan\", \"Haoru\", \"David\", \"Vic\", \"Carl\", \"Ishun\", \"Hitokiri Joe\", \"Natsuhisa\", \"Bo Kang\", \"Wataru\", \"Jud\", \"Alex Sebastian\", \"Ballin\", \"Einar\", \"Jesse\"]\n",
    "MALES = [\"Zhanwu\", \"Fan Jun\", \"Changping\", \"Linus\", \"Will\", \"Jeff\", \"Mohei\", \"Nishida\", \"Haruji\", \"Jin Zhang\", \"Moritoo\", \"Curly\", \"Devlin\", \"Johnny\", \"Eric\", \"Lewt\"]\n",
    "LADIES = [\"Shuzhen\", \"Fang Qing\", \"Suhua\", \"Sabrina\", \"Barbara\", \"Vicki\", \"Osan\", \"Shizuko\", \"Eri\", \"Ye Suping\", \"Kesa\", \"Laurey\", \"Alicia\", \"Gilda\", \"Morgana\", \"Pearl\"]\n",
    "\n",
    "PROTAGONISTS = [\"Zhanwu\", \"Fang Qing\", \"Suhua\", \"Sabrina\", \"Will\", \"Jeff\", \"Mohei\", \"Nishida\", \"Haruji\", \"Jin Zhang\", \"Moritoo\", \"Curly\", \"Alicia\", \"Johnny\", \"Eric\", \"Pearl\"]\n",
    "LOVES = [\"Shuzhen\", \"Fan Jun\", \"Changping\", \"Linus\", \"Barbara\", \"Vicki\", \"Osan\", \"Shizuko\", \"Eri\", \"Ye Suping\", \"Kesa\", \"Laurey\", \"Devlin\", \"Gilda\", \"Morgana\", \"Lewt\"]\n",
    "\n",
    "def find_section(range_start, range_end, num_sections, value):\n",
    "    \"\"\"\n",
    "    Given a range [range_start, range_end], this function splits it into\n",
    "    num_sections and returns which section (1-based index) the value falls into.\n",
    "\n",
    "    :param range_start: The start of the range (inclusive).\n",
    "    :param range_end: The end of the range (inclusive).\n",
    "    :param num_sections: Number of sections to divide the range into.\n",
    "    :param value: The value for which we want to determine the section index.\n",
    "    :return: The section index (1-based) where the value fits.\n",
    "    \"\"\"\n",
    "    # Handle edge cases, e.g., if value < range_start or value > range_end\n",
    "    if value <= range_start:\n",
    "        return 1\n",
    "    if value >= range_end:\n",
    "        return num_sections\n",
    "\n",
    "    # Compute the size of each section\n",
    "    section_size = (range_end - range_start) / num_sections\n",
    "\n",
    "    # Determine which section the value falls into using integer division\n",
    "    section_index = int((value - range_start) // section_size) + 1\n",
    "\n",
    "    # Make sure the section index doesn't exceed num_sections\n",
    "    if section_index > num_sections:\n",
    "        section_index = num_sections\n",
    "\n",
    "    return section_index\n",
    "\n",
    "def get_name(name):\n",
    "\tif USE_GENDER_NAMES:\n",
    "\t\tif name in MALES:\n",
    "\t\t\tname = \"Male\"\n",
    "\t\telif name in LADIES:\n",
    "\t\t\tname = \"Female\"\n",
    "\telse:\n",
    "\t\tif name in PROTAGONISTS:\n",
    "\t\t\tname = \"Protagonist\"\n",
    "\t\telif name in LOVES:\n",
    "\t\t\tname = \"Love\"\n",
    "\treturn name\n",
    "\n",
    "data = []\n",
    "chunks = []\n",
    "chunkcounts = []\n",
    "for i in range(CHUNKING + 1):\n",
    "\tchunks.append({})\n",
    "\tchunkcounts.append({})\n",
    "\n",
    "for file in csv_files:\n",
    "\twith open(file) as f:\n",
    "\t\tlines = f.readlines()[2:]\n",
    "\t\tfor line in lines:\n",
    "\t\t\tline = line.split(\",\")\n",
    "\t\t\tif line[5] != \"\\\"N/A\\\"\":\n",
    "\t\t\t\t# Att 3 is frame numbder / film's total frames (the film is the name of the current csv file)\n",
    "\t\t\t\ttotal = FILM_FRAME_TOTALS[os.path.basename(file)[:-4]]\n",
    "\t\t\t\tframe = int(line[0][1:][:-1])\n",
    "\t\t\t\tname = line[5][1:][:-1]\n",
    "\t\t\t\tface_box_text = line[1][1:][:-1][1:][:-1]\n",
    "\t\t\t\tface_box = [float(x) for x in face_box_text.split(\"\\， \")]\n",
    "\t\t\t\tface_box_height = face_box[3]# - face_box[1]\n",
    "\t\t\t\tface_box_width = face_box[2]# - face_box[0]\n",
    "\t\t\t\tif USE_GENERAL_NAMES:\n",
    "\t\t\t\t\tif name in RIVALS:\n",
    "\t\t\t\t\t\tname = \"Rival\"\n",
    "\t\t\t\t\tname = get_name(name)\n",
    "\t\t\t\tif IGNORE_MINOR_CHARACTERS:\n",
    "\t\t\t\t\tif USE_GENERAL_NAMES:\n",
    "\t\t\t\t\t\tif name not in [\"Rival\", \"Protagonist\", \"Female\", \"Male\", \"Love\"]:\n",
    "\t\t\t\t\t\t\tcontinue\n",
    "\t\t\t\t\telse:\n",
    "\t\t\t\t\t\tif name not in RIVALS:\n",
    "\t\t\t\t\t\t\tif name not in PROTAGONISTS:\n",
    "\t\t\t\t\t\t\t\tif name not in LOVES:\n",
    "\t\t\t\t\t\t\t\t\tcontinue\n",
    "\t\t\t\ttime = find_section(0, total, CHUNKING, frame)\n",
    "\t\t\t\t# the chunk array time participant is a dictionary of the participants in that chunk\n",
    "\t\t\t\tif name not in chunks[time]:\n",
    "\t\t\t\t\tchunks[time][name] = 0\n",
    "\t\t\t\t\tchunkcounts[time][name] = 0\n",
    "\t\t\t\tchunks[time][name] += face_box_height * face_box_width\n",
    "\t\t\t\tchunkcounts[time][name] += 1\n",
    "\t\t\t\t#data.append([frame, line[1], name, time])\n",
    "\n",
    "for i in range(CHUNKING + 1):\n",
    "\tfor name in chunks[i]:\n",
    "\t\tif USE_AVERAGE:\n",
    "\t\t\tchunks[i][name] /= chunkcounts[i][name]\n",
    "\t\tdata.append([i, name, chunks[i][name]])\n",
    "\n",
    "df = pd.DataFrame(data, columns=[\"Timeline\", \"Identity\", \"Value\"])\n",
    "df[\"Identity\"] = df[\"Identity\"].astype(str)\n",
    "df[\"Identity\"] = df[\"Identity\"].apply(lambda x: x.split(\" \")[0])\n",
    "\n",
    "# Create a scatter plot of the data\n",
    "fig = px.line(df, x=\"Timeline\", y=\"Value\", color=\"Identity\", title=\"Face Recognition\")\n",
    "fig.show()"
   ]
  },
  {
   "cell_type": "markdown",
   "metadata": {},
   "source": [
    "### ACTION UNITS\n",
    "[DEPRECATED]"
   ]
  },
  {
   "cell_type": "code",
   "execution_count": 6,
   "metadata": {},
   "outputs": [
    {
     "data": {
      "application/vnd.plotly.v1+json": {
       "config": {
        "plotlyServerURL": "https://plot.ly"
       },
       "data": [
        {
         "customdata": [
          [
           "Human Desire"
          ],
          [
           "Human Desire"
          ],
          [
           "Human Desire"
          ],
          [
           "Human Desire"
          ],
          [
           "Human Desire"
          ],
          [
           "Human Desire"
          ],
          [
           "Human Desire"
          ],
          [
           "Human Desire"
          ],
          [
           "Human Desire"
          ],
          [
           "Human Desire"
          ],
          [
           "Human Desire"
          ],
          [
           "Human Desire"
          ],
          [
           "Human Desire"
          ],
          [
           "Human Desire"
          ],
          [
           "Human Desire"
          ],
          [
           "Human Desire"
          ],
          [
           "Human Desire"
          ],
          [
           "Human Desire"
          ],
          [
           "Human Desire"
          ],
          [
           "Human Desire"
          ],
          [
           "Human Desire"
          ],
          [
           "Human Desire"
          ],
          [
           "Human Desire"
          ],
          [
           "Human Desire"
          ],
          [
           "Human Desire"
          ],
          [
           "Human Desire"
          ],
          [
           "Human Desire"
          ],
          [
           "Human Desire"
          ],
          [
           "Human Desire"
          ],
          [
           "Human Desire"
          ],
          [
           "Human Desire"
          ],
          [
           "Human Desire"
          ],
          [
           "Human Desire"
          ],
          [
           "Human Desire"
          ],
          [
           "Human Desire"
          ],
          [
           "Human Desire"
          ],
          [
           "Human Desire"
          ],
          [
           "Human Desire"
          ],
          [
           "Human Desire"
          ],
          [
           "Human Desire"
          ],
          [
           "Human Desire"
          ],
          [
           "Human Desire"
          ],
          [
           "Human Desire"
          ],
          [
           "Human Desire"
          ],
          [
           "Human Desire"
          ],
          [
           "Human Desire"
          ],
          [
           "Human Desire"
          ],
          [
           "Human Desire"
          ],
          [
           "Human Desire"
          ],
          [
           "Human Desire"
          ],
          [
           "Human Desire"
          ],
          [
           "Human Desire"
          ],
          [
           "Human Desire"
          ],
          [
           "Human Desire"
          ],
          [
           "Human Desire"
          ],
          [
           "Human Desire"
          ],
          [
           "Human Desire"
          ],
          [
           "Human Desire"
          ],
          [
           "Human Desire"
          ],
          [
           "Human Desire"
          ],
          [
           "Human Desire"
          ],
          [
           "Human Desire"
          ],
          [
           "Human Desire"
          ],
          [
           "Human Desire"
          ],
          [
           "Human Desire"
          ],
          [
           "Human Desire"
          ],
          [
           "Human Desire"
          ],
          [
           "Human Desire"
          ],
          [
           "Human Desire"
          ],
          [
           "Human Desire"
          ],
          [
           "Human Desire"
          ],
          [
           "Human Desire"
          ],
          [
           "Human Desire"
          ],
          [
           "Human Desire"
          ],
          [
           "Human Desire"
          ],
          [
           "Human Desire"
          ],
          [
           "Human Desire"
          ],
          [
           "Human Desire"
          ],
          [
           "Human Desire"
          ],
          [
           "Human Desire"
          ],
          [
           "Human Desire"
          ],
          [
           "Human Desire"
          ],
          [
           "Human Desire"
          ],
          [
           "Human Desire"
          ],
          [
           "Human Desire"
          ],
          [
           "Human Desire"
          ],
          [
           "Human Desire"
          ],
          [
           "Human Desire"
          ],
          [
           "Human Desire"
          ],
          [
           "Human Desire"
          ],
          [
           "Human Desire"
          ],
          [
           "Human Desire"
          ],
          [
           "Human Desire"
          ],
          [
           "Human Desire"
          ],
          [
           "Human Desire"
          ],
          [
           "Human Desire"
          ],
          [
           "Human Desire"
          ],
          [
           "Human Desire"
          ],
          [
           "Human Desire"
          ],
          [
           "Human Desire"
          ],
          [
           "Human Desire"
          ],
          [
           "Human Desire"
          ],
          [
           "Human Desire"
          ],
          [
           "Human Desire"
          ],
          [
           "Human Desire"
          ],
          [
           "Human Desire"
          ],
          [
           "Human Desire"
          ],
          [
           "Human Desire"
          ],
          [
           "Human Desire"
          ],
          [
           "Human Desire"
          ],
          [
           "Human Desire"
          ],
          [
           "Human Desire"
          ],
          [
           "Human Desire"
          ],
          [
           "Human Desire"
          ],
          [
           "Human Desire"
          ],
          [
           "Human Desire"
          ],
          [
           "Human Desire"
          ],
          [
           "Human Desire"
          ],
          [
           "Human Desire"
          ],
          [
           "Human Desire"
          ],
          [
           "Human Desire"
          ],
          [
           "Human Desire"
          ],
          [
           "Human Desire"
          ],
          [
           "Human Desire"
          ],
          [
           "Human Desire"
          ],
          [
           "Human Desire"
          ],
          [
           "Human Desire"
          ],
          [
           "Human Desire"
          ],
          [
           "Human Desire"
          ],
          [
           "Human Desire"
          ],
          [
           "Human Desire"
          ],
          [
           "Human Desire"
          ],
          [
           "Human Desire"
          ],
          [
           "Human Desire"
          ],
          [
           "Human Desire"
          ],
          [
           "Human Desire"
          ],
          [
           "Human Desire"
          ],
          [
           "Human Desire"
          ],
          [
           "Human Desire"
          ],
          [
           "Human Desire"
          ],
          [
           "Human Desire"
          ],
          [
           "Human Desire"
          ],
          [
           "Human Desire"
          ],
          [
           "Human Desire"
          ],
          [
           "Human Desire"
          ],
          [
           "Human Desire"
          ],
          [
           "Human Desire"
          ],
          [
           "Human Desire"
          ],
          [
           "Human Desire"
          ],
          [
           "Human Desire"
          ],
          [
           "Human Desire"
          ],
          [
           "Human Desire"
          ],
          [
           "Human Desire"
          ],
          [
           "Human Desire"
          ],
          [
           "Human Desire"
          ],
          [
           "Human Desire"
          ],
          [
           "Human Desire"
          ],
          [
           "Human Desire"
          ],
          [
           "Human Desire"
          ],
          [
           "Human Desire"
          ],
          [
           "Human Desire"
          ],
          [
           "Human Desire"
          ],
          [
           "Human Desire"
          ],
          [
           "Human Desire"
          ],
          [
           "Human Desire"
          ],
          [
           "Human Desire"
          ],
          [
           "Human Desire"
          ],
          [
           "Human Desire"
          ],
          [
           "Human Desire"
          ],
          [
           "Human Desire"
          ],
          [
           "Human Desire"
          ],
          [
           "Human Desire"
          ],
          [
           "Human Desire"
          ],
          [
           "Human Desire"
          ],
          [
           "Human Desire"
          ],
          [
           "Human Desire"
          ],
          [
           "Human Desire"
          ],
          [
           "Human Desire"
          ],
          [
           "Human Desire"
          ],
          [
           "Human Desire"
          ],
          [
           "Human Desire"
          ],
          [
           "Human Desire"
          ],
          [
           "Human Desire"
          ],
          [
           "Human Desire"
          ],
          [
           "Human Desire"
          ],
          [
           "Human Desire"
          ],
          [
           "Human Desire"
          ],
          [
           "Human Desire"
          ],
          [
           "Human Desire"
          ],
          [
           "Human Desire"
          ],
          [
           "Human Desire"
          ],
          [
           "Human Desire"
          ],
          [
           "Human Desire"
          ],
          [
           "Human Desire"
          ],
          [
           "Human Desire"
          ],
          [
           "Human Desire"
          ],
          [
           "Human Desire"
          ],
          [
           "Human Desire"
          ],
          [
           "Human Desire"
          ],
          [
           "Human Desire"
          ],
          [
           "Human Desire"
          ],
          [
           "Human Desire"
          ],
          [
           "Human Desire"
          ],
          [
           "Human Desire"
          ],
          [
           "Human Desire"
          ],
          [
           "Human Desire"
          ],
          [
           "Human Desire"
          ],
          [
           "Human Desire"
          ],
          [
           "Our Village"
          ],
          [
           "Our Village"
          ],
          [
           "Our Village"
          ],
          [
           "Our Village"
          ],
          [
           "Our Village"
          ],
          [
           "Our Village"
          ],
          [
           "Our Village"
          ],
          [
           "Our Village"
          ],
          [
           "Our Village"
          ],
          [
           "Our Village"
          ],
          [
           "Our Village"
          ],
          [
           "Our Village"
          ],
          [
           "Our Village"
          ],
          [
           "Our Village"
          ],
          [
           "Our Village"
          ],
          [
           "Our Village"
          ],
          [
           "Our Village"
          ],
          [
           "Our Village"
          ],
          [
           "Our Village"
          ],
          [
           "Our Village"
          ],
          [
           "Our Village"
          ],
          [
           "Our Village"
          ],
          [
           "Our Village"
          ],
          [
           "Our Village"
          ],
          [
           "Our Village"
          ],
          [
           "Our Village"
          ],
          [
           "Our Village"
          ],
          [
           "Our Village"
          ],
          [
           "Our Village"
          ],
          [
           "Our Village"
          ],
          [
           "Our Village"
          ],
          [
           "Our Village"
          ],
          [
           "Our Village"
          ],
          [
           "Our Village"
          ],
          [
           "Our Village"
          ],
          [
           "Our Village"
          ],
          [
           "Our Village"
          ],
          [
           "Our Village"
          ],
          [
           "Our Village"
          ],
          [
           "Our Village"
          ],
          [
           "Our Village"
          ],
          [
           "Our Village"
          ],
          [
           "Our Village"
          ],
          [
           "Our Village"
          ],
          [
           "Our Village"
          ],
          [
           "Our Village"
          ],
          [
           "Our Village"
          ],
          [
           "Our Village"
          ],
          [
           "Our Village"
          ],
          [
           "Our Village"
          ],
          [
           "Our Village"
          ],
          [
           "Our Village"
          ],
          [
           "Our Village"
          ],
          [
           "Our Village"
          ],
          [
           "Our Village"
          ],
          [
           "Our Village"
          ],
          [
           "Our Village"
          ],
          [
           "Our Village"
          ],
          [
           "Our Village"
          ],
          [
           "Our Village"
          ],
          [
           "Our Village"
          ],
          [
           "Our Village"
          ],
          [
           "Our Village"
          ],
          [
           "Our Village"
          ],
          [
           "Our Village"
          ],
          [
           "Our Village"
          ],
          [
           "Our Village"
          ],
          [
           "Our Village"
          ],
          [
           "Our Village"
          ],
          [
           "Our Village"
          ],
          [
           "Our Village"
          ],
          [
           "Our Village"
          ],
          [
           "Our Village"
          ],
          [
           "Our Village"
          ],
          [
           "Our Village"
          ],
          [
           "Our Village"
          ],
          [
           "Our Village"
          ],
          [
           "Our Village"
          ],
          [
           "Our Village"
          ],
          [
           "Our Village"
          ],
          [
           "Our Village"
          ],
          [
           "Our Village"
          ],
          [
           "Our Village"
          ],
          [
           "Our Village"
          ],
          [
           "Our Village"
          ],
          [
           "Our Village"
          ],
          [
           "Our Village"
          ],
          [
           "Our Village"
          ],
          [
           "Our Village"
          ],
          [
           "Our Village"
          ],
          [
           "Our Village"
          ],
          [
           "Our Village"
          ],
          [
           "Our Village"
          ],
          [
           "Our Village"
          ],
          [
           "Our Village"
          ],
          [
           "Our Village"
          ],
          [
           "Our Village"
          ],
          [
           "Our Village"
          ],
          [
           "Our Village"
          ],
          [
           "Our Village"
          ],
          [
           "Our Village"
          ],
          [
           "Our Village"
          ],
          [
           "Our Village"
          ],
          [
           "Our Village"
          ],
          [
           "Our Village"
          ],
          [
           "Our Village"
          ],
          [
           "Our Village"
          ],
          [
           "Our Village"
          ],
          [
           "Our Village"
          ],
          [
           "Our Village"
          ],
          [
           "Our Village"
          ],
          [
           "Our Village"
          ],
          [
           "Our Village"
          ],
          [
           "Our Village"
          ],
          [
           "Our Village"
          ],
          [
           "Our Village"
          ],
          [
           "Our Village"
          ],
          [
           "Our Village"
          ],
          [
           "Our Village"
          ],
          [
           "Our Village"
          ],
          [
           "Our Village"
          ],
          [
           "Our Village"
          ],
          [
           "Our Village"
          ],
          [
           "Our Village"
          ],
          [
           "Our Village"
          ],
          [
           "Our Village"
          ],
          [
           "Cliff"
          ],
          [
           "Cliff"
          ],
          [
           "Cliff"
          ],
          [
           "Cliff"
          ],
          [
           "Cliff"
          ],
          [
           "Cliff"
          ],
          [
           "Cliff"
          ],
          [
           "Cliff"
          ],
          [
           "Cliff"
          ],
          [
           "Cliff"
          ],
          [
           "Cliff"
          ],
          [
           "Cliff"
          ],
          [
           "Cliff"
          ],
          [
           "Cliff"
          ],
          [
           "Cliff"
          ],
          [
           "Cliff"
          ],
          [
           "Cliff"
          ],
          [
           "Cliff"
          ],
          [
           "Cliff"
          ],
          [
           "Cliff"
          ],
          [
           "Cliff"
          ],
          [
           "Cliff"
          ],
          [
           "Cliff"
          ],
          [
           "Cliff"
          ],
          [
           "Cliff"
          ],
          [
           "Cliff"
          ],
          [
           "Cliff"
          ],
          [
           "Cliff"
          ],
          [
           "Cliff"
          ],
          [
           "Cliff"
          ],
          [
           "Cliff"
          ],
          [
           "Cliff"
          ],
          [
           "Cliff"
          ],
          [
           "Cliff"
          ],
          [
           "Cliff"
          ],
          [
           "Cliff"
          ],
          [
           "Cliff"
          ],
          [
           "Cliff"
          ],
          [
           "Cliff"
          ],
          [
           "Cliff"
          ],
          [
           "Cliff"
          ],
          [
           "Cliff"
          ],
          [
           "Cliff"
          ],
          [
           "Cliff"
          ],
          [
           "Cliff"
          ],
          [
           "Cliff"
          ],
          [
           "Cliff"
          ],
          [
           "Cliff"
          ],
          [
           "Cliff"
          ],
          [
           "Cliff"
          ],
          [
           "Cliff"
          ],
          [
           "Cliff"
          ],
          [
           "Cliff"
          ],
          [
           "Cliff"
          ],
          [
           "Cliff"
          ],
          [
           "Cliff"
          ],
          [
           "Cliff"
          ],
          [
           "Cliff"
          ],
          [
           "Cliff"
          ],
          [
           "Cliff"
          ],
          [
           "Cliff"
          ],
          [
           "Cliff"
          ],
          [
           "Cliff"
          ],
          [
           "Cliff"
          ],
          [
           "Cliff"
          ],
          [
           "Cliff"
          ],
          [
           "Cliff"
          ],
          [
           "Cliff"
          ],
          [
           "Cliff"
          ],
          [
           "Cliff"
          ],
          [
           "Cliff"
          ],
          [
           "Cliff"
          ],
          [
           "Cliff"
          ],
          [
           "Cliff"
          ],
          [
           "Cliff"
          ],
          [
           "Diary of Nurse"
          ],
          [
           "Diary of Nurse"
          ],
          [
           "Diary of Nurse"
          ],
          [
           "Diary of Nurse"
          ],
          [
           "Diary of Nurse"
          ],
          [
           "Diary of Nurse"
          ],
          [
           "Diary of Nurse"
          ],
          [
           "Diary of Nurse"
          ],
          [
           "Diary of Nurse"
          ],
          [
           "Diary of Nurse"
          ],
          [
           "Diary of Nurse"
          ],
          [
           "Diary of Nurse"
          ],
          [
           "Diary of Nurse"
          ],
          [
           "Diary of Nurse"
          ],
          [
           "Diary of Nurse"
          ],
          [
           "Diary of Nurse"
          ],
          [
           "Diary of Nurse"
          ],
          [
           "Diary of Nurse"
          ],
          [
           "Diary of Nurse"
          ],
          [
           "Diary of Nurse"
          ],
          [
           "Diary of Nurse"
          ],
          [
           "Diary of Nurse"
          ],
          [
           "Diary of Nurse"
          ],
          [
           "Diary of Nurse"
          ],
          [
           "Diary of Nurse"
          ],
          [
           "Diary of Nurse"
          ],
          [
           "Diary of Nurse"
          ],
          [
           "Diary of Nurse"
          ],
          [
           "Diary of Nurse"
          ],
          [
           "Diary of Nurse"
          ],
          [
           "Diary of Nurse"
          ],
          [
           "Diary of Nurse"
          ],
          [
           "Diary of Nurse"
          ],
          [
           "Diary of Nurse"
          ],
          [
           "Diary of Nurse"
          ],
          [
           "Diary of Nurse"
          ],
          [
           "Diary of Nurse"
          ],
          [
           "Diary of Nurse"
          ],
          [
           "Diary of Nurse"
          ],
          [
           "Diary of Nurse"
          ],
          [
           "Diary of Nurse"
          ],
          [
           "Diary of Nurse"
          ],
          [
           "Diary of Nurse"
          ],
          [
           "Diary of Nurse"
          ],
          [
           "Diary of Nurse"
          ],
          [
           "The Man from Laramie"
          ],
          [
           "The Man from Laramie"
          ],
          [
           "The Man from Laramie"
          ],
          [
           "The Man from Laramie"
          ],
          [
           "The Man from Laramie"
          ],
          [
           "The Man from Laramie"
          ],
          [
           "The Man from Laramie"
          ],
          [
           "The Man from Laramie"
          ],
          [
           "The Man from Laramie"
          ],
          [
           "The Man from Laramie"
          ],
          [
           "The Man from Laramie"
          ],
          [
           "The Man from Laramie"
          ],
          [
           "The Man from Laramie"
          ],
          [
           "The Man from Laramie"
          ],
          [
           "The Man from Laramie"
          ],
          [
           "The Man from Laramie"
          ],
          [
           "The Man from Laramie"
          ],
          [
           "The Man from Laramie"
          ],
          [
           "The Man from Laramie"
          ],
          [
           "The Man from Laramie"
          ],
          [
           "The Man from Laramie"
          ],
          [
           "The Man from Laramie"
          ],
          [
           "The Man from Laramie"
          ],
          [
           "The Man from Laramie"
          ],
          [
           "The Man from Laramie"
          ],
          [
           "The Man from Laramie"
          ],
          [
           "The Man from Laramie"
          ],
          [
           "The Man from Laramie"
          ],
          [
           "The Man from Laramie"
          ],
          [
           "The Man from Laramie"
          ],
          [
           "The Man from Laramie"
          ],
          [
           "The Man from Laramie"
          ],
          [
           "The Man from Laramie"
          ],
          [
           "The Man from Laramie"
          ],
          [
           "The Man from Laramie"
          ],
          [
           "The Man from Laramie"
          ],
          [
           "The Man from Laramie"
          ],
          [
           "The Man from Laramie"
          ],
          [
           "The Man from Laramie"
          ],
          [
           "The Man from Laramie"
          ],
          [
           "The Man from Laramie"
          ],
          [
           "The Man from Laramie"
          ],
          [
           "The Man from Laramie"
          ],
          [
           "The Man from Laramie"
          ],
          [
           "The Man from Laramie"
          ],
          [
           "The Man from Laramie"
          ],
          [
           "The Man from Laramie"
          ],
          [
           "The Man from Laramie"
          ],
          [
           "The Man from Laramie"
          ],
          [
           "The Man from Laramie"
          ],
          [
           "The Man from Laramie"
          ],
          [
           "The Man from Laramie"
          ],
          [
           "The Man from Laramie"
          ],
          [
           "The Man from Laramie"
          ],
          [
           "The Man from Laramie"
          ],
          [
           "The Man from Laramie"
          ],
          [
           "The Man from Laramie"
          ],
          [
           "The Man from Laramie"
          ],
          [
           "The Man from Laramie"
          ],
          [
           "The Man from Laramie"
          ],
          [
           "The Man from Laramie"
          ],
          [
           "The Man from Laramie"
          ],
          [
           "The Man from Laramie"
          ],
          [
           "The Man from Laramie"
          ],
          [
           "The Man from Laramie"
          ],
          [
           "The Man from Laramie"
          ],
          [
           "The Man from Laramie"
          ],
          [
           "The Man from Laramie"
          ],
          [
           "The Man from Laramie"
          ],
          [
           "The Man from Laramie"
          ],
          [
           "The Man from Laramie"
          ],
          [
           "The Man from Laramie"
          ],
          [
           "The Man from Laramie"
          ],
          [
           "The Man from Laramie"
          ],
          [
           "The Man from Laramie"
          ],
          [
           "The Man from Laramie"
          ],
          [
           "The Man from Laramie"
          ],
          [
           "The Man from Laramie"
          ],
          [
           "The Man from Laramie"
          ],
          [
           "The Man from Laramie"
          ],
          [
           "The Man from Laramie"
          ],
          [
           "The Man from Laramie"
          ],
          [
           "The Man from Laramie"
          ],
          [
           "The Man from Laramie"
          ],
          [
           "The Man from Laramie"
          ],
          [
           "The Man from Laramie"
          ],
          [
           "The Man from Laramie"
          ],
          [
           "The Man from Laramie"
          ],
          [
           "The Man from Laramie"
          ],
          [
           "The Man from Laramie"
          ],
          [
           "The Man from Laramie"
          ],
          [
           "The Man from Laramie"
          ],
          [
           "The Man from Laramie"
          ],
          [
           "The Man from Laramie"
          ],
          [
           "The Man from Laramie"
          ],
          [
           "The Man from Laramie"
          ],
          [
           "The Man from Laramie"
          ],
          [
           "The Man from Laramie"
          ],
          [
           "The Man from Laramie"
          ],
          [
           "The Man from Laramie"
          ],
          [
           "The Man from Laramie"
          ],
          [
           "The Man from Laramie"
          ],
          [
           "The Man from Laramie"
          ],
          [
           "The Man from Laramie"
          ],
          [
           "The Man from Laramie"
          ],
          [
           "The Man from Laramie"
          ],
          [
           "The Man from Laramie"
          ],
          [
           "The Man from Laramie"
          ],
          [
           "The Man from Laramie"
          ],
          [
           "The Man from Laramie"
          ],
          [
           "The Man from Laramie"
          ],
          [
           "The Man from Laramie"
          ],
          [
           "The Man from Laramie"
          ],
          [
           "The Man from Laramie"
          ],
          [
           "The Man from Laramie"
          ],
          [
           "The Man from Laramie"
          ],
          [
           "The Man from Laramie"
          ],
          [
           "The Man from Laramie"
          ],
          [
           "The Man from Laramie"
          ],
          [
           "The Man from Laramie"
          ],
          [
           "The Man from Laramie"
          ],
          [
           "The Man from Laramie"
          ],
          [
           "The Man from Laramie"
          ],
          [
           "The Man from Laramie"
          ],
          [
           "The Man from Laramie"
          ],
          [
           "The Man from Laramie"
          ],
          [
           "The Man from Laramie"
          ],
          [
           "The Man from Laramie"
          ],
          [
           "The Man from Laramie"
          ],
          [
           "The Man from Laramie"
          ],
          [
           "The Man from Laramie"
          ],
          [
           "The Man from Laramie"
          ],
          [
           "The Man from Laramie"
          ],
          [
           "The Man from Laramie"
          ],
          [
           "The Man from Laramie"
          ],
          [
           "The Man from Laramie"
          ],
          [
           "The Man from Laramie"
          ],
          [
           "The Man from Laramie"
          ],
          [
           "The Man from Laramie"
          ],
          [
           "The Man from Laramie"
          ],
          [
           "The Man from Laramie"
          ],
          [
           "The Man from Laramie"
          ],
          [
           "The Man from Laramie"
          ],
          [
           "The Man from Laramie"
          ],
          [
           "The Man from Laramie"
          ],
          [
           "The Man from Laramie"
          ],
          [
           "The Man from Laramie"
          ],
          [
           "The Man from Laramie"
          ],
          [
           "The Man from Laramie"
          ],
          [
           "The Man from Laramie"
          ],
          [
           "The Man from Laramie"
          ],
          [
           "The Man from Laramie"
          ],
          [
           "The Man from Laramie"
          ],
          [
           "The Man from Laramie"
          ],
          [
           "The Man from Laramie"
          ],
          [
           "The Man from Laramie"
          ],
          [
           "The Man from Laramie"
          ],
          [
           "The Man from Laramie"
          ],
          [
           "The Man from Laramie"
          ],
          [
           "The Man from Laramie"
          ],
          [
           "The Man from Laramie"
          ],
          [
           "The Man from Laramie"
          ],
          [
           "The Man from Laramie"
          ],
          [
           "The Man from Laramie"
          ],
          [
           "The Man from Laramie"
          ],
          [
           "The Man from Laramie"
          ],
          [
           "The Man from Laramie"
          ],
          [
           "The Man from Laramie"
          ],
          [
           "The Man from Laramie"
          ],
          [
           "The Man from Laramie"
          ],
          [
           "The Man from Laramie"
          ],
          [
           "The Man from Laramie"
          ],
          [
           "The Man from Laramie"
          ],
          [
           "The Man from Laramie"
          ],
          [
           "The Man from Laramie"
          ],
          [
           "The Man from Laramie"
          ],
          [
           "The Man from Laramie"
          ],
          [
           "The Man from Laramie"
          ],
          [
           "The Man from Laramie"
          ],
          [
           "The Man from Laramie"
          ],
          [
           "The Man from Laramie"
          ],
          [
           "The Man from Laramie"
          ],
          [
           "The Man from Laramie"
          ],
          [
           "Sabrina"
          ],
          [
           "Sabrina"
          ],
          [
           "Sabrina"
          ],
          [
           "Sabrina"
          ],
          [
           "Sabrina"
          ],
          [
           "Sabrina"
          ],
          [
           "Sabrina"
          ],
          [
           "Sabrina"
          ],
          [
           "Sabrina"
          ],
          [
           "Sabrina"
          ],
          [
           "Sabrina"
          ],
          [
           "Sabrina"
          ],
          [
           "Sabrina"
          ],
          [
           "Sabrina"
          ],
          [
           "Sabrina"
          ],
          [
           "Sabrina"
          ],
          [
           "Sabrina"
          ],
          [
           "Sabrina"
          ],
          [
           "Sabrina"
          ],
          [
           "Sabrina"
          ],
          [
           "Sabrina"
          ],
          [
           "Sabrina"
          ],
          [
           "Sabrina"
          ],
          [
           "Sabrina"
          ],
          [
           "Sabrina"
          ],
          [
           "Sabrina"
          ],
          [
           "Sabrina"
          ],
          [
           "Sabrina"
          ],
          [
           "Sabrina"
          ],
          [
           "Sabrina"
          ],
          [
           "Sabrina"
          ],
          [
           "Sabrina"
          ],
          [
           "Sabrina"
          ],
          [
           "Sabrina"
          ],
          [
           "Sabrina"
          ],
          [
           "Sabrina"
          ],
          [
           "Sabrina"
          ],
          [
           "Sabrina"
          ],
          [
           "Sabrina"
          ],
          [
           "Sabrina"
          ],
          [
           "Sabrina"
          ],
          [
           "Sabrina"
          ],
          [
           "Sabrina"
          ],
          [
           "Sabrina"
          ],
          [
           "Sabrina"
          ],
          [
           "Sabrina"
          ],
          [
           "Sabrina"
          ],
          [
           "Sabrina"
          ],
          [
           "Sabrina"
          ],
          [
           "Sabrina"
          ],
          [
           "Sabrina"
          ],
          [
           "Sabrina"
          ],
          [
           "Sabrina"
          ],
          [
           "Sabrina"
          ],
          [
           "Sabrina"
          ],
          [
           "Sabrina"
          ],
          [
           "Sabrina"
          ],
          [
           "Sabrina"
          ],
          [
           "Sabrina"
          ],
          [
           "Sabrina"
          ],
          [
           "Sabrina"
          ],
          [
           "Sabrina"
          ],
          [
           "Sabrina"
          ],
          [
           "Sabrina"
          ],
          [
           "Sabrina"
          ],
          [
           "Sabrina"
          ],
          [
           "Sabrina"
          ],
          [
           "Sabrina"
          ],
          [
           "Sabrina"
          ],
          [
           "Sabrina"
          ],
          [
           "Sabrina"
          ],
          [
           "Sabrina"
          ],
          [
           "Sabrina"
          ],
          [
           "Sabrina"
          ],
          [
           "Sabrina"
          ],
          [
           "Sabrina"
          ],
          [
           "Sabrina"
          ],
          [
           "Sabrina"
          ],
          [
           "Sabrina"
          ],
          [
           "Sabrina"
          ],
          [
           "Sabrina"
          ],
          [
           "Sabrina"
          ],
          [
           "Sabrina"
          ],
          [
           "Sabrina"
          ],
          [
           "Sabrina"
          ],
          [
           "Sabrina"
          ],
          [
           "Sabrina"
          ],
          [
           "Sabrina"
          ],
          [
           "Sabrina"
          ],
          [
           "Sabrina"
          ],
          [
           "Sabrina"
          ],
          [
           "Sabrina"
          ],
          [
           "Sabrina"
          ],
          [
           "Sabrina"
          ],
          [
           "Sabrina"
          ],
          [
           "Sabrina"
          ],
          [
           "Sabrina"
          ],
          [
           "Sabrina"
          ],
          [
           "Sabrina"
          ],
          [
           "Sabrina"
          ],
          [
           "Sabrina"
          ],
          [
           "Sabrina"
          ],
          [
           "Sabrina"
          ],
          [
           "Sabrina"
          ],
          [
           "Sabrina"
          ],
          [
           "Sabrina"
          ],
          [
           "Sabrina"
          ],
          [
           "Sabrina"
          ],
          [
           "Sabrina"
          ],
          [
           "Sabrina"
          ],
          [
           "Sabrina"
          ],
          [
           "Sabrina"
          ],
          [
           "Sabrina"
          ],
          [
           "Sabrina"
          ],
          [
           "Sabrina"
          ],
          [
           "Sabrina"
          ],
          [
           "Sabrina"
          ],
          [
           "Sabrina"
          ],
          [
           "Sabrina"
          ],
          [
           "Sabrina"
          ],
          [
           "Sabrina"
          ],
          [
           "Sabrina"
          ],
          [
           "Sabrina"
          ],
          [
           "Sabrina"
          ],
          [
           "Sabrina"
          ],
          [
           "Sabrina"
          ],
          [
           "Sabrina"
          ],
          [
           "Sabrina"
          ],
          [
           "Sabrina"
          ],
          [
           "Sabrina"
          ],
          [
           "Sabrina"
          ],
          [
           "Sabrina"
          ],
          [
           "Sabrina"
          ],
          [
           "Sabrina"
          ],
          [
           "Sabrina"
          ],
          [
           "Sabrina"
          ],
          [
           "Sabrina"
          ],
          [
           "Sabrina"
          ],
          [
           "Sabrina"
          ],
          [
           "Sabrina"
          ],
          [
           "Sabrina"
          ],
          [
           "Sabrina"
          ],
          [
           "Sabrina"
          ],
          [
           "Sabrina"
          ],
          [
           "Sabrina"
          ],
          [
           "Sabrina"
          ],
          [
           "Sabrina"
          ],
          [
           "Sabrina"
          ],
          [
           "Sabrina"
          ],
          [
           "Sabrina"
          ],
          [
           "Sabrina"
          ],
          [
           "Sabrina"
          ],
          [
           "Sabrina"
          ],
          [
           "Sabrina"
          ],
          [
           "Sabrina"
          ],
          [
           "Sabrina"
          ],
          [
           "Sabrina"
          ],
          [
           "Sabrina"
          ],
          [
           "Sabrina"
          ],
          [
           "Sabrina"
          ],
          [
           "Sabrina"
          ],
          [
           "Sabrina"
          ],
          [
           "Sabrina"
          ],
          [
           "Sabrina"
          ],
          [
           "Sabrina"
          ],
          [
           "Sabrina"
          ],
          [
           "Sabrina"
          ],
          [
           "Sabrina"
          ],
          [
           "Sabrina"
          ],
          [
           "Sabrina"
          ],
          [
           "Sabrina"
          ],
          [
           "Sabrina"
          ],
          [
           "Sabrina"
          ],
          [
           "Sabrina"
          ],
          [
           "Sabrina"
          ],
          [
           "Sabrina"
          ],
          [
           "Sabrina"
          ],
          [
           "Sabrina"
          ],
          [
           "Sabrina"
          ],
          [
           "Sabrina"
          ],
          [
           "Sabrina"
          ],
          [
           "Sabrina"
          ],
          [
           "Sabrina"
          ],
          [
           "Sabrina"
          ],
          [
           "Sabrina"
          ],
          [
           "Sabrina"
          ],
          [
           "Sabrina"
          ],
          [
           "Sabrina"
          ],
          [
           "Sabrina"
          ],
          [
           "Sabrina"
          ],
          [
           "Sabrina"
          ],
          [
           "Sabrina"
          ],
          [
           "Sabrina"
          ],
          [
           "Sabrina"
          ],
          [
           "Sabrina"
          ],
          [
           "Sabrina"
          ],
          [
           "Sabrina"
          ],
          [
           "Sabrina"
          ],
          [
           "Sabrina"
          ],
          [
           "Sabrina"
          ],
          [
           "Sabrina"
          ],
          [
           "Sabrina"
          ],
          [
           "Sabrina"
          ],
          [
           "Sabrina"
          ],
          [
           "Sabrina"
          ],
          [
           "Sabrina"
          ],
          [
           "Sabrina"
          ],
          [
           "Sabrina"
          ],
          [
           "Sabrina"
          ],
          [
           "Sabrina"
          ],
          [
           "Sabrina"
          ],
          [
           "Sabrina"
          ],
          [
           "Sabrina"
          ],
          [
           "Sabrina"
          ],
          [
           "Sabrina"
          ],
          [
           "Sabrina"
          ],
          [
           "Sabrina"
          ],
          [
           "Sabrina"
          ],
          [
           "Sabrina"
          ],
          [
           "Sabrina"
          ],
          [
           "Sabrina"
          ],
          [
           "Sabrina"
          ],
          [
           "Sabrina"
          ],
          [
           "Sabrina"
          ],
          [
           "Sabrina"
          ]
         ],
         "hovertemplate": "Identity=Male<br>Timeline=%{x}<br>Face Box=%{y}<br>Film=%{customdata[0]}<extra></extra>",
         "legendgroup": "Male",
         "marker": {
          "color": "#636efa",
          "symbol": "circle"
         },
         "mode": "markers",
         "name": "Male",
         "showlegend": true,
         "type": "scattergl",
         "x": [
          0.4572727272727273,
          0.4577272727272727,
          0.4586363636363636,
          0.4590909090909091,
          0.45954545454545453,
          0.46045454545454545,
          0.465,
          0.46545454545454545,
          0.4659090909090909,
          0.46636363636363637,
          0.4668181818181818,
          0.46954545454545454,
          0.4713636363636364,
          0.4718181818181818,
          0.4722727272727273,
          0.4731818181818182,
          0.47363636363636363,
          0.4740909090909091,
          0.475,
          0.4759090909090909,
          0.4763636363636364,
          0.4768181818181818,
          0.4868181818181818,
          0.48727272727272725,
          0.5222727272727272,
          0.5227272727272727,
          0.5231818181818182,
          0.5236363636363637,
          0.524090909090909,
          0.5245454545454545,
          0.5259090909090909,
          0.5281818181818182,
          0.5286363636363637,
          0.5354545454545454,
          0.5368181818181819,
          0.5390909090909091,
          0.5418181818181819,
          0.5422727272727272,
          0.5440909090909091,
          0.5445454545454546,
          0.545,
          0.5454545454545454,
          0.5459090909090909,
          0.5463636363636364,
          0.5486363636363636,
          0.5490909090909091,
          0.5495454545454546,
          0.55,
          0.5504545454545454,
          0.5509090909090909,
          0.5513636363636364,
          0.5518181818181818,
          0.5522727272727272,
          0.5527272727272727,
          0.5536363636363636,
          0.555,
          0.5559090909090909,
          0.6436363636363637,
          0.645,
          0.6468181818181818,
          0.6472727272727272,
          0.6477272727272727,
          0.6486363636363637,
          0.649090909090909,
          0.6495454545454545,
          0.6581818181818182,
          0.6645454545454546,
          0.6809090909090909,
          0.6813636363636364,
          0.6840909090909091,
          0.6863636363636364,
          0.6868181818181818,
          0.6886363636363636,
          0.6895454545454546,
          0.6904545454545454,
          0.6918181818181818,
          0.695,
          0.6972727272727273,
          0.07136363636363637,
          0.715,
          0.07181818181818182,
          0.07227272727272727,
          0.7236363636363636,
          0.7245454545454545,
          0.725,
          0.7254545454545455,
          0.7268181818181818,
          0.07272727272727272,
          0.07318181818181818,
          0.7327272727272728,
          0.735,
          0.7354545454545455,
          0.735909090909091,
          0.07363636363636364,
          0.7363636363636363,
          0.7368181818181818,
          0.7372727272727273,
          0.7381818181818182,
          0.7413636363636363,
          0.7445454545454545,
          0.745,
          0.07454545454545454,
          0.7459090909090909,
          0.7540909090909091,
          0.7545454545454545,
          0.755,
          0.7554545454545455,
          0.7559090909090909,
          0.7568181818181818,
          0.759090909090909,
          0.7595454545454545,
          0.7604545454545455,
          0.7609090909090909,
          0.7613636363636364,
          0.7618181818181818,
          0.7622727272727273,
          0.7627272727272727,
          0.7631818181818182,
          0.7636363636363637,
          0.7722727272727272,
          0.7727272727272727,
          0.7731818181818182,
          0.78,
          0.07818181818181819,
          0.7895454545454546,
          0.8095454545454546,
          0.81,
          0.8104545454545454,
          0.8190909090909091,
          0.08409090909090909,
          0.8409090909090909,
          0.8413636363636363,
          0.08454545454545455,
          0.855909090909091,
          0.8563636363636363,
          0.8836363636363637,
          0.9081818181818182,
          0.9095454545454545,
          0.9113636363636364,
          0.9127272727272727,
          0.9131818181818182,
          0.9136363636363637,
          0.9140909090909091,
          0.9145454545454546,
          0.915,
          0.9168181818181819,
          0.9177272727272727,
          0.9204545454545454,
          0.9209090909090909,
          0.9213636363636364,
          0.9277272727272727,
          0.9281818181818182,
          0.93,
          0.9322727272727273,
          0.9327272727272727,
          0.9368181818181818,
          0.9386363636363636,
          0.9463636363636364,
          0.9468181818181818,
          0.9495454545454546,
          0.95,
          0.9509090909090909,
          0.985909090909091,
          0.9890909090909091,
          0.9895454545454545,
          0.99,
          0.9904545454545455,
          0.990909090909091,
          0.9913636363636363,
          0.1040909090909091,
          0.10454545454545454,
          0.10681818181818181,
          0.10863636363636364,
          0.10909090909090909,
          0.11272727272727273,
          0.11318181818181818,
          0.11727272727272728,
          0.11772727272727272,
          0.11818181818181818,
          0.12090909090909091,
          0.12136363636363637,
          0.12181818181818181,
          0.12227272727272727,
          0.12272727272727273,
          0.12318181818181818,
          0.125,
          0.12772727272727272,
          0.18272727272727274,
          0.019545454545454546,
          0.02,
          0.021363636363636362,
          0.028636363636363637,
          0.03,
          0.3277272727272727,
          0.35863636363636364,
          0.37136363636363634,
          0.37363636363636366,
          0.3740909090909091,
          0.37727272727272726,
          0.37772727272727274,
          0.3781818181818182,
          0.37863636363636366,
          0.3840909090909091,
          0.3845454545454545,
          0.385,
          0.40454545454545454,
          0.405,
          0.435,
          0.4320572149768616,
          0.432477913336138,
          0.4328986116954144,
          0.4337400084139672,
          0.4358435002103492,
          0.43626419856962556,
          0.436684896928902,
          0.4707614640302903,
          0.47160286074884306,
          0.4720235591081195,
          0.47875473285654185,
          0.5002103491796382,
          0.5006310475389146,
          0.5237694572991165,
          0.5477492637778713,
          0.550694152292806,
          0.5511148506520824,
          0.5515355490113588,
          0.5527976440891881,
          0.5532183424484645,
          0.5536390408077408,
          0.5544804375262936,
          0.5565839293226756,
          0.557004627681952,
          0.5582667227597813,
          0.5607909129154396,
          0.5612116112747161,
          0.5616323096339925,
          0.563315103071098,
          0.5637358014303744,
          0.5649978965082036,
          0.56541859486748,
          0.5658392932267564,
          0.5671013883045856,
          0.5704669751787969,
          0.5713083718973496,
          0.571729070256626,
          0.5721497686159024,
          0.5734118636937316,
          0.5818258308792595,
          0.584350021034918,
          0.5847707193941943,
          0.5864535128313,
          0.6142196045435423,
          0.6146403029028187,
          0.6293647454774927,
          0.6575515355490114,
          0.6579722339082877,
          0.6583929322675641,
          0.665544804375263,
          0.6659655027345394,
          0.6676482961716449,
          0.6684896928901978,
          0.6689103912494742,
          0.6743794699200674,
          0.6823727387463189,
          0.6827934371055953,
          0.6840555321834245,
          0.6844762305427009,
          0.6848969289019773,
          0.6853176272612537,
          0.68573832562053,
          0.6870004206983593,
          0.700462768195204,
          0.7038283550694152,
          0.7219183845183004,
          0.723601177955406,
          0.7576777450567943,
          0.769036600757257,
          0.08035338662179217,
          0.08245687841817417,
          0.08371897349600337,
          0.08456037021455616,
          0.08540176693310896,
          0.08582246529238537,
          0.9297433740008414,
          0.9305847707193942,
          0.9310054690786705,
          0.931426167437947,
          0.9326882625157762,
          0.9549852755574253,
          0.9554059739167017,
          0.9558266722759782,
          0.10307109802271772,
          0.11400925536390408,
          0.11569204880100968,
          0.13462347496844762,
          0.1363062684055532,
          0.1510307109802272,
          0.15187210769877998,
          0.16070677324358434,
          0.16112747160286076,
          0.16196886832141355,
          0.16491375683634835,
          0.25578460244005047,
          0.2562053007993269,
          0.2566259991586033,
          0.2570466975178797,
          0.2578880942364325,
          0.27934371055952884,
          0.29322675641565,
          0.2936474547749264,
          0.31594446781657554,
          0.3176272612536811,
          0.32772402187631466,
          0.33193100546907867,
          0.33235170382835505,
          0.3445519562473706,
          0.3651661758519142,
          0.36558687421119057,
          0.36726966764829616,
          0.36769036600757254,
          0.368111064366849,
          0.37273874631888937,
          0.37315944467816575,
          0.37358014303744214,
          0.3740008413967186,
          0.39966344131257886,
          0.4000841396718553,
          0.4005048380311317,
          0.40092553639040807,
          0.4017669331089609,
          0.40933950357593607,
          0.41270509045014725,
          0.41312578880942363,
          0.41396718552797646,
          0.04816404387219838,
          0.5040534096328088,
          0.07057701478302336,
          0.07105388650453028,
          0.07439198855507868,
          0.0748688602765856,
          0.07534573199809251,
          0.7644253695755842,
          0.7649022412970911,
          0.765379113018598,
          0.07725321888412018,
          0.07773009060562709,
          0.07868383404864092,
          0.882689556509299,
          0.8888888888888888,
          0.9046256556986171,
          0.9284692417739628,
          0.0944206008583691,
          0.9566046733428708,
          0.9604196471149261,
          0.9623271340009537,
          0.9628040057224606,
          0.10205054840247973,
          0.10252742012398665,
          0.10348116356700048,
          0.10395803528850739,
          0.1044349070100143,
          0.10491177873152122,
          0.10872675250357654,
          0.10968049594659036,
          0.11015736766809728,
          0.11587982832618025,
          0.11921793037672866,
          0.13161659513590845,
          0.13209346685741535,
          0.13304721030042918,
          0.1402002861230329,
          0.14115402956604672,
          0.14210777300906055,
          0.15021459227467812,
          0.15116833571769195,
          0.15498330948974726,
          0.15546018121125418,
          0.15593705293276108,
          0.156413924654268,
          0.1721506914639962,
          0.17310443490701002,
          0.17358130662851692,
          0.17405817835002385,
          0.17453505007153075,
          0.17501192179303768,
          0.1759656652360515,
          0.1764425369575584,
          0.17691940867906533,
          0.18168812589413447,
          0.1821649976156414,
          0.1826418693371483,
          0.18311874105865522,
          0.18359561278016215,
          0.18454935622317598,
          0.18693371483071053,
          0.18741058655221746,
          0.18788745827372436,
          0.19408679065331425,
          0.20314735336194564,
          0.3142584644730567,
          0.3147353361945637,
          0.3152122079160706,
          0.3156890796375775,
          0.31616595135908443,
          0.31664282308059133,
          0.31759656652360513,
          0.3195040534096328,
          0.32045779685264664,
          0.037672865999046255,
          0.45145842403134523,
          0.45189377448846324,
          0.4610361340879408,
          0.52154984762734,
          0.5267740531127557,
          0.5463648236830648,
          0.5468001741401829,
          0.5811928602525033,
          0.7083151937309534,
          0.7087505441880714,
          0.7091858946451893,
          0.7096212451023074,
          0.9103178058336961,
          0.9547235524597301,
          0.956029603831084,
          0.09577710056595559,
          0.09621245102307358,
          0.9717022202873313,
          0.9725729212015672,
          0.17588158467566392,
          0.1780583369612538,
          0.1784936874183718,
          0.4040052242054854,
          0.4044405746626034,
          0.40487592511972137,
          0.41314758380496297,
          0.413582934262081,
          0.41401828471919894,
          0.4148889856334349,
          0.4153243360905529,
          0.41663038746190684,
          0.41837178929037877,
          0.4188071397474967,
          0.42272529386155855,
          0.42316064431867656,
          0.4235959947757945,
          0.4270787984327383,
          0.42751414888985634,
          0.42882020026121026,
          0.4296909011754462,
          0.43012625163256424,
          0.4305616020896822,
          0.43099695254680015,
          0.43360905528950805,
          0.434479756203744,
          0.40936616875252324,
          0.41057731126362534,
          0.41098102543399273,
          0.041178845377472746,
          0.4129995962858296,
          0.413403310456197,
          0.41421073879693177,
          0.41461445296729915,
          0.4154218813080339,
          0.4178441663302382,
          0.4182478805006056,
          0.42309245054501415,
          0.4234961647153815,
          0.42389987888574887,
          0.42430359305611626,
          0.42511102139685103,
          0.4255147355672184,
          0.4259184497375858,
          0.4263221639079532,
          0.4267258780783206,
          0.04360113039967703,
          0.04400484457004441,
          0.453774727492935,
          0.4541784416633024,
          0.4545821558336698,
          0.4549858700040371,
          0.4553895841744045,
          0.4557932983447719,
          0.045619701251513926,
          0.4561970125151393,
          0.45660072668550666,
          0.45700444085587405,
          0.45740815502624144,
          0.45821558336697615,
          0.46306015341138473,
          0.49091643116673395,
          0.49132014533710133,
          0.4921275736778361,
          0.4925312878482035,
          0.49979814291481633,
          0.5010092854259185,
          0.5014129995962858,
          0.5082761404925313,
          0.5102947113443682,
          0.5106984255147355,
          0.5127169963665724,
          0.5135244247073072,
          0.517561566410981,
          0.5179652805813484,
          0.5183689947517158,
          0.6176826806620912,
          0.6180863948324586,
          0.618490109002826,
          0.6188938231731934,
          0.6830843762616068,
          0.6834880904319741,
          0.6867178037949132,
          0.6871215179652805,
          0.687525232135648,
          0.6879289463060153,
          0.690754945498587,
          0.6911586596689544,
          0.6915623738393217,
          0.6919660880096892,
          0.7004440855874041,
          0.7016552280985062,
          0.702462656439241,
          0.7028663706096084,
          0.7036737989503432,
          0.7064997981429149,
          0.7069035123132822,
          0.7073072264836496,
          0.07145740815502624,
          0.07186112232539363,
          0.072264836495761,
          0.07549454985870004,
          0.0763019781994348,
          0.07670569236980218,
          0.7795720629794106,
          0.779975777149778,
          0.8142914816310053,
          0.9031085991118288,
          0.9035123132821962,
          0.9039160274525636,
          0.0904319741622931,
          0.9067420266451353,
          0.9071457408155026,
          0.90754945498587,
          0.9079531691562374,
          0.09083568833266048,
          0.9083568833266048,
          0.9087605974969721,
          0.9091643116673396,
          0.9095680258377069,
          0.9099717400080742,
          0.9103754541784417,
          0.910779168348809,
          0.9111828825191765,
          0.9115865966895438,
          0.09285425918449737,
          0.9563988696003229,
          0.9737585789261203,
          0.9753734356075898,
          0.9761808639483246,
          0.9886960032297134,
          0.9890997174000807,
          0.9895034315704482,
          0.13887767460637868,
          0.1404925312878482,
          0.14089624545821558,
          0.156237383932176,
          0.17965280581348406,
          0.18005651998385144,
          0.1804602341542188,
          0.1808639483245862,
          0.1844973758578926,
          0.18530480419862738,
          0.20024222850222043,
          0.2006459426725878,
          0.2010496568429552,
          0.21033508276140492,
          0.2107387969317723,
          0.2111425111021397,
          0.21235365361324182,
          0.21356479612434395,
          0.21396851029471134,
          0.21558336697618086,
          0.21598708114654824,
          0.21800565199838515,
          0.21840936616875253,
          0.21921679450948728,
          0.22607993540573273,
          0.22809850625756964,
          0.2309245054501413,
          0.23132821962050867,
          0.23173193379087606,
          0.25191764230924507,
          0.25232135647961246,
          0.2531287848203472,
          0.25433992733144933,
          0.2555510698425515,
          0.2559547840129189,
          0.2563584981832862,
          0.25797335486475576,
          0.25958821154622524,
          0.02866370609608397,
          0.30036334275333065,
          0.30076705692369804,
          0.3011707710940654,
          0.30157448526443276,
          0.30197819943480014,
          0.30238191360516753,
          0.3031893419459023,
          0.3035930561162697,
          0.3039967702866371,
          0.03068227694792087,
          0.3253936213161082,
          0.3278159063383125,
          0.32821962050867987,
          0.32862333467904725,
          0.32902704884941464,
          0.32943076301978197,
          0.32983447719014936,
          0.33023819136051674,
          0.33266047638272106,
          0.33790876059749697,
          0.34800161485668146,
          0.34840532902704885,
          0.34880904319741624,
          0.3512313282196205,
          0.03714170367379895,
          0.38635446104158255,
          0.3871618893823173,
          0.3875656035526847,
          0.3887767460637868,
          0.3928138877674606,
          0.393217601937828,
          0.3936213161081954,
          0.39604360113039966,
          0.39644731530076704,
          0.3976584578118692,
          0.3980621719822366,
          0.3996770286637061,
          0.4423845874227554,
          0.44274809160305345,
          0.44383860414394766,
          0.460196292257361,
          0.4758269720101781,
          0.4765539803707743,
          0.4830970556161396,
          0.48346055979643765,
          0.48455107233733186,
          0.48527808069792805,
          0.4856415848782261,
          0.48636859323882226,
          0.4881861141403126,
          0.5070883315158125,
          0.5096328607778989,
          0.509996364958197,
          0.5143584151217739,
          0.514721919302072,
          0.5150854234823701,
          0.5154489276626681,
          0.5158124318429662,
          0.5161759360232643,
          0.5165394402035624,
          0.5169029443838604,
          0.5172664485641585,
          0.5176299527444566,
          0.519810977826245,
          0.520174482006543,
          0.5230825154489277,
          0.5376226826608506,
          0.5630679752817157,
          0.5634314794620138,
          0.5637949836423118,
          0.5641584878226099,
          0.564521992002908,
          0.5670665212649946,
          0.5674300254452926,
          0.5685205379861868,
          0.5707015630679753,
          0.5710650672482733,
          0.5714285714285714,
          0.5717920756088695,
          0.5721555797891675,
          0.5808796801163213,
          0.5885132679025808,
          0.5888767720828789,
          0.6030534351145038,
          0.6059614685568884,
          0.6063249727371864,
          0.6066884769174845,
          0.6077789894583788,
          0.608505997818975,
          0.608869501999273,
          0.6099600145401672,
          0.6117775354416576,
          0.6121410396219557,
          0.613958560523446,
          0.6157760814249363,
          0.6161395856052344,
          0.6165030897855326,
          0.6168665939658307,
          0.6172300981461287,
          0.6183206106870229,
          0.618684114867321,
          0.6190476190476191,
          0.6194111232279171,
          0.6197746274082152,
          0.6201381315885133,
          0.6205016357688113,
          0.6212286441294075,
          0.6215921483097055,
          0.624136677571792,
          0.6245001817520901,
          0.6248636859323882,
          0.6270447110141767,
          0.6274082151944748,
          0.6281352235550709,
          0.6415848782260996,
          0.64340239912759,
          0.6437659033078881,
          0.6441294074881861,
          0.6459469283896765,
          0.6466739367502726,
          0.6528535078153399,
          0.653580516175936,
          0.6543075245365322,
          0.6546710287168303,
          0.6550345328971283,
          0.6553980370774264,
          0.6561250454380225,
          0.6564885496183206,
          0.6568520537986187,
          0.6572155579789167,
          0.6583060705198109,
          0.658669574700109,
          0.6659396583060705,
          0.67357324609233,
          0.6739367502726281,
          0.6753907669938204,
          0.6757542711741185,
          0.6761177753544165,
          0.6793893129770993,
          0.6804798255179935,
          0.6862958924027627,
          0.6873864049436569,
          0.687749909123955,
          0.693565976008724,
          0.6939294801890221,
          0.6961105052708106,
          0.7055616139585605,
          0.7059251181388586,
          0.7062886223191567,
          0.7066521264994547,
          0.7070156306797528,
          0.7073791348600509,
          0.707742639040349,
          0.708106143220647,
          0.7182842602689931,
          0.7237368229734642,
          0.732460923300618,
          0.7757179207560887,
          0.7768084332969829,
          0.777171937477281,
          0.777535441657579,
          0.8015267175572519,
          0.80189022173755,
          0.8058887677208287,
          0.8378771355870592,
          0.8440567066521265,
          0.8444202108324246,
          0.846601235914213,
          0.8480552526354053,
          0.8484187568157033,
          0.8487822609960014,
          0.8542348237004725,
          0.8571428571428571,
          0.8582333696837514,
          0.8585968738640495,
          0.8589603780443476,
          0.8593238822246456,
          0.8596873864049437,
          0.8600508905852418,
          0.8604143947655398,
          0.8738640494365685,
          0.8767720828789531,
          0.8771355870592512,
          0.8774990912395493,
          0.8804071246819338,
          0.88113413304253,
          0.8836786623046166,
          0.9025808796801164,
          0.9033078880407125,
          0.9036713922210106,
          0.9040348964013086,
          0.9043984005816067,
          0.9153035259905489,
          0.9174845510723373,
          0.9178480552526354,
          0.9211195928753181,
          0.9214830970556162,
          0.9218466012359142,
          0.9222101054162123,
          0.9225736095965104,
          0.9443838604143948,
          0.9465648854961832,
          0.9480189022173755,
          0.9567430025445293,
          0.960741548527808,
          0.9618320610687023,
          0.9625590694292985,
          0.9636495819701927,
          0.96982915303526,
          0.9745547073791349,
          0.9749182115594329,
          0.9756452199200291,
          0.14394765539803708,
          0.1504907306434024,
          0.15703380588876772,
          0.18611414031261359,
          0.19120319883678663,
          0.1915667030170847,
          0.19229371137768084,
          0.1926572155579789,
          0.193020719738277,
          0.1941112322791712,
          0.19483824063976735,
          0.19520174482006544,
          0.1955652490003635,
          0.19592875318066158,
          0.19629225736095965,
          0.19665576154125772,
          0.1970192657215558,
          0.19738276990185388,
          0.19774627408215195,
          0.19810977826245002,
          0.1984732824427481,
          0.1999272991639404,
          0.20065430752453653,
          0.20138131588513267,
          0.20174482006543076,
          0.2533624136677572,
          0.25372591784805526,
          0.2617230098146129,
          0.26208651399491095,
          0.262450018175209,
          0.2628135223555071,
          0.2639040348964013,
          0.26608505997818976,
          0.26644856415848783,
          0.2668120683387859,
          0.272264631043257,
          0.27444565612504546,
          0.2748091603053435,
          0.27553616866593966,
          0.027626317702653582,
          0.2762631770265358,
          0.27735368956743,
          0.2777171937477281,
          0.027989821882951654,
          0.028353326063249727,
          0.28389676481279535,
          0.2842602689930934,
          0.28535078153398763,
          0.029080334423845874,
          0.36095965103598693
         ],
         "xaxis": "x",
         "y": [
          "3.25",
          "2.94",
          "1.25",
          "3.26",
          "0.35",
          "1.92",
          "0.51",
          "2.18",
          "1.87",
          "0.52",
          "0.76",
          "1.32",
          "1.49",
          "1.03",
          "0.21",
          "1.16",
          "1.10",
          "1.05",
          "1.15",
          "1.43",
          "0.75",
          "0.65",
          "0.95",
          "0.76",
          "1.68",
          "1.20",
          "1.73",
          "1.78",
          "1.81",
          "1.55",
          "1.93",
          "1.43",
          "1.61",
          "1.22",
          "0.70",
          "2.75",
          "2.43",
          "1.99",
          "2.63",
          "2.83",
          "2.74",
          "2.87",
          "2.42",
          "2.78",
          "2.78",
          "2.76",
          "2.59",
          "3.06",
          "2.40",
          "2.71",
          "2.81",
          "2.54",
          "2.53",
          "0.33",
          "1.01",
          "0.51",
          "1.43",
          "0.86",
          "0.00",
          "0.51",
          "0.42",
          "0.78",
          "0.00",
          "0.00",
          "0.06",
          "0.79",
          "0.00",
          "1.15",
          "1.48",
          "1.44",
          "0.00",
          "0.40",
          "0.79",
          "1.48",
          "1.99",
          "1.64",
          "0.00",
          "0.51",
          "0.29",
          "0.77",
          "0.62",
          "0.49",
          "1.33",
          "1.00",
          "0.04",
          "0.03",
          "0.49",
          "0.00",
          "1.36",
          "2.03",
          "2.47",
          "2.54",
          "2.96",
          "0.45",
          "1.85",
          "1.90",
          "1.98",
          "2.06",
          "2.87",
          "2.66",
          "2.97",
          "0.43",
          "1.93",
          "1.30",
          "0.92",
          "1.10",
          "0.83",
          "1.03",
          "0.82",
          "0.06",
          "0.00",
          "0.08",
          "0.17",
          "0.33",
          "0.27",
          "0.32",
          "0.12",
          "0.27",
          "0.40",
          "0.68",
          "0.34",
          "1.04",
          "0.31",
          "0.00",
          "0.76",
          "0.19",
          "0.44",
          "0.00",
          "0.00",
          "1.04",
          "1.52",
          "1.77",
          "1.21",
          "0.44",
          "0.59",
          "0.66",
          "1.86",
          "2.46",
          "0.85",
          "0.03",
          "1.45",
          "1.18",
          "1.51",
          "0.00",
          "0.15",
          "1.07",
          "0.52",
          "0.71",
          "0.66",
          "0.91",
          "1.58",
          "1.26",
          "1.46",
          "0.16",
          "1.43",
          "1.43",
          "0.00",
          "0.44",
          "0.45",
          "0.24",
          "0.16",
          "0.00",
          "0.00",
          "0.13",
          "0.09",
          "1.81",
          "2.27",
          "1.57",
          "0.67",
          "0.43",
          "0.31",
          "0.69",
          "0.95",
          "0.00",
          "0.12",
          "1.82",
          "0.17",
          "0.81",
          "1.00",
          "1.59",
          "1.83",
          "1.87",
          "1.88",
          "0.94",
          "1.06",
          "0.00",
          "0.00",
          "1.28",
          "0.97",
          "0.00",
          "0.00",
          "0.38",
          "1.78",
          "0.00",
          "0.89",
          "1.23",
          "1.43",
          "1.19",
          "0.91",
          "0.00",
          "0.38",
          "0.02",
          "2.46",
          "1.82",
          "2.36",
          "0.10",
          "0.33",
          "0.00",
          "0.90",
          "1.32",
          "2.36",
          "1.81",
          "2.41",
          "2.64",
          "0.93",
          "0.48",
          "2.30",
          "2.31",
          "0.53",
          "1.45",
          "0.54",
          "0.36",
          "0.54",
          "0.45",
          "0.89",
          "0.07",
          "2.29",
          "3.84",
          "1.59",
          "0.31",
          "2.38",
          "0.84",
          "1.77",
          "2.72",
          "1.00",
          "1.70",
          "0.00",
          "0.95",
          "0.22",
          "2.37",
          "1.61",
          "1.90",
          "1.23",
          "0.59",
          "1.77",
          "0.41",
          "0.00",
          "2.23",
          "2.24",
          "2.08",
          "0.99",
          "0.00",
          "0.45",
          "0.03",
          "1.27",
          "0.38",
          "0.00",
          "2.09",
          "1.98",
          "0.52",
          "0.91",
          "1.54",
          "2.12",
          "0.00",
          "1.17",
          "1.04",
          "0.38",
          "0.50",
          "0.00",
          "0.00",
          "0.64",
          "1.35",
          "1.81",
          "1.90",
          "1.10",
          "0.98",
          "1.93",
          "1.16",
          "0.53",
          "0.63",
          "2.49",
          "1.60",
          "1.57",
          "1.51",
          "2.46",
          "1.39",
          "1.24",
          "0.47",
          "1.13",
          "0.26",
          "0.82",
          "0.74",
          "0.41",
          "0.00",
          "0.76",
          "0.18",
          "2.82",
          "1.77",
          "1.14",
          "1.26",
          "1.47",
          "0.10",
          "2.71",
          "0.00",
          "0.87",
          "4.55",
          "2.37",
          "2.25",
          "0.45",
          "1.03",
          "1.79",
          "0.00",
          "0.00",
          "0.39",
          "0.73",
          "0.00",
          "1.13",
          "0.36",
          "2.54",
          "2.56",
          "2.21",
          "1.93",
          "0.35",
          "0.00",
          "0.42",
          "0.39",
          "0.00",
          "1.13",
          "1.12",
          "0.85",
          "0.79",
          "0.71",
          "1.15",
          "1.23",
          "0.19",
          "1.20",
          "0.00",
          "0.09",
          "1.70",
          "0.03",
          "1.93",
          "1.75",
          "0.68",
          "1.44",
          "1.47",
          "1.17",
          "0.00",
          "0.49",
          "0.00",
          "0.41",
          "0.76",
          "0.95",
          "0.17",
          "0.12",
          "1.42",
          "0.00",
          "0.91",
          "1.22",
          "1.49",
          "0.60",
          "0.69",
          "0.00",
          "0.00",
          "0.00",
          "0.32",
          "0.00",
          "2.08",
          "0.00",
          "0.00",
          "0.00",
          "0.00",
          "0.00",
          "0.00",
          "1.37",
          "0.46",
          "1.31",
          "0.57",
          "1.36",
          "1.66",
          "0.79",
          "0.07",
          "0.07",
          "0.13",
          "0.77",
          "0.00",
          "0.04",
          "0.15",
          "0.58",
          "0.00",
          "0.63",
          "0.04",
          "0.33",
          "1.00",
          "0.59",
          "1.83",
          "1.72",
          "1.69",
          "0.72",
          "0.24",
          "0.73",
          "0.47",
          "1.05",
          "1.32",
          "1.15",
          "1.00",
          "0.00",
          "0.00",
          "0.34",
          "1.65",
          "0.13",
          "0.71",
          "0.00",
          "1.11",
          "1.14",
          "1.31",
          "0.17",
          "2.33",
          "0.00",
          "0.00",
          "0.00",
          "0.54",
          "0.00",
          "0.18",
          "0.00",
          "0.00",
          "0.00",
          "1.43",
          "1.62",
          "0.00",
          "0.57",
          "0.34",
          "1.09",
          "0.50",
          "0.27",
          "1.07",
          "0.57",
          "0.00",
          "0.00",
          "0.00",
          "0.00",
          "0.00",
          "0.67",
          "1.03",
          "2.68",
          "0.79",
          "0.00",
          "0.00",
          "0.64",
          "0.72",
          "0.69",
          "0.67",
          "0.77",
          "0.00",
          "0.00",
          "1.70",
          "1.49",
          "0.34",
          "1.55",
          "0.16",
          "0.00",
          "0.28",
          "0.76",
          "0.61",
          "1.02",
          "0.64",
          "1.88",
          "1.00",
          "1.52",
          "1.64",
          "1.30",
          "1.01",
          "0.47",
          "1.64",
          "1.32",
          "1.21",
          "0.10",
          "1.36",
          "0.53",
          "0.77",
          "1.14",
          "1.31",
          "0.51",
          "1.81",
          "0.73",
          "0.22",
          "1.02",
          "1.02",
          "0.47",
          "0.32",
          "0.05",
          "0.18",
          "0.88",
          "0.31",
          "0.00",
          "0.87",
          "1.59",
          "0.86",
          "0.38",
          "0.07",
          "0.41",
          "0.00",
          "1.95",
          "0.93",
          "1.53",
          "1.06",
          "0.61",
          "1.45",
          "0.76",
          "1.13",
          "1.34",
          "0.11",
          "0.68",
          "0.66",
          "1.17",
          "1.15",
          "0.47",
          "0.00",
          "0.60",
          "0.10",
          "0.00",
          "0.00",
          "0.89",
          "0.11",
          "0.97",
          "0.86",
          "0.60",
          "0.73",
          "0.00",
          "0.38",
          "0.41",
          "0.99",
          "0.78",
          "1.75",
          "0.60",
          "0.68",
          "1.14",
          "0.92",
          "0.17",
          "0.90",
          "0.97",
          "0.74",
          "1.74",
          "0.98",
          "0.69",
          "1.40",
          "1.60",
          "1.36",
          "1.62",
          "1.14",
          "1.38",
          "1.29",
          "0.98",
          "0.37",
          "0.71",
          "0.00",
          "0.98",
          "0.38",
          "1.60",
          "1.48",
          "1.17",
          "1.77",
          "0.59",
          "0.79",
          "0.83",
          "0.88",
          "0.44",
          "0.66",
          "0.47",
          "0.49",
          "0.00",
          "0.32",
          "1.38",
          "1.75",
          "1.85",
          "1.19",
          "0.47",
          "0.11",
          "1.76",
          "0.98",
          "0.00",
          "1.39",
          "1.26",
          "0.57",
          "0.22",
          "0.66",
          "0.89",
          "0.00",
          "0.00",
          "0.00",
          "0.00",
          "1.24",
          "0.91",
          "1.36",
          "1.09",
          "1.07",
          "1.93",
          "0.08",
          "1.54",
          "0.64",
          "2.27",
          "0.66",
          "0.70",
          "0.79",
          "1.18",
          "1.10",
          "0.00",
          "2.21",
          "0.95",
          "0.87",
          "0.83",
          "0.47",
          "0.06",
          "0.28",
          "0.34",
          "0.52",
          "0.49",
          "0.45",
          "0.32",
          "0.23",
          "0.53",
          "0.83",
          "1.73",
          "0.77",
          "0.85",
          "0.96",
          "0.89",
          "0.15",
          "0.00",
          "2.85",
          "1.64",
          "2.83",
          "0.74",
          "1.44",
          "1.27",
          "0.80",
          "2.17",
          "0.76",
          "0.66",
          "2.40",
          "0.36",
          "2.00",
          "3.30",
          "0.46",
          "0.00",
          "0.13",
          "0.72",
          "0.94",
          "0.55",
          "0.78",
          "1.54",
          "0.93",
          "0.74",
          "0.00",
          "0.00",
          "0.84",
          "0.61",
          "0.93",
          "1.12",
          "2.65",
          "1.87",
          "1.16",
          "1.77",
          "0.59",
          "2.30",
          "2.22",
          "0.64",
          "0.33",
          "1.44",
          "0.87",
          "2.36",
          "2.15",
          "2.32",
          "2.24",
          "1.66",
          "3.13",
          "1.59",
          "2.47",
          "1.80",
          "1.07",
          "2.40",
          "0.21",
          "0.48",
          "1.10",
          "1.25",
          "0.88",
          "1.40",
          "0.89",
          "0.00",
          "1.48",
          "1.32",
          "1.95",
          "1.31",
          "3.27",
          "0.91",
          "0.80",
          "0.86",
          "0.74",
          "1.34",
          "1.04",
          "2.38",
          "1.09",
          "0.68",
          "1.26",
          "1.26",
          "1.67",
          "1.41",
          "1.94",
          "1.13",
          "0.89",
          "0.78",
          "1.00",
          "0.95",
          "2.25",
          "1.21",
          "1.95",
          "2.71",
          "2.99",
          "2.42",
          "2.21",
          "1.20",
          "0.76",
          "1.10",
          "0.59",
          "1.09",
          "1.12",
          "1.10",
          "0.53",
          "1.52",
          "0.99",
          "0.36",
          "0.76",
          "0.81",
          "0.00",
          "0.96",
          "1.07",
          "0.55",
          "2.23",
          "1.76",
          "1.00",
          "0.82",
          "2.11",
          "0.00",
          "0.68",
          "0.42",
          "0.87",
          "2.44",
          "0.86",
          "1.72",
          "1.77",
          "1.98",
          "0.78",
          "1.25",
          "0.56",
          "0.00",
          "0.79",
          "0.01",
          "0.86",
          "1.14",
          "1.26",
          "0.79",
          "0.30",
          "1.22",
          "1.33",
          "2.25",
          "1.40",
          "2.10",
          "1.18",
          "0.86",
          "0.06",
          "2.57",
          "1.97",
          "0.62",
          "1.13",
          "0.72",
          "0.16",
          "0.01",
          "0.28",
          "0.92",
          "1.72",
          "2.37",
          "1.92",
          "0.75",
          "1.10",
          "0.77",
          "1.80",
          "1.56",
          "1.33",
          "1.10",
          "2.61",
          "1.90",
          "3.07",
          "3.66",
          "1.96",
          "0.65",
          "0.29",
          "0.93",
          "1.37",
          "1.51",
          "1.43",
          "1.69",
          "0.00",
          "0.52",
          "1.33",
          "0.27",
          "0.10",
          "0.98",
          "1.04",
          "0.71",
          "0.09",
          "2.06",
          "0.22",
          "1.54",
          "1.94",
          "1.37",
          "1.71",
          "1.48",
          "1.02",
          "0.78",
          "0.62",
          "0.53",
          "0.77",
          "1.07",
          "1.17",
          "0.67",
          "0.29",
          "0.41",
          "1.26",
          "0.13",
          "0.34",
          "0.46",
          "0.00",
          "0.23",
          "0.41",
          "1.27",
          "0.51",
          "0.86",
          "1.20",
          "2.17",
          "2.43",
          "0.95",
          "0.00",
          "2.03",
          "1.46",
          "0.22",
          "1.47",
          "0.77",
          "1.21",
          "0.61",
          "0.00",
          "0.09",
          "0.00",
          "1.72",
          "0.00",
          "2.92",
          "0.84",
          "2.17",
          "1.20",
          "0.56",
          "0.64",
          "1.85",
          "1.88",
          "0.00"
         ],
         "yaxis": "y"
        },
        {
         "customdata": [
          [
           "Human Desire"
          ],
          [
           "Human Desire"
          ],
          [
           "Human Desire"
          ],
          [
           "Human Desire"
          ],
          [
           "Human Desire"
          ],
          [
           "Human Desire"
          ],
          [
           "Human Desire"
          ],
          [
           "Human Desire"
          ],
          [
           "Human Desire"
          ],
          [
           "Human Desire"
          ],
          [
           "Human Desire"
          ],
          [
           "Human Desire"
          ],
          [
           "Human Desire"
          ],
          [
           "Human Desire"
          ],
          [
           "Human Desire"
          ],
          [
           "Human Desire"
          ],
          [
           "Human Desire"
          ],
          [
           "Human Desire"
          ],
          [
           "Human Desire"
          ],
          [
           "Human Desire"
          ],
          [
           "Human Desire"
          ],
          [
           "Human Desire"
          ],
          [
           "Human Desire"
          ],
          [
           "Human Desire"
          ],
          [
           "Human Desire"
          ],
          [
           "Human Desire"
          ],
          [
           "Human Desire"
          ],
          [
           "Human Desire"
          ],
          [
           "Human Desire"
          ],
          [
           "Human Desire"
          ],
          [
           "Human Desire"
          ],
          [
           "Human Desire"
          ],
          [
           "Human Desire"
          ],
          [
           "Human Desire"
          ],
          [
           "Human Desire"
          ],
          [
           "Human Desire"
          ],
          [
           "Human Desire"
          ],
          [
           "Human Desire"
          ],
          [
           "Human Desire"
          ],
          [
           "Human Desire"
          ],
          [
           "Human Desire"
          ],
          [
           "Human Desire"
          ],
          [
           "Human Desire"
          ],
          [
           "Human Desire"
          ],
          [
           "Human Desire"
          ],
          [
           "Human Desire"
          ],
          [
           "Human Desire"
          ],
          [
           "Human Desire"
          ],
          [
           "Human Desire"
          ],
          [
           "Human Desire"
          ],
          [
           "Human Desire"
          ],
          [
           "Human Desire"
          ],
          [
           "Human Desire"
          ],
          [
           "Human Desire"
          ],
          [
           "Human Desire"
          ],
          [
           "Human Desire"
          ],
          [
           "Human Desire"
          ],
          [
           "Human Desire"
          ],
          [
           "Human Desire"
          ],
          [
           "Human Desire"
          ],
          [
           "Human Desire"
          ],
          [
           "Human Desire"
          ],
          [
           "Human Desire"
          ],
          [
           "Human Desire"
          ],
          [
           "Human Desire"
          ],
          [
           "Human Desire"
          ],
          [
           "Human Desire"
          ],
          [
           "Human Desire"
          ],
          [
           "Human Desire"
          ],
          [
           "Human Desire"
          ],
          [
           "Human Desire"
          ],
          [
           "Human Desire"
          ],
          [
           "Human Desire"
          ],
          [
           "Human Desire"
          ],
          [
           "Human Desire"
          ],
          [
           "Human Desire"
          ],
          [
           "Human Desire"
          ],
          [
           "Human Desire"
          ],
          [
           "Human Desire"
          ],
          [
           "Human Desire"
          ],
          [
           "Human Desire"
          ],
          [
           "Human Desire"
          ],
          [
           "Human Desire"
          ],
          [
           "Human Desire"
          ],
          [
           "Human Desire"
          ],
          [
           "Human Desire"
          ],
          [
           "Human Desire"
          ],
          [
           "Human Desire"
          ],
          [
           "Human Desire"
          ],
          [
           "Human Desire"
          ],
          [
           "Human Desire"
          ],
          [
           "Human Desire"
          ],
          [
           "Human Desire"
          ],
          [
           "Human Desire"
          ],
          [
           "Human Desire"
          ],
          [
           "Human Desire"
          ],
          [
           "Human Desire"
          ],
          [
           "Human Desire"
          ],
          [
           "Human Desire"
          ],
          [
           "Human Desire"
          ],
          [
           "Human Desire"
          ],
          [
           "Human Desire"
          ],
          [
           "Human Desire"
          ],
          [
           "Human Desire"
          ],
          [
           "Human Desire"
          ],
          [
           "Human Desire"
          ],
          [
           "Human Desire"
          ],
          [
           "Human Desire"
          ],
          [
           "Human Desire"
          ],
          [
           "Human Desire"
          ],
          [
           "Human Desire"
          ],
          [
           "Human Desire"
          ],
          [
           "Human Desire"
          ],
          [
           "Human Desire"
          ],
          [
           "Human Desire"
          ],
          [
           "Human Desire"
          ],
          [
           "Human Desire"
          ],
          [
           "Human Desire"
          ],
          [
           "Human Desire"
          ],
          [
           "Human Desire"
          ],
          [
           "Human Desire"
          ],
          [
           "Human Desire"
          ],
          [
           "Human Desire"
          ],
          [
           "Human Desire"
          ],
          [
           "Human Desire"
          ],
          [
           "Human Desire"
          ],
          [
           "Human Desire"
          ],
          [
           "Human Desire"
          ],
          [
           "Human Desire"
          ],
          [
           "Human Desire"
          ],
          [
           "Human Desire"
          ],
          [
           "Human Desire"
          ],
          [
           "Human Desire"
          ],
          [
           "Human Desire"
          ],
          [
           "Human Desire"
          ],
          [
           "Human Desire"
          ],
          [
           "Human Desire"
          ],
          [
           "Human Desire"
          ],
          [
           "Human Desire"
          ],
          [
           "Human Desire"
          ],
          [
           "Human Desire"
          ],
          [
           "Human Desire"
          ],
          [
           "Human Desire"
          ],
          [
           "Human Desire"
          ],
          [
           "Human Desire"
          ],
          [
           "Our Village"
          ],
          [
           "Our Village"
          ],
          [
           "Our Village"
          ],
          [
           "Our Village"
          ],
          [
           "Our Village"
          ],
          [
           "Our Village"
          ],
          [
           "Our Village"
          ],
          [
           "Our Village"
          ],
          [
           "Our Village"
          ],
          [
           "Our Village"
          ],
          [
           "Our Village"
          ],
          [
           "Our Village"
          ],
          [
           "Our Village"
          ],
          [
           "Our Village"
          ],
          [
           "Our Village"
          ],
          [
           "Our Village"
          ],
          [
           "Our Village"
          ],
          [
           "Our Village"
          ],
          [
           "Our Village"
          ],
          [
           "Our Village"
          ],
          [
           "Our Village"
          ],
          [
           "Our Village"
          ],
          [
           "Our Village"
          ],
          [
           "Our Village"
          ],
          [
           "Our Village"
          ],
          [
           "Our Village"
          ],
          [
           "Our Village"
          ],
          [
           "Our Village"
          ],
          [
           "Our Village"
          ],
          [
           "Our Village"
          ],
          [
           "Our Village"
          ],
          [
           "Our Village"
          ],
          [
           "Our Village"
          ],
          [
           "Our Village"
          ],
          [
           "Our Village"
          ],
          [
           "Our Village"
          ],
          [
           "Our Village"
          ],
          [
           "Our Village"
          ],
          [
           "Our Village"
          ],
          [
           "Our Village"
          ],
          [
           "Our Village"
          ],
          [
           "Our Village"
          ],
          [
           "Our Village"
          ],
          [
           "Our Village"
          ],
          [
           "Our Village"
          ],
          [
           "Our Village"
          ],
          [
           "Our Village"
          ],
          [
           "Our Village"
          ],
          [
           "Our Village"
          ],
          [
           "Our Village"
          ],
          [
           "Our Village"
          ],
          [
           "Our Village"
          ],
          [
           "Our Village"
          ],
          [
           "Our Village"
          ],
          [
           "Our Village"
          ],
          [
           "Our Village"
          ],
          [
           "Our Village"
          ],
          [
           "Our Village"
          ],
          [
           "Our Village"
          ],
          [
           "Our Village"
          ],
          [
           "Our Village"
          ],
          [
           "Our Village"
          ],
          [
           "Our Village"
          ],
          [
           "Our Village"
          ],
          [
           "Our Village"
          ],
          [
           "Our Village"
          ],
          [
           "Our Village"
          ],
          [
           "Our Village"
          ],
          [
           "Our Village"
          ],
          [
           "Our Village"
          ],
          [
           "Our Village"
          ],
          [
           "Our Village"
          ],
          [
           "Our Village"
          ],
          [
           "Our Village"
          ],
          [
           "Our Village"
          ],
          [
           "Our Village"
          ],
          [
           "Our Village"
          ],
          [
           "Our Village"
          ],
          [
           "Our Village"
          ],
          [
           "Our Village"
          ],
          [
           "Our Village"
          ],
          [
           "Cliff"
          ],
          [
           "Cliff"
          ],
          [
           "Cliff"
          ],
          [
           "Cliff"
          ],
          [
           "Cliff"
          ],
          [
           "Cliff"
          ],
          [
           "Cliff"
          ],
          [
           "Cliff"
          ],
          [
           "Cliff"
          ],
          [
           "Cliff"
          ],
          [
           "Cliff"
          ],
          [
           "Cliff"
          ],
          [
           "Cliff"
          ],
          [
           "Cliff"
          ],
          [
           "Cliff"
          ],
          [
           "Cliff"
          ],
          [
           "Cliff"
          ],
          [
           "Cliff"
          ],
          [
           "Cliff"
          ],
          [
           "Cliff"
          ],
          [
           "Cliff"
          ],
          [
           "Cliff"
          ],
          [
           "Cliff"
          ],
          [
           "Cliff"
          ],
          [
           "Cliff"
          ],
          [
           "Cliff"
          ],
          [
           "Cliff"
          ],
          [
           "Cliff"
          ],
          [
           "Cliff"
          ],
          [
           "Cliff"
          ],
          [
           "Cliff"
          ],
          [
           "Cliff"
          ],
          [
           "Cliff"
          ],
          [
           "Cliff"
          ],
          [
           "Cliff"
          ],
          [
           "Cliff"
          ],
          [
           "Cliff"
          ],
          [
           "Cliff"
          ],
          [
           "Cliff"
          ],
          [
           "Cliff"
          ],
          [
           "Cliff"
          ],
          [
           "Cliff"
          ],
          [
           "Cliff"
          ],
          [
           "Cliff"
          ],
          [
           "Cliff"
          ],
          [
           "Cliff"
          ],
          [
           "Cliff"
          ],
          [
           "Cliff"
          ],
          [
           "Cliff"
          ],
          [
           "Cliff"
          ],
          [
           "Cliff"
          ],
          [
           "Cliff"
          ],
          [
           "Cliff"
          ],
          [
           "Cliff"
          ],
          [
           "Cliff"
          ],
          [
           "Cliff"
          ],
          [
           "Cliff"
          ],
          [
           "Cliff"
          ],
          [
           "Cliff"
          ],
          [
           "Cliff"
          ],
          [
           "Cliff"
          ],
          [
           "Cliff"
          ],
          [
           "Cliff"
          ],
          [
           "Cliff"
          ],
          [
           "Cliff"
          ],
          [
           "Cliff"
          ],
          [
           "Cliff"
          ],
          [
           "Cliff"
          ],
          [
           "Cliff"
          ],
          [
           "Cliff"
          ],
          [
           "Cliff"
          ],
          [
           "Cliff"
          ],
          [
           "Cliff"
          ],
          [
           "Cliff"
          ],
          [
           "Cliff"
          ],
          [
           "Cliff"
          ],
          [
           "Cliff"
          ],
          [
           "Cliff"
          ],
          [
           "Cliff"
          ],
          [
           "Cliff"
          ],
          [
           "Cliff"
          ],
          [
           "Cliff"
          ],
          [
           "Cliff"
          ],
          [
           "Cliff"
          ],
          [
           "Cliff"
          ],
          [
           "Cliff"
          ],
          [
           "Cliff"
          ],
          [
           "Cliff"
          ],
          [
           "Cliff"
          ],
          [
           "Cliff"
          ],
          [
           "Cliff"
          ],
          [
           "Cliff"
          ],
          [
           "Cliff"
          ],
          [
           "Cliff"
          ],
          [
           "Cliff"
          ],
          [
           "Cliff"
          ],
          [
           "Cliff"
          ],
          [
           "Cliff"
          ],
          [
           "Cliff"
          ],
          [
           "Cliff"
          ],
          [
           "Cliff"
          ],
          [
           "Cliff"
          ],
          [
           "Cliff"
          ],
          [
           "Cliff"
          ],
          [
           "Cliff"
          ],
          [
           "Cliff"
          ],
          [
           "Cliff"
          ],
          [
           "Cliff"
          ],
          [
           "Cliff"
          ],
          [
           "Cliff"
          ],
          [
           "Cliff"
          ],
          [
           "Cliff"
          ],
          [
           "Cliff"
          ],
          [
           "Cliff"
          ],
          [
           "Cliff"
          ],
          [
           "Cliff"
          ],
          [
           "Cliff"
          ],
          [
           "Cliff"
          ],
          [
           "Cliff"
          ],
          [
           "Cliff"
          ],
          [
           "Cliff"
          ],
          [
           "Cliff"
          ],
          [
           "Cliff"
          ],
          [
           "Cliff"
          ],
          [
           "Cliff"
          ],
          [
           "Cliff"
          ],
          [
           "Cliff"
          ],
          [
           "Cliff"
          ],
          [
           "Cliff"
          ],
          [
           "Cliff"
          ],
          [
           "Cliff"
          ],
          [
           "Cliff"
          ],
          [
           "Cliff"
          ],
          [
           "Cliff"
          ],
          [
           "Cliff"
          ],
          [
           "Cliff"
          ],
          [
           "Cliff"
          ],
          [
           "Cliff"
          ],
          [
           "Cliff"
          ],
          [
           "Cliff"
          ],
          [
           "Cliff"
          ],
          [
           "Cliff"
          ],
          [
           "Cliff"
          ],
          [
           "Cliff"
          ],
          [
           "Cliff"
          ],
          [
           "Cliff"
          ],
          [
           "Cliff"
          ],
          [
           "Cliff"
          ],
          [
           "Cliff"
          ],
          [
           "Cliff"
          ],
          [
           "Cliff"
          ],
          [
           "Cliff"
          ],
          [
           "Cliff"
          ],
          [
           "Cliff"
          ],
          [
           "Cliff"
          ],
          [
           "Cliff"
          ],
          [
           "Cliff"
          ],
          [
           "Cliff"
          ],
          [
           "Cliff"
          ],
          [
           "Cliff"
          ],
          [
           "Cliff"
          ],
          [
           "Cliff"
          ],
          [
           "Cliff"
          ],
          [
           "Cliff"
          ],
          [
           "Cliff"
          ],
          [
           "Cliff"
          ],
          [
           "Cliff"
          ],
          [
           "Cliff"
          ],
          [
           "Cliff"
          ],
          [
           "Cliff"
          ],
          [
           "Cliff"
          ],
          [
           "Cliff"
          ],
          [
           "Cliff"
          ],
          [
           "Cliff"
          ],
          [
           "Cliff"
          ],
          [
           "Cliff"
          ],
          [
           "Cliff"
          ],
          [
           "Cliff"
          ],
          [
           "Cliff"
          ],
          [
           "Cliff"
          ],
          [
           "Cliff"
          ],
          [
           "Cliff"
          ],
          [
           "Cliff"
          ],
          [
           "Cliff"
          ],
          [
           "Cliff"
          ],
          [
           "Cliff"
          ],
          [
           "Cliff"
          ],
          [
           "Cliff"
          ],
          [
           "Cliff"
          ],
          [
           "Cliff"
          ],
          [
           "Cliff"
          ],
          [
           "Cliff"
          ],
          [
           "Cliff"
          ],
          [
           "Cliff"
          ],
          [
           "Cliff"
          ],
          [
           "Cliff"
          ],
          [
           "Cliff"
          ],
          [
           "Cliff"
          ],
          [
           "Cliff"
          ],
          [
           "Diary of Nurse"
          ],
          [
           "Diary of Nurse"
          ],
          [
           "Diary of Nurse"
          ],
          [
           "Diary of Nurse"
          ],
          [
           "Diary of Nurse"
          ],
          [
           "Diary of Nurse"
          ],
          [
           "Diary of Nurse"
          ],
          [
           "Diary of Nurse"
          ],
          [
           "Diary of Nurse"
          ],
          [
           "Diary of Nurse"
          ],
          [
           "Diary of Nurse"
          ],
          [
           "Diary of Nurse"
          ],
          [
           "Diary of Nurse"
          ],
          [
           "Diary of Nurse"
          ],
          [
           "Diary of Nurse"
          ],
          [
           "Diary of Nurse"
          ],
          [
           "Diary of Nurse"
          ],
          [
           "Diary of Nurse"
          ],
          [
           "Diary of Nurse"
          ],
          [
           "Diary of Nurse"
          ],
          [
           "Diary of Nurse"
          ],
          [
           "Diary of Nurse"
          ],
          [
           "Diary of Nurse"
          ],
          [
           "Diary of Nurse"
          ],
          [
           "Diary of Nurse"
          ],
          [
           "Diary of Nurse"
          ],
          [
           "Diary of Nurse"
          ],
          [
           "Diary of Nurse"
          ],
          [
           "Diary of Nurse"
          ],
          [
           "Diary of Nurse"
          ],
          [
           "Diary of Nurse"
          ],
          [
           "Diary of Nurse"
          ],
          [
           "Diary of Nurse"
          ],
          [
           "Diary of Nurse"
          ],
          [
           "Diary of Nurse"
          ],
          [
           "Diary of Nurse"
          ],
          [
           "Diary of Nurse"
          ],
          [
           "Diary of Nurse"
          ],
          [
           "Diary of Nurse"
          ],
          [
           "Diary of Nurse"
          ],
          [
           "Diary of Nurse"
          ],
          [
           "Diary of Nurse"
          ],
          [
           "Diary of Nurse"
          ],
          [
           "Diary of Nurse"
          ],
          [
           "Diary of Nurse"
          ],
          [
           "Diary of Nurse"
          ],
          [
           "Diary of Nurse"
          ],
          [
           "Diary of Nurse"
          ],
          [
           "Diary of Nurse"
          ],
          [
           "Diary of Nurse"
          ],
          [
           "Diary of Nurse"
          ],
          [
           "Diary of Nurse"
          ],
          [
           "Diary of Nurse"
          ],
          [
           "Diary of Nurse"
          ],
          [
           "Diary of Nurse"
          ],
          [
           "Diary of Nurse"
          ],
          [
           "Diary of Nurse"
          ],
          [
           "Diary of Nurse"
          ],
          [
           "Diary of Nurse"
          ],
          [
           "Diary of Nurse"
          ],
          [
           "Diary of Nurse"
          ],
          [
           "Diary of Nurse"
          ],
          [
           "Diary of Nurse"
          ],
          [
           "Diary of Nurse"
          ],
          [
           "Diary of Nurse"
          ],
          [
           "Diary of Nurse"
          ],
          [
           "Diary of Nurse"
          ],
          [
           "Diary of Nurse"
          ],
          [
           "Diary of Nurse"
          ],
          [
           "Diary of Nurse"
          ],
          [
           "Diary of Nurse"
          ],
          [
           "Diary of Nurse"
          ],
          [
           "Diary of Nurse"
          ],
          [
           "Diary of Nurse"
          ],
          [
           "Diary of Nurse"
          ],
          [
           "Diary of Nurse"
          ],
          [
           "Diary of Nurse"
          ],
          [
           "Diary of Nurse"
          ],
          [
           "Diary of Nurse"
          ],
          [
           "Diary of Nurse"
          ],
          [
           "Diary of Nurse"
          ],
          [
           "Diary of Nurse"
          ],
          [
           "Diary of Nurse"
          ],
          [
           "Diary of Nurse"
          ],
          [
           "Diary of Nurse"
          ],
          [
           "Diary of Nurse"
          ],
          [
           "Diary of Nurse"
          ],
          [
           "Diary of Nurse"
          ],
          [
           "Diary of Nurse"
          ],
          [
           "Diary of Nurse"
          ],
          [
           "Diary of Nurse"
          ],
          [
           "Diary of Nurse"
          ],
          [
           "Diary of Nurse"
          ],
          [
           "Diary of Nurse"
          ],
          [
           "Diary of Nurse"
          ],
          [
           "Diary of Nurse"
          ],
          [
           "Diary of Nurse"
          ],
          [
           "Diary of Nurse"
          ],
          [
           "Diary of Nurse"
          ],
          [
           "Diary of Nurse"
          ],
          [
           "Diary of Nurse"
          ],
          [
           "Diary of Nurse"
          ],
          [
           "Diary of Nurse"
          ],
          [
           "Diary of Nurse"
          ],
          [
           "Diary of Nurse"
          ],
          [
           "Diary of Nurse"
          ],
          [
           "Diary of Nurse"
          ],
          [
           "Diary of Nurse"
          ],
          [
           "Diary of Nurse"
          ],
          [
           "Diary of Nurse"
          ],
          [
           "Diary of Nurse"
          ],
          [
           "Diary of Nurse"
          ],
          [
           "Diary of Nurse"
          ],
          [
           "Diary of Nurse"
          ],
          [
           "Diary of Nurse"
          ],
          [
           "Diary of Nurse"
          ],
          [
           "Diary of Nurse"
          ],
          [
           "Diary of Nurse"
          ],
          [
           "Diary of Nurse"
          ],
          [
           "Diary of Nurse"
          ],
          [
           "Diary of Nurse"
          ],
          [
           "Diary of Nurse"
          ],
          [
           "Diary of Nurse"
          ],
          [
           "Diary of Nurse"
          ],
          [
           "Diary of Nurse"
          ],
          [
           "Diary of Nurse"
          ],
          [
           "Diary of Nurse"
          ],
          [
           "Diary of Nurse"
          ],
          [
           "Diary of Nurse"
          ],
          [
           "Diary of Nurse"
          ],
          [
           "Diary of Nurse"
          ],
          [
           "Diary of Nurse"
          ],
          [
           "Diary of Nurse"
          ],
          [
           "Diary of Nurse"
          ],
          [
           "Diary of Nurse"
          ],
          [
           "Diary of Nurse"
          ],
          [
           "Diary of Nurse"
          ],
          [
           "Diary of Nurse"
          ],
          [
           "Diary of Nurse"
          ],
          [
           "Diary of Nurse"
          ],
          [
           "Diary of Nurse"
          ],
          [
           "Diary of Nurse"
          ],
          [
           "Diary of Nurse"
          ],
          [
           "Diary of Nurse"
          ],
          [
           "Diary of Nurse"
          ],
          [
           "Diary of Nurse"
          ],
          [
           "Diary of Nurse"
          ],
          [
           "Diary of Nurse"
          ],
          [
           "Diary of Nurse"
          ],
          [
           "Diary of Nurse"
          ],
          [
           "Diary of Nurse"
          ],
          [
           "Diary of Nurse"
          ],
          [
           "Diary of Nurse"
          ],
          [
           "Diary of Nurse"
          ],
          [
           "Diary of Nurse"
          ],
          [
           "Diary of Nurse"
          ],
          [
           "Diary of Nurse"
          ],
          [
           "Diary of Nurse"
          ],
          [
           "The Man from Laramie"
          ],
          [
           "The Man from Laramie"
          ],
          [
           "The Man from Laramie"
          ],
          [
           "The Man from Laramie"
          ],
          [
           "The Man from Laramie"
          ],
          [
           "The Man from Laramie"
          ],
          [
           "The Man from Laramie"
          ],
          [
           "The Man from Laramie"
          ],
          [
           "The Man from Laramie"
          ],
          [
           "The Man from Laramie"
          ],
          [
           "The Man from Laramie"
          ],
          [
           "The Man from Laramie"
          ],
          [
           "The Man from Laramie"
          ],
          [
           "The Man from Laramie"
          ],
          [
           "The Man from Laramie"
          ],
          [
           "The Man from Laramie"
          ],
          [
           "The Man from Laramie"
          ],
          [
           "The Man from Laramie"
          ],
          [
           "The Man from Laramie"
          ],
          [
           "The Man from Laramie"
          ],
          [
           "The Man from Laramie"
          ],
          [
           "The Man from Laramie"
          ],
          [
           "The Man from Laramie"
          ],
          [
           "The Man from Laramie"
          ],
          [
           "The Man from Laramie"
          ],
          [
           "The Man from Laramie"
          ],
          [
           "The Man from Laramie"
          ],
          [
           "The Man from Laramie"
          ],
          [
           "The Man from Laramie"
          ],
          [
           "The Man from Laramie"
          ],
          [
           "The Man from Laramie"
          ],
          [
           "The Man from Laramie"
          ],
          [
           "The Man from Laramie"
          ],
          [
           "The Man from Laramie"
          ],
          [
           "The Man from Laramie"
          ],
          [
           "The Man from Laramie"
          ],
          [
           "The Man from Laramie"
          ],
          [
           "The Man from Laramie"
          ],
          [
           "The Man from Laramie"
          ],
          [
           "The Man from Laramie"
          ],
          [
           "The Man from Laramie"
          ],
          [
           "The Man from Laramie"
          ],
          [
           "Sabrina"
          ],
          [
           "Sabrina"
          ],
          [
           "Sabrina"
          ],
          [
           "Sabrina"
          ],
          [
           "Sabrina"
          ],
          [
           "Sabrina"
          ],
          [
           "Sabrina"
          ],
          [
           "Sabrina"
          ],
          [
           "Sabrina"
          ],
          [
           "Sabrina"
          ],
          [
           "Sabrina"
          ],
          [
           "Sabrina"
          ],
          [
           "Sabrina"
          ],
          [
           "Sabrina"
          ],
          [
           "Sabrina"
          ],
          [
           "Sabrina"
          ],
          [
           "Sabrina"
          ],
          [
           "Sabrina"
          ],
          [
           "Sabrina"
          ],
          [
           "Sabrina"
          ],
          [
           "Sabrina"
          ],
          [
           "Sabrina"
          ],
          [
           "Sabrina"
          ],
          [
           "Sabrina"
          ],
          [
           "Sabrina"
          ],
          [
           "Sabrina"
          ],
          [
           "Sabrina"
          ],
          [
           "Sabrina"
          ],
          [
           "Sabrina"
          ],
          [
           "Sabrina"
          ],
          [
           "Sabrina"
          ],
          [
           "Sabrina"
          ],
          [
           "Sabrina"
          ],
          [
           "Sabrina"
          ],
          [
           "Sabrina"
          ],
          [
           "Sabrina"
          ],
          [
           "Sabrina"
          ],
          [
           "Sabrina"
          ],
          [
           "Sabrina"
          ],
          [
           "Sabrina"
          ],
          [
           "Sabrina"
          ],
          [
           "Sabrina"
          ],
          [
           "Sabrina"
          ],
          [
           "Sabrina"
          ],
          [
           "Sabrina"
          ],
          [
           "Sabrina"
          ],
          [
           "Sabrina"
          ],
          [
           "Sabrina"
          ],
          [
           "Sabrina"
          ],
          [
           "Sabrina"
          ],
          [
           "Sabrina"
          ],
          [
           "Sabrina"
          ],
          [
           "Sabrina"
          ],
          [
           "Sabrina"
          ],
          [
           "Sabrina"
          ],
          [
           "Sabrina"
          ],
          [
           "Sabrina"
          ],
          [
           "Sabrina"
          ],
          [
           "Sabrina"
          ],
          [
           "Sabrina"
          ],
          [
           "Sabrina"
          ],
          [
           "Sabrina"
          ],
          [
           "Sabrina"
          ],
          [
           "Sabrina"
          ],
          [
           "Sabrina"
          ],
          [
           "Sabrina"
          ],
          [
           "Sabrina"
          ],
          [
           "Sabrina"
          ],
          [
           "Sabrina"
          ],
          [
           "Sabrina"
          ],
          [
           "Sabrina"
          ],
          [
           "Sabrina"
          ],
          [
           "Sabrina"
          ],
          [
           "Sabrina"
          ],
          [
           "Sabrina"
          ],
          [
           "Sabrina"
          ],
          [
           "Sabrina"
          ],
          [
           "Sabrina"
          ],
          [
           "Sabrina"
          ],
          [
           "Sabrina"
          ],
          [
           "Sabrina"
          ],
          [
           "Sabrina"
          ],
          [
           "Sabrina"
          ],
          [
           "Sabrina"
          ],
          [
           "Sabrina"
          ],
          [
           "Sabrina"
          ],
          [
           "Sabrina"
          ],
          [
           "Sabrina"
          ],
          [
           "Sabrina"
          ],
          [
           "Sabrina"
          ],
          [
           "Sabrina"
          ],
          [
           "Sabrina"
          ],
          [
           "Sabrina"
          ],
          [
           "Sabrina"
          ],
          [
           "Sabrina"
          ],
          [
           "Sabrina"
          ],
          [
           "Sabrina"
          ],
          [
           "Sabrina"
          ],
          [
           "Sabrina"
          ],
          [
           "Sabrina"
          ],
          [
           "Sabrina"
          ],
          [
           "Sabrina"
          ],
          [
           "Sabrina"
          ],
          [
           "Sabrina"
          ],
          [
           "Sabrina"
          ],
          [
           "Sabrina"
          ],
          [
           "Sabrina"
          ],
          [
           "Sabrina"
          ],
          [
           "Sabrina"
          ],
          [
           "Sabrina"
          ],
          [
           "Sabrina"
          ],
          [
           "Sabrina"
          ],
          [
           "Sabrina"
          ],
          [
           "Sabrina"
          ],
          [
           "Sabrina"
          ],
          [
           "Sabrina"
          ]
         ],
         "hovertemplate": "Identity=Female<br>Timeline=%{x}<br>Face Box=%{y}<br>Film=%{customdata[0]}<extra></extra>",
         "legendgroup": "Female",
         "marker": {
          "color": "#EF553B",
          "symbol": "circle"
         },
         "mode": "markers",
         "name": "Female",
         "showlegend": true,
         "type": "scattergl",
         "x": [
          0.46045454545454545,
          0.465,
          0.465,
          0.46636363636363637,
          0.4668181818181818,
          0.47363636363636363,
          0.47545454545454546,
          0.48363636363636364,
          0.48409090909090907,
          0.48545454545454547,
          0.4859090909090909,
          0.5295454545454545,
          0.5309090909090909,
          0.5345454545454545,
          0.535,
          0.5404545454545454,
          0.5427272727272727,
          0.5431818181818182,
          0.5436363636363636,
          0.5472727272727272,
          0.5477272727272727,
          0.5481818181818182,
          0.5509090909090909,
          0.5513636363636364,
          0.5518181818181818,
          0.5522727272727272,
          0.5618181818181818,
          0.6045454545454545,
          0.610909090909091,
          0.6113636363636363,
          0.6118181818181818,
          0.615,
          0.6154545454545455,
          0.6190909090909091,
          0.6354545454545455,
          0.6377272727272727,
          0.6445454545454545,
          0.645,
          0.6454545454545455,
          0.6459090909090909,
          0.6468181818181818,
          0.6472727272727272,
          0.6477272727272727,
          0.6481818181818182,
          0.6486363636363637,
          0.649090909090909,
          0.6495454545454545,
          0.6504545454545455,
          0.6518181818181819,
          0.6527272727272727,
          0.6531818181818182,
          0.6536363636363637,
          0.6540909090909091,
          0.7336363636363636,
          0.7340909090909091,
          0.7463636363636363,
          0.7468181818181818,
          0.76,
          0.765,
          0.7713636363636364,
          0.8136363636363636,
          0.8931818181818182,
          0.8968181818181818,
          0.9,
          0.9009090909090909,
          0.9022727272727272,
          0.9045454545454545,
          0.9163636363636364,
          0.9172727272727272,
          0.9181818181818182,
          0.9186363636363636,
          0.9190909090909091,
          0.9195454545454546,
          0.92,
          0.9218181818181819,
          0.9222727272727272,
          0.9227272727272727,
          0.9231818181818182,
          0.9236363636363636,
          0.9240909090909091,
          0.9245454545454546,
          0.925,
          0.9254545454545454,
          0.9263636363636364,
          0.9272727272727272,
          0.9286363636363636,
          0.9290909090909091,
          0.9295454545454546,
          0.9309090909090909,
          0.9313636363636364,
          0.9318181818181818,
          0.9331818181818182,
          0.9336363636363636,
          0.9340909090909091,
          0.9345454545454546,
          0.935,
          0.9354545454545454,
          0.9359090909090909,
          0.9363636363636364,
          0.9372727272727273,
          0.9563636363636364,
          0.9572727272727273,
          0.965,
          0.9713636363636363,
          0.9718181818181818,
          0.9754545454545455,
          0.9813636363636363,
          0.13772727272727273,
          0.13954545454545456,
          0.14136363636363636,
          0.14181818181818182,
          0.14227272727272727,
          0.14272727272727273,
          0.1431818181818182,
          0.14363636363636365,
          0.1459090909090909,
          0.15454545454545454,
          0.17045454545454544,
          0.19090909090909092,
          0.22954545454545455,
          0.26454545454545453,
          0.29409090909090907,
          0.3004545454545455,
          0.3054545454545455,
          0.30818181818181817,
          0.31863636363636366,
          0.32045454545454544,
          0.3245454545454545,
          0.33181818181818185,
          0.3322727272727273,
          0.3327272727272727,
          0.3331818181818182,
          0.3336363636363636,
          0.3340909090909091,
          0.3418181818181818,
          0.3422727272727273,
          0.3427272727272727,
          0.3431818181818182,
          0.3563636363636364,
          0.36818181818181817,
          0.3890909090909091,
          0.38954545454545453,
          0.41818181818181815,
          0.4240909090909091,
          0.45045454545454544,
          0.4577198148927219,
          0.45814051325199834,
          0.4623474968447623,
          0.4694993689524611,
          0.46992006731173747,
          0.4703407656710139,
          0.48716870004206986,
          0.48758939840134624,
          0.488430795119899,
          0.49179638199411024,
          0.492637778712663,
          0.5023138409760202,
          0.503155237694573,
          0.5061001262095077,
          0.5082036180058898,
          0.5115692048801009,
          0.5502734539335297,
          0.550694152292806,
          0.5511148506520824,
          0.5557425326041229,
          0.5561632309633993,
          0.559108119478334,
          0.5595288178376104,
          0.563315103071098,
          0.5637358014303744,
          0.5641564997896508,
          0.5645771981489273,
          0.5662599915860328,
          0.5666806899453092,
          0.5675220866638621,
          0.5679427850231384,
          0.5692048801009676,
          0.5700462768195204,
          0.5708876735380732,
          0.5713083718973496,
          0.5725704669751788,
          0.5851914177534707,
          0.5860328144720236,
          0.6293647454774927,
          0.629785443836769,
          0.6743794699200674,
          0.6949936895246108,
          0.700462768195204,
          0.7181320992848128,
          0.7433740008413967,
          0.918805216659655,
          0.9267984854859066,
          0.927219183845183,
          0.9276398822044594,
          0.9284812789230122,
          0.929322675641565,
          0.9297433740008414,
          0.9301640723601178,
          0.9318468657972234,
          0.9381573411863694,
          0.9549852755574253,
          0.9554059739167017,
          0.9558266722759782,
          0.9562473706352546,
          0.9566680689945309,
          0.9570887673538073,
          0.9747580984434161,
          0.11611274716028608,
          0.12158182583087926,
          0.12200252419015566,
          0.12284392090870845,
          0.15860328144720234,
          0.19099705511148507,
          0.19394194362641987,
          0.19856962557846025,
          0.19899032393773664,
          0.19941102229701305,
          0.20067311737484222,
          0.25746739587715606,
          0.2797644089188052,
          0.30458561211611274,
          0.3264619267984855,
          0.3857803954564577,
          0.38620109381573414,
          0.40723601177955404,
          0.4076567101388305,
          0.48116356700047686,
          0.4816404387219838,
          0.4830710538865045,
          0.48354792560801146,
          0.48497854077253216,
          0.04864091559370529,
          0.5164520743919886,
          0.5298044825941821,
          0.5331425846447305,
          0.5340963280877444,
          0.5345731998092513,
          0.5383881735813066,
          0.5388650453028135,
          0.5393419170243204,
          0.5398187887458273,
          0.5402956604673342,
          0.5407725321888412,
          0.5412494039103481,
          0.541726275631855,
          0.5431568907963757,
          0.5450643776824035,
          0.5484024797329519,
          0.5503099666189795,
          0.5507868383404864,
          0.5560324272770625,
          0.5565092989985694,
          0.5569861707200763,
          0.5579399141630901,
          0.5598474010491178,
          0.569861707200763,
          0.5708154506437768,
          0.05722460658082976,
          0.5741535526943252,
          0.5784453981878874,
          0.5789222699093943,
          0.5813066285169289,
          0.5832141154029566,
          0.5836909871244635,
          0.058655221745350504,
          0.5917978063900811,
          0.592274678111588,
          0.5927515498330949,
          0.5932284215546018,
          0.5965665236051502,
          0.5975202670481641,
          0.6065808297567954,
          0.6070577014783023,
          0.6075345731998093,
          0.6080114449213162,
          0.6127801621363853,
          0.6208869814020028,
          0.6266094420600858,
          0.6275631855030996,
          0.6280400572246065,
          0.6285169289461134,
          0.6289938006676205,
          0.631378159275155,
          0.6332856461611827,
          0.6394849785407726,
          0.6399618502622795,
          0.6404387219837864,
          0.6409155937052933,
          0.6413924654268002,
          0.6418693371483071,
          0.6432999523128279,
          0.6442536957558417,
          0.6447305674773486,
          0.6456843109203624,
          0.6461611826418694,
          0.6466380543633763,
          0.6471149260848832,
          0.6533142584644731,
          0.65379113018598,
          0.06723891273247497,
          0.06771578445398188,
          0.0681926561754888,
          0.06866952789699571,
          0.6971864568431092,
          0.7000476871721507,
          0.7024320457796852,
          0.7029089175011922,
          0.7086313781592751,
          0.7157844539818788,
          0.7167381974248928,
          0.7186456843109204,
          0.07200762994754412,
          0.07296137339055794,
          0.753934191702432,
          0.7577491654744873,
          0.759656652360515,
          0.07629947544110634,
          0.7634716261325704,
          0.7639484978540773,
          0.765855984740105,
          0.07677634716261325,
          0.7687172150691464,
          0.7858845970433953,
          0.7901764425369575,
          0.7944682880305198,
          0.7949451597520267,
          0.7958989031950405,
          0.7982832618025751,
          0.798760133524082,
          0.8178350023843586,
          0.8183118741058655,
          0.821173104434907,
          0.8221268478779208,
          0.8226037195994278,
          0.8230805913209347,
          0.8249880782069623,
          0.8254649499284692,
          0.8259418216499762,
          0.832141154029566,
          0.8330948974725799,
          0.8516928946113496,
          0.08631378159275155,
          0.8736289938006676,
          0.8741058655221745,
          0.9036719122556033,
          0.9256080114449213,
          0.932761087267525,
          0.933237958989032,
          0.9446828803051979,
          0.9723414401525989,
          0.9728183118741058,
          0.9732951835956127,
          0.9747257987601335,
          0.9766332856461611,
          0.977110157367668,
          0.977587029089175,
          0.9785407725321889,
          0.9790176442536958,
          0.9799713876967096,
          0.9814020028612304,
          0.9828326180257511,
          0.983309489747258,
          0.10538865045302813,
          0.10634239389604197,
          0.10681926561754888,
          0.10777300906056271,
          0.10824988078206962,
          0.1139723414401526,
          0.11444921316165951,
          0.11492608488316643,
          0.12207916070577014,
          0.12303290414878398,
          0.15164520743919885,
          0.15212207916070578,
          0.15736766809728184,
          0.1721506914639962,
          0.1726275631855031,
          0.17310443490701002,
          0.17453505007153075,
          0.17548879351454458,
          0.020028612303290415,
          0.20600858369098712,
          0.20648545541249405,
          0.22508345255126372,
          0.024320457796852647,
          0.2875536480686695,
          0.290414878397711,
          0.2908917501192179,
          0.2913686218407248,
          0.2918454935622318,
          0.3023366714353839,
          0.3361945636623748,
          0.3371483071053887,
          0.3671912255603243,
          0.3676680972818312,
          0.3843586075345732,
          0.03862660944206009,
          0.3867429661421078,
          0.3872198378636147,
          0.38960419647114924,
          0.3900810681926562,
          0.3905579399141631,
          0.39294229852169765,
          0.4005722460658083,
          0.4029566046733429,
          0.41917024320457796,
          0.41964711492608486,
          0.4253695755841679,
          0.4263233190271817,
          0.4268001907486886,
          0.42823080591320933,
          0.43061516452074394,
          0.43490701001430615,
          0.4401525989508822,
          0.44158321411540297,
          0.44206008583690987,
          0.4434907010014306,
          0.04482594182164998,
          0.4496900333810205,
          0.4515975202670482,
          0.4554124940391035,
          0.4668574153552694,
          0.4673342870767763,
          0.4682880305197902,
          0.46971864568431093,
          0.43535045711798,
          0.0457117979973879,
          0.046147148454505876,
          0.4671310404875925,
          0.47322594688724423,
          0.5045711797997388,
          0.5054418807139748,
          0.5080539834566826,
          0.5093600348280366,
          0.543317370483239,
          0.5476708750544188,
          0.5589899869394863,
          0.5594253373966043,
          0.587287766652155,
          0.5968654767087506,
          0.5990422289943405,
          0.6003482803656944,
          0.6029603831084023,
          0.6033957335655202,
          0.6077492381367,
          0.610361340879408,
          0.6107966913365259,
          0.6116673922507618,
          0.6121027427078798,
          0.6125380931649979,
          0.6177622986504135,
          0.6242925555071833,
          0.6247279059643013,
          0.6251632564214192,
          0.6360470178493688,
          0.6364823683064867,
          0.6909011754462342,
          0.7100565955594254,
          0.7109272964736613,
          0.7157161515019591,
          0.7252938615585547,
          0.7279059643012625,
          0.7283413147583805,
          0.7287766652154984,
          0.7292120156726165,
          0.7296473661297345,
          0.7300827165868524,
          0.7305180670439704,
          0.7331301697866782,
          0.7666521549847627,
          0.7683935568132346,
          0.7975620374401393,
          0.8101872006965607,
          0.8106225511536788,
          0.8110579016107967,
          0.8114932520679147,
          0.8119286025250326,
          0.8123639529821506,
          0.8127993034392686,
          0.8132346538963866,
          0.8136700043535046,
          0.8145407052677406,
          0.8149760557248585,
          0.825859817152808,
          0.8262951676099259,
          0.826730518067044,
          0.8350021767522856,
          0.8354375272094036,
          0.8358728776665215,
          0.8363082281236395,
          0.8380496299521114,
          0.8384849804092295,
          0.8393556813234654,
          0.8445798868088812,
          0.8450152372659991,
          0.8454505877231171,
          0.8519808445798868,
          0.8532868959512407,
          0.8576404005224205,
          0.8585111014366565,
          0.08619939050936004,
          0.8641706573791903,
          0.8646060078363083,
          0.8650413582934262,
          0.8654767087505442,
          0.087070091423596,
          0.8855028297779712,
          0.890727035263387,
          0.9077057030909882,
          0.9111885067479321,
          0.912929908576404,
          0.913365259033522,
          0.9294732259468872,
          0.9429690901175446,
          0.9438397910317806,
          0.9595124074880279,
          0.977797126686983,
          0.978667827601219,
          0.9791031780583369,
          0.9830213321723987,
          0.9891162385720506,
          0.9925990422289943,
          0.10927296473661298,
          0.12059207662168045,
          0.12538093164997824,
          0.12581628210709622,
          0.13800609490639965,
          0.14148889856334348,
          0.18154114061819765,
          0.20113191118850673,
          0.20156726164562472,
          0.2020026121027427,
          0.21549847627340007,
          0.21593382673051806,
          0.26208097518502393,
          0.26861123204179366,
          0.27296473661297344,
          0.2751414888985633,
          0.27557683935568134,
          0.2781889420983892,
          0.27949499346974316,
          0.2799303439268611,
          0.2803656943839791,
          0.2808010448410971,
          0.28123639529821504,
          0.282107096212451,
          0.28428384849804095,
          0.2956029603831084,
          0.29603831084022636,
          0.3134523291249456,
          0.31388767958206354,
          0.38310840226382237,
          0.3835437527209404,
          0.3870265563778842,
          0.3874619068350022,
          0.39050936003482806,
          0.390944710491946,
          0.391380060949064,
          0.40226382237701347,
          0.4026991728341315,
          0.40313452329124944,
          0.4053112755768394,
          0.4079233783195472,
          0.40966478014801916,
          0.4105354810622551,
          0.4109708315193731,
          0.41663038746190684,
          0.4209838920330866,
          0.4214192424902046,
          0.4218545929473226,
          0.4222899434044406,
          0.4257727470613844,
          0.4279494993469743,
          0.4283848498040923,
          0.43143230300391816,
          0.4318676534610361,
          0.4323030039181541,
          0.4327383543752721,
          0.4331737048323901,
          0.43360905528950805,
          0.43404440574662606,
          0.434479756203744,
          0.43491510666086197,
          0.4549858700040371,
          0.4553895841744045,
          0.45700444085587405,
          0.45821558336697615,
          0.6830843762616068,
          0.6834880904319741,
          0.6867178037949132,
          0.6871215179652805,
          0.6879289463060153,
          0.6883326604763828,
          0.690754945498587,
          0.6911586596689544,
          0.7012515139281389,
          0.7032700847799758,
          0.7040775131207105,
          0.7044812272910779,
          0.707710940654017,
          0.7085183689947517,
          0.7089220831651191,
          0.07266855066612839,
          0.07347597900686315,
          0.08518368994751715,
          0.08558740411788454,
          0.08679854662898667,
          0.08720226079935406,
          0.8724263221639079,
          0.8732337505046427,
          0.8768671780379491,
          0.8776746063786839,
          0.08881711748082358,
          0.08962454582155834,
          0.11949939442874445,
          0.12071053693984658,
          0.20145337101332256,
          0.20185708518368994,
          0.20993136859103753,
          0.2131610819539766,
          0.21517965280581347,
          0.21639079531691563,
          0.21719822365765037,
          0.24303593056116268,
          0.28663706096083974,
          0.03853144311159579,
          0.40748818611414034,
          0.41366775717920756,
          0.4296619411123228,
          0.44929116684841874,
          0.4496546710287168,
          0.4500181752090149,
          0.45038167938931295,
          0.4514721919302072,
          0.4518356961105053,
          0.45328971283169756,
          0.4536532170119956,
          0.4540167211922937,
          0.45619774627408216,
          0.45765176299527444,
          0.4580152671755725,
          0.5070883315158125,
          0.5074518356961105,
          0.5078153398764086,
          0.5085423482370047,
          0.5089058524173028,
          0.5139949109414759,
          0.5183569611050527,
          0.5187204652853508,
          0.5190839694656488,
          0.5212649945474372,
          0.5223555070883316,
          0.5230825154489277,
          0.5412577244638314,
          0.5416212286441294,
          0.5441657579062159,
          0.6143220647037441,
          0.6146855688840421,
          0.6179571065067249,
          0.6746637586332243,
          0.6786623046165031,
          0.6899309342057434,
          0.6913849509269356,
          0.6961105052708106,
          0.7044711014176663,
          0.7048346055979644,
          0.7051981097782625,
          0.7055616139585605,
          0.7059251181388586,
          0.7062886223191567,
          0.7066521264994547,
          0.707742639040349,
          0.708106143220647,
          0.7084696474009451,
          0.7102871683024354,
          0.7106506724827335,
          0.7110141766630316,
          0.7139222101054162,
          0.0737913486005089,
          0.7982551799345693,
          0.7989821882951654,
          0.7997091966557616,
          0.8000727008360596,
          0.8004362050163577,
          0.8047982551799345,
          0.8062522719011269,
          0.0806979280261723,
          0.8077062886223192,
          0.8087968011632134,
          0.08106143220647037,
          0.08142493638676845,
          0.8444202108324246,
          0.8491457651762996,
          0.8498727735368957,
          0.8589603780443476,
          0.8665939658306071,
          0.8702290076335878,
          0.8705925118138859,
          0.8716830243547801,
          0.876045074518357,
          0.8796801163213377,
          0.881497637222828,
          0.8818611414031261,
          0.8822246455834242,
          0.8825881497637222,
          0.8829516539440203,
          0.8833151581243184,
          0.8840421664849146,
          0.8844056706652127,
          0.8851326790258088,
          0.885859687386405,
          0.0985096328607779,
          0.0999636495819702,
          0.10650672482733552,
          0.10687022900763359,
          0.1366775717920756,
          0.1370410759723737,
          0.1504907306434024,
          0.15121773900399854,
          0.1519447473645947,
          0.15848782260996003,
          0.16175936023264267,
          0.2093784078516903,
          0.21374045801526717,
          0.2173754998182479,
          0.21846601235914212,
          0.21919302071973829,
          0.22101054162122866,
          0.2217375499818248,
          0.296982915303526,
          0.29734641948382406,
          0.2980734278444202,
          0.29843693202471827,
          0.2991639403853144,
          0.2995274445656125,
          0.3249727371864776,
          0.32969829153035257,
          0.3435114503816794,
          0.356234096692112,
          0.35768811341330425,
          0.3580516175936023
         ],
         "xaxis": "x",
         "y": [
          "0.81",
          "0.00",
          "0.73",
          "0.67",
          "0.01",
          "0.07",
          "0.00",
          "0.00",
          "0.00",
          "0.11",
          "0.36",
          "0.83",
          "0.00",
          "0.00",
          "0.00",
          "0.37",
          "0.00",
          "0.00",
          "0.00",
          "0.00",
          "0.05",
          "0.00",
          "0.32",
          "0.37",
          "0.32",
          "0.13",
          "0.00",
          "0.96",
          "1.19",
          "0.00",
          "0.64",
          "0.14",
          "1.51",
          "0.00",
          "0.75",
          "0.00",
          "0.74",
          "0.13",
          "0.54",
          "0.56",
          "0.76",
          "1.00",
          "1.00",
          "0.66",
          "0.65",
          "1.62",
          "0.87",
          "1.35",
          "2.14",
          "0.00",
          "0.00",
          "0.14",
          "0.00",
          "0.59",
          "0.39",
          "0.87",
          "0.23",
          "0.71",
          "0.00",
          "1.52",
          "0.49",
          "0.00",
          "0.00",
          "1.03",
          "0.79",
          "0.22",
          "0.97",
          "1.08",
          "0.59",
          "0.65",
          "1.84",
          "1.36",
          "1.13",
          "1.21",
          "1.55",
          "0.04",
          "1.30",
          "0.52",
          "0.24",
          "0.29",
          "0.26",
          "0.00",
          "0.24",
          "0.00",
          "0.04",
          "0.14",
          "0.92",
          "1.18",
          "0.64",
          "1.59",
          "0.49",
          "1.60",
          "0.04",
          "0.71",
          "0.00",
          "0.96",
          "1.99",
          "1.58",
          "2.45",
          "0.90",
          "0.00",
          "0.00",
          "0.95",
          "0.22",
          "0.59",
          "0.44",
          "1.43",
          "0.36",
          "0.12",
          "1.04",
          "0.67",
          "1.65",
          "1.36",
          "1.37",
          "1.02",
          "0.77",
          "1.22",
          "0.67",
          "0.00",
          "1.53",
          "1.85",
          "1.10",
          "0.00",
          "0.00",
          "0.00",
          "0.54",
          "1.08",
          "0.19",
          "0.00",
          "0.22",
          "0.00",
          "0.00",
          "0.00",
          "0.00",
          "0.28",
          "0.71",
          "0.88",
          "0.00",
          "0.51",
          "1.16",
          "0.97",
          "1.35",
          "0.96",
          "2.15",
          "0.51",
          "0.00",
          "0.00",
          "0.00",
          "0.30",
          "1.23",
          "0.79",
          "0.17",
          "1.95",
          "0.93",
          "0.35",
          "0.00",
          "0.83",
          "0.72",
          "0.00",
          "1.10",
          "0.00",
          "0.46",
          "0.00",
          "0.47",
          "0.00",
          "1.87",
          "0.00",
          "0.65",
          "2.51",
          "0.98",
          "1.12",
          "0.90",
          "0.51",
          "2.13",
          "0.00",
          "1.45",
          "2.71",
          "0.33",
          "0.38",
          "1.25",
          "0.00",
          "0.75",
          "0.93",
          "0.53",
          "0.40",
          "0.00",
          "0.00",
          "0.00",
          "0.00",
          "0.00",
          "2.31",
          "1.97",
          "0.94",
          "1.10",
          "0.33",
          "1.67",
          "0.53",
          "1.31",
          "2.69",
          "1.33",
          "1.56",
          "0.28",
          "1.67",
          "0.00",
          "0.93",
          "0.98",
          "0.00",
          "1.76",
          "0.23",
          "1.23",
          "0.10",
          "0.78",
          "0.33",
          "0.91",
          "1.97",
          "0.23",
          "1.70",
          "0.49",
          "1.69",
          "1.73",
          "1.86",
          "0.89",
          "0.00",
          "1.42",
          "1.56",
          "1.78",
          "0.33",
          "1.69",
          "0.57",
          "0.47",
          "0.43",
          "1.46",
          "1.04",
          "0.43",
          "0.46",
          "0.70",
          "0.00",
          "1.55",
          "0.62",
          "0.69",
          "1.61",
          "0.00",
          "1.34",
          "0.00",
          "0.17",
          "0.28",
          "0.41",
          "0.29",
          "0.25",
          "0.21",
          "1.29",
          "0.00",
          "0.00",
          "1.48",
          "0.22",
          "2.51",
          "0.83",
          "0.07",
          "0.97",
          "0.34",
          "0.25",
          "0.63",
          "0.10",
          "0.09",
          "0.45",
          "0.77",
          "0.77",
          "0.47",
          "0.38",
          "0.62",
          "0.91",
          "0.13",
          "0.34",
          "1.11",
          "0.61",
          "0.00",
          "0.11",
          "1.75",
          "0.57",
          "0.00",
          "0.00",
          "0.00",
          "0.95",
          "0.00",
          "1.26",
          "1.66",
          "1.40",
          "0.88",
          "0.86",
          "0.18",
          "0.89",
          "0.00",
          "0.57",
          "0.36",
          "0.59",
          "0.95",
          "0.50",
          "0.00",
          "0.46",
          "0.00",
          "0.00",
          "0.33",
          "0.03",
          "0.00",
          "0.52",
          "0.05",
          "0.00",
          "0.00",
          "1.65",
          "0.59",
          "1.41",
          "0.63",
          "0.00",
          "0.65",
          "0.01",
          "0.19",
          "1.00",
          "2.26",
          "0.00",
          "0.59",
          "0.45",
          "0.58",
          "1.30",
          "0.14",
          "0.85",
          "0.19",
          "2.35",
          "1.34",
          "0.10",
          "0.00",
          "0.00",
          "0.55",
          "1.28",
          "1.74",
          "0.95",
          "1.74",
          "0.00",
          "0.00",
          "0.45",
          "0.00",
          "0.07",
          "1.27",
          "1.08",
          "0.25",
          "1.06",
          "0.38",
          "0.23",
          "0.47",
          "1.36",
          "0.82",
          "0.80",
          "0.81",
          "1.29",
          "0.05",
          "0.61",
          "0.96",
          "0.00",
          "0.70",
          "1.47",
          "0.46",
          "0.70",
          "0.00",
          "2.48",
          "0.16",
          "0.18",
          "0.00",
          "0.22",
          "0.56",
          "0.88",
          "0.57",
          "0.34",
          "1.32",
          "0.11",
          "0.00",
          "0.37",
          "0.00",
          "0.00",
          "0.31",
          "0.00",
          "0.38",
          "1.36",
          "0.76",
          "1.16",
          "0.95",
          "0.00",
          "0.39",
          "0.36",
          "0.74",
          "0.85",
          "0.04",
          "0.98",
          "0.31",
          "0.06",
          "0.18",
          "0.51",
          "0.69",
          "1.57",
          "1.20",
          "0.00",
          "0.00",
          "0.00",
          "0.80",
          "0.21",
          "1.00",
          "0.03",
          "1.24",
          "0.17",
          "0.51",
          "0.30",
          "0.30",
          "0.97",
          "0.49",
          "0.52",
          "0.91",
          "0.74",
          "0.46",
          "0.95",
          "1.34",
          "1.61",
          "0.39",
          "0.60",
          "0.00",
          "0.00",
          "0.00",
          "0.61",
          "1.58",
          "0.00",
          "0.00",
          "0.00",
          "0.61",
          "0.86",
          "0.00",
          "2.46",
          "0.00",
          "0.00",
          "0.99",
          "0.00",
          "1.06",
          "0.09",
          "0.00",
          "0.09",
          "0.61",
          "0.95",
          "0.00",
          "0.00",
          "0.01",
          "0.60",
          "0.00",
          "0.00",
          "0.00",
          "1.65",
          "0.00",
          "0.54",
          "0.15",
          "1.49",
          "0.20",
          "1.16",
          "0.00",
          "0.57",
          "0.18",
          "0.00",
          "0.00",
          "0.00",
          "0.00",
          "0.00",
          "0.26",
          "0.16",
          "0.00",
          "1.01",
          "1.59",
          "0.00",
          "0.99",
          "1.50",
          "2.37",
          "0.00",
          "0.00",
          "0.00",
          "0.00",
          "0.00",
          "0.00",
          "0.00",
          "2.24",
          "2.21",
          "0.04",
          "0.00",
          "0.00",
          "0.67",
          "0.75",
          "0.38",
          "0.60",
          "1.20",
          "0.00",
          "0.00",
          "0.00",
          "0.00",
          "0.00",
          "0.06",
          "2.31",
          "0.56",
          "1.13",
          "0.26",
          "0.00",
          "0.16",
          "0.00",
          "0.00",
          "0.00",
          "1.35",
          "1.62",
          "1.28",
          "0.00",
          "0.00",
          "1.28",
          "0.83",
          "1.84",
          "0.63",
          "0.27",
          "0.58",
          "0.04",
          "0.69",
          "0.00",
          "0.05",
          "0.87",
          "0.00",
          "0.23",
          "0.00",
          "0.00",
          "0.77",
          "1.37",
          "1.80",
          "0.00",
          "0.64",
          "0.47",
          "0.61",
          "0.90",
          "1.13",
          "0.30",
          "0.69",
          "0.42",
          "1.33",
          "0.00",
          "0.00",
          "0.83",
          "0.35",
          "0.00",
          "0.96",
          "0.00",
          "0.05",
          "1.29",
          "0.61",
          "0.00",
          "0.98",
          "0.00",
          "0.23",
          "0.49",
          "0.90",
          "0.00",
          "0.51",
          "1.15",
          "0.00",
          "1.02",
          "0.78",
          "0.00",
          "0.31",
          "0.66",
          "0.00",
          "0.33",
          "0.62",
          "1.18",
          "1.18",
          "1.05",
          "1.33",
          "1.76",
          "1.79",
          "0.75",
          "1.81",
          "1.35",
          "0.90",
          "1.10",
          "0.96",
          "1.65",
          "1.83",
          "1.97",
          "1.90",
          "0.00",
          "0.21",
          "0.55",
          "0.31",
          "0.87",
          "1.52",
          "1.12",
          "0.00",
          "0.00",
          "0.63",
          "1.75",
          "2.43",
          "0.00",
          "2.09",
          "0.47",
          "0.00",
          "0.10",
          "0.85",
          "1.46",
          "0.00",
          "0.10",
          "0.79",
          "0.13",
          "0.00",
          "0.93",
          "1.75",
          "0.00",
          "0.30",
          "0.00",
          "1.00",
          "2.37",
          "1.30",
          "0.36",
          "0.30",
          "1.13",
          "0.00",
          "0.28",
          "0.23",
          "1.69",
          "0.42",
          "0.00",
          "0.04",
          "1.32",
          "0.09",
          "0.00",
          "0.00",
          "1.43",
          "2.22",
          "1.74",
          "1.58",
          "1.22",
          "1.06",
          "0.09",
          "2.28",
          "0.67",
          "0.78",
          "1.43",
          "1.58",
          "0.00",
          "0.15",
          "0.32",
          "0.00",
          "0.00",
          "0.00",
          "0.00",
          "0.00",
          "0.01",
          "0.00",
          "0.00",
          "0.00",
          "0.06",
          "0.72",
          "0.29",
          "0.00",
          "0.13",
          "0.00",
          "0.00",
          "0.46",
          "0.49",
          "0.47",
          "0.68",
          "2.95",
          "2.77",
          "2.85",
          "2.85",
          "2.44",
          "2.94",
          "2.85",
          "1.09",
          "1.92",
          "0.95",
          "1.65",
          "2.74",
          "1.47",
          "1.68",
          "0.00",
          "0.65",
          "0.40",
          "0.46",
          "0.00",
          "1.26",
          "0.34",
          "0.22",
          "1.88",
          "0.82",
          "1.36",
          "0.01",
          "0.75",
          "0.00",
          "1.35",
          "1.35",
          "0.25",
          "0.00",
          "0.00",
          "0.00",
          "0.00",
          "0.00",
          "0.00",
          "0.00",
          "0.00",
          "0.00",
          "0.52",
          "0.63",
          "0.48",
          "0.00",
          "0.00",
          "0.17",
          "0.00",
          "0.00",
          "0.37",
          "1.02",
          "0.00",
          "1.10",
          "1.23",
          "0.00",
          "0.00",
          "0.11",
          "0.00",
          "0.00",
          "0.37",
          "1.05",
          "0.00",
          "0.00",
          "0.00",
          "0.89",
          "0.00",
          "0.00",
          "0.00",
          "0.00",
          "0.00",
          "0.00",
          "0.00",
          "1.08",
          "0.12",
          "1.68",
          "0.72",
          "0.94",
          "0.52"
         ],
         "yaxis": "y"
        },
        {
         "customdata": [
          [
           "Human Desire"
          ],
          [
           "Human Desire"
          ],
          [
           "Human Desire"
          ],
          [
           "Human Desire"
          ],
          [
           "Human Desire"
          ],
          [
           "Human Desire"
          ],
          [
           "Human Desire"
          ],
          [
           "Human Desire"
          ],
          [
           "Human Desire"
          ],
          [
           "Human Desire"
          ],
          [
           "Human Desire"
          ],
          [
           "Human Desire"
          ],
          [
           "Human Desire"
          ],
          [
           "Human Desire"
          ],
          [
           "Human Desire"
          ],
          [
           "Human Desire"
          ],
          [
           "Human Desire"
          ],
          [
           "Human Desire"
          ],
          [
           "Human Desire"
          ],
          [
           "Human Desire"
          ],
          [
           "Human Desire"
          ],
          [
           "Human Desire"
          ],
          [
           "Human Desire"
          ],
          [
           "Human Desire"
          ],
          [
           "Human Desire"
          ],
          [
           "Human Desire"
          ],
          [
           "Human Desire"
          ],
          [
           "Human Desire"
          ],
          [
           "Human Desire"
          ],
          [
           "Human Desire"
          ],
          [
           "Human Desire"
          ],
          [
           "Human Desire"
          ],
          [
           "Human Desire"
          ],
          [
           "Human Desire"
          ],
          [
           "Human Desire"
          ],
          [
           "Human Desire"
          ],
          [
           "Human Desire"
          ],
          [
           "Human Desire"
          ],
          [
           "Human Desire"
          ],
          [
           "Human Desire"
          ],
          [
           "Human Desire"
          ],
          [
           "Human Desire"
          ],
          [
           "Human Desire"
          ],
          [
           "Human Desire"
          ],
          [
           "Human Desire"
          ],
          [
           "Human Desire"
          ],
          [
           "Human Desire"
          ],
          [
           "Human Desire"
          ],
          [
           "Human Desire"
          ],
          [
           "Human Desire"
          ],
          [
           "Human Desire"
          ],
          [
           "Human Desire"
          ],
          [
           "Human Desire"
          ],
          [
           "Human Desire"
          ],
          [
           "Human Desire"
          ],
          [
           "Human Desire"
          ],
          [
           "Human Desire"
          ],
          [
           "Human Desire"
          ],
          [
           "Human Desire"
          ],
          [
           "Human Desire"
          ],
          [
           "Human Desire"
          ],
          [
           "Human Desire"
          ],
          [
           "Human Desire"
          ],
          [
           "Human Desire"
          ],
          [
           "Human Desire"
          ],
          [
           "Human Desire"
          ],
          [
           "Human Desire"
          ],
          [
           "Human Desire"
          ],
          [
           "Our Village"
          ],
          [
           "Our Village"
          ],
          [
           "Our Village"
          ],
          [
           "Our Village"
          ],
          [
           "Our Village"
          ],
          [
           "Our Village"
          ],
          [
           "Our Village"
          ],
          [
           "Our Village"
          ],
          [
           "Our Village"
          ],
          [
           "Our Village"
          ],
          [
           "Our Village"
          ],
          [
           "Our Village"
          ],
          [
           "Our Village"
          ],
          [
           "Our Village"
          ],
          [
           "Our Village"
          ],
          [
           "Our Village"
          ],
          [
           "Our Village"
          ],
          [
           "Our Village"
          ],
          [
           "Our Village"
          ],
          [
           "Our Village"
          ],
          [
           "Our Village"
          ],
          [
           "Our Village"
          ],
          [
           "Our Village"
          ],
          [
           "Our Village"
          ],
          [
           "Our Village"
          ],
          [
           "Our Village"
          ],
          [
           "Our Village"
          ],
          [
           "Our Village"
          ],
          [
           "Our Village"
          ],
          [
           "Our Village"
          ],
          [
           "Our Village"
          ],
          [
           "Our Village"
          ],
          [
           "Our Village"
          ],
          [
           "Our Village"
          ],
          [
           "Our Village"
          ],
          [
           "Our Village"
          ],
          [
           "Our Village"
          ],
          [
           "Our Village"
          ],
          [
           "Our Village"
          ],
          [
           "Cliff"
          ],
          [
           "Cliff"
          ],
          [
           "Cliff"
          ],
          [
           "Cliff"
          ],
          [
           "Cliff"
          ],
          [
           "Cliff"
          ],
          [
           "Cliff"
          ],
          [
           "Cliff"
          ],
          [
           "Cliff"
          ],
          [
           "Cliff"
          ],
          [
           "Cliff"
          ],
          [
           "Cliff"
          ],
          [
           "Cliff"
          ],
          [
           "Cliff"
          ],
          [
           "Cliff"
          ],
          [
           "Cliff"
          ],
          [
           "Cliff"
          ],
          [
           "Cliff"
          ],
          [
           "Cliff"
          ],
          [
           "Cliff"
          ],
          [
           "Cliff"
          ],
          [
           "Cliff"
          ],
          [
           "Cliff"
          ],
          [
           "Cliff"
          ],
          [
           "Cliff"
          ],
          [
           "Cliff"
          ],
          [
           "Cliff"
          ],
          [
           "Cliff"
          ],
          [
           "Cliff"
          ],
          [
           "Cliff"
          ],
          [
           "Cliff"
          ],
          [
           "Cliff"
          ],
          [
           "Cliff"
          ],
          [
           "Cliff"
          ],
          [
           "Cliff"
          ],
          [
           "Cliff"
          ],
          [
           "Cliff"
          ],
          [
           "Cliff"
          ],
          [
           "Cliff"
          ],
          [
           "Cliff"
          ],
          [
           "Cliff"
          ],
          [
           "Cliff"
          ],
          [
           "Cliff"
          ],
          [
           "Cliff"
          ],
          [
           "Cliff"
          ],
          [
           "Cliff"
          ],
          [
           "Cliff"
          ],
          [
           "Cliff"
          ],
          [
           "Cliff"
          ],
          [
           "Cliff"
          ],
          [
           "Cliff"
          ],
          [
           "Cliff"
          ],
          [
           "Cliff"
          ],
          [
           "Cliff"
          ],
          [
           "Cliff"
          ],
          [
           "Diary of Nurse"
          ],
          [
           "Diary of Nurse"
          ],
          [
           "Diary of Nurse"
          ],
          [
           "Diary of Nurse"
          ],
          [
           "Diary of Nurse"
          ],
          [
           "Diary of Nurse"
          ],
          [
           "Diary of Nurse"
          ],
          [
           "Diary of Nurse"
          ],
          [
           "Diary of Nurse"
          ],
          [
           "Diary of Nurse"
          ],
          [
           "Diary of Nurse"
          ],
          [
           "Diary of Nurse"
          ],
          [
           "Diary of Nurse"
          ],
          [
           "Diary of Nurse"
          ],
          [
           "Diary of Nurse"
          ],
          [
           "Diary of Nurse"
          ],
          [
           "Diary of Nurse"
          ],
          [
           "Diary of Nurse"
          ],
          [
           "Diary of Nurse"
          ],
          [
           "Diary of Nurse"
          ],
          [
           "Diary of Nurse"
          ],
          [
           "Diary of Nurse"
          ],
          [
           "Diary of Nurse"
          ],
          [
           "Diary of Nurse"
          ],
          [
           "Diary of Nurse"
          ],
          [
           "Diary of Nurse"
          ],
          [
           "Diary of Nurse"
          ],
          [
           "Diary of Nurse"
          ],
          [
           "Diary of Nurse"
          ],
          [
           "Diary of Nurse"
          ],
          [
           "Diary of Nurse"
          ],
          [
           "Diary of Nurse"
          ],
          [
           "Diary of Nurse"
          ],
          [
           "Diary of Nurse"
          ],
          [
           "Diary of Nurse"
          ],
          [
           "Diary of Nurse"
          ],
          [
           "Diary of Nurse"
          ],
          [
           "Diary of Nurse"
          ],
          [
           "Diary of Nurse"
          ],
          [
           "Diary of Nurse"
          ],
          [
           "Diary of Nurse"
          ],
          [
           "Diary of Nurse"
          ],
          [
           "Diary of Nurse"
          ],
          [
           "Diary of Nurse"
          ],
          [
           "Diary of Nurse"
          ],
          [
           "Diary of Nurse"
          ],
          [
           "Diary of Nurse"
          ],
          [
           "Diary of Nurse"
          ],
          [
           "Diary of Nurse"
          ],
          [
           "Diary of Nurse"
          ],
          [
           "Diary of Nurse"
          ],
          [
           "Diary of Nurse"
          ],
          [
           "Diary of Nurse"
          ],
          [
           "Diary of Nurse"
          ],
          [
           "Diary of Nurse"
          ],
          [
           "Diary of Nurse"
          ],
          [
           "Diary of Nurse"
          ],
          [
           "Diary of Nurse"
          ],
          [
           "Diary of Nurse"
          ],
          [
           "Diary of Nurse"
          ],
          [
           "The Man from Laramie"
          ],
          [
           "The Man from Laramie"
          ],
          [
           "The Man from Laramie"
          ],
          [
           "The Man from Laramie"
          ],
          [
           "The Man from Laramie"
          ],
          [
           "The Man from Laramie"
          ],
          [
           "The Man from Laramie"
          ],
          [
           "The Man from Laramie"
          ],
          [
           "The Man from Laramie"
          ],
          [
           "The Man from Laramie"
          ],
          [
           "The Man from Laramie"
          ],
          [
           "The Man from Laramie"
          ],
          [
           "The Man from Laramie"
          ],
          [
           "The Man from Laramie"
          ],
          [
           "The Man from Laramie"
          ],
          [
           "The Man from Laramie"
          ],
          [
           "The Man from Laramie"
          ],
          [
           "The Man from Laramie"
          ],
          [
           "The Man from Laramie"
          ],
          [
           "The Man from Laramie"
          ],
          [
           "The Man from Laramie"
          ],
          [
           "The Man from Laramie"
          ],
          [
           "The Man from Laramie"
          ],
          [
           "The Man from Laramie"
          ],
          [
           "The Man from Laramie"
          ],
          [
           "The Man from Laramie"
          ],
          [
           "The Man from Laramie"
          ],
          [
           "The Man from Laramie"
          ],
          [
           "The Man from Laramie"
          ],
          [
           "The Man from Laramie"
          ],
          [
           "The Man from Laramie"
          ],
          [
           "The Man from Laramie"
          ],
          [
           "The Man from Laramie"
          ],
          [
           "The Man from Laramie"
          ],
          [
           "The Man from Laramie"
          ],
          [
           "The Man from Laramie"
          ],
          [
           "The Man from Laramie"
          ],
          [
           "The Man from Laramie"
          ],
          [
           "The Man from Laramie"
          ],
          [
           "The Man from Laramie"
          ],
          [
           "The Man from Laramie"
          ],
          [
           "The Man from Laramie"
          ],
          [
           "The Man from Laramie"
          ],
          [
           "The Man from Laramie"
          ],
          [
           "The Man from Laramie"
          ],
          [
           "The Man from Laramie"
          ],
          [
           "The Man from Laramie"
          ],
          [
           "The Man from Laramie"
          ],
          [
           "The Man from Laramie"
          ],
          [
           "The Man from Laramie"
          ],
          [
           "The Man from Laramie"
          ],
          [
           "The Man from Laramie"
          ],
          [
           "The Man from Laramie"
          ],
          [
           "The Man from Laramie"
          ],
          [
           "The Man from Laramie"
          ],
          [
           "The Man from Laramie"
          ],
          [
           "The Man from Laramie"
          ],
          [
           "The Man from Laramie"
          ],
          [
           "The Man from Laramie"
          ],
          [
           "The Man from Laramie"
          ],
          [
           "The Man from Laramie"
          ],
          [
           "The Man from Laramie"
          ],
          [
           "The Man from Laramie"
          ],
          [
           "The Man from Laramie"
          ],
          [
           "The Man from Laramie"
          ],
          [
           "The Man from Laramie"
          ],
          [
           "The Man from Laramie"
          ],
          [
           "The Man from Laramie"
          ],
          [
           "The Man from Laramie"
          ],
          [
           "The Man from Laramie"
          ],
          [
           "The Man from Laramie"
          ],
          [
           "The Man from Laramie"
          ],
          [
           "The Man from Laramie"
          ],
          [
           "The Man from Laramie"
          ],
          [
           "The Man from Laramie"
          ],
          [
           "The Man from Laramie"
          ],
          [
           "The Man from Laramie"
          ],
          [
           "The Man from Laramie"
          ],
          [
           "The Man from Laramie"
          ],
          [
           "The Man from Laramie"
          ],
          [
           "The Man from Laramie"
          ],
          [
           "The Man from Laramie"
          ],
          [
           "The Man from Laramie"
          ],
          [
           "The Man from Laramie"
          ],
          [
           "The Man from Laramie"
          ],
          [
           "The Man from Laramie"
          ],
          [
           "The Man from Laramie"
          ],
          [
           "The Man from Laramie"
          ],
          [
           "The Man from Laramie"
          ],
          [
           "The Man from Laramie"
          ],
          [
           "Sabrina"
          ],
          [
           "Sabrina"
          ],
          [
           "Sabrina"
          ],
          [
           "Sabrina"
          ],
          [
           "Sabrina"
          ],
          [
           "Sabrina"
          ],
          [
           "Sabrina"
          ],
          [
           "Sabrina"
          ],
          [
           "Sabrina"
          ],
          [
           "Sabrina"
          ],
          [
           "Sabrina"
          ],
          [
           "Sabrina"
          ],
          [
           "Sabrina"
          ],
          [
           "Sabrina"
          ],
          [
           "Sabrina"
          ],
          [
           "Sabrina"
          ],
          [
           "Sabrina"
          ],
          [
           "Sabrina"
          ],
          [
           "Sabrina"
          ],
          [
           "Sabrina"
          ],
          [
           "Sabrina"
          ],
          [
           "Sabrina"
          ],
          [
           "Sabrina"
          ],
          [
           "Sabrina"
          ],
          [
           "Sabrina"
          ],
          [
           "Sabrina"
          ],
          [
           "Sabrina"
          ],
          [
           "Sabrina"
          ],
          [
           "Sabrina"
          ],
          [
           "Sabrina"
          ],
          [
           "Sabrina"
          ],
          [
           "Sabrina"
          ],
          [
           "Sabrina"
          ],
          [
           "Sabrina"
          ],
          [
           "Sabrina"
          ],
          [
           "Sabrina"
          ],
          [
           "Sabrina"
          ],
          [
           "Sabrina"
          ],
          [
           "Sabrina"
          ],
          [
           "Sabrina"
          ],
          [
           "Sabrina"
          ],
          [
           "Sabrina"
          ],
          [
           "Sabrina"
          ],
          [
           "Sabrina"
          ],
          [
           "Sabrina"
          ],
          [
           "Sabrina"
          ],
          [
           "Sabrina"
          ],
          [
           "Sabrina"
          ],
          [
           "Sabrina"
          ],
          [
           "Sabrina"
          ],
          [
           "Sabrina"
          ],
          [
           "Sabrina"
          ],
          [
           "Sabrina"
          ],
          [
           "Sabrina"
          ],
          [
           "Sabrina"
          ],
          [
           "Sabrina"
          ]
         ],
         "hovertemplate": "Identity=Rival<br>Timeline=%{x}<br>Face Box=%{y}<br>Film=%{customdata[0]}<extra></extra>",
         "legendgroup": "Rival",
         "marker": {
          "color": "#00cc96",
          "symbol": "circle"
         },
         "mode": "markers",
         "name": "Rival",
         "showlegend": true,
         "type": "scattergl",
         "x": [
          0.465,
          0.47,
          0.47045454545454546,
          0.47363636363636363,
          0.5668181818181818,
          0.5868181818181818,
          0.07772727272727273,
          0.0809090909090909,
          0.08136363636363636,
          0.08181818181818182,
          0.08227272727272728,
          0.955,
          0.9554545454545454,
          0.9559090909090909,
          0.9568181818181818,
          0.9581818181818181,
          0.9586363636363636,
          0.9613636363636363,
          0.9618181818181818,
          0.9622727272727273,
          0.9627272727272728,
          0.9631818181818181,
          0.9636363636363636,
          0.9640909090909091,
          0.9659090909090909,
          0.9672727272727273,
          0.9695454545454546,
          0.9704545454545455,
          0.9722727272727273,
          0.9745454545454545,
          0.985,
          0.13772727272727273,
          0.13818181818181818,
          0.1409090909090909,
          0.14136363636363636,
          0.14181818181818182,
          0.14272727272727273,
          0.1431818181818182,
          0.1440909090909091,
          0.14454545454545453,
          0.14545454545454545,
          0.1459090909090909,
          0.15,
          0.15045454545454545,
          0.16818181818181818,
          0.16863636363636364,
          0.19045454545454546,
          0.21227272727272728,
          0.21454545454545454,
          0.22,
          0.22818181818181818,
          0.23545454545454544,
          0.24,
          0.24045454545454545,
          0.2409090909090909,
          0.24181818181818182,
          0.24363636363636362,
          0.2590909090909091,
          0.2595454545454545,
          0.2640909090909091,
          0.2927272727272727,
          0.29363636363636364,
          0.29454545454545455,
          0.31272727272727274,
          0.32045454545454544,
          0.3327272727272727,
          0.3336363636363636,
          0.36363636363636365,
          0.5418594867480017,
          0.6091712242322255,
          0.6137989061842659,
          0.6154816996213714,
          0.6672275978123685,
          0.06689103912494741,
          0.6739587715607909,
          0.6756415649978965,
          0.6760622633571729,
          0.0681531342027766,
          0.7008834665544804,
          0.7013041649137568,
          0.7122423222549432,
          0.7160286074884308,
          0.7164493058477072,
          0.7425326041228439,
          0.8329827513672696,
          0.08792595708876735,
          0.8918805216659655,
          0.9204880100967606,
          0.9221708035338663,
          0.9225915018931427,
          0.9591922591501894,
          0.9650820361800589,
          0.9655027345393353,
          0.9659234328986117,
          0.9663441312578881,
          0.1060159865376525,
          0.1064366848969289,
          0.1085401766933109,
          0.12074042911232646,
          0.15565839293226758,
          0.17248632730332353,
          0.27513672696676483,
          0.27639882204459404,
          0.3668489692890198,
          0.37946992006731173,
          0.3883045856121161,
          0.3887252839713925,
          0.4783023366714354,
          0.4792560801144492,
          0.4797329518359561,
          0.48020982355746306,
          0.485932284215546,
          0.4907010014306152,
          0.5112064854554125,
          0.5326657129232236,
          0.575107296137339,
          0.5779685264663805,
          0.5817835002384358,
          0.6375774916547449,
          0.6986170720076299,
          0.7014783023366714,
          0.7019551740581783,
          0.703862660944206,
          0.7129232236528373,
          0.7281831187410587,
          0.7343824511206486,
          0.7401049117787315,
          0.7691940867906533,
          0.7696709585121603,
          0.12875536480686695,
          0.12923223652837387,
          0.12970910824988077,
          0.1301859799713877,
          0.1306628516928946,
          0.13113972341440153,
          0.134000953743443,
          0.13543156890796376,
          0.13590844062947066,
          0.1363853123509776,
          0.1402002861230329,
          0.14067715784453982,
          0.19027181688125894,
          0.1988555078683834,
          0.23319027181688126,
          0.2374821173104435,
          0.2379589890319504,
          0.23891273247496422,
          0.23986647591797805,
          0.2470195517405818,
          0.24845016690510252,
          0.24892703862660945,
          0.24940391034811635,
          0.2999523128278493,
          0.3447782546494993,
          0.3481163567000477,
          0.38197424892703863,
          0.4039103481163567,
          0.40486409155937053,
          0.40867906533142584,
          0.4430138292799237,
          0.4744873628993801,
          0.4759179780639008,
          0.5272094035698738,
          0.5441880713974749,
          0.06922072268175881,
          0.07052677405311275,
          0.7361776229865041,
          0.7374836743578581,
          0.739660426643448,
          0.7440139312146278,
          0.7705703090988245,
          0.7749238136700044,
          0.7866782760121898,
          0.7923378319547235,
          0.7932085328689595,
          0.7945145842403134,
          0.7949499346974315,
          0.7958206356116674,
          0.7962559860687853,
          0.7966913365259034,
          0.7971266869830214,
          0.8114932520679147,
          0.8119286025250326,
          0.8123639529821506,
          0.8127993034392686,
          0.8145407052677406,
          0.8154114061819765,
          0.8171528080104484,
          0.8175881584675664,
          0.8293426208097519,
          0.8297779712668698,
          0.8302133217239878,
          0.8341314758380496,
          0.8345668262951677,
          0.8371789290378755,
          0.8376142794949935,
          0.8554636482368306,
          0.8589464518937745,
          0.8598171528080104,
          0.8624292555507184,
          0.8659120592076621,
          0.10927296473661298,
          0.12276882890727035,
          0.12320417936438834,
          0.1279930343926861,
          0.1284283848498041,
          0.12886373530692208,
          0.12929908576404006,
          0.12973443622115804,
          0.13060513713539398,
          0.13147583804962995,
          0.13757074444928166,
          0.1393121462777536,
          0.14235959947757945,
          0.14323030039181542,
          0.14410100130605139,
          0.14453635176316934,
          0.1610796691336526,
          0.173704832390074,
          0.32303003918154116,
          0.3234653896386591,
          0.3243360905528951,
          0.4638675817521195,
          0.4642712959224869,
          0.465482438433589,
          0.5446104158255954,
          0.5591441259588211,
          0.5595478401291886,
          0.5599515542995559,
          0.5603552684699233,
          0.5607589826402907,
          0.561162696810658,
          0.5615664109810254,
          0.5647961243439644,
          0.5651998385143319,
          0.5777149777957207,
          0.578118691966088,
          0.5789261203068228,
          0.5793298344771901,
          0.5797335486475576,
          0.5801372628179249,
          0.5821558336697618,
          0.5825595478401292,
          0.5829632620104965,
          0.583366976180864,
          0.5837706903512313,
          0.5849818328623335,
          0.5853855470327008,
          0.5857892612030682,
          0.6604763827210335,
          0.6608800968914009,
          0.662091239402503,
          0.6628986677432378,
          0.6665320952765442,
          0.6669358094469116,
          0.667339523617279,
          0.6721840936616875,
          0.6725878078320549,
          0.6737989503431571,
          0.6742026645135244,
          0.7908760597496972,
          0.791683488090432,
          0.7920872022607993,
          0.7928946306015341,
          0.7932983447719015,
          0.7941057731126363,
          0.7945094872830036,
          0.7953169156237384,
          0.7957206297941057,
          0.7961243439644732,
          0.7965280581348405,
          0.796931772305208,
          0.7973354864755753,
          0.7977392006459427,
          0.7985466289866774,
          0.7989503431570448,
          0.7993540573274122,
          0.8001614856681469,
          0.8005651998385144,
          0.8255954784012919,
          0.8259991925716592,
          0.8364957610012111,
          0.8368994751715785,
          0.8401291885345176,
          0.8405329027048849,
          0.8409366168752523,
          0.880904319741623,
          0.8938231731933791,
          0.8942268873637464,
          0.8946306015341139,
          0.8950343157044812,
          0.974566007266855,
          0.9749697214372225,
          0.27775534921275735,
          0.28219620508679855,
          0.34800161485668146,
          0.34840532902704885,
          0.34880904319741624,
          0.3492127573677836,
          0.3504238998788857,
          0.35324989907145743,
          0.3617278966491724,
          0.36213161081953976,
          0.36253532498990715,
          0.36293903916027453,
          0.3633427533306419,
          0.3653613241824788,
          0.3657650383528462,
          0.36737989503431573,
          0.36980218005652,
          0.3702058942268874,
          0.37060960839725476,
          0.3747728098873137,
          0.42929843693202474,
          0.430752453653217,
          0.4394765539803708,
          0.45438022537259176,
          0.47837150127226463,
          0.4787350054525627,
          0.47909850963286077,
          0.4820065430752454,
          0.48891312250090874,
          0.490003635041803,
          0.49036713922210107,
          0.5321701199563795,
          0.5343511450381679,
          0.5467102871683024,
          0.5627044711014176,
          0.5648854961832062,
          0.5688840421664849,
          0.569247546346783,
          0.5699745547073791,
          0.5703380588876772,
          0.7353689567430025,
          0.7408215194474737,
          0.7430025445292621,
          0.7437295528898582,
          0.7459105779716467,
          0.7466375863322429,
          0.9185750636132316,
          0.9229371137768084,
          0.9233006179571065,
          0.9236641221374046,
          0.9760087241003271,
          0.31297709923664124,
          0.3155216284987277,
          0.32242820792439114,
          0.3227917121046892,
          0.3231552162849873,
          0.32351872046528535,
          0.3256997455470738,
          0.326790258087968,
          0.3271537622682661,
          0.3282442748091603,
          0.3311523082515449,
          0.3322428207924391,
          0.3326063249727372,
          0.33296982915303525,
          0.3336968375136314,
          0.34096692111959287,
          0.341693929480189,
          0.34242093784078514,
          0.3533260632497274,
          0.35368956743002544,
          0.3540530716103235,
          0.3544165757906216,
          0.3551435841512177,
          0.3555070883315158
         ],
         "xaxis": "x",
         "y": [
          "2.35",
          "1.75",
          "1.92",
          "0.99",
          "0.87",
          "0.62",
          "0.35",
          "0.92",
          "1.47",
          "0.19",
          "0.00",
          "2.19",
          "2.26",
          "2.31",
          "2.66",
          "3.07",
          "2.49",
          "1.57",
          "1.77",
          "3.48",
          "3.97",
          "4.11",
          "3.43",
          "3.07",
          "2.19",
          "2.25",
          "3.21",
          "3.99",
          "4.28",
          "1.56",
          "0.16",
          "0.36",
          "0.70",
          "1.43",
          "0.62",
          "0.35",
          "0.90",
          "0.35",
          "1.54",
          "0.91",
          "1.21",
          "0.96",
          "1.13",
          "0.71",
          "0.00",
          "0.56",
          "1.03",
          "1.43",
          "1.24",
          "1.05",
          "1.84",
          "0.43",
          "0.70",
          "0.42",
          "0.54",
          "0.53",
          "0.14",
          "0.09",
          "0.70",
          "3.13",
          "2.00",
          "0.00",
          "0.24",
          "1.81",
          "2.20",
          "0.00",
          "0.83",
          "1.16",
          "1.82",
          "0.00",
          "2.86",
          "0.14",
          "2.00",
          "0.59",
          "0.73",
          "1.61",
          "0.86",
          "2.62",
          "1.98",
          "2.47",
          "0.88",
          "1.40",
          "0.58",
          "0.79",
          "0.35",
          "1.07",
          "2.65",
          "1.82",
          "1.57",
          "1.52",
          "2.11",
          "0.00",
          "1.89",
          "1.15",
          "0.24",
          "0.38",
          "0.80",
          "0.50",
          "1.45",
          "3.17",
          "2.67",
          "0.15",
          "1.69",
          "1.21",
          "1.00",
          "3.00",
          "1.25",
          "2.31",
          "1.77",
          "1.13",
          "1.32",
          "0.52",
          "0.00",
          "0.00",
          "0.50",
          "1.38",
          "1.97",
          "0.95",
          "0.58",
          "1.73",
          "2.63",
          "2.25",
          "2.26",
          "0.00",
          "0.24",
          "0.82",
          "0.84",
          "0.00",
          "0.56",
          "1.61",
          "2.11",
          "1.84",
          "2.77",
          "3.36",
          "2.74",
          "1.25",
          "1.61",
          "2.03",
          "1.36",
          "0.57",
          "0.80",
          "0.72",
          "0.00",
          "1.08",
          "1.14",
          "0.72",
          "1.05",
          "0.36",
          "0.21",
          "1.31",
          "1.95",
          "1.97",
          "0.00",
          "1.15",
          "1.46",
          "2.68",
          "0.62",
          "1.22",
          "1.41",
          "0.70",
          "0.74",
          "0.76",
          "0.00",
          "2.19",
          "0.73",
          "0.39",
          "1.17",
          "0.96",
          "1.62",
          "0.00",
          "1.32",
          "1.53",
          "0.24",
          "0.92",
          "1.18",
          "0.94",
          "0.75",
          "1.37",
          "0.60",
          "1.34",
          "0.95",
          "1.19",
          "0.98",
          "1.53",
          "1.76",
          "0.00",
          "0.66",
          "0.82",
          "0.59",
          "0.53",
          "0.35",
          "0.00",
          "1.03",
          "1.90",
          "0.99",
          "0.90",
          "1.47",
          "0.19",
          "0.92",
          "1.61",
          "0.00",
          "0.00",
          "0.52",
          "0.93",
          "0.89",
          "1.10",
          "1.25",
          "1.17",
          "1.02",
          "1.18",
          "1.01",
          "0.44",
          "0.74",
          "0.15",
          "0.00",
          "0.45",
          "0.18",
          "0.00",
          "0.43",
          "0.08",
          "0.20",
          "0.25",
          "1.20",
          "0.54",
          "0.86",
          "0.00",
          "3.18",
          "2.94",
          "2.81",
          "2.62",
          "2.95",
          "0.34",
          "0.59",
          "0.01",
          "0.00",
          "1.17",
          "1.35",
          "2.12",
          "1.69",
          "2.30",
          "1.78",
          "2.27",
          "1.55",
          "1.77",
          "1.12",
          "0.56",
          "0.50",
          "0.53",
          "0.65",
          "0.78",
          "0.92",
          "1.16",
          "1.64",
          "0.80",
          "0.63",
          "1.96",
          "1.17",
          "1.86",
          "2.22",
          "2.33",
          "0.29",
          "0.05",
          "0.61",
          "0.72",
          "1.40",
          "0.29",
          "0.54",
          "1.70",
          "0.00",
          "0.74",
          "0.06",
          "0.31",
          "0.30",
          "1.29",
          "1.98",
          "1.34",
          "0.00",
          "0.06",
          "0.55",
          "0.53",
          "0.38",
          "0.20",
          "1.14",
          "2.66",
          "2.16",
          "2.21",
          "0.30",
          "2.37",
          "2.60",
          "2.71",
          "3.28",
          "1.17",
          "1.51",
          "0.49",
          "1.90",
          "1.57",
          "0.00",
          "1.98",
          "1.63",
          "2.12",
          "1.30",
          "0.08",
          "0.97",
          "0.00",
          "0.00",
          "0.00",
          "0.00",
          "0.00",
          "0.28",
          "0.96",
          "0.37",
          "0.00",
          "1.58",
          "0.59",
          "1.05",
          "1.71",
          "0.77",
          "1.92",
          "1.62",
          "0.93",
          "0.94",
          "0.57",
          "0.96",
          "0.00",
          "2.03",
          "2.44",
          "0.94",
          "0.65",
          "0.00",
          "2.95",
          "1.63",
          "1.70",
          "2.16",
          "1.42",
          "1.35",
          "1.99",
          "3.23",
          "1.19",
          "2.71",
          "0.14",
          "1.78",
          "1.88",
          "3.00",
          "0.00",
          "0.00",
          "1.55",
          "0.26",
          "0.94",
          "0.86",
          "0.93",
          "2.44",
          "1.30",
          "0.89",
          "1.89",
          "1.10",
          "0.51",
          "0.97",
          "2.20",
          "1.97",
          "1.87",
          "0.12",
          "0.61",
          "0.09",
          "0.00",
          "0.22",
          "0.00",
          "2.95",
          "0.00"
         ],
         "yaxis": "y"
        }
       ],
       "layout": {
        "legend": {
         "title": {
          "text": "Identity"
         },
         "tracegroupgap": 0
        },
        "template": {
         "data": {
          "bar": [
           {
            "error_x": {
             "color": "#2a3f5f"
            },
            "error_y": {
             "color": "#2a3f5f"
            },
            "marker": {
             "line": {
              "color": "#E5ECF6",
              "width": 0.5
             },
             "pattern": {
              "fillmode": "overlay",
              "size": 10,
              "solidity": 0.2
             }
            },
            "type": "bar"
           }
          ],
          "barpolar": [
           {
            "marker": {
             "line": {
              "color": "#E5ECF6",
              "width": 0.5
             },
             "pattern": {
              "fillmode": "overlay",
              "size": 10,
              "solidity": 0.2
             }
            },
            "type": "barpolar"
           }
          ],
          "carpet": [
           {
            "aaxis": {
             "endlinecolor": "#2a3f5f",
             "gridcolor": "white",
             "linecolor": "white",
             "minorgridcolor": "white",
             "startlinecolor": "#2a3f5f"
            },
            "baxis": {
             "endlinecolor": "#2a3f5f",
             "gridcolor": "white",
             "linecolor": "white",
             "minorgridcolor": "white",
             "startlinecolor": "#2a3f5f"
            },
            "type": "carpet"
           }
          ],
          "choropleth": [
           {
            "colorbar": {
             "outlinewidth": 0,
             "ticks": ""
            },
            "type": "choropleth"
           }
          ],
          "contour": [
           {
            "colorbar": {
             "outlinewidth": 0,
             "ticks": ""
            },
            "colorscale": [
             [
              0,
              "#0d0887"
             ],
             [
              0.1111111111111111,
              "#46039f"
             ],
             [
              0.2222222222222222,
              "#7201a8"
             ],
             [
              0.3333333333333333,
              "#9c179e"
             ],
             [
              0.4444444444444444,
              "#bd3786"
             ],
             [
              0.5555555555555556,
              "#d8576b"
             ],
             [
              0.6666666666666666,
              "#ed7953"
             ],
             [
              0.7777777777777778,
              "#fb9f3a"
             ],
             [
              0.8888888888888888,
              "#fdca26"
             ],
             [
              1,
              "#f0f921"
             ]
            ],
            "type": "contour"
           }
          ],
          "contourcarpet": [
           {
            "colorbar": {
             "outlinewidth": 0,
             "ticks": ""
            },
            "type": "contourcarpet"
           }
          ],
          "heatmap": [
           {
            "colorbar": {
             "outlinewidth": 0,
             "ticks": ""
            },
            "colorscale": [
             [
              0,
              "#0d0887"
             ],
             [
              0.1111111111111111,
              "#46039f"
             ],
             [
              0.2222222222222222,
              "#7201a8"
             ],
             [
              0.3333333333333333,
              "#9c179e"
             ],
             [
              0.4444444444444444,
              "#bd3786"
             ],
             [
              0.5555555555555556,
              "#d8576b"
             ],
             [
              0.6666666666666666,
              "#ed7953"
             ],
             [
              0.7777777777777778,
              "#fb9f3a"
             ],
             [
              0.8888888888888888,
              "#fdca26"
             ],
             [
              1,
              "#f0f921"
             ]
            ],
            "type": "heatmap"
           }
          ],
          "heatmapgl": [
           {
            "colorbar": {
             "outlinewidth": 0,
             "ticks": ""
            },
            "colorscale": [
             [
              0,
              "#0d0887"
             ],
             [
              0.1111111111111111,
              "#46039f"
             ],
             [
              0.2222222222222222,
              "#7201a8"
             ],
             [
              0.3333333333333333,
              "#9c179e"
             ],
             [
              0.4444444444444444,
              "#bd3786"
             ],
             [
              0.5555555555555556,
              "#d8576b"
             ],
             [
              0.6666666666666666,
              "#ed7953"
             ],
             [
              0.7777777777777778,
              "#fb9f3a"
             ],
             [
              0.8888888888888888,
              "#fdca26"
             ],
             [
              1,
              "#f0f921"
             ]
            ],
            "type": "heatmapgl"
           }
          ],
          "histogram": [
           {
            "marker": {
             "pattern": {
              "fillmode": "overlay",
              "size": 10,
              "solidity": 0.2
             }
            },
            "type": "histogram"
           }
          ],
          "histogram2d": [
           {
            "colorbar": {
             "outlinewidth": 0,
             "ticks": ""
            },
            "colorscale": [
             [
              0,
              "#0d0887"
             ],
             [
              0.1111111111111111,
              "#46039f"
             ],
             [
              0.2222222222222222,
              "#7201a8"
             ],
             [
              0.3333333333333333,
              "#9c179e"
             ],
             [
              0.4444444444444444,
              "#bd3786"
             ],
             [
              0.5555555555555556,
              "#d8576b"
             ],
             [
              0.6666666666666666,
              "#ed7953"
             ],
             [
              0.7777777777777778,
              "#fb9f3a"
             ],
             [
              0.8888888888888888,
              "#fdca26"
             ],
             [
              1,
              "#f0f921"
             ]
            ],
            "type": "histogram2d"
           }
          ],
          "histogram2dcontour": [
           {
            "colorbar": {
             "outlinewidth": 0,
             "ticks": ""
            },
            "colorscale": [
             [
              0,
              "#0d0887"
             ],
             [
              0.1111111111111111,
              "#46039f"
             ],
             [
              0.2222222222222222,
              "#7201a8"
             ],
             [
              0.3333333333333333,
              "#9c179e"
             ],
             [
              0.4444444444444444,
              "#bd3786"
             ],
             [
              0.5555555555555556,
              "#d8576b"
             ],
             [
              0.6666666666666666,
              "#ed7953"
             ],
             [
              0.7777777777777778,
              "#fb9f3a"
             ],
             [
              0.8888888888888888,
              "#fdca26"
             ],
             [
              1,
              "#f0f921"
             ]
            ],
            "type": "histogram2dcontour"
           }
          ],
          "mesh3d": [
           {
            "colorbar": {
             "outlinewidth": 0,
             "ticks": ""
            },
            "type": "mesh3d"
           }
          ],
          "parcoords": [
           {
            "line": {
             "colorbar": {
              "outlinewidth": 0,
              "ticks": ""
             }
            },
            "type": "parcoords"
           }
          ],
          "pie": [
           {
            "automargin": true,
            "type": "pie"
           }
          ],
          "scatter": [
           {
            "fillpattern": {
             "fillmode": "overlay",
             "size": 10,
             "solidity": 0.2
            },
            "type": "scatter"
           }
          ],
          "scatter3d": [
           {
            "line": {
             "colorbar": {
              "outlinewidth": 0,
              "ticks": ""
             }
            },
            "marker": {
             "colorbar": {
              "outlinewidth": 0,
              "ticks": ""
             }
            },
            "type": "scatter3d"
           }
          ],
          "scattercarpet": [
           {
            "marker": {
             "colorbar": {
              "outlinewidth": 0,
              "ticks": ""
             }
            },
            "type": "scattercarpet"
           }
          ],
          "scattergeo": [
           {
            "marker": {
             "colorbar": {
              "outlinewidth": 0,
              "ticks": ""
             }
            },
            "type": "scattergeo"
           }
          ],
          "scattergl": [
           {
            "marker": {
             "colorbar": {
              "outlinewidth": 0,
              "ticks": ""
             }
            },
            "type": "scattergl"
           }
          ],
          "scattermapbox": [
           {
            "marker": {
             "colorbar": {
              "outlinewidth": 0,
              "ticks": ""
             }
            },
            "type": "scattermapbox"
           }
          ],
          "scatterpolar": [
           {
            "marker": {
             "colorbar": {
              "outlinewidth": 0,
              "ticks": ""
             }
            },
            "type": "scatterpolar"
           }
          ],
          "scatterpolargl": [
           {
            "marker": {
             "colorbar": {
              "outlinewidth": 0,
              "ticks": ""
             }
            },
            "type": "scatterpolargl"
           }
          ],
          "scatterternary": [
           {
            "marker": {
             "colorbar": {
              "outlinewidth": 0,
              "ticks": ""
             }
            },
            "type": "scatterternary"
           }
          ],
          "surface": [
           {
            "colorbar": {
             "outlinewidth": 0,
             "ticks": ""
            },
            "colorscale": [
             [
              0,
              "#0d0887"
             ],
             [
              0.1111111111111111,
              "#46039f"
             ],
             [
              0.2222222222222222,
              "#7201a8"
             ],
             [
              0.3333333333333333,
              "#9c179e"
             ],
             [
              0.4444444444444444,
              "#bd3786"
             ],
             [
              0.5555555555555556,
              "#d8576b"
             ],
             [
              0.6666666666666666,
              "#ed7953"
             ],
             [
              0.7777777777777778,
              "#fb9f3a"
             ],
             [
              0.8888888888888888,
              "#fdca26"
             ],
             [
              1,
              "#f0f921"
             ]
            ],
            "type": "surface"
           }
          ],
          "table": [
           {
            "cells": {
             "fill": {
              "color": "#EBF0F8"
             },
             "line": {
              "color": "white"
             }
            },
            "header": {
             "fill": {
              "color": "#C8D4E3"
             },
             "line": {
              "color": "white"
             }
            },
            "type": "table"
           }
          ]
         },
         "layout": {
          "annotationdefaults": {
           "arrowcolor": "#2a3f5f",
           "arrowhead": 0,
           "arrowwidth": 1
          },
          "autotypenumbers": "strict",
          "coloraxis": {
           "colorbar": {
            "outlinewidth": 0,
            "ticks": ""
           }
          },
          "colorscale": {
           "diverging": [
            [
             0,
             "#8e0152"
            ],
            [
             0.1,
             "#c51b7d"
            ],
            [
             0.2,
             "#de77ae"
            ],
            [
             0.3,
             "#f1b6da"
            ],
            [
             0.4,
             "#fde0ef"
            ],
            [
             0.5,
             "#f7f7f7"
            ],
            [
             0.6,
             "#e6f5d0"
            ],
            [
             0.7,
             "#b8e186"
            ],
            [
             0.8,
             "#7fbc41"
            ],
            [
             0.9,
             "#4d9221"
            ],
            [
             1,
             "#276419"
            ]
           ],
           "sequential": [
            [
             0,
             "#0d0887"
            ],
            [
             0.1111111111111111,
             "#46039f"
            ],
            [
             0.2222222222222222,
             "#7201a8"
            ],
            [
             0.3333333333333333,
             "#9c179e"
            ],
            [
             0.4444444444444444,
             "#bd3786"
            ],
            [
             0.5555555555555556,
             "#d8576b"
            ],
            [
             0.6666666666666666,
             "#ed7953"
            ],
            [
             0.7777777777777778,
             "#fb9f3a"
            ],
            [
             0.8888888888888888,
             "#fdca26"
            ],
            [
             1,
             "#f0f921"
            ]
           ],
           "sequentialminus": [
            [
             0,
             "#0d0887"
            ],
            [
             0.1111111111111111,
             "#46039f"
            ],
            [
             0.2222222222222222,
             "#7201a8"
            ],
            [
             0.3333333333333333,
             "#9c179e"
            ],
            [
             0.4444444444444444,
             "#bd3786"
            ],
            [
             0.5555555555555556,
             "#d8576b"
            ],
            [
             0.6666666666666666,
             "#ed7953"
            ],
            [
             0.7777777777777778,
             "#fb9f3a"
            ],
            [
             0.8888888888888888,
             "#fdca26"
            ],
            [
             1,
             "#f0f921"
            ]
           ]
          },
          "colorway": [
           "#636efa",
           "#EF553B",
           "#00cc96",
           "#ab63fa",
           "#FFA15A",
           "#19d3f3",
           "#FF6692",
           "#B6E880",
           "#FF97FF",
           "#FECB52"
          ],
          "font": {
           "color": "#2a3f5f"
          },
          "geo": {
           "bgcolor": "white",
           "lakecolor": "white",
           "landcolor": "#E5ECF6",
           "showlakes": true,
           "showland": true,
           "subunitcolor": "white"
          },
          "hoverlabel": {
           "align": "left"
          },
          "hovermode": "closest",
          "mapbox": {
           "style": "light"
          },
          "paper_bgcolor": "white",
          "plot_bgcolor": "#E5ECF6",
          "polar": {
           "angularaxis": {
            "gridcolor": "white",
            "linecolor": "white",
            "ticks": ""
           },
           "bgcolor": "#E5ECF6",
           "radialaxis": {
            "gridcolor": "white",
            "linecolor": "white",
            "ticks": ""
           }
          },
          "scene": {
           "xaxis": {
            "backgroundcolor": "#E5ECF6",
            "gridcolor": "white",
            "gridwidth": 2,
            "linecolor": "white",
            "showbackground": true,
            "ticks": "",
            "zerolinecolor": "white"
           },
           "yaxis": {
            "backgroundcolor": "#E5ECF6",
            "gridcolor": "white",
            "gridwidth": 2,
            "linecolor": "white",
            "showbackground": true,
            "ticks": "",
            "zerolinecolor": "white"
           },
           "zaxis": {
            "backgroundcolor": "#E5ECF6",
            "gridcolor": "white",
            "gridwidth": 2,
            "linecolor": "white",
            "showbackground": true,
            "ticks": "",
            "zerolinecolor": "white"
           }
          },
          "shapedefaults": {
           "line": {
            "color": "#2a3f5f"
           }
          },
          "ternary": {
           "aaxis": {
            "gridcolor": "white",
            "linecolor": "white",
            "ticks": ""
           },
           "baxis": {
            "gridcolor": "white",
            "linecolor": "white",
            "ticks": ""
           },
           "bgcolor": "#E5ECF6",
           "caxis": {
            "gridcolor": "white",
            "linecolor": "white",
            "ticks": ""
           }
          },
          "title": {
           "x": 0.05
          },
          "xaxis": {
           "automargin": true,
           "gridcolor": "white",
           "linecolor": "white",
           "ticks": "",
           "title": {
            "standoff": 15
           },
           "zerolinecolor": "white",
           "zerolinewidth": 2
          },
          "yaxis": {
           "automargin": true,
           "gridcolor": "white",
           "linecolor": "white",
           "ticks": "",
           "title": {
            "standoff": 15
           },
           "zerolinecolor": "white",
           "zerolinewidth": 2
          }
         }
        },
        "title": {
         "text": "Face Recognition"
        },
        "xaxis": {
         "anchor": "y",
         "domain": [
          0,
          1
         ],
         "title": {
          "text": "Timeline"
         }
        },
        "yaxis": {
         "anchor": "x",
         "domain": [
          0,
          1
         ],
         "title": {
          "text": "Face Box"
         }
        }
       }
      }
     },
     "metadata": {},
     "output_type": "display_data"
    }
   ],
   "source": [
    "# User plotly to visualize something\n",
    "\n",
    "AU = 2\n",
    "AU_R = 1\n",
    "AU_E = 18\n",
    "\n",
    "E_TH = 0.5\n",
    "\n",
    "import plotly.express as px\n",
    "import pandas as pd\n",
    "\n",
    "# Load all csv files in csv/\n",
    "import glob\n",
    "import os\n",
    "\n",
    "csv_files = glob.glob(\"csv/*.csv\")\n",
    "# Convert all entries to structured data with attribute 0 as frame number, 1 as Face Box, and 5 as Identity\n",
    "# Skip first two lines of each file\n",
    "# Skip rows where Identity is N/A\n",
    "\n",
    "USE_GENERAL_NAMES = True\n",
    "USE_GENDER_NAMES = True\n",
    "IGNORE_MINOR_CHARACTERS = True\n",
    "\n",
    "FILM_FRAME_TOTALS = {\n",
    "\t\"Cliff\": 2097,\n",
    "\t\"Our Village\": 2377,\n",
    "\t\"Diary of Nurse\": 2297,\n",
    "\t\"Sabrina\": 2751,\n",
    "\t\"The Man from Laramie\": 2477,\n",
    "\t\"Human Desire\": 2200,\n",
    "}\n",
    "\n",
    "FILMS_WITH_EMOTION = FILM_FRAME_TOTALS.keys()\n",
    "\n",
    "RIVALS = [\"Keming\", \"Professor Yuan\", \"Haoru\", \"David\", \"Vic\", \"Carl\"]\n",
    "MALES = [\"Zhanwu\", \"Fan Jun\", \"Changping\", \"Linus\", \"Will\", \"Jeff\"]\n",
    "LADIES = [\"Shuzhen\", \"Fang Qing\", \"Suhua\", \"Sabrina\", \"Barbara\", \"Vicki\"]\n",
    "\n",
    "PROTAGONISTS = [\"Zhanwu\", \"Fang Qing\", \"Suhua\", \"Sabrina\", \"Will\", \"Jeff\"]\n",
    "LOVES = [\"Shuzhen\", \"Fan Jun\", \"Changping\", \"Linus\", \"Barbara\", \"Vicki\"]\n",
    "\n",
    "def get_name(name):\n",
    "\tif USE_GENDER_NAMES:\n",
    "\t\tif name in MALES:\n",
    "\t\t\tname = \"Male\"\n",
    "\t\telif name in LADIES:\n",
    "\t\t\tname = \"Female\"\n",
    "\telse:\n",
    "\t\tif name in PROTAGONISTS:\n",
    "\t\t\tname = \"Fan Jun\"\n",
    "\t\telif name in LOVES:\n",
    "\t\t\tname = \"Love\"\n",
    "\treturn name\n",
    "\n",
    "data = []\n",
    "for file in csv_files:\n",
    "\tif file[4:-4] not in FILMS_WITH_EMOTION:\n",
    "\t\tcontinue\n",
    "\twith open(file) as f:\n",
    "\t\temotion_file = \"openface_cleaned/\" + os.path.basename(file)[:-4] + \".csv\"\n",
    "\t\tlines = f.readlines()[2:]\n",
    "\t\tfor line in lines:\n",
    "\t\t\tline = line.split(\",\")\n",
    "\t\t\tif line[5] != \"\\\"N/A\\\"\":\n",
    "\t\t\t\temotion_row = \"\"\n",
    "\t\t\t\tpath = line[4][1:][:-1]\n",
    "\t\t\t\twith open(emotion_file) as ef:\n",
    "\t\t\t\t\tef_lines = ef.readlines()\n",
    "\t\t\t\t\tfor ef_line in ef_lines:\n",
    "\t\t\t\t\t\tef_line = ef_line.split(\",\")\n",
    "\t\t\t\t\t\tif ef_line[0][:-4] == path[6:]:\n",
    "\t\t\t\t\t\t\temotion_row = ef_line\n",
    "\t\t\t\t\t\t\tbreak\n",
    "\t\t\t\tif emotion_row == \"\":\n",
    "\t\t\t\t\tcontinue\n",
    "\n",
    "\t\t\t\tlog1 = int(int(AU) + int(AU_R) + 1)\n",
    "\t\t\t\tlog2 = int(int(AU) + int(AU_E) + 1)\n",
    "\t\t\t\tr = emotion_row[log1]\n",
    "\t\t\t\te = float(emotion_row[log2])\n",
    "\n",
    "\t\t\t\tif e < E_TH:\n",
    "\t\t\t\t\tcontinue\n",
    "\n",
    "\t\t\t\t# Att 3 is frame numbder / film's total frames (the film is the name of the current csv file)\n",
    "\t\t\t\ttotal = FILM_FRAME_TOTALS[os.path.basename(file)[:-4]]\n",
    "\t\t\t\tframe = int(line[0][1:][:-1])\n",
    "\t\t\t\tname = line[5][1:][:-1]\n",
    "\t\t\t\tif USE_GENERAL_NAMES:\n",
    "\t\t\t\t\tif name in RIVALS:\n",
    "\t\t\t\t\t\tname = \"Rival\"\n",
    "\t\t\t\t\tname = get_name(name)\n",
    "\t\t\t\tif IGNORE_MINOR_CHARACTERS:\n",
    "\t\t\t\t\tif USE_GENERAL_NAMES:\n",
    "\t\t\t\t\t\tif name not in [\"Rival\", \"Protagonist\", \"Female\", \"Male\", \"Love\"]:\n",
    "\t\t\t\t\t\t\tcontinue\n",
    "\t\t\t\t\telse:\n",
    "\t\t\t\t\t\tif name not in RIVALS:\n",
    "\t\t\t\t\t\t\tif name not in PROTAGONISTS:\n",
    "\t\t\t\t\t\t\t\tif name not in LOVES:\n",
    "\t\t\t\t\t\t\t\t\tcontinue\n",
    "\t\t\t\tdata.append([frame, r, name, frame / total, os.path.basename(file)[:-4]])\n",
    "\n",
    "df = pd.DataFrame(data, columns=[\"Frame\", \"Face Box\", \"Identity\", \"Timeline\", \"Film\"])\n",
    "df[\"Identity\"] = df[\"Identity\"].astype(str)\n",
    "df[\"Identity\"] = df[\"Identity\"].apply(lambda x: x.split(\" \")[0])\n",
    "\n",
    "# Create a scatter plot of the data\n",
    "fig = px.scatter(df, x=\"Timeline\", y=\"Face Box\", color=\"Identity\", hover_data=[\"Film\"], title=\"Face Recognition\")\n",
    "fig.show()"
   ]
  },
  {
   "cell_type": "code",
   "execution_count": 7,
   "metadata": {},
   "outputs": [
    {
     "name": "stdout",
     "output_type": "stream",
     "text": [
      "18\n"
     ]
    },
    {
     "data": {
      "application/vnd.plotly.v1+json": {
       "config": {
        "plotlyServerURL": "https://plot.ly"
       },
       "data": [
        {
         "hovertemplate": "Identity=Male-AU09<br>Timeline=%{x}<br>Value=%{y}<extra></extra>",
         "legendgroup": "Male-AU09",
         "line": {
          "color": "#636efa",
          "dash": "solid"
         },
         "marker": {
          "symbol": "circle"
         },
         "mode": "lines",
         "name": "Male-AU09",
         "orientation": "v",
         "showlegend": true,
         "type": "scatter",
         "x": [
          1,
          2,
          3,
          4,
          5,
          6,
          7
         ],
         "xaxis": "x",
         "y": [
          0.3888888888888889,
          0.07692307692307693,
          0.6,
          0.15,
          0.5454545454545454,
          0.07692307692307693,
          0.2857142857142857
         ],
         "yaxis": "y"
        },
        {
         "hovertemplate": "Identity=Male-AU15<br>Timeline=%{x}<br>Value=%{y}<extra></extra>",
         "legendgroup": "Male-AU15",
         "line": {
          "color": "#EF553B",
          "dash": "solid"
         },
         "marker": {
          "symbol": "circle"
         },
         "mode": "lines",
         "name": "Male-AU15",
         "orientation": "v",
         "showlegend": true,
         "type": "scatter",
         "x": [
          1,
          2,
          3,
          5,
          7
         ],
         "xaxis": "x",
         "y": [
          0.2222222222222222,
          0.07692307692307693,
          0.04,
          0.09090909090909091,
          0.09523809523809523
         ],
         "yaxis": "y"
        },
        {
         "hovertemplate": "Identity=Rival-AU09<br>Timeline=%{x}<br>Value=%{y}<extra></extra>",
         "legendgroup": "Rival-AU09",
         "line": {
          "color": "#00cc96",
          "dash": "solid"
         },
         "marker": {
          "symbol": "circle"
         },
         "mode": "lines",
         "name": "Rival-AU09",
         "orientation": "v",
         "showlegend": true,
         "type": "scatter",
         "x": [
          1,
          2,
          3,
          4,
          5,
          7
         ],
         "xaxis": "x",
         "y": [
          0.4,
          0.4,
          0.17391304347826086,
          0.38461538461538464,
          0.5,
          0.16
         ],
         "yaxis": "y"
        },
        {
         "hovertemplate": "Identity=Rival-AU12<br>Timeline=%{x}<br>Value=%{y}<extra></extra>",
         "legendgroup": "Rival-AU12",
         "line": {
          "color": "#ab63fa",
          "dash": "solid"
         },
         "marker": {
          "symbol": "circle"
         },
         "mode": "lines",
         "name": "Rival-AU12",
         "orientation": "v",
         "showlegend": true,
         "type": "scatter",
         "x": [
          1,
          3,
          7
         ],
         "xaxis": "x",
         "y": [
          0.2,
          0.08695652173913043,
          0.12
         ],
         "yaxis": "y"
        },
        {
         "hovertemplate": "Identity=Male-AU07<br>Timeline=%{x}<br>Value=%{y}<extra></extra>",
         "legendgroup": "Male-AU07",
         "line": {
          "color": "#FFA15A",
          "dash": "solid"
         },
         "marker": {
          "symbol": "circle"
         },
         "mode": "lines",
         "name": "Male-AU07",
         "orientation": "v",
         "showlegend": true,
         "type": "scatter",
         "x": [
          1,
          7
         ],
         "xaxis": "x",
         "y": [
          0.05555555555555555,
          0.047619047619047616
         ],
         "yaxis": "y"
        },
        {
         "hovertemplate": "Identity=Male-AU14<br>Timeline=%{x}<br>Value=%{y}<extra></extra>",
         "legendgroup": "Male-AU14",
         "line": {
          "color": "#19d3f3",
          "dash": "solid"
         },
         "marker": {
          "symbol": "circle"
         },
         "mode": "lines",
         "name": "Male-AU14",
         "orientation": "v",
         "showlegend": true,
         "type": "scatter",
         "x": [
          1,
          2,
          7
         ],
         "xaxis": "x",
         "y": [
          0.05555555555555555,
          0.038461538461538464,
          0.047619047619047616
         ],
         "yaxis": "y"
        },
        {
         "hovertemplate": "Identity=Male-AU26<br>Timeline=%{x}<br>Value=%{y}<extra></extra>",
         "legendgroup": "Male-AU26",
         "line": {
          "color": "#FF6692",
          "dash": "solid"
         },
         "marker": {
          "symbol": "circle"
         },
         "mode": "lines",
         "name": "Male-AU26",
         "orientation": "v",
         "showlegend": true,
         "type": "scatter",
         "x": [
          1,
          2,
          3,
          4,
          6,
          7
         ],
         "xaxis": "x",
         "y": [
          0.05555555555555555,
          0.07692307692307693,
          0.2,
          0.1,
          0.15384615384615385,
          0.09523809523809523
         ],
         "yaxis": "y"
        },
        {
         "hovertemplate": "Identity=Male-AU06<br>Timeline=%{x}<br>Value=%{y}<extra></extra>",
         "legendgroup": "Male-AU06",
         "line": {
          "color": "#B6E880",
          "dash": "solid"
         },
         "marker": {
          "symbol": "circle"
         },
         "mode": "lines",
         "name": "Male-AU06",
         "orientation": "v",
         "showlegend": true,
         "type": "scatter",
         "x": [
          1,
          2,
          4,
          5,
          6
         ],
         "xaxis": "x",
         "y": [
          0.16666666666666666,
          0.07692307692307693,
          0.15,
          0.18181818181818182,
          0.15384615384615385
         ],
         "yaxis": "y"
        },
        {
         "hovertemplate": "Identity=Rival-AU05<br>Timeline=%{x}<br>Value=%{y}<extra></extra>",
         "legendgroup": "Rival-AU05",
         "line": {
          "color": "#FF97FF",
          "dash": "solid"
         },
         "marker": {
          "symbol": "circle"
         },
         "mode": "lines",
         "name": "Rival-AU05",
         "orientation": "v",
         "showlegend": true,
         "type": "scatter",
         "x": [
          1,
          2,
          4,
          6,
          7
         ],
         "xaxis": "x",
         "y": [
          0.2,
          0.2,
          0.07692307692307693,
          0.1111111111111111,
          0.4
         ],
         "yaxis": "y"
        },
        {
         "hovertemplate": "Identity=Female-AU09<br>Timeline=%{x}<br>Value=%{y}<extra></extra>",
         "legendgroup": "Female-AU09",
         "line": {
          "color": "#FECB52",
          "dash": "solid"
         },
         "marker": {
          "symbol": "circle"
         },
         "mode": "lines",
         "name": "Female-AU09",
         "orientation": "v",
         "showlegend": true,
         "type": "scatter",
         "x": [
          1,
          2,
          4,
          5,
          6,
          7
         ],
         "xaxis": "x",
         "y": [
          0.2222222222222222,
          0.4117647058823529,
          0.20833333333333334,
          0.13333333333333333,
          0.14285714285714285,
          0.38095238095238093
         ],
         "yaxis": "y"
        },
        {
         "hovertemplate": "Identity=Female-AU12<br>Timeline=%{x}<br>Value=%{y}<extra></extra>",
         "legendgroup": "Female-AU12",
         "line": {
          "color": "#636efa",
          "dash": "solid"
         },
         "marker": {
          "symbol": "circle"
         },
         "mode": "lines",
         "name": "Female-AU12",
         "orientation": "v",
         "showlegend": true,
         "type": "scatter",
         "x": [
          1,
          4,
          6
         ],
         "xaxis": "x",
         "y": [
          0.2222222222222222,
          0.125,
          0.14285714285714285
         ],
         "yaxis": "y"
        },
        {
         "hovertemplate": "Identity=Female-AU14<br>Timeline=%{x}<br>Value=%{y}<extra></extra>",
         "legendgroup": "Female-AU14",
         "line": {
          "color": "#EF553B",
          "dash": "solid"
         },
         "marker": {
          "symbol": "circle"
         },
         "mode": "lines",
         "name": "Female-AU14",
         "orientation": "v",
         "showlegend": true,
         "type": "scatter",
         "x": [
          1,
          2,
          3,
          4,
          5
         ],
         "xaxis": "x",
         "y": [
          0.1111111111111111,
          0.11764705882352941,
          0.2608695652173913,
          0.041666666666666664,
          0.06666666666666667
         ],
         "yaxis": "y"
        },
        {
         "hovertemplate": "Identity=Female-AU26<br>Timeline=%{x}<br>Value=%{y}<extra></extra>",
         "legendgroup": "Female-AU26",
         "line": {
          "color": "#00cc96",
          "dash": "solid"
         },
         "marker": {
          "symbol": "circle"
         },
         "mode": "lines",
         "name": "Female-AU26",
         "orientation": "v",
         "showlegend": true,
         "type": "scatter",
         "x": [
          1,
          2,
          4,
          7
         ],
         "xaxis": "x",
         "y": [
          0.1111111111111111,
          0.058823529411764705,
          0.041666666666666664,
          0.047619047619047616
         ],
         "yaxis": "y"
        },
        {
         "hovertemplate": "Identity=Female-AU02<br>Timeline=%{x}<br>Value=%{y}<extra></extra>",
         "legendgroup": "Female-AU02",
         "line": {
          "color": "#ab63fa",
          "dash": "solid"
         },
         "marker": {
          "symbol": "circle"
         },
         "mode": "lines",
         "name": "Female-AU02",
         "orientation": "v",
         "showlegend": true,
         "type": "scatter",
         "x": [
          1,
          2,
          3,
          4,
          5,
          6,
          7
         ],
         "xaxis": "x",
         "y": [
          0.2222222222222222,
          0.058823529411764705,
          0.391304347826087,
          0.16666666666666666,
          0.5333333333333333,
          0.2857142857142857,
          0.3333333333333333
         ],
         "yaxis": "y"
        },
        {
         "hovertemplate": "Identity=Female-AU06<br>Timeline=%{x}<br>Value=%{y}<extra></extra>",
         "legendgroup": "Female-AU06",
         "line": {
          "color": "#FFA15A",
          "dash": "solid"
         },
         "marker": {
          "symbol": "circle"
         },
         "mode": "lines",
         "name": "Female-AU06",
         "orientation": "v",
         "showlegend": true,
         "type": "scatter",
         "x": [
          1,
          2,
          3,
          5,
          7
         ],
         "xaxis": "x",
         "y": [
          0.1111111111111111,
          0.058823529411764705,
          0.13043478260869565,
          0.06666666666666667,
          0.14285714285714285
         ],
         "yaxis": "y"
        },
        {
         "hovertemplate": "Identity=Rival-AU28<br>Timeline=%{x}<br>Value=%{y}<extra></extra>",
         "legendgroup": "Rival-AU28",
         "line": {
          "color": "#19d3f3",
          "dash": "solid"
         },
         "marker": {
          "symbol": "circle"
         },
         "mode": "lines",
         "name": "Rival-AU28",
         "orientation": "v",
         "showlegend": true,
         "type": "scatter",
         "x": [
          1,
          3,
          4
         ],
         "xaxis": "x",
         "y": [
          0.2,
          0.17391304347826086,
          0.07692307692307693
         ],
         "yaxis": "y"
        },
        {
         "hovertemplate": "Identity=Male-AU02<br>Timeline=%{x}<br>Value=%{y}<extra></extra>",
         "legendgroup": "Male-AU02",
         "line": {
          "color": "#FF6692",
          "dash": "solid"
         },
         "marker": {
          "symbol": "circle"
         },
         "mode": "lines",
         "name": "Male-AU02",
         "orientation": "v",
         "showlegend": true,
         "type": "scatter",
         "x": [
          1,
          2,
          3,
          4,
          5,
          6
         ],
         "xaxis": "x",
         "y": [
          0.05555555555555555,
          0.34615384615384615,
          0.04,
          0.05,
          0.045454545454545456,
          0.07692307692307693
         ],
         "yaxis": "y"
        },
        {
         "hovertemplate": "Identity=Female-AU04<br>Timeline=%{x}<br>Value=%{y}<extra></extra>",
         "legendgroup": "Female-AU04",
         "line": {
          "color": "#B6E880",
          "dash": "solid"
         },
         "marker": {
          "symbol": "circle"
         },
         "mode": "lines",
         "name": "Female-AU04",
         "orientation": "v",
         "showlegend": true,
         "type": "scatter",
         "x": [
          2,
          3,
          4,
          6
         ],
         "xaxis": "x",
         "y": [
          0.11764705882352941,
          0.043478260869565216,
          0.2916666666666667,
          0.21428571428571427
         ],
         "yaxis": "y"
        },
        {
         "hovertemplate": "Identity=Rival-AU02<br>Timeline=%{x}<br>Value=%{y}<extra></extra>",
         "legendgroup": "Rival-AU02",
         "line": {
          "color": "#FF97FF",
          "dash": "solid"
         },
         "marker": {
          "symbol": "circle"
         },
         "mode": "lines",
         "name": "Rival-AU02",
         "orientation": "v",
         "showlegend": true,
         "type": "scatter",
         "x": [
          2,
          3,
          4,
          6
         ],
         "xaxis": "x",
         "y": [
          0.2,
          0.043478260869565216,
          0.07692307692307693,
          0.1111111111111111
         ],
         "yaxis": "y"
        },
        {
         "hovertemplate": "Identity=Rival-AU15<br>Timeline=%{x}<br>Value=%{y}<extra></extra>",
         "legendgroup": "Rival-AU15",
         "line": {
          "color": "#FECB52",
          "dash": "solid"
         },
         "marker": {
          "symbol": "circle"
         },
         "mode": "lines",
         "name": "Rival-AU15",
         "orientation": "v",
         "showlegend": true,
         "type": "scatter",
         "x": [
          2,
          3,
          4
         ],
         "xaxis": "x",
         "y": [
          0.2,
          0.08695652173913043,
          0.07692307692307693
         ],
         "yaxis": "y"
        },
        {
         "hovertemplate": "Identity=Male-AU28<br>Timeline=%{x}<br>Value=%{y}<extra></extra>",
         "legendgroup": "Male-AU28",
         "line": {
          "color": "#636efa",
          "dash": "solid"
         },
         "marker": {
          "symbol": "circle"
         },
         "mode": "lines",
         "name": "Male-AU28",
         "orientation": "v",
         "showlegend": true,
         "type": "scatter",
         "x": [
          2,
          4,
          6
         ],
         "xaxis": "x",
         "y": [
          0.11538461538461539,
          0.05,
          0.23076923076923078
         ],
         "yaxis": "y"
        },
        {
         "hovertemplate": "Identity=Male-AU05<br>Timeline=%{x}<br>Value=%{y}<extra></extra>",
         "legendgroup": "Male-AU05",
         "line": {
          "color": "#EF553B",
          "dash": "solid"
         },
         "marker": {
          "symbol": "circle"
         },
         "mode": "lines",
         "name": "Male-AU05",
         "orientation": "v",
         "showlegend": true,
         "type": "scatter",
         "x": [
          2,
          4,
          5,
          7
         ],
         "xaxis": "x",
         "y": [
          0.038461538461538464,
          0.3,
          0.045454545454545456,
          0.09523809523809523
         ],
         "yaxis": "y"
        },
        {
         "hovertemplate": "Identity=Male-AU23<br>Timeline=%{x}<br>Value=%{y}<extra></extra>",
         "legendgroup": "Male-AU23",
         "line": {
          "color": "#00cc96",
          "dash": "solid"
         },
         "marker": {
          "symbol": "circle"
         },
         "mode": "lines",
         "name": "Male-AU23",
         "orientation": "v",
         "showlegend": true,
         "type": "scatter",
         "x": [
          2,
          3,
          5,
          6,
          7
         ],
         "xaxis": "x",
         "y": [
          0.038461538461538464,
          0.08,
          0.045454545454545456,
          0.07692307692307693,
          0.09523809523809523
         ],
         "yaxis": "y"
        },
        {
         "hovertemplate": "Identity=Female-AU28<br>Timeline=%{x}<br>Value=%{y}<extra></extra>",
         "legendgroup": "Female-AU28",
         "line": {
          "color": "#ab63fa",
          "dash": "solid"
         },
         "marker": {
          "symbol": "circle"
         },
         "mode": "lines",
         "name": "Female-AU28",
         "orientation": "v",
         "showlegend": true,
         "type": "scatter",
         "x": [
          2,
          4,
          5,
          6,
          7
         ],
         "xaxis": "x",
         "y": [
          0.058823529411764705,
          0.041666666666666664,
          0.06666666666666667,
          0.07142857142857142,
          0.047619047619047616
         ],
         "yaxis": "y"
        },
        {
         "hovertemplate": "Identity=Male-AU12<br>Timeline=%{x}<br>Value=%{y}<extra></extra>",
         "legendgroup": "Male-AU12",
         "line": {
          "color": "#FFA15A",
          "dash": "solid"
         },
         "marker": {
          "symbol": "circle"
         },
         "mode": "lines",
         "name": "Male-AU12",
         "orientation": "v",
         "showlegend": true,
         "type": "scatter",
         "x": [
          2,
          4,
          6,
          7
         ],
         "xaxis": "x",
         "y": [
          0.11538461538461539,
          0.1,
          0.15384615384615385,
          0.19047619047619047
         ],
         "yaxis": "y"
        },
        {
         "hovertemplate": "Identity=Female-AU15<br>Timeline=%{x}<br>Value=%{y}<extra></extra>",
         "legendgroup": "Female-AU15",
         "line": {
          "color": "#19d3f3",
          "dash": "solid"
         },
         "marker": {
          "symbol": "circle"
         },
         "mode": "lines",
         "name": "Female-AU15",
         "orientation": "v",
         "showlegend": true,
         "type": "scatter",
         "x": [
          2,
          3,
          4,
          5,
          6
         ],
         "xaxis": "x",
         "y": [
          0.11764705882352941,
          0.13043478260869565,
          0.041666666666666664,
          0.13333333333333333,
          0.14285714285714285
         ],
         "yaxis": "y"
        },
        {
         "hovertemplate": "Identity=Rival-AU06<br>Timeline=%{x}<br>Value=%{y}<extra></extra>",
         "legendgroup": "Rival-AU06",
         "line": {
          "color": "#FF6692",
          "dash": "solid"
         },
         "marker": {
          "symbol": "circle"
         },
         "mode": "lines",
         "name": "Rival-AU06",
         "orientation": "v",
         "showlegend": true,
         "type": "scatter",
         "x": [
          3,
          4,
          6,
          7
         ],
         "xaxis": "x",
         "y": [
          0.13043478260869565,
          0.23076923076923078,
          0.1111111111111111,
          0.08
         ],
         "yaxis": "y"
        },
        {
         "hovertemplate": "Identity=Female-AU20<br>Timeline=%{x}<br>Value=%{y}<extra></extra>",
         "legendgroup": "Female-AU20",
         "line": {
          "color": "#B6E880",
          "dash": "solid"
         },
         "marker": {
          "symbol": "circle"
         },
         "mode": "lines",
         "name": "Female-AU20",
         "orientation": "v",
         "showlegend": true,
         "type": "scatter",
         "x": [
          3
         ],
         "xaxis": "x",
         "y": [
          0.043478260869565216
         ],
         "yaxis": "y"
        },
        {
         "hovertemplate": "Identity=Rival-AU26<br>Timeline=%{x}<br>Value=%{y}<extra></extra>",
         "legendgroup": "Rival-AU26",
         "line": {
          "color": "#FF97FF",
          "dash": "solid"
         },
         "marker": {
          "symbol": "circle"
         },
         "mode": "lines",
         "name": "Rival-AU26",
         "orientation": "v",
         "showlegend": true,
         "type": "scatter",
         "x": [
          3,
          6,
          7
         ],
         "xaxis": "x",
         "y": [
          0.13043478260869565,
          0.1111111111111111,
          0.04
         ],
         "yaxis": "y"
        },
        {
         "hovertemplate": "Identity=Male-AU20<br>Timeline=%{x}<br>Value=%{y}<extra></extra>",
         "legendgroup": "Male-AU20",
         "line": {
          "color": "#FECB52",
          "dash": "solid"
         },
         "marker": {
          "symbol": "circle"
         },
         "mode": "lines",
         "name": "Male-AU20",
         "orientation": "v",
         "showlegend": true,
         "type": "scatter",
         "x": [
          3,
          4,
          6
         ],
         "xaxis": "x",
         "y": [
          0.04,
          0.05,
          0.07692307692307693
         ],
         "yaxis": "y"
        },
        {
         "hovertemplate": "Identity=Rival-AU14<br>Timeline=%{x}<br>Value=%{y}<extra></extra>",
         "legendgroup": "Rival-AU14",
         "line": {
          "color": "#636efa",
          "dash": "solid"
         },
         "marker": {
          "symbol": "circle"
         },
         "mode": "lines",
         "name": "Rival-AU14",
         "orientation": "v",
         "showlegend": true,
         "type": "scatter",
         "x": [
          3,
          5
         ],
         "xaxis": "x",
         "y": [
          0.08695652173913043,
          0.25
         ],
         "yaxis": "y"
        },
        {
         "hovertemplate": "Identity=Rival-AU23<br>Timeline=%{x}<br>Value=%{y}<extra></extra>",
         "legendgroup": "Rival-AU23",
         "line": {
          "color": "#EF553B",
          "dash": "solid"
         },
         "marker": {
          "symbol": "circle"
         },
         "mode": "lines",
         "name": "Rival-AU23",
         "orientation": "v",
         "showlegend": true,
         "type": "scatter",
         "x": [
          3,
          6,
          7
         ],
         "xaxis": "x",
         "y": [
          0.043478260869565216,
          0.1111111111111111,
          0.04
         ],
         "yaxis": "y"
        },
        {
         "hovertemplate": "Identity=Rival-AU25<br>Timeline=%{x}<br>Value=%{y}<extra></extra>",
         "legendgroup": "Rival-AU25",
         "line": {
          "color": "#00cc96",
          "dash": "solid"
         },
         "marker": {
          "symbol": "circle"
         },
         "mode": "lines",
         "name": "Rival-AU25",
         "orientation": "v",
         "showlegend": true,
         "type": "scatter",
         "x": [
          3,
          6
         ],
         "xaxis": "x",
         "y": [
          0.043478260869565216,
          0.1111111111111111
         ],
         "yaxis": "y"
        },
        {
         "hovertemplate": "Identity=Male-AU17<br>Timeline=%{x}<br>Value=%{y}<extra></extra>",
         "legendgroup": "Male-AU17",
         "line": {
          "color": "#ab63fa",
          "dash": "solid"
         },
         "marker": {
          "symbol": "circle"
         },
         "mode": "lines",
         "name": "Male-AU17",
         "orientation": "v",
         "showlegend": true,
         "type": "scatter",
         "x": [
          4,
          7
         ],
         "xaxis": "x",
         "y": [
          0.05,
          0.047619047619047616
         ],
         "yaxis": "y"
        },
        {
         "hovertemplate": "Identity=Female-AU23<br>Timeline=%{x}<br>Value=%{y}<extra></extra>",
         "legendgroup": "Female-AU23",
         "line": {
          "color": "#FFA15A",
          "dash": "solid"
         },
         "marker": {
          "symbol": "circle"
         },
         "mode": "lines",
         "name": "Female-AU23",
         "orientation": "v",
         "showlegend": true,
         "type": "scatter",
         "x": [
          4,
          7
         ],
         "xaxis": "x",
         "y": [
          0.041666666666666664,
          0.047619047619047616
         ],
         "yaxis": "y"
        },
        {
         "hovertemplate": "Identity=Rival-AU20<br>Timeline=%{x}<br>Value=%{y}<extra></extra>",
         "legendgroup": "Rival-AU20",
         "line": {
          "color": "#19d3f3",
          "dash": "solid"
         },
         "marker": {
          "symbol": "circle"
         },
         "mode": "lines",
         "name": "Rival-AU20",
         "orientation": "v",
         "showlegend": true,
         "type": "scatter",
         "x": [
          4,
          6
         ],
         "xaxis": "x",
         "y": [
          0.07692307692307693,
          0.1111111111111111
         ],
         "yaxis": "y"
        },
        {
         "hovertemplate": "Identity=Rival-AU04<br>Timeline=%{x}<br>Value=%{y}<extra></extra>",
         "legendgroup": "Rival-AU04",
         "line": {
          "color": "#FF6692",
          "dash": "solid"
         },
         "marker": {
          "symbol": "circle"
         },
         "mode": "lines",
         "name": "Rival-AU04",
         "orientation": "v",
         "showlegend": true,
         "type": "scatter",
         "x": [
          5,
          6
         ],
         "xaxis": "x",
         "y": [
          0.25,
          0.2222222222222222
         ],
         "yaxis": "y"
        },
        {
         "hovertemplate": "Identity=Male-AU04<br>Timeline=%{x}<br>Value=%{y}<extra></extra>",
         "legendgroup": "Male-AU04",
         "line": {
          "color": "#B6E880",
          "dash": "solid"
         },
         "marker": {
          "symbol": "circle"
         },
         "mode": "lines",
         "name": "Male-AU04",
         "orientation": "v",
         "showlegend": true,
         "type": "scatter",
         "x": [
          5
         ],
         "xaxis": "x",
         "y": [
          0.045454545454545456
         ],
         "yaxis": "y"
        },
        {
         "hovertemplate": "Identity=Rival-AU17<br>Timeline=%{x}<br>Value=%{y}<extra></extra>",
         "legendgroup": "Rival-AU17",
         "line": {
          "color": "#FF97FF",
          "dash": "solid"
         },
         "marker": {
          "symbol": "circle"
         },
         "mode": "lines",
         "name": "Rival-AU17",
         "orientation": "v",
         "showlegend": true,
         "type": "scatter",
         "x": [
          7
         ],
         "xaxis": "x",
         "y": [
          0.16
         ],
         "yaxis": "y"
        }
       ],
       "layout": {
        "legend": {
         "title": {
          "text": "Identity"
         },
         "tracegroupgap": 0
        },
        "template": {
         "data": {
          "bar": [
           {
            "error_x": {
             "color": "#2a3f5f"
            },
            "error_y": {
             "color": "#2a3f5f"
            },
            "marker": {
             "line": {
              "color": "#E5ECF6",
              "width": 0.5
             },
             "pattern": {
              "fillmode": "overlay",
              "size": 10,
              "solidity": 0.2
             }
            },
            "type": "bar"
           }
          ],
          "barpolar": [
           {
            "marker": {
             "line": {
              "color": "#E5ECF6",
              "width": 0.5
             },
             "pattern": {
              "fillmode": "overlay",
              "size": 10,
              "solidity": 0.2
             }
            },
            "type": "barpolar"
           }
          ],
          "carpet": [
           {
            "aaxis": {
             "endlinecolor": "#2a3f5f",
             "gridcolor": "white",
             "linecolor": "white",
             "minorgridcolor": "white",
             "startlinecolor": "#2a3f5f"
            },
            "baxis": {
             "endlinecolor": "#2a3f5f",
             "gridcolor": "white",
             "linecolor": "white",
             "minorgridcolor": "white",
             "startlinecolor": "#2a3f5f"
            },
            "type": "carpet"
           }
          ],
          "choropleth": [
           {
            "colorbar": {
             "outlinewidth": 0,
             "ticks": ""
            },
            "type": "choropleth"
           }
          ],
          "contour": [
           {
            "colorbar": {
             "outlinewidth": 0,
             "ticks": ""
            },
            "colorscale": [
             [
              0,
              "#0d0887"
             ],
             [
              0.1111111111111111,
              "#46039f"
             ],
             [
              0.2222222222222222,
              "#7201a8"
             ],
             [
              0.3333333333333333,
              "#9c179e"
             ],
             [
              0.4444444444444444,
              "#bd3786"
             ],
             [
              0.5555555555555556,
              "#d8576b"
             ],
             [
              0.6666666666666666,
              "#ed7953"
             ],
             [
              0.7777777777777778,
              "#fb9f3a"
             ],
             [
              0.8888888888888888,
              "#fdca26"
             ],
             [
              1,
              "#f0f921"
             ]
            ],
            "type": "contour"
           }
          ],
          "contourcarpet": [
           {
            "colorbar": {
             "outlinewidth": 0,
             "ticks": ""
            },
            "type": "contourcarpet"
           }
          ],
          "heatmap": [
           {
            "colorbar": {
             "outlinewidth": 0,
             "ticks": ""
            },
            "colorscale": [
             [
              0,
              "#0d0887"
             ],
             [
              0.1111111111111111,
              "#46039f"
             ],
             [
              0.2222222222222222,
              "#7201a8"
             ],
             [
              0.3333333333333333,
              "#9c179e"
             ],
             [
              0.4444444444444444,
              "#bd3786"
             ],
             [
              0.5555555555555556,
              "#d8576b"
             ],
             [
              0.6666666666666666,
              "#ed7953"
             ],
             [
              0.7777777777777778,
              "#fb9f3a"
             ],
             [
              0.8888888888888888,
              "#fdca26"
             ],
             [
              1,
              "#f0f921"
             ]
            ],
            "type": "heatmap"
           }
          ],
          "heatmapgl": [
           {
            "colorbar": {
             "outlinewidth": 0,
             "ticks": ""
            },
            "colorscale": [
             [
              0,
              "#0d0887"
             ],
             [
              0.1111111111111111,
              "#46039f"
             ],
             [
              0.2222222222222222,
              "#7201a8"
             ],
             [
              0.3333333333333333,
              "#9c179e"
             ],
             [
              0.4444444444444444,
              "#bd3786"
             ],
             [
              0.5555555555555556,
              "#d8576b"
             ],
             [
              0.6666666666666666,
              "#ed7953"
             ],
             [
              0.7777777777777778,
              "#fb9f3a"
             ],
             [
              0.8888888888888888,
              "#fdca26"
             ],
             [
              1,
              "#f0f921"
             ]
            ],
            "type": "heatmapgl"
           }
          ],
          "histogram": [
           {
            "marker": {
             "pattern": {
              "fillmode": "overlay",
              "size": 10,
              "solidity": 0.2
             }
            },
            "type": "histogram"
           }
          ],
          "histogram2d": [
           {
            "colorbar": {
             "outlinewidth": 0,
             "ticks": ""
            },
            "colorscale": [
             [
              0,
              "#0d0887"
             ],
             [
              0.1111111111111111,
              "#46039f"
             ],
             [
              0.2222222222222222,
              "#7201a8"
             ],
             [
              0.3333333333333333,
              "#9c179e"
             ],
             [
              0.4444444444444444,
              "#bd3786"
             ],
             [
              0.5555555555555556,
              "#d8576b"
             ],
             [
              0.6666666666666666,
              "#ed7953"
             ],
             [
              0.7777777777777778,
              "#fb9f3a"
             ],
             [
              0.8888888888888888,
              "#fdca26"
             ],
             [
              1,
              "#f0f921"
             ]
            ],
            "type": "histogram2d"
           }
          ],
          "histogram2dcontour": [
           {
            "colorbar": {
             "outlinewidth": 0,
             "ticks": ""
            },
            "colorscale": [
             [
              0,
              "#0d0887"
             ],
             [
              0.1111111111111111,
              "#46039f"
             ],
             [
              0.2222222222222222,
              "#7201a8"
             ],
             [
              0.3333333333333333,
              "#9c179e"
             ],
             [
              0.4444444444444444,
              "#bd3786"
             ],
             [
              0.5555555555555556,
              "#d8576b"
             ],
             [
              0.6666666666666666,
              "#ed7953"
             ],
             [
              0.7777777777777778,
              "#fb9f3a"
             ],
             [
              0.8888888888888888,
              "#fdca26"
             ],
             [
              1,
              "#f0f921"
             ]
            ],
            "type": "histogram2dcontour"
           }
          ],
          "mesh3d": [
           {
            "colorbar": {
             "outlinewidth": 0,
             "ticks": ""
            },
            "type": "mesh3d"
           }
          ],
          "parcoords": [
           {
            "line": {
             "colorbar": {
              "outlinewidth": 0,
              "ticks": ""
             }
            },
            "type": "parcoords"
           }
          ],
          "pie": [
           {
            "automargin": true,
            "type": "pie"
           }
          ],
          "scatter": [
           {
            "fillpattern": {
             "fillmode": "overlay",
             "size": 10,
             "solidity": 0.2
            },
            "type": "scatter"
           }
          ],
          "scatter3d": [
           {
            "line": {
             "colorbar": {
              "outlinewidth": 0,
              "ticks": ""
             }
            },
            "marker": {
             "colorbar": {
              "outlinewidth": 0,
              "ticks": ""
             }
            },
            "type": "scatter3d"
           }
          ],
          "scattercarpet": [
           {
            "marker": {
             "colorbar": {
              "outlinewidth": 0,
              "ticks": ""
             }
            },
            "type": "scattercarpet"
           }
          ],
          "scattergeo": [
           {
            "marker": {
             "colorbar": {
              "outlinewidth": 0,
              "ticks": ""
             }
            },
            "type": "scattergeo"
           }
          ],
          "scattergl": [
           {
            "marker": {
             "colorbar": {
              "outlinewidth": 0,
              "ticks": ""
             }
            },
            "type": "scattergl"
           }
          ],
          "scattermapbox": [
           {
            "marker": {
             "colorbar": {
              "outlinewidth": 0,
              "ticks": ""
             }
            },
            "type": "scattermapbox"
           }
          ],
          "scatterpolar": [
           {
            "marker": {
             "colorbar": {
              "outlinewidth": 0,
              "ticks": ""
             }
            },
            "type": "scatterpolar"
           }
          ],
          "scatterpolargl": [
           {
            "marker": {
             "colorbar": {
              "outlinewidth": 0,
              "ticks": ""
             }
            },
            "type": "scatterpolargl"
           }
          ],
          "scatterternary": [
           {
            "marker": {
             "colorbar": {
              "outlinewidth": 0,
              "ticks": ""
             }
            },
            "type": "scatterternary"
           }
          ],
          "surface": [
           {
            "colorbar": {
             "outlinewidth": 0,
             "ticks": ""
            },
            "colorscale": [
             [
              0,
              "#0d0887"
             ],
             [
              0.1111111111111111,
              "#46039f"
             ],
             [
              0.2222222222222222,
              "#7201a8"
             ],
             [
              0.3333333333333333,
              "#9c179e"
             ],
             [
              0.4444444444444444,
              "#bd3786"
             ],
             [
              0.5555555555555556,
              "#d8576b"
             ],
             [
              0.6666666666666666,
              "#ed7953"
             ],
             [
              0.7777777777777778,
              "#fb9f3a"
             ],
             [
              0.8888888888888888,
              "#fdca26"
             ],
             [
              1,
              "#f0f921"
             ]
            ],
            "type": "surface"
           }
          ],
          "table": [
           {
            "cells": {
             "fill": {
              "color": "#EBF0F8"
             },
             "line": {
              "color": "white"
             }
            },
            "header": {
             "fill": {
              "color": "#C8D4E3"
             },
             "line": {
              "color": "white"
             }
            },
            "type": "table"
           }
          ]
         },
         "layout": {
          "annotationdefaults": {
           "arrowcolor": "#2a3f5f",
           "arrowhead": 0,
           "arrowwidth": 1
          },
          "autotypenumbers": "strict",
          "coloraxis": {
           "colorbar": {
            "outlinewidth": 0,
            "ticks": ""
           }
          },
          "colorscale": {
           "diverging": [
            [
             0,
             "#8e0152"
            ],
            [
             0.1,
             "#c51b7d"
            ],
            [
             0.2,
             "#de77ae"
            ],
            [
             0.3,
             "#f1b6da"
            ],
            [
             0.4,
             "#fde0ef"
            ],
            [
             0.5,
             "#f7f7f7"
            ],
            [
             0.6,
             "#e6f5d0"
            ],
            [
             0.7,
             "#b8e186"
            ],
            [
             0.8,
             "#7fbc41"
            ],
            [
             0.9,
             "#4d9221"
            ],
            [
             1,
             "#276419"
            ]
           ],
           "sequential": [
            [
             0,
             "#0d0887"
            ],
            [
             0.1111111111111111,
             "#46039f"
            ],
            [
             0.2222222222222222,
             "#7201a8"
            ],
            [
             0.3333333333333333,
             "#9c179e"
            ],
            [
             0.4444444444444444,
             "#bd3786"
            ],
            [
             0.5555555555555556,
             "#d8576b"
            ],
            [
             0.6666666666666666,
             "#ed7953"
            ],
            [
             0.7777777777777778,
             "#fb9f3a"
            ],
            [
             0.8888888888888888,
             "#fdca26"
            ],
            [
             1,
             "#f0f921"
            ]
           ],
           "sequentialminus": [
            [
             0,
             "#0d0887"
            ],
            [
             0.1111111111111111,
             "#46039f"
            ],
            [
             0.2222222222222222,
             "#7201a8"
            ],
            [
             0.3333333333333333,
             "#9c179e"
            ],
            [
             0.4444444444444444,
             "#bd3786"
            ],
            [
             0.5555555555555556,
             "#d8576b"
            ],
            [
             0.6666666666666666,
             "#ed7953"
            ],
            [
             0.7777777777777778,
             "#fb9f3a"
            ],
            [
             0.8888888888888888,
             "#fdca26"
            ],
            [
             1,
             "#f0f921"
            ]
           ]
          },
          "colorway": [
           "#636efa",
           "#EF553B",
           "#00cc96",
           "#ab63fa",
           "#FFA15A",
           "#19d3f3",
           "#FF6692",
           "#B6E880",
           "#FF97FF",
           "#FECB52"
          ],
          "font": {
           "color": "#2a3f5f"
          },
          "geo": {
           "bgcolor": "white",
           "lakecolor": "white",
           "landcolor": "#E5ECF6",
           "showlakes": true,
           "showland": true,
           "subunitcolor": "white"
          },
          "hoverlabel": {
           "align": "left"
          },
          "hovermode": "closest",
          "mapbox": {
           "style": "light"
          },
          "paper_bgcolor": "white",
          "plot_bgcolor": "#E5ECF6",
          "polar": {
           "angularaxis": {
            "gridcolor": "white",
            "linecolor": "white",
            "ticks": ""
           },
           "bgcolor": "#E5ECF6",
           "radialaxis": {
            "gridcolor": "white",
            "linecolor": "white",
            "ticks": ""
           }
          },
          "scene": {
           "xaxis": {
            "backgroundcolor": "#E5ECF6",
            "gridcolor": "white",
            "gridwidth": 2,
            "linecolor": "white",
            "showbackground": true,
            "ticks": "",
            "zerolinecolor": "white"
           },
           "yaxis": {
            "backgroundcolor": "#E5ECF6",
            "gridcolor": "white",
            "gridwidth": 2,
            "linecolor": "white",
            "showbackground": true,
            "ticks": "",
            "zerolinecolor": "white"
           },
           "zaxis": {
            "backgroundcolor": "#E5ECF6",
            "gridcolor": "white",
            "gridwidth": 2,
            "linecolor": "white",
            "showbackground": true,
            "ticks": "",
            "zerolinecolor": "white"
           }
          },
          "shapedefaults": {
           "line": {
            "color": "#2a3f5f"
           }
          },
          "ternary": {
           "aaxis": {
            "gridcolor": "white",
            "linecolor": "white",
            "ticks": ""
           },
           "baxis": {
            "gridcolor": "white",
            "linecolor": "white",
            "ticks": ""
           },
           "bgcolor": "#E5ECF6",
           "caxis": {
            "gridcolor": "white",
            "linecolor": "white",
            "ticks": ""
           }
          },
          "title": {
           "x": 0.05
          },
          "xaxis": {
           "automargin": true,
           "gridcolor": "white",
           "linecolor": "white",
           "ticks": "",
           "title": {
            "standoff": 15
           },
           "zerolinecolor": "white",
           "zerolinewidth": 2
          },
          "yaxis": {
           "automargin": true,
           "gridcolor": "white",
           "linecolor": "white",
           "ticks": "",
           "title": {
            "standoff": 15
           },
           "zerolinecolor": "white",
           "zerolinewidth": 2
          }
         }
        },
        "title": {
         "text": "Face Recognition"
        },
        "xaxis": {
         "anchor": "y",
         "domain": [
          0,
          1
         ],
         "title": {
          "text": "Timeline"
         }
        },
        "yaxis": {
         "anchor": "x",
         "domain": [
          0,
          1
         ],
         "title": {
          "text": "Value"
         }
        }
       }
      }
     },
     "metadata": {},
     "output_type": "display_data"
    }
   ],
   "source": [
    "CHUNKING = 7\n",
    "\n",
    "AU = 0\n",
    "AUS = [\"01\", \"02\", \"04\", \"05\", \"06\", \"07\", \"09\", \"10\", \"12\", \"14\", \"15\", \"17\", \"20\", \"23\", \"25\", \"26\", \"28\", \"45\"]\n",
    "print(len(AUS))\n",
    "\n",
    "ALL_AU = True # Use all AUs in the same graph\n",
    "COUNTING = True # Count number or intensity\n",
    "\n",
    "AU_R = 1\n",
    "AU_E = 18\n",
    "\n",
    "E_TH = 0.5 #  Presence threshold (0.5 for present and -0.5 for all)\n",
    "R_TH = 3 # Itensity threshold (1-5)\n",
    "\n",
    "# User plotly to visualize something\n",
    "\n",
    "import plotly.express as px\n",
    "import pandas as pd\n",
    "\n",
    "# Json\n",
    "import json\n",
    "\n",
    "# Load all csv files in csv/\n",
    "import glob\n",
    "import os\n",
    "\n",
    "csv_files = glob.glob(\"csv/*.csv\")\n",
    "# Convert all entries to structured data with attribute 0 as frame number, 1 as Face Box, and 5 as Identity\n",
    "# Skip first two lines of each file\n",
    "# Skip rows where Identity is N/A\n",
    "\n",
    "USE_AVERAGE = True\n",
    "\n",
    "USE_GENERAL_NAMES = True\n",
    "USE_GENDER_NAMES = True\n",
    "IGNORE_MINOR_CHARACTERS = True\n",
    "\n",
    "FILM_FRAME_TOTALS = {\n",
    "\t\"Cliff\": 2097,\n",
    "\t\"Our Village\": 2377,\n",
    "\t\"Diary of Nurse\": 2297,\n",
    "\t\"Sabrina\": 2751,\n",
    "\t\"The Man from Laramie\": 2477,\n",
    "\t\"Human Desire\": 2200,\n",
    "}\n",
    "\n",
    "FILMS_WITH_EMOTION = FILM_FRAME_TOTALS.keys()\n",
    "\n",
    "RIVALS = [\"Keming\", \"Professor Yuan\", \"Haoru\", \"David\", \"Vic\", \"Carl\"]\n",
    "MALES = [\"Zhanwu\", \"Fan Jun\", \"Changping\", \"Linus\", \"Will\", \"Jeff\"]\n",
    "LADIES = [\"Shuzhen\", \"Fang Qing\", \"Suhua\", \"Sabrina\", \"Barbara\", \"Vicki\"]\n",
    "\n",
    "PROTAGONISTS = [\"Zhanwu\", \"Fang Qing\", \"Suhua\", \"Sabrina\", \"Will\", \"Jeff\"]\n",
    "LOVES = [\"Shuzhen\", \"Fan Jun\", \"Changping\", \"Linus\", \"Barbara\", \"Vicki\"]\n",
    "\n",
    "def find_section(range_start, range_end, num_sections, value):\n",
    "    \"\"\"\n",
    "    Given a range [range_start, range_end], this function splits it into\n",
    "    num_sections and returns which section (1-based index) the value falls into.\n",
    "\n",
    "    :param range_start: The start of the range (inclusive).\n",
    "    :param range_end: The end of the range (inclusive).\n",
    "    :param num_sections: Number of sections to divide the range into.\n",
    "    :param value: The value for which we want to determine the section index.\n",
    "    :return: The section index (1-based) where the value fits.\n",
    "    \"\"\"\n",
    "    # Handle edge cases, e.g., if value < range_start or value > range_end\n",
    "    if value <= range_start:\n",
    "        return 1\n",
    "    if value >= range_end:\n",
    "        return num_sections\n",
    "\n",
    "    # Compute the size of each section\n",
    "    section_size = (range_end - range_start) / num_sections\n",
    "\n",
    "    # Determine which section the value falls into using integer division\n",
    "    section_index = int((value - range_start) // section_size) + 1\n",
    "\n",
    "    # Make sure the section index doesn't exceed num_sections\n",
    "    if section_index > num_sections:\n",
    "        section_index = num_sections\n",
    "\n",
    "    return section_index\n",
    "\n",
    "def get_name(name):\n",
    "\tif USE_GENDER_NAMES:\n",
    "\t\tif name in MALES:\n",
    "\t\t\tname = \"Male\"\n",
    "\t\telif name in LADIES:\n",
    "\t\t\tname = \"Female\"\n",
    "\telse:\n",
    "\t\tif name in PROTAGONISTS:\n",
    "\t\t\tname = \"Protagonist\"\n",
    "\t\telif name in LOVES:\n",
    "\t\t\tname = \"Love\"\n",
    "\treturn name\n",
    "\n",
    "data = []\n",
    "chunks = []\n",
    "chunkcounts = []\n",
    "for i in range(CHUNKING + 1):\n",
    "\tchunks.append({})\n",
    "\tchunkcounts.append({})\n",
    "\n",
    "for file in csv_files:\n",
    "\tif file[4:-4] not in FILMS_WITH_EMOTION:\n",
    "\t\tcontinue\n",
    "\twith open(file) as f:\n",
    "\t\temotion_file = \"openface_cleaned/\" + os.path.basename(file)[:-4] + \".csv\"\n",
    "\t\tlines = f.readlines()[2:]\n",
    "\t\tfor line in lines:\n",
    "\t\t\tline = line.split(\",\")\n",
    "\t\t\tif line[5] != \"\\\"N/A\\\"\":\n",
    "\t\t\t\t# Att 3 is frame numbder / film's total frames (the film is the name of the current csv file)\n",
    "\t\t\t\ttotal = FILM_FRAME_TOTALS[os.path.basename(file)[:-4]]\n",
    "\t\t\t\tframe = int(line[0][1:][:-1])\n",
    "\t\t\t\tname = line[5][1:][:-1]\n",
    "\t\t\t\tpath = line[4][1:][:-1]\n",
    "\n",
    "\t\t\t\temotion_row = \"\"\n",
    "\t\t\t\twith open(emotion_file) as ef:\n",
    "\t\t\t\t\tef_lines = ef.readlines()\n",
    "\t\t\t\t\tfor ef_line in ef_lines:\n",
    "\t\t\t\t\t\tef_line = ef_line.split(\",\")\n",
    "\t\t\t\t\t\tif ef_line[0][:-4] == path[6:]:\n",
    "\t\t\t\t\t\t\temotion_row = ef_line\n",
    "\t\t\t\t\t\t\tbreak\n",
    "\t\t\t\tif emotion_row == \"\":\n",
    "\t\t\t\t\tcontinue\n",
    "\n",
    "\t\t\t\tlog1 = int(int(AU) + int(AU_R) + 1)\n",
    "\t\t\t\tlog2 = int(int(AU) + int(AU_E) + 1)\n",
    "\n",
    "\n",
    "\t\t\t\tr = float(emotion_row[log1])\n",
    "\t\t\t\te = float(emotion_row[log2])\n",
    "\n",
    "\n",
    "\t\t\t\tface_box_text = line[1][1:][:-1][1:][:-1]\n",
    "\t\t\t\tface_box = [float(x) for x in face_box_text.split(\"\\， \")]\n",
    "\t\t\t\tface_box_height = face_box[3]# - face_box[1]\n",
    "\t\t\t\tface_box_width = face_box[2]# - face_box[0]\n",
    "\t\t\t\tif USE_GENERAL_NAMES:\n",
    "\t\t\t\t\tif name in RIVALS:\n",
    "\t\t\t\t\t\tname = \"Rival\"\n",
    "\t\t\t\t\tname = get_name(name)\n",
    "\t\t\t\tif IGNORE_MINOR_CHARACTERS:\n",
    "\t\t\t\t\tif USE_GENERAL_NAMES:\n",
    "\t\t\t\t\t\tif name not in [\"Rival\", \"Protagonist\", \"Female\", \"Male\", \"Love\"]:\n",
    "\t\t\t\t\t\t\tcontinue\n",
    "\t\t\t\t\telse:\n",
    "\t\t\t\t\t\tif name not in RIVALS:\n",
    "\t\t\t\t\t\t\tif name not in PROTAGONISTS:\n",
    "\t\t\t\t\t\t\t\tif name not in LOVES:\n",
    "\t\t\t\t\t\t\t\t\tcontinue\n",
    "\t\t\t\ttime = find_section(0, total, CHUNKING, frame)\n",
    "\t\t\t\tbase_name = name\n",
    "\t\t\t\tif ALL_AU:\n",
    "\t\t\t\t\tname = \"\"\n",
    "\t\t\t\t\tfor i in range(1, 18):\n",
    "\t\t\t\t\t\tr_val = float(emotion_row[i])\n",
    "\t\t\t\t\t\te_val = float(emotion_row[i + 17])\n",
    "\t\t\t\t\t\tif e_val > E_TH and r_val > R_TH:\n",
    "\t\t\t\t\t\t\tname = base_name + \"-AU\" + AUS[i - 1]\n",
    "\t\t\t\t\t\t\tif name not in chunks[time]:\n",
    "\t\t\t\t\t\t\t\tchunks[time][name] = 0\n",
    "\t\t\t\t\t\t\tif base_name not in chunkcounts[time]:\n",
    "\t\t\t\t\t\t\t\tchunkcounts[time][base_name] = 0\n",
    "\t\t\t\t\t\t\tif COUNTING:\n",
    "\t\t\t\t\t\t\t\tchunks[time][name] += 1\n",
    "\t\t\t\t\t\t\telse:\n",
    "\t\t\t\t\t\t\t\tchunks[time][name] += r_val\n",
    "\t\t\t\t\t\t\tchunkcounts[time][base_name] += 1\n",
    "\t\t\t\telse:\n",
    "\t\t\t\t\tname = name\n",
    "\t\t\t\t\tif e > E_TH and r > R_TH:\n",
    "\t\t\t\t\t\tif name not in chunks[time]:\n",
    "\t\t\t\t\t\t\tchunks[time][name] = 0\n",
    "\t\t\t\t\t\tif base_name not in chunkcounts[time]:\n",
    "\t\t\t\t\t\t\tchunkcounts[time][base_name] = 0\n",
    "\t\t\t\t\t\tif COUNTING:\n",
    "\t\t\t\t\t\t\tchunks[time][name] += 1\n",
    "\t\t\t\t\t\telse:\n",
    "\t\t\t\t\t\t\tchunks[time][name] += r\n",
    "\t\t\t\t\t\tchunkcounts[time][base_name] += 1\n",
    "\t\t\t\t# the chunk array time participant is a dictionary of the participants in that chunk\n",
    "\n",
    "\t\t\t\t#data.append([frame, line[1], name, time])\n",
    "\n",
    "for i in range(CHUNKING + 1):\n",
    "\tfor name in chunks[i]:\n",
    "\t\tbase_name = name.split(\"-\")[0]\n",
    "\t\tif USE_AVERAGE:\n",
    "\t\t\tif chunkcounts[i][base_name] == 0:\n",
    "\t\t\t\tchunks[i][name] = 0\n",
    "\t\t\telse:\n",
    "\t\t\t\tchunks[i][name] /= chunkcounts[i][base_name]\n",
    "\t\tdata.append([i, name, chunks[i][name]])\n",
    "\n",
    "df = pd.DataFrame(data, columns=[\"Timeline\", \"Identity\", \"Value\"])\n",
    "df[\"Identity\"] = df[\"Identity\"].astype(str)\n",
    "df[\"Identity\"] = df[\"Identity\"].apply(lambda x: x.split(\" \")[0])\n",
    "\n",
    "# Create a scatter plot of the data\n",
    "fig = px.line(df, x=\"Timeline\", y=\"Value\", color=\"Identity\", title=\"Face Recognition\")\n",
    "fig.show()"
   ]
  },
  {
   "cell_type": "markdown",
   "metadata": {},
   "source": [
    "### CHUNKED PRESENCE WITH FILM MEANS"
   ]
  },
  {
   "cell_type": "code",
   "execution_count": 8,
   "metadata": {},
   "outputs": [
    {
     "data": {
      "application/vnd.plotly.v1+json": {
       "config": {
        "plotlyServerURL": "https://plot.ly"
       },
       "data": [
        {
         "hovertemplate": "Identity=Love<br>Timeline=%{x}<br>Value=%{y}<extra></extra>",
         "legendgroup": "Love",
         "line": {
          "color": "#636efa",
          "dash": "solid"
         },
         "marker": {
          "symbol": "circle"
         },
         "mode": "lines",
         "name": "Love",
         "orientation": "v",
         "showlegend": true,
         "type": "scatter",
         "x": [
          1,
          2,
          3,
          4,
          5,
          6,
          7,
          8,
          9
         ],
         "xaxis": "x",
         "y": [
          0.24909369598361975,
          0.29717946241325494,
          0.36061191787534663,
          0.2755346136091302,
          0.3170507637337925,
          0.2999140808395124,
          0.2852569921493688,
          0.21632680415270608,
          0.33988480477719246
         ],
         "yaxis": "y"
        },
        {
         "hovertemplate": "Identity=Protagonist<br>Timeline=%{x}<br>Value=%{y}<extra></extra>",
         "legendgroup": "Protagonist",
         "line": {
          "color": "#EF553B",
          "dash": "solid"
         },
         "marker": {
          "symbol": "circle"
         },
         "mode": "lines",
         "name": "Protagonist",
         "orientation": "v",
         "showlegend": true,
         "type": "scatter",
         "x": [
          1,
          2,
          3,
          4,
          5,
          6,
          7,
          8,
          9
         ],
         "xaxis": "x",
         "y": [
          0.5680879979029582,
          0.46839619287528583,
          0.4407928700271177,
          0.43963469323763743,
          0.44840933537081995,
          0.48881675927868334,
          0.5052634163998465,
          0.5344929739253196,
          0.45872653201332875
         ],
         "yaxis": "y"
        },
        {
         "hovertemplate": "Identity=Rival<br>Timeline=%{x}<br>Value=%{y}<extra></extra>",
         "legendgroup": "Rival",
         "line": {
          "color": "#00cc96",
          "dash": "solid"
         },
         "marker": {
          "symbol": "circle"
         },
         "mode": "lines",
         "name": "Rival",
         "orientation": "v",
         "showlegend": true,
         "type": "scatter",
         "x": [
          1,
          2,
          3,
          4,
          5,
          6,
          7,
          8,
          9
         ],
         "xaxis": "x",
         "y": [
          0.1828183061134221,
          0.23442434471145923,
          0.19859521209753567,
          0.2848306931532323,
          0.2345399008953876,
          0.2112691598818043,
          0.2094795914507847,
          0.24918022192197434,
          0.20138866320947882
         ],
         "yaxis": "y"
        }
       ],
       "layout": {
        "legend": {
         "title": {
          "text": "Identity"
         },
         "tracegroupgap": 0
        },
        "template": {
         "data": {
          "bar": [
           {
            "error_x": {
             "color": "#2a3f5f"
            },
            "error_y": {
             "color": "#2a3f5f"
            },
            "marker": {
             "line": {
              "color": "#E5ECF6",
              "width": 0.5
             },
             "pattern": {
              "fillmode": "overlay",
              "size": 10,
              "solidity": 0.2
             }
            },
            "type": "bar"
           }
          ],
          "barpolar": [
           {
            "marker": {
             "line": {
              "color": "#E5ECF6",
              "width": 0.5
             },
             "pattern": {
              "fillmode": "overlay",
              "size": 10,
              "solidity": 0.2
             }
            },
            "type": "barpolar"
           }
          ],
          "carpet": [
           {
            "aaxis": {
             "endlinecolor": "#2a3f5f",
             "gridcolor": "white",
             "linecolor": "white",
             "minorgridcolor": "white",
             "startlinecolor": "#2a3f5f"
            },
            "baxis": {
             "endlinecolor": "#2a3f5f",
             "gridcolor": "white",
             "linecolor": "white",
             "minorgridcolor": "white",
             "startlinecolor": "#2a3f5f"
            },
            "type": "carpet"
           }
          ],
          "choropleth": [
           {
            "colorbar": {
             "outlinewidth": 0,
             "ticks": ""
            },
            "type": "choropleth"
           }
          ],
          "contour": [
           {
            "colorbar": {
             "outlinewidth": 0,
             "ticks": ""
            },
            "colorscale": [
             [
              0,
              "#0d0887"
             ],
             [
              0.1111111111111111,
              "#46039f"
             ],
             [
              0.2222222222222222,
              "#7201a8"
             ],
             [
              0.3333333333333333,
              "#9c179e"
             ],
             [
              0.4444444444444444,
              "#bd3786"
             ],
             [
              0.5555555555555556,
              "#d8576b"
             ],
             [
              0.6666666666666666,
              "#ed7953"
             ],
             [
              0.7777777777777778,
              "#fb9f3a"
             ],
             [
              0.8888888888888888,
              "#fdca26"
             ],
             [
              1,
              "#f0f921"
             ]
            ],
            "type": "contour"
           }
          ],
          "contourcarpet": [
           {
            "colorbar": {
             "outlinewidth": 0,
             "ticks": ""
            },
            "type": "contourcarpet"
           }
          ],
          "heatmap": [
           {
            "colorbar": {
             "outlinewidth": 0,
             "ticks": ""
            },
            "colorscale": [
             [
              0,
              "#0d0887"
             ],
             [
              0.1111111111111111,
              "#46039f"
             ],
             [
              0.2222222222222222,
              "#7201a8"
             ],
             [
              0.3333333333333333,
              "#9c179e"
             ],
             [
              0.4444444444444444,
              "#bd3786"
             ],
             [
              0.5555555555555556,
              "#d8576b"
             ],
             [
              0.6666666666666666,
              "#ed7953"
             ],
             [
              0.7777777777777778,
              "#fb9f3a"
             ],
             [
              0.8888888888888888,
              "#fdca26"
             ],
             [
              1,
              "#f0f921"
             ]
            ],
            "type": "heatmap"
           }
          ],
          "heatmapgl": [
           {
            "colorbar": {
             "outlinewidth": 0,
             "ticks": ""
            },
            "colorscale": [
             [
              0,
              "#0d0887"
             ],
             [
              0.1111111111111111,
              "#46039f"
             ],
             [
              0.2222222222222222,
              "#7201a8"
             ],
             [
              0.3333333333333333,
              "#9c179e"
             ],
             [
              0.4444444444444444,
              "#bd3786"
             ],
             [
              0.5555555555555556,
              "#d8576b"
             ],
             [
              0.6666666666666666,
              "#ed7953"
             ],
             [
              0.7777777777777778,
              "#fb9f3a"
             ],
             [
              0.8888888888888888,
              "#fdca26"
             ],
             [
              1,
              "#f0f921"
             ]
            ],
            "type": "heatmapgl"
           }
          ],
          "histogram": [
           {
            "marker": {
             "pattern": {
              "fillmode": "overlay",
              "size": 10,
              "solidity": 0.2
             }
            },
            "type": "histogram"
           }
          ],
          "histogram2d": [
           {
            "colorbar": {
             "outlinewidth": 0,
             "ticks": ""
            },
            "colorscale": [
             [
              0,
              "#0d0887"
             ],
             [
              0.1111111111111111,
              "#46039f"
             ],
             [
              0.2222222222222222,
              "#7201a8"
             ],
             [
              0.3333333333333333,
              "#9c179e"
             ],
             [
              0.4444444444444444,
              "#bd3786"
             ],
             [
              0.5555555555555556,
              "#d8576b"
             ],
             [
              0.6666666666666666,
              "#ed7953"
             ],
             [
              0.7777777777777778,
              "#fb9f3a"
             ],
             [
              0.8888888888888888,
              "#fdca26"
             ],
             [
              1,
              "#f0f921"
             ]
            ],
            "type": "histogram2d"
           }
          ],
          "histogram2dcontour": [
           {
            "colorbar": {
             "outlinewidth": 0,
             "ticks": ""
            },
            "colorscale": [
             [
              0,
              "#0d0887"
             ],
             [
              0.1111111111111111,
              "#46039f"
             ],
             [
              0.2222222222222222,
              "#7201a8"
             ],
             [
              0.3333333333333333,
              "#9c179e"
             ],
             [
              0.4444444444444444,
              "#bd3786"
             ],
             [
              0.5555555555555556,
              "#d8576b"
             ],
             [
              0.6666666666666666,
              "#ed7953"
             ],
             [
              0.7777777777777778,
              "#fb9f3a"
             ],
             [
              0.8888888888888888,
              "#fdca26"
             ],
             [
              1,
              "#f0f921"
             ]
            ],
            "type": "histogram2dcontour"
           }
          ],
          "mesh3d": [
           {
            "colorbar": {
             "outlinewidth": 0,
             "ticks": ""
            },
            "type": "mesh3d"
           }
          ],
          "parcoords": [
           {
            "line": {
             "colorbar": {
              "outlinewidth": 0,
              "ticks": ""
             }
            },
            "type": "parcoords"
           }
          ],
          "pie": [
           {
            "automargin": true,
            "type": "pie"
           }
          ],
          "scatter": [
           {
            "fillpattern": {
             "fillmode": "overlay",
             "size": 10,
             "solidity": 0.2
            },
            "type": "scatter"
           }
          ],
          "scatter3d": [
           {
            "line": {
             "colorbar": {
              "outlinewidth": 0,
              "ticks": ""
             }
            },
            "marker": {
             "colorbar": {
              "outlinewidth": 0,
              "ticks": ""
             }
            },
            "type": "scatter3d"
           }
          ],
          "scattercarpet": [
           {
            "marker": {
             "colorbar": {
              "outlinewidth": 0,
              "ticks": ""
             }
            },
            "type": "scattercarpet"
           }
          ],
          "scattergeo": [
           {
            "marker": {
             "colorbar": {
              "outlinewidth": 0,
              "ticks": ""
             }
            },
            "type": "scattergeo"
           }
          ],
          "scattergl": [
           {
            "marker": {
             "colorbar": {
              "outlinewidth": 0,
              "ticks": ""
             }
            },
            "type": "scattergl"
           }
          ],
          "scattermapbox": [
           {
            "marker": {
             "colorbar": {
              "outlinewidth": 0,
              "ticks": ""
             }
            },
            "type": "scattermapbox"
           }
          ],
          "scatterpolar": [
           {
            "marker": {
             "colorbar": {
              "outlinewidth": 0,
              "ticks": ""
             }
            },
            "type": "scatterpolar"
           }
          ],
          "scatterpolargl": [
           {
            "marker": {
             "colorbar": {
              "outlinewidth": 0,
              "ticks": ""
             }
            },
            "type": "scatterpolargl"
           }
          ],
          "scatterternary": [
           {
            "marker": {
             "colorbar": {
              "outlinewidth": 0,
              "ticks": ""
             }
            },
            "type": "scatterternary"
           }
          ],
          "surface": [
           {
            "colorbar": {
             "outlinewidth": 0,
             "ticks": ""
            },
            "colorscale": [
             [
              0,
              "#0d0887"
             ],
             [
              0.1111111111111111,
              "#46039f"
             ],
             [
              0.2222222222222222,
              "#7201a8"
             ],
             [
              0.3333333333333333,
              "#9c179e"
             ],
             [
              0.4444444444444444,
              "#bd3786"
             ],
             [
              0.5555555555555556,
              "#d8576b"
             ],
             [
              0.6666666666666666,
              "#ed7953"
             ],
             [
              0.7777777777777778,
              "#fb9f3a"
             ],
             [
              0.8888888888888888,
              "#fdca26"
             ],
             [
              1,
              "#f0f921"
             ]
            ],
            "type": "surface"
           }
          ],
          "table": [
           {
            "cells": {
             "fill": {
              "color": "#EBF0F8"
             },
             "line": {
              "color": "white"
             }
            },
            "header": {
             "fill": {
              "color": "#C8D4E3"
             },
             "line": {
              "color": "white"
             }
            },
            "type": "table"
           }
          ]
         },
         "layout": {
          "annotationdefaults": {
           "arrowcolor": "#2a3f5f",
           "arrowhead": 0,
           "arrowwidth": 1
          },
          "autotypenumbers": "strict",
          "coloraxis": {
           "colorbar": {
            "outlinewidth": 0,
            "ticks": ""
           }
          },
          "colorscale": {
           "diverging": [
            [
             0,
             "#8e0152"
            ],
            [
             0.1,
             "#c51b7d"
            ],
            [
             0.2,
             "#de77ae"
            ],
            [
             0.3,
             "#f1b6da"
            ],
            [
             0.4,
             "#fde0ef"
            ],
            [
             0.5,
             "#f7f7f7"
            ],
            [
             0.6,
             "#e6f5d0"
            ],
            [
             0.7,
             "#b8e186"
            ],
            [
             0.8,
             "#7fbc41"
            ],
            [
             0.9,
             "#4d9221"
            ],
            [
             1,
             "#276419"
            ]
           ],
           "sequential": [
            [
             0,
             "#0d0887"
            ],
            [
             0.1111111111111111,
             "#46039f"
            ],
            [
             0.2222222222222222,
             "#7201a8"
            ],
            [
             0.3333333333333333,
             "#9c179e"
            ],
            [
             0.4444444444444444,
             "#bd3786"
            ],
            [
             0.5555555555555556,
             "#d8576b"
            ],
            [
             0.6666666666666666,
             "#ed7953"
            ],
            [
             0.7777777777777778,
             "#fb9f3a"
            ],
            [
             0.8888888888888888,
             "#fdca26"
            ],
            [
             1,
             "#f0f921"
            ]
           ],
           "sequentialminus": [
            [
             0,
             "#0d0887"
            ],
            [
             0.1111111111111111,
             "#46039f"
            ],
            [
             0.2222222222222222,
             "#7201a8"
            ],
            [
             0.3333333333333333,
             "#9c179e"
            ],
            [
             0.4444444444444444,
             "#bd3786"
            ],
            [
             0.5555555555555556,
             "#d8576b"
            ],
            [
             0.6666666666666666,
             "#ed7953"
            ],
            [
             0.7777777777777778,
             "#fb9f3a"
            ],
            [
             0.8888888888888888,
             "#fdca26"
            ],
            [
             1,
             "#f0f921"
            ]
           ]
          },
          "colorway": [
           "#636efa",
           "#EF553B",
           "#00cc96",
           "#ab63fa",
           "#FFA15A",
           "#19d3f3",
           "#FF6692",
           "#B6E880",
           "#FF97FF",
           "#FECB52"
          ],
          "font": {
           "color": "#2a3f5f"
          },
          "geo": {
           "bgcolor": "white",
           "lakecolor": "white",
           "landcolor": "#E5ECF6",
           "showlakes": true,
           "showland": true,
           "subunitcolor": "white"
          },
          "hoverlabel": {
           "align": "left"
          },
          "hovermode": "closest",
          "mapbox": {
           "style": "light"
          },
          "paper_bgcolor": "white",
          "plot_bgcolor": "#E5ECF6",
          "polar": {
           "angularaxis": {
            "gridcolor": "white",
            "linecolor": "white",
            "ticks": ""
           },
           "bgcolor": "#E5ECF6",
           "radialaxis": {
            "gridcolor": "white",
            "linecolor": "white",
            "ticks": ""
           }
          },
          "scene": {
           "xaxis": {
            "backgroundcolor": "#E5ECF6",
            "gridcolor": "white",
            "gridwidth": 2,
            "linecolor": "white",
            "showbackground": true,
            "ticks": "",
            "zerolinecolor": "white"
           },
           "yaxis": {
            "backgroundcolor": "#E5ECF6",
            "gridcolor": "white",
            "gridwidth": 2,
            "linecolor": "white",
            "showbackground": true,
            "ticks": "",
            "zerolinecolor": "white"
           },
           "zaxis": {
            "backgroundcolor": "#E5ECF6",
            "gridcolor": "white",
            "gridwidth": 2,
            "linecolor": "white",
            "showbackground": true,
            "ticks": "",
            "zerolinecolor": "white"
           }
          },
          "shapedefaults": {
           "line": {
            "color": "#2a3f5f"
           }
          },
          "ternary": {
           "aaxis": {
            "gridcolor": "white",
            "linecolor": "white",
            "ticks": ""
           },
           "baxis": {
            "gridcolor": "white",
            "linecolor": "white",
            "ticks": ""
           },
           "bgcolor": "#E5ECF6",
           "caxis": {
            "gridcolor": "white",
            "linecolor": "white",
            "ticks": ""
           }
          },
          "title": {
           "x": 0.05
          },
          "xaxis": {
           "automargin": true,
           "gridcolor": "white",
           "linecolor": "white",
           "ticks": "",
           "title": {
            "standoff": 15
           },
           "zerolinecolor": "white",
           "zerolinewidth": 2
          },
          "yaxis": {
           "automargin": true,
           "gridcolor": "white",
           "linecolor": "white",
           "ticks": "",
           "title": {
            "standoff": 15
           },
           "zerolinecolor": "white",
           "zerolinewidth": 2
          }
         }
        },
        "title": {
         "text": "Film-Average Temporal Presence (9 Chunks)"
        },
        "xaxis": {
         "anchor": "y",
         "domain": [
          0,
          1
         ],
         "title": {
          "text": "Timeline"
         }
        },
        "yaxis": {
         "anchor": "x",
         "domain": [
          0,
          1
         ],
         "title": {
          "text": "Value"
         }
        }
       }
      }
     },
     "metadata": {},
     "output_type": "display_data"
    }
   ],
   "source": [
    "CHUNKING = 9\n",
    "\n",
    "# User plotly to visualize something\n",
    "\n",
    "import plotly.express as px\n",
    "import pandas as pd\n",
    "\n",
    "# Load all csv files in csv/\n",
    "import glob\n",
    "import os\n",
    "\n",
    "csv_files = glob.glob(\"csv/*.csv\")\n",
    "\n",
    "USE_GENERAL_NAMES = True # Keep true\n",
    "USE_GENDER_NAMES = False\n",
    "\n",
    "USE_FILM_AVERAGE = True # Better keep true\n",
    "\n",
    "IGNORE_MINOR_CHARACTERS = True\n",
    "\n",
    "FILM_FRAME_TOTALS = {\n",
    "\t\"Cliff\": 2097,\n",
    "\t\"Our Village\": 2377,\n",
    "\t\"Diary of Nurse\": 2297,\n",
    "\t\"Sabrina\": 2751,\n",
    "\t\"The Man from Laramie\": 2477,\n",
    "\t\"Human Desire\": 2200,\n",
    "\t\"Chikamatsu Story\": 2460,\n",
    "\t\"Black River\": 2552,\n",
    "\t\"Duel in the Sun\": 3207,\n",
    "\t\"Gilda\": 2652,\n",
    "\t\"Jigoku Mon\": 2151,\n",
    "\t\"Kurutta Kajitsu\": 2076,\n",
    "\t\"Notorious\": 2433,\n",
    "\t\"Oklahoma\": 3577,\n",
    "\t\"Vikings\": 2740,\n",
    "\t\"Waves of Life\": 2465\n",
    "}\n",
    "\n",
    "RIVALS = [\"Keming\", \"Professor Yuan\", \"Haoru\", \"David\", \"Vic\", \"Carl\", \"Ishun\", \"Hitokiri Joe\", \"Natsuhisa\", \"Bo Kang\", \"Wataru\", \"Jud\", \"Alex Sebastian\", \"Ballin\", \"Einar\", \"Jesse\"]\n",
    "MALES = [\"Zhanwu\", \"Fan Jun\", \"Changping\", \"Linus\", \"Will\", \"Jeff\", \"Mohei\", \"Nishida\", \"Haruji\", \"Jin Zhang\", \"Moritoo\", \"Curly\", \"Devlin\", \"Johnny\", \"Eric\", \"Lewt\"]\n",
    "LADIES = [\"Shuzhen\", \"Fang Qing\", \"Suhua\", \"Sabrina\", \"Barbara\", \"Vicki\", \"Osan\", \"Shizuko\", \"Eri\", \"Ye Suping\", \"Kesa\", \"Laurey\", \"Alicia\", \"Gilda\", \"Morgana\", \"Pearl\"]\n",
    "\n",
    "PROTAGONISTS = [\"Zhanwu\", \"Fang Qing\", \"Suhua\", \"Sabrina\", \"Will\", \"Jeff\", \"Mohei\", \"Nishida\", \"Haruji\", \"Jin Zhang\", \"Moritoo\", \"Curly\", \"Alicia\", \"Johnny\", \"Eric\", \"Pearl\"]\n",
    "LOVES = [\"Shuzhen\", \"Fan Jun\", \"Changping\", \"Linus\", \"Barbara\", \"Vicki\", \"Osan\", \"Shizuko\", \"Eri\", \"Ye Suping\", \"Kesa\", \"Laurey\", \"Devlin\", \"Gilda\", \"Morgana\", \"Lewt\"]\n",
    "\n",
    "def find_section(range_start, range_end, num_sections, value):\n",
    "    \"\"\"\n",
    "    Given a range [range_start, range_end], this function splits it into\n",
    "    num_sections and returns which section (1-based index) the value falls into.\n",
    "\n",
    "    :param range_start: The start of the range (inclusive).\n",
    "    :param range_end: The end of the range (inclusive).\n",
    "    :param num_sections: Number of sections to divide the range into.\n",
    "    :param value: The value for which we want to determine the section index.\n",
    "    :return: The section index (1-based) where the value fits.\n",
    "    \"\"\"\n",
    "    # Handle edge cases, e.g., if value < range_start or value > range_end\n",
    "    if value <= range_start:\n",
    "        return 1\n",
    "    if value >= range_end:\n",
    "        return num_sections\n",
    "\n",
    "    # Compute the size of each section\n",
    "    section_size = (range_end - range_start) / num_sections\n",
    "\n",
    "    # Determine which section the value falls into using integer division\n",
    "    section_index = int((value - range_start) // section_size) + 1\n",
    "\n",
    "    # Make sure the section index doesn't exceed num_sections\n",
    "    if section_index > num_sections:\n",
    "        section_index = num_sections\n",
    "\n",
    "    return section_index\n",
    "\n",
    "def get_name(name):\n",
    "\tif USE_GENDER_NAMES:\n",
    "\t\tif name in MALES:\n",
    "\t\t\tname = \"Male\"\n",
    "\t\telif name in LADIES:\n",
    "\t\t\tname = \"Female\"\n",
    "\telse:\n",
    "\t\tif name in PROTAGONISTS:\n",
    "\t\t\tname = \"Protagonist\"\n",
    "\t\telif name in LOVES:\n",
    "\t\t\tname = \"Love\"\n",
    "\treturn name\n",
    "\n",
    "data = []\n",
    "chunks = []\n",
    "chunk_totals = {}\n",
    "chunk_all_totals = []\n",
    "for i in range(CHUNKING + 1):\n",
    "\tchunk_all_totals.append(0)\n",
    "for i in range(CHUNKING + 1):\n",
    "\tchunks.append({})\n",
    "\n",
    "for file in csv_files:\n",
    "\tfilm = file[4:-4]\n",
    "\twith open(file) as f:\n",
    "\t\tlines = f.readlines()[2:]\n",
    "\t\tfor line in lines:\n",
    "\t\t\tline = line.split(\",\")\n",
    "\t\t\tif line[5] != \"\\\"N/A\\\"\":\n",
    "\t\t\t\t# Att 3 is frame numbder / film's total frames (the film is the name of the current csv file)\n",
    "\t\t\t\ttotal = FILM_FRAME_TOTALS[os.path.basename(file)[:-4]]\n",
    "\t\t\t\tframe = int(line[0][1:][:-1])\n",
    "\t\t\t\tname = line[5][1:][:-1]\n",
    "\t\t\t\tif USE_GENERAL_NAMES:\n",
    "\t\t\t\t\tif name in RIVALS:\n",
    "\t\t\t\t\t\tname = \"Rival\"\n",
    "\t\t\t\t\tname = get_name(name)\n",
    "\t\t\t\tif IGNORE_MINOR_CHARACTERS:\n",
    "\t\t\t\t\tif USE_GENERAL_NAMES:\n",
    "\t\t\t\t\t\tif name not in [\"Rival\", \"Protagonist\", \"Female\", \"Male\", \"Love\"]:\n",
    "\t\t\t\t\t\t\tcontinue\n",
    "\t\t\t\t\telse:\n",
    "\t\t\t\t\t\tif name not in RIVALS:\n",
    "\t\t\t\t\t\t\tif name not in PROTAGONISTS:\n",
    "\t\t\t\t\t\t\t\tif name not in LOVES:\n",
    "\t\t\t\t\t\t\t\t\tcontinue\n",
    "\n",
    "\t\t\t\ttime = find_section(0, total, CHUNKING, frame)\n",
    "\n",
    "\t\t\t\tname = film + \":::\" + name\n",
    "\t\t\t\tchunk_all_totals[time] += 1\n",
    "\n",
    "\t\t\t\t# the chunk array time participant is a dictionary of the participants in that chunk\n",
    "\t\t\t\tchunk_key = film + \"---\" + f\"{time}\"\n",
    "\t\t\t\tif chunk_key not in chunk_totals:\n",
    "\t\t\t\t\tchunk_totals[chunk_key] = 0\n",
    "\n",
    "\t\t\t\tchunk_totals[chunk_key] += 1\n",
    "\t\t\t\tif name not in chunks[time]:\n",
    "\t\t\t\t\tchunks[time][name] = 0\n",
    "\t\t\t\tchunks[time][name] += 1\n",
    "\t\t\t\t#data.append([frame, line[1], name, time])\n",
    "\n",
    "for i in range(CHUNKING+1):\n",
    "\tnames = {}\n",
    "\tfor name in chunks[i]:\n",
    "\t\t# print(name)\n",
    "\t\t\n",
    "\t\tfilms = name.split(\":::\")\n",
    "\t\treal_name = films[1]\n",
    "\t\treal_film = films[0]\n",
    "\n",
    "\t\ttotal = chunk_totals[real_film + \"---\" + f\"{i}\"]\n",
    "\t\tcharacter_in_chunk = chunks[i][name]\n",
    "\t\tavg = character_in_chunk / total\n",
    "\t\tif real_name not in names:\n",
    "\t\t\tnames[real_name] = 0\n",
    "\t\tif USE_FILM_AVERAGE:\n",
    "\t\t\tnames[real_name] += avg\n",
    "\t\telse:\n",
    "\t\t\tnames[real_name] += character_in_chunk\n",
    "\n",
    "\tfor name in names:\n",
    "\t\tchunk_total = names[name]\n",
    "\t\treal_avg = chunk_total / len(FILM_FRAME_TOTALS)\n",
    "\n",
    "\t\tdata.append([i, name, real_avg])\n",
    "\n",
    "df = pd.DataFrame(data, columns=[\"Timeline\", \"Identity\", \"Value\"])\n",
    "df[\"Identity\"] = df[\"Identity\"].astype(str)\n",
    "df[\"Identity\"] = df[\"Identity\"].apply(lambda x: x.split(\" \")[0])\n",
    "\n",
    "# Create a scatter plot of the data\n",
    "fig = px.line(df, x=\"Timeline\", y=\"Value\", color=\"Identity\", title=f\"Film-Average Temporal Presence ({CHUNKING} Chunks)\")\n",
    "fig.show()"
   ]
  },
  {
   "cell_type": "markdown",
   "metadata": {},
   "source": [
    "### CHUNKED SIZE WITH FILM MEANS"
   ]
  },
  {
   "cell_type": "code",
   "execution_count": 9,
   "metadata": {},
   "outputs": [
    {
     "data": {
      "application/vnd.plotly.v1+json": {
       "config": {
        "plotlyServerURL": "https://plot.ly"
       },
       "data": [
        {
         "hovertemplate": "Identity=Female<br>Timeline=%{x}<br>Value=%{y}<extra></extra>",
         "legendgroup": "Female",
         "line": {
          "color": "#636efa",
          "dash": "solid"
         },
         "marker": {
          "symbol": "circle"
         },
         "mode": "lines",
         "name": "Female",
         "orientation": "v",
         "showlegend": true,
         "type": "scatter",
         "x": [
          1,
          2,
          3,
          4,
          5,
          6,
          7,
          8,
          9
         ],
         "xaxis": "x",
         "y": [
          0.034501743575348603,
          0.0408461162985011,
          0.04464935726589955,
          0.03905876343732587,
          0.05229941428492037,
          0.03949047192998479,
          0.05209639934856052,
          0.03789930907267311,
          0.06503672974981956
         ],
         "yaxis": "y"
        },
        {
         "hovertemplate": "Identity=Male<br>Timeline=%{x}<br>Value=%{y}<extra></extra>",
         "legendgroup": "Male",
         "line": {
          "color": "#EF553B",
          "dash": "solid"
         },
         "marker": {
          "symbol": "circle"
         },
         "mode": "lines",
         "name": "Male",
         "orientation": "v",
         "showlegend": true,
         "type": "scatter",
         "x": [
          1,
          2,
          3,
          4,
          5,
          6,
          7,
          8,
          9
         ],
         "xaxis": "x",
         "y": [
          0.03901605855214551,
          0.034257098192940746,
          0.033083888160526334,
          0.0297037924889558,
          0.03675281282322891,
          0.0464327478822685,
          0.04636253723068696,
          0.05074397747831929,
          0.05138900220638176
         ],
         "yaxis": "y"
        },
        {
         "hovertemplate": "Identity=Rival<br>Timeline=%{x}<br>Value=%{y}<extra></extra>",
         "legendgroup": "Rival",
         "line": {
          "color": "#00cc96",
          "dash": "solid"
         },
         "marker": {
          "symbol": "circle"
         },
         "mode": "lines",
         "name": "Rival",
         "orientation": "v",
         "showlegend": true,
         "type": "scatter",
         "x": [
          1,
          2,
          3,
          4,
          5,
          6,
          7,
          8,
          9
         ],
         "xaxis": "x",
         "y": [
          0.02843145666581999,
          0.026017930981833932,
          0.03069945785849378,
          0.04312659935660752,
          0.038011257221128934,
          0.037527905523500334,
          0.03187229832762466,
          0.047658810175028696,
          0.046281131106325604
         ],
         "yaxis": "y"
        }
       ],
       "layout": {
        "legend": {
         "title": {
          "text": "Identity"
         },
         "tracegroupgap": 0
        },
        "template": {
         "data": {
          "bar": [
           {
            "error_x": {
             "color": "#2a3f5f"
            },
            "error_y": {
             "color": "#2a3f5f"
            },
            "marker": {
             "line": {
              "color": "#E5ECF6",
              "width": 0.5
             },
             "pattern": {
              "fillmode": "overlay",
              "size": 10,
              "solidity": 0.2
             }
            },
            "type": "bar"
           }
          ],
          "barpolar": [
           {
            "marker": {
             "line": {
              "color": "#E5ECF6",
              "width": 0.5
             },
             "pattern": {
              "fillmode": "overlay",
              "size": 10,
              "solidity": 0.2
             }
            },
            "type": "barpolar"
           }
          ],
          "carpet": [
           {
            "aaxis": {
             "endlinecolor": "#2a3f5f",
             "gridcolor": "white",
             "linecolor": "white",
             "minorgridcolor": "white",
             "startlinecolor": "#2a3f5f"
            },
            "baxis": {
             "endlinecolor": "#2a3f5f",
             "gridcolor": "white",
             "linecolor": "white",
             "minorgridcolor": "white",
             "startlinecolor": "#2a3f5f"
            },
            "type": "carpet"
           }
          ],
          "choropleth": [
           {
            "colorbar": {
             "outlinewidth": 0,
             "ticks": ""
            },
            "type": "choropleth"
           }
          ],
          "contour": [
           {
            "colorbar": {
             "outlinewidth": 0,
             "ticks": ""
            },
            "colorscale": [
             [
              0,
              "#0d0887"
             ],
             [
              0.1111111111111111,
              "#46039f"
             ],
             [
              0.2222222222222222,
              "#7201a8"
             ],
             [
              0.3333333333333333,
              "#9c179e"
             ],
             [
              0.4444444444444444,
              "#bd3786"
             ],
             [
              0.5555555555555556,
              "#d8576b"
             ],
             [
              0.6666666666666666,
              "#ed7953"
             ],
             [
              0.7777777777777778,
              "#fb9f3a"
             ],
             [
              0.8888888888888888,
              "#fdca26"
             ],
             [
              1,
              "#f0f921"
             ]
            ],
            "type": "contour"
           }
          ],
          "contourcarpet": [
           {
            "colorbar": {
             "outlinewidth": 0,
             "ticks": ""
            },
            "type": "contourcarpet"
           }
          ],
          "heatmap": [
           {
            "colorbar": {
             "outlinewidth": 0,
             "ticks": ""
            },
            "colorscale": [
             [
              0,
              "#0d0887"
             ],
             [
              0.1111111111111111,
              "#46039f"
             ],
             [
              0.2222222222222222,
              "#7201a8"
             ],
             [
              0.3333333333333333,
              "#9c179e"
             ],
             [
              0.4444444444444444,
              "#bd3786"
             ],
             [
              0.5555555555555556,
              "#d8576b"
             ],
             [
              0.6666666666666666,
              "#ed7953"
             ],
             [
              0.7777777777777778,
              "#fb9f3a"
             ],
             [
              0.8888888888888888,
              "#fdca26"
             ],
             [
              1,
              "#f0f921"
             ]
            ],
            "type": "heatmap"
           }
          ],
          "heatmapgl": [
           {
            "colorbar": {
             "outlinewidth": 0,
             "ticks": ""
            },
            "colorscale": [
             [
              0,
              "#0d0887"
             ],
             [
              0.1111111111111111,
              "#46039f"
             ],
             [
              0.2222222222222222,
              "#7201a8"
             ],
             [
              0.3333333333333333,
              "#9c179e"
             ],
             [
              0.4444444444444444,
              "#bd3786"
             ],
             [
              0.5555555555555556,
              "#d8576b"
             ],
             [
              0.6666666666666666,
              "#ed7953"
             ],
             [
              0.7777777777777778,
              "#fb9f3a"
             ],
             [
              0.8888888888888888,
              "#fdca26"
             ],
             [
              1,
              "#f0f921"
             ]
            ],
            "type": "heatmapgl"
           }
          ],
          "histogram": [
           {
            "marker": {
             "pattern": {
              "fillmode": "overlay",
              "size": 10,
              "solidity": 0.2
             }
            },
            "type": "histogram"
           }
          ],
          "histogram2d": [
           {
            "colorbar": {
             "outlinewidth": 0,
             "ticks": ""
            },
            "colorscale": [
             [
              0,
              "#0d0887"
             ],
             [
              0.1111111111111111,
              "#46039f"
             ],
             [
              0.2222222222222222,
              "#7201a8"
             ],
             [
              0.3333333333333333,
              "#9c179e"
             ],
             [
              0.4444444444444444,
              "#bd3786"
             ],
             [
              0.5555555555555556,
              "#d8576b"
             ],
             [
              0.6666666666666666,
              "#ed7953"
             ],
             [
              0.7777777777777778,
              "#fb9f3a"
             ],
             [
              0.8888888888888888,
              "#fdca26"
             ],
             [
              1,
              "#f0f921"
             ]
            ],
            "type": "histogram2d"
           }
          ],
          "histogram2dcontour": [
           {
            "colorbar": {
             "outlinewidth": 0,
             "ticks": ""
            },
            "colorscale": [
             [
              0,
              "#0d0887"
             ],
             [
              0.1111111111111111,
              "#46039f"
             ],
             [
              0.2222222222222222,
              "#7201a8"
             ],
             [
              0.3333333333333333,
              "#9c179e"
             ],
             [
              0.4444444444444444,
              "#bd3786"
             ],
             [
              0.5555555555555556,
              "#d8576b"
             ],
             [
              0.6666666666666666,
              "#ed7953"
             ],
             [
              0.7777777777777778,
              "#fb9f3a"
             ],
             [
              0.8888888888888888,
              "#fdca26"
             ],
             [
              1,
              "#f0f921"
             ]
            ],
            "type": "histogram2dcontour"
           }
          ],
          "mesh3d": [
           {
            "colorbar": {
             "outlinewidth": 0,
             "ticks": ""
            },
            "type": "mesh3d"
           }
          ],
          "parcoords": [
           {
            "line": {
             "colorbar": {
              "outlinewidth": 0,
              "ticks": ""
             }
            },
            "type": "parcoords"
           }
          ],
          "pie": [
           {
            "automargin": true,
            "type": "pie"
           }
          ],
          "scatter": [
           {
            "fillpattern": {
             "fillmode": "overlay",
             "size": 10,
             "solidity": 0.2
            },
            "type": "scatter"
           }
          ],
          "scatter3d": [
           {
            "line": {
             "colorbar": {
              "outlinewidth": 0,
              "ticks": ""
             }
            },
            "marker": {
             "colorbar": {
              "outlinewidth": 0,
              "ticks": ""
             }
            },
            "type": "scatter3d"
           }
          ],
          "scattercarpet": [
           {
            "marker": {
             "colorbar": {
              "outlinewidth": 0,
              "ticks": ""
             }
            },
            "type": "scattercarpet"
           }
          ],
          "scattergeo": [
           {
            "marker": {
             "colorbar": {
              "outlinewidth": 0,
              "ticks": ""
             }
            },
            "type": "scattergeo"
           }
          ],
          "scattergl": [
           {
            "marker": {
             "colorbar": {
              "outlinewidth": 0,
              "ticks": ""
             }
            },
            "type": "scattergl"
           }
          ],
          "scattermapbox": [
           {
            "marker": {
             "colorbar": {
              "outlinewidth": 0,
              "ticks": ""
             }
            },
            "type": "scattermapbox"
           }
          ],
          "scatterpolar": [
           {
            "marker": {
             "colorbar": {
              "outlinewidth": 0,
              "ticks": ""
             }
            },
            "type": "scatterpolar"
           }
          ],
          "scatterpolargl": [
           {
            "marker": {
             "colorbar": {
              "outlinewidth": 0,
              "ticks": ""
             }
            },
            "type": "scatterpolargl"
           }
          ],
          "scatterternary": [
           {
            "marker": {
             "colorbar": {
              "outlinewidth": 0,
              "ticks": ""
             }
            },
            "type": "scatterternary"
           }
          ],
          "surface": [
           {
            "colorbar": {
             "outlinewidth": 0,
             "ticks": ""
            },
            "colorscale": [
             [
              0,
              "#0d0887"
             ],
             [
              0.1111111111111111,
              "#46039f"
             ],
             [
              0.2222222222222222,
              "#7201a8"
             ],
             [
              0.3333333333333333,
              "#9c179e"
             ],
             [
              0.4444444444444444,
              "#bd3786"
             ],
             [
              0.5555555555555556,
              "#d8576b"
             ],
             [
              0.6666666666666666,
              "#ed7953"
             ],
             [
              0.7777777777777778,
              "#fb9f3a"
             ],
             [
              0.8888888888888888,
              "#fdca26"
             ],
             [
              1,
              "#f0f921"
             ]
            ],
            "type": "surface"
           }
          ],
          "table": [
           {
            "cells": {
             "fill": {
              "color": "#EBF0F8"
             },
             "line": {
              "color": "white"
             }
            },
            "header": {
             "fill": {
              "color": "#C8D4E3"
             },
             "line": {
              "color": "white"
             }
            },
            "type": "table"
           }
          ]
         },
         "layout": {
          "annotationdefaults": {
           "arrowcolor": "#2a3f5f",
           "arrowhead": 0,
           "arrowwidth": 1
          },
          "autotypenumbers": "strict",
          "coloraxis": {
           "colorbar": {
            "outlinewidth": 0,
            "ticks": ""
           }
          },
          "colorscale": {
           "diverging": [
            [
             0,
             "#8e0152"
            ],
            [
             0.1,
             "#c51b7d"
            ],
            [
             0.2,
             "#de77ae"
            ],
            [
             0.3,
             "#f1b6da"
            ],
            [
             0.4,
             "#fde0ef"
            ],
            [
             0.5,
             "#f7f7f7"
            ],
            [
             0.6,
             "#e6f5d0"
            ],
            [
             0.7,
             "#b8e186"
            ],
            [
             0.8,
             "#7fbc41"
            ],
            [
             0.9,
             "#4d9221"
            ],
            [
             1,
             "#276419"
            ]
           ],
           "sequential": [
            [
             0,
             "#0d0887"
            ],
            [
             0.1111111111111111,
             "#46039f"
            ],
            [
             0.2222222222222222,
             "#7201a8"
            ],
            [
             0.3333333333333333,
             "#9c179e"
            ],
            [
             0.4444444444444444,
             "#bd3786"
            ],
            [
             0.5555555555555556,
             "#d8576b"
            ],
            [
             0.6666666666666666,
             "#ed7953"
            ],
            [
             0.7777777777777778,
             "#fb9f3a"
            ],
            [
             0.8888888888888888,
             "#fdca26"
            ],
            [
             1,
             "#f0f921"
            ]
           ],
           "sequentialminus": [
            [
             0,
             "#0d0887"
            ],
            [
             0.1111111111111111,
             "#46039f"
            ],
            [
             0.2222222222222222,
             "#7201a8"
            ],
            [
             0.3333333333333333,
             "#9c179e"
            ],
            [
             0.4444444444444444,
             "#bd3786"
            ],
            [
             0.5555555555555556,
             "#d8576b"
            ],
            [
             0.6666666666666666,
             "#ed7953"
            ],
            [
             0.7777777777777778,
             "#fb9f3a"
            ],
            [
             0.8888888888888888,
             "#fdca26"
            ],
            [
             1,
             "#f0f921"
            ]
           ]
          },
          "colorway": [
           "#636efa",
           "#EF553B",
           "#00cc96",
           "#ab63fa",
           "#FFA15A",
           "#19d3f3",
           "#FF6692",
           "#B6E880",
           "#FF97FF",
           "#FECB52"
          ],
          "font": {
           "color": "#2a3f5f"
          },
          "geo": {
           "bgcolor": "white",
           "lakecolor": "white",
           "landcolor": "#E5ECF6",
           "showlakes": true,
           "showland": true,
           "subunitcolor": "white"
          },
          "hoverlabel": {
           "align": "left"
          },
          "hovermode": "closest",
          "mapbox": {
           "style": "light"
          },
          "paper_bgcolor": "white",
          "plot_bgcolor": "#E5ECF6",
          "polar": {
           "angularaxis": {
            "gridcolor": "white",
            "linecolor": "white",
            "ticks": ""
           },
           "bgcolor": "#E5ECF6",
           "radialaxis": {
            "gridcolor": "white",
            "linecolor": "white",
            "ticks": ""
           }
          },
          "scene": {
           "xaxis": {
            "backgroundcolor": "#E5ECF6",
            "gridcolor": "white",
            "gridwidth": 2,
            "linecolor": "white",
            "showbackground": true,
            "ticks": "",
            "zerolinecolor": "white"
           },
           "yaxis": {
            "backgroundcolor": "#E5ECF6",
            "gridcolor": "white",
            "gridwidth": 2,
            "linecolor": "white",
            "showbackground": true,
            "ticks": "",
            "zerolinecolor": "white"
           },
           "zaxis": {
            "backgroundcolor": "#E5ECF6",
            "gridcolor": "white",
            "gridwidth": 2,
            "linecolor": "white",
            "showbackground": true,
            "ticks": "",
            "zerolinecolor": "white"
           }
          },
          "shapedefaults": {
           "line": {
            "color": "#2a3f5f"
           }
          },
          "ternary": {
           "aaxis": {
            "gridcolor": "white",
            "linecolor": "white",
            "ticks": ""
           },
           "baxis": {
            "gridcolor": "white",
            "linecolor": "white",
            "ticks": ""
           },
           "bgcolor": "#E5ECF6",
           "caxis": {
            "gridcolor": "white",
            "linecolor": "white",
            "ticks": ""
           }
          },
          "title": {
           "x": 0.05
          },
          "xaxis": {
           "automargin": true,
           "gridcolor": "white",
           "linecolor": "white",
           "ticks": "",
           "title": {
            "standoff": 15
           },
           "zerolinecolor": "white",
           "zerolinewidth": 2
          },
          "yaxis": {
           "automargin": true,
           "gridcolor": "white",
           "linecolor": "white",
           "ticks": "",
           "title": {
            "standoff": 15
           },
           "zerolinecolor": "white",
           "zerolinewidth": 2
          }
         }
        },
        "title": {
         "text": "Film-Average Face Box Size (9 Chunks)"
        },
        "xaxis": {
         "anchor": "y",
         "domain": [
          0,
          1
         ],
         "title": {
          "text": "Timeline"
         }
        },
        "yaxis": {
         "anchor": "x",
         "domain": [
          0,
          1
         ],
         "title": {
          "text": "Value"
         }
        }
       }
      }
     },
     "metadata": {},
     "output_type": "display_data"
    }
   ],
   "source": [
    "CHUNKING = 9\n",
    "\n",
    "# User plotly to visualize something\n",
    "\n",
    "import plotly.express as px\n",
    "import pandas as pd\n",
    "\n",
    "# Load all csv files in csv/\n",
    "import glob\n",
    "import os\n",
    "\n",
    "csv_files = glob.glob(\"csv/*.csv\")\n",
    "\n",
    "USE_GENERAL_NAMES = True # Keep true\n",
    "USE_GENDER_NAMES = True\n",
    "\n",
    "USE_INDIVIDUAL_AVERAGE_NOT_THREE = True # Keep true\n",
    "\n",
    "USE_FILM_AVERAGE = True # Keep true\n",
    "\n",
    "IGNORE_MINOR_CHARACTERS = True\n",
    "\n",
    "FILM_FRAME_TOTALS = {\n",
    "\t\"Cliff\": 2097,\n",
    "\t\"Our Village\": 2377,\n",
    "\t\"Diary of Nurse\": 2297,\n",
    "\t\"Sabrina\": 2751,\n",
    "\t\"The Man from Laramie\": 2477,\n",
    "\t\"Human Desire\": 2200,\n",
    "\t\"Chikamatsu Story\": 2460,\n",
    "\t\"Black River\": 2552,\n",
    "\t\"Duel in the Sun\": 3207,\n",
    "\t\"Gilda\": 2652,\n",
    "\t\"Jigoku Mon\": 2151,\n",
    "\t\"Kurutta Kajitsu\": 2076,\n",
    "\t\"Notorious\": 2433,\n",
    "\t\"Oklahoma\": 3577,\n",
    "\t\"Vikings\": 2740,\n",
    "\t\"Waves of Life\": 2465\n",
    "}\n",
    "\n",
    "RIVALS = [\"Keming\", \"Professor Yuan\", \"Haoru\", \"David\", \"Vic\", \"Carl\", \"Ishun\", \"Hitokiri Joe\", \"Natsuhisa\", \"Bo Kang\", \"Wataru\", \"Jud\", \"Alex Sebastian\", \"Ballin\", \"Einar\", \"Jesse\"]\n",
    "MALES = [\"Zhanwu\", \"Fan Jun\", \"Changping\", \"Linus\", \"Will\", \"Jeff\", \"Mohei\", \"Nishida\", \"Haruji\", \"Jin Zhang\", \"Moritoo\", \"Curly\", \"Devlin\", \"Johnny\", \"Eric\", \"Lewt\"]\n",
    "LADIES = [\"Shuzhen\", \"Fang Qing\", \"Suhua\", \"Sabrina\", \"Barbara\", \"Vicki\", \"Osan\", \"Shizuko\", \"Eri\", \"Ye Suping\", \"Kesa\", \"Laurey\", \"Alicia\", \"Gilda\", \"Morgana\", \"Pearl\"]\n",
    "\n",
    "PROTAGONISTS = [\"Zhanwu\", \"Fang Qing\", \"Suhua\", \"Sabrina\", \"Will\", \"Jeff\", \"Mohei\", \"Nishida\", \"Haruji\", \"Jin Zhang\", \"Moritoo\", \"Curly\", \"Alicia\", \"Johnny\", \"Eric\", \"Pearl\"]\n",
    "LOVES = [\"Shuzhen\", \"Fan Jun\", \"Changping\", \"Linus\", \"Barbara\", \"Vicki\", \"Osan\", \"Shizuko\", \"Eri\", \"Ye Suping\", \"Kesa\", \"Laurey\", \"Devlin\", \"Gilda\", \"Morgana\", \"Lewt\"]\n",
    "\n",
    "def find_section(range_start, range_end, num_sections, value):\n",
    "    \"\"\"\n",
    "    Given a range [range_start, range_end], this function splits it into\n",
    "    num_sections and returns which section (1-based index) the value falls into.\n",
    "\n",
    "    :param range_start: The start of the range (inclusive).\n",
    "    :param range_end: The end of the range (inclusive).\n",
    "    :param num_sections: Number of sections to divide the range into.\n",
    "    :param value: The value for which we want to determine the section index.\n",
    "    :return: The section index (1-based) where the value fits.\n",
    "    \"\"\"\n",
    "    # Handle edge cases, e.g., if value < range_start or value > range_end\n",
    "    if value <= range_start:\n",
    "        return 1\n",
    "    if value >= range_end:\n",
    "        return num_sections\n",
    "\n",
    "    # Compute the size of each section\n",
    "    section_size = (range_end - range_start) / num_sections\n",
    "\n",
    "    # Determine which section the value falls into using integer division\n",
    "    section_index = int((value - range_start) // section_size) + 1\n",
    "\n",
    "    # Make sure the section index doesn't exceed num_sections\n",
    "    if section_index > num_sections:\n",
    "        section_index = num_sections\n",
    "\n",
    "    return section_index\n",
    "\n",
    "def get_name(name):\n",
    "\tif USE_GENDER_NAMES:\n",
    "\t\tif name in MALES:\n",
    "\t\t\tname = \"Male\"\n",
    "\t\telif name in LADIES:\n",
    "\t\t\tname = \"Female\"\n",
    "\telse:\n",
    "\t\tif name in PROTAGONISTS:\n",
    "\t\t\tname = \"Protagonist\"\n",
    "\t\telif name in LOVES:\n",
    "\t\t\tname = \"Love\"\n",
    "\treturn name\n",
    "\n",
    "data = []\n",
    "chunks = []\n",
    "chunk_totals = {}\n",
    "chunk_all_totals = []\n",
    "for i in range(CHUNKING + 1):\n",
    "\tchunk_all_totals.append(0)\n",
    "for i in range(CHUNKING + 1):\n",
    "\tchunks.append({})\n",
    "\n",
    "for file in csv_files:\n",
    "\tfilm = file[4:-4]\n",
    "\twith open(file) as f:\n",
    "\t\tlines = f.readlines()[2:]\n",
    "\t\tfor line in lines:\n",
    "\t\t\tline = line.split(\",\")\n",
    "\t\t\tif line[5] != \"\\\"N/A\\\"\":\n",
    "\t\t\t\t# Att 3 is frame numbder / film's total frames (the film is the name of the current csv file)\n",
    "\t\t\t\ttotal = FILM_FRAME_TOTALS[os.path.basename(file)[:-4]]\n",
    "\t\t\t\tframe = int(line[0][1:][:-1])\n",
    "\t\t\t\tname = line[5][1:][:-1]\n",
    "\t\t\t\tface_box_text = line[1][1:][:-1][1:][:-1]\n",
    "\t\t\t\tface_box = [float(x) for x in face_box_text.split(\"\\， \")]\n",
    "\t\t\t\tface_box_width = face_box[2]\n",
    "\t\t\t\tface_box_height = face_box[3]\n",
    "\t\t\t\tif USE_GENERAL_NAMES:\n",
    "\t\t\t\t\tif name in RIVALS:\n",
    "\t\t\t\t\t\tname = \"Rival\"\n",
    "\t\t\t\t\tname = get_name(name)\n",
    "\t\t\t\tif IGNORE_MINOR_CHARACTERS:\n",
    "\t\t\t\t\tif USE_GENERAL_NAMES:\n",
    "\t\t\t\t\t\tif name not in [\"Rival\", \"Protagonist\", \"Female\", \"Male\", \"Love\"]:\n",
    "\t\t\t\t\t\t\tcontinue\n",
    "\t\t\t\t\telse:\n",
    "\t\t\t\t\t\tif name not in RIVALS:\n",
    "\t\t\t\t\t\t\tif name not in PROTAGONISTS:\n",
    "\t\t\t\t\t\t\t\tif name not in LOVES:\n",
    "\t\t\t\t\t\t\t\t\tcontinue\n",
    "\n",
    "\t\t\t\ttime = find_section(0, total, CHUNKING, frame)\n",
    "\n",
    "\t\t\t\tname = film + \":::\" + name\n",
    "\t\t\t\tchunk_all_totals[time] += 1\n",
    "\n",
    "\t\t\t\t# the chunk array time participant is a dictionary of the participants in that chunk\n",
    "\t\t\t\tif USE_INDIVIDUAL_AVERAGE_NOT_THREE:\n",
    "\t\t\t\t\tchunk_key = name + \"---\" + f\"{time}\"\n",
    "\t\t\t\telse:\n",
    "\t\t\t\t\tchunk_key = film + \"---\" + f\"{time}\"\n",
    "\t\t\t\tif chunk_key not in chunk_totals:\n",
    "\t\t\t\t\tchunk_totals[chunk_key] = 0\n",
    "\n",
    "\t\t\t\tchunk_totals[chunk_key] += 1\n",
    "\t\t\t\tif name not in chunks[time]:\n",
    "\t\t\t\t\tchunks[time][name] = 0\n",
    "\t\t\t\tchunks[time][name] += face_box_height * face_box_width\n",
    "\t\t\t\t#data.append([frame, line[1], name, time])\n",
    "\n",
    "for i in range(CHUNKING + 1):\n",
    "\tnames = {}\n",
    "\tfor name in chunks[i]:\n",
    "\t\t\n",
    "\t\t\n",
    "\t\tfilms = name.split(\":::\")\n",
    "\t\treal_name = films[1]\n",
    "\t\treal_film = films[0]\n",
    "\n",
    "\t\tif USE_INDIVIDUAL_AVERAGE_NOT_THREE:\n",
    "\t\t\ttotal = chunk_totals[name + \"---\" + f\"{i}\"]\n",
    "\t\telse:\n",
    "\t\t\ttotal = chunk_totals[real_film + \"---\" + f\"{i}\"]\n",
    "\t\tcharacter_in_chunk = chunks[i][name]\n",
    "\t\tavg = character_in_chunk / total\n",
    "\t\tif real_name not in names:\n",
    "\t\t\tnames[real_name] = 0\n",
    "\t\tif USE_FILM_AVERAGE:\n",
    "\t\t\tnames[real_name] += avg\n",
    "\t\telse:\n",
    "\t\t\tnames[real_name] += character_in_chunk\n",
    "\n",
    "\tfor name in names:\n",
    "\t\tchunk_total = names[name]\n",
    "\t\treal_avg = chunk_total / len(FILM_FRAME_TOTALS)\n",
    "\n",
    "\t\tdata.append([i, name, real_avg])\n",
    "\n",
    "df = pd.DataFrame(data, columns=[\"Timeline\", \"Identity\", \"Value\"])\n",
    "df[\"Identity\"] = df[\"Identity\"].astype(str)\n",
    "df[\"Identity\"] = df[\"Identity\"].apply(lambda x: x.split(\" \")[0])\n",
    "\n",
    "# Create a scatter plot of the data\n",
    "fig = px.line(df, x=\"Timeline\", y=\"Value\", color=\"Identity\", title=f\"Film-Average Face Box Size ({CHUNKING} Chunks)\")\n",
    "fig.show()"
   ]
  },
  {
   "cell_type": "markdown",
   "metadata": {},
   "source": [
    "### DIFFERENCE FROM AVG"
   ]
  },
  {
   "cell_type": "code",
   "execution_count": 10,
   "metadata": {},
   "outputs": [
    {
     "name": "stdout",
     "output_type": "stream",
     "text": [
      "Einar,Vikings (Rival),2.623784853881044\n",
      "Kesa,Jigoku Mon (Love),2.3394464900169227\n",
      "Jin Zhang,Waves of Life (Protagonist),2.236377150040476\n",
      "Will,The Man from Laramie (Protagonist),2.0746699482179225\n",
      "Laurey,Oklahoma (Love),2.061160877542642\n",
      "Moritoo,Jigoku Mon (Protagonist),1.8267264797631448\n",
      "Pearl,Duel in the Sun (Protagonist),1.792102509452043\n",
      "Jeff,Human Desire (Protagonist),1.7657400868895614\n",
      "Suhua,Diary of Nurse (Protagonist),1.7379857050104464\n",
      "Eric,Vikings (Protagonist),1.6508418059254732\n",
      "Nishida,Black River (Protagonist),1.6460746834609232\n",
      "Linus,Sabrina (Love),1.592133726475087\n",
      "Fang Qing,Cliff (Protagonist),1.5684838683632085\n",
      "Gilda,Gilda (Love),1.4586180271944662\n",
      "Osan,Chikamatsu Story (Love),1.4304320930750163\n",
      "Mohei,Chikamatsu Story (Protagonist),1.4246228125061253\n",
      "Vic,The Man from Laramie (Rival),1.395294882280233\n",
      "Fan Jun,Cliff (Love),1.394866282992306\n",
      "Haoru,Diary of Nurse (Rival),1.357205626607963\n",
      "Wataru,Jigoku Mon (Rival),1.3528878820465207\n",
      "Ishun,Chikamatsu Story (Rival),1.3397572664929032\n",
      "Johnny,Gilda (Protagonist),1.3132018230026306\n",
      "Hitokiri Joe,Black River (Rival),1.2888007381919342\n",
      "Carl,Human Desire (Rival),1.265650092137986\n",
      "Haruji,Kurutta Kajitsu (Protagonist),1.265165256481454\n",
      "Morgana,Vikings (Love),1.2514710430577716\n",
      "Curly,Oklahoma (Protagonist),1.246683111765955\n",
      "Alicia,Notorious (Protagonist),1.1707700510055565\n",
      "Eri,Kurutta Kajitsu (Love),1.1535170171535654\n",
      "Keming,Our Village (Rival),1.1394280483772488\n",
      "Jud,Oklahoma (Rival),1.1285572223304654\n",
      "Bo Kang,Waves of Life (Rival),1.0645758984650975\n",
      "Shuzhen,Our Village (Love),1.042899856910144\n",
      "Natsuhisa,Kurutta Kajitsu (Rival),1.0209668454566136\n",
      "Devlin,Notorious (Love),1.0194770802654154\n",
      "Vicki,Human Desire (Love),1.0039609671864076\n",
      "Ye Suping,Waves of Life (Love),0.975234281609852\n",
      "Changping,Diary of Nurse (Love),0.9707074263866928\n",
      "Jesse,Duel in the Sun (Rival),0.9674552149907807\n",
      "Professor Yuan,Cliff (Rival),0.9369758267694355\n",
      "Barbara,The Man from Laramie (Love),0.9331861863595072\n",
      "Shizuko,Black River (Love),0.9325780587874611\n",
      "Ballin,Gilda (Rival),0.8834446807957897\n",
      "Sabrina,Sabrina (Protagonist),0.8676376189963226\n",
      "Lewt,Duel in the Sun (Love),0.7995406890251758\n",
      "Zhanwu,Our Village (Protagonist),0.6850325990493754\n",
      "Alex Sebastian,Notorious (Rival),0.6397706616823008\n",
      "David,Sabrina (Rival),0.6174938847484749\n",
      "\n",
      "\n",
      "\n",
      "\n",
      "\n",
      "\n",
      "\n",
      "\n",
      "\n",
      "\n",
      "\n",
      "\n",
      "\n",
      "\n",
      "\n",
      "\n",
      "\n",
      "Vikings,5.5260977028642895\n",
      "Jigoku Mon,5.5190608518265885\n",
      "Oklahoma,4.436401211639061\n",
      "The Man from Laramie,4.403151016857663\n",
      "Waves of Life,4.276187330115426\n",
      "Chikamatsu Story,4.194812172074045\n",
      "Diary of Nurse,4.065898758005101\n",
      "Human Desire,4.035351146213954\n",
      "Cliff,3.90032597812495\n",
      "Black River,3.867453480440319\n",
      "Gilda,3.6552645309928864\n",
      "Duel in the Sun,3.5590984134679995\n",
      "Kurutta Kajitsu,3.4396491190916336\n",
      "Sabrina,3.0772652302198846\n",
      "Our Village,2.867360504336768\n",
      "Notorious,2.8300177929532726\n"
     ]
    }
   ],
   "source": [
    "CHUNKING = 9\n",
    "\n",
    "# User plotly to visualize something\n",
    "\n",
    "import plotly.express as px\n",
    "import pandas as pd\n",
    "\n",
    "# Load all csv files in csv/\n",
    "import glob\n",
    "import os\n",
    "\n",
    "csv_files = glob.glob(\"csv/*.csv\")\n",
    "\n",
    "USE_GENDER_NAMES = False\n",
    "\n",
    "USE_FILM_AVERAGE = True # Better keep true\n",
    "\n",
    "FILM_FRAME_TOTALS = {\n",
    "\t\"Cliff\": 2097,\n",
    "\t\"Our Village\": 2377,\n",
    "\t\"Diary of Nurse\": 2297,\n",
    "\t\"Sabrina\": 2751,\n",
    "\t\"The Man from Laramie\": 2477,\n",
    "\t\"Human Desire\": 2200,\n",
    "\t\"Chikamatsu Story\": 2460,\n",
    "\t\"Black River\": 2552,\n",
    "\t\"Duel in the Sun\": 3207,\n",
    "\t\"Gilda\": 2652,\n",
    "\t\"Jigoku Mon\": 2151,\n",
    "\t\"Kurutta Kajitsu\": 2076,\n",
    "\t\"Notorious\": 2433,\n",
    "\t\"Oklahoma\": 3577,\n",
    "\t\"Vikings\": 2740,\n",
    "\t\"Waves of Life\": 2465\n",
    "}\n",
    "\n",
    "RIVALS = [\"Keming\", \"Professor Yuan\", \"Haoru\", \"David\", \"Vic\", \"Carl\", \"Ishun\", \"Hitokiri Joe\", \"Natsuhisa\", \"Bo Kang\", \"Wataru\", \"Jud\", \"Alex Sebastian\", \"Ballin\", \"Einar\", \"Jesse\"]\n",
    "MALES = [\"Zhanwu\", \"Fan Jun\", \"Changping\", \"Linus\", \"Will\", \"Jeff\", \"Mohei\", \"Nishida\", \"Haruji\", \"Jin Zhang\", \"Moritoo\", \"Curly\", \"Devlin\", \"Johnny\", \"Eric\", \"Lewt\"]\n",
    "LADIES = [\"Shuzhen\", \"Fang Qing\", \"Suhua\", \"Sabrina\", \"Barbara\", \"Vicki\", \"Osan\", \"Shizuko\", \"Eri\", \"Ye Suping\", \"Kesa\", \"Laurey\", \"Alicia\", \"Gilda\", \"Morgana\", \"Pearl\"]\n",
    "\n",
    "PROTAGONISTS = [\"Zhanwu\", \"Fang Qing\", \"Suhua\", \"Sabrina\", \"Will\", \"Jeff\", \"Mohei\", \"Nishida\", \"Haruji\", \"Jin Zhang\", \"Moritoo\", \"Curly\", \"Alicia\", \"Johnny\", \"Eric\", \"Pearl\"]\n",
    "LOVES = [\"Shuzhen\", \"Fan Jun\", \"Changping\", \"Linus\", \"Barbara\", \"Vicki\", \"Osan\", \"Shizuko\", \"Eri\", \"Ye Suping\", \"Kesa\", \"Laurey\", \"Devlin\", \"Gilda\", \"Morgana\", \"Lewt\"]\n",
    "\n",
    "def find_section(range_start, range_end, num_sections, value):\n",
    "    \"\"\"\n",
    "    Given a range [range_start, range_end], this function splits it into\n",
    "    num_sections and returns which section (1-based index) the value falls into.\n",
    "\n",
    "    :param range_start: The start of the range (inclusive).\n",
    "    :param range_end: The end of the range (inclusive).\n",
    "    :param num_sections: Number of sections to divide the range into.\n",
    "    :param value: The value for which we want to determine the section index.\n",
    "    :return: The section index (1-based) where the value fits.\n",
    "    \"\"\"\n",
    "    # Handle edge cases, e.g., if value < range_start or value > range_end\n",
    "    if value <= range_start:\n",
    "        return 1\n",
    "    if value >= range_end:\n",
    "        return num_sections\n",
    "\n",
    "    # Compute the size of each section\n",
    "    section_size = (range_end - range_start) / num_sections\n",
    "\n",
    "    # Determine which section the value falls into using integer division\n",
    "    section_index = int((value - range_start) // section_size) + 1\n",
    "\n",
    "    # Make sure the section index doesn't exceed num_sections\n",
    "    if section_index > num_sections:\n",
    "        section_index = num_sections\n",
    "\n",
    "    return section_index\n",
    "\n",
    "def get_name(name):\n",
    "\tif USE_GENDER_NAMES:\n",
    "\t\tif name in MALES:\n",
    "\t\t\tname = \"Male\"\n",
    "\t\telif name in LADIES:\n",
    "\t\t\tname = \"Female\"\n",
    "\telse:\n",
    "\t\tif name in PROTAGONISTS:\n",
    "\t\t\tname = \"Protagonist\"\n",
    "\t\telif name in LOVES:\n",
    "\t\t\tname = \"Love\"\n",
    "\treturn name\n",
    "\n",
    "data = []\n",
    "chunks = []\n",
    "chunk_totals = {}\n",
    "chunk_all_totals = []\n",
    "name_totals = {}\n",
    "individual_chunks = []\n",
    "film_totals = {}\n",
    "for i in range(CHUNKING + 1):\n",
    "\tchunk_all_totals.append(0)\n",
    "for i in range(CHUNKING + 1):\n",
    "\tchunks.append({})\n",
    "\tindividual_chunks.append({})\n",
    "\n",
    "for file in csv_files:\n",
    "\tfilm = file[4:-4]\n",
    "\twith open(file) as f:\n",
    "\t\tlines = f.readlines()[2:]\n",
    "\t\tfor line in lines:\n",
    "\t\t\tline = line.split(\",\")\n",
    "\t\t\tif line[5] != \"\\\"N/A\\\"\":\n",
    "\t\t\t\t# Att 3 is frame numbder / film's total frames (the film is the name of the current csv file)\n",
    "\t\t\t\ttotal = FILM_FRAME_TOTALS[os.path.basename(file)[:-4]]\n",
    "\t\t\t\tframe = int(line[0][1:][:-1])\n",
    "\t\t\t\tname = line[5][1:][:-1]\n",
    "\t\t\t\tgenName = name\n",
    "\t\t\t\t\n",
    "\t\t\t\tif name in RIVALS:\n",
    "\t\t\t\t\tgenName = \"Rival\"\n",
    "\t\t\t\tgenName = get_name(genName)\n",
    "\t\t\t\tif genName not in [\"Rival\", \"Protagonist\", \"Female\", \"Male\", \"Love\"]:\n",
    "\t\t\t\t\tcontinue\n",
    "\n",
    "\t\t\t\ttime = find_section(0, total, CHUNKING, frame)\n",
    "\n",
    "\t\t\t\tname = film + \":::\" + name\n",
    "\t\t\t\tgenName = film + \":::\" + genName\n",
    "\t\t\t\tchunk_all_totals[time] += 1\n",
    "\n",
    "\t\t\t\t# the chunk array time participant is a dictionary of the participants in that chunk\n",
    "\t\t\t\tchunk_key = film + \"---\" + f\"{time}\"\n",
    "\t\t\t\tif chunk_key not in chunk_totals:\n",
    "\t\t\t\t\tchunk_totals[chunk_key] = 0\n",
    "\n",
    "\t\t\t\tchunk_totals[chunk_key] += 1\n",
    "\t\t\t\tif genName not in chunks[time]:\n",
    "\t\t\t\t\tchunks[time][genName] = 0\n",
    "\t\t\t\tif name not in individual_chunks[time]:\n",
    "\t\t\t\t\tindividual_chunks[time][name] = 0\n",
    "\t\t\t\tchunks[time][genName] += 1\n",
    "\t\t\t\tindividual_chunks[time][name] += 1\n",
    "\t\t\t\t#data.append([frame, line[1], name, time])\n",
    "\n",
    "\tif film not in film_totals:\n",
    "\t\tfilm_totals[film] = 0\n",
    "\n",
    "for i in range(CHUNKING + 1):\n",
    "\tnames = {}\n",
    "\tfor name in chunks[i]:\n",
    "\t\t# print(name)\n",
    "\t\t\n",
    "\t\tfilms = name.split(\":::\")\n",
    "\t\treal_name = films[1]\n",
    "\t\treal_film = films[0]\n",
    "\n",
    "\t\ttotal = chunk_totals[real_film + \"---\" + f\"{i}\"]\n",
    "\t\tcharacter_in_chunk = chunks[i][name]\n",
    "\t\tavg = character_in_chunk / total\n",
    "\t\tif real_name not in names:\n",
    "\t\t\tnames[real_name] = 0\n",
    "\t\tif USE_FILM_AVERAGE:\n",
    "\t\t\tnames[real_name] += avg\n",
    "\t\telse:\n",
    "\t\t\tnames[real_name] += character_in_chunk\n",
    "\n",
    "\tfor name in names:\n",
    "\t\tchunk_total = names[name]\n",
    "\t\treal_avg = chunk_total / len(FILM_FRAME_TOTALS)\n",
    "\n",
    "\t\tdata.append([i, name, real_avg])\n",
    "\n",
    "df = pd.DataFrame(data, columns=[\"Timeline\", \"Identity\", \"Value\"])\n",
    "df[\"Identity\"] = df[\"Identity\"].astype(str)\n",
    "df[\"Identity\"] = df[\"Identity\"].apply(lambda x: x.split(\" \")[0])\n",
    "\n",
    "# Create a scatter plot of the data\n",
    "fig = px.line(df, x=\"Timeline\", y=\"Value\", color=\"Identity\", title=f\"Film-Average Temporal Presence ({CHUNKING} Chunks)\")\n",
    "#fig.show()\n",
    "\n",
    "for i in range(CHUNKING + 1):\n",
    "\tnames = {}\n",
    "\tfor name in individual_chunks[i]:\n",
    "\t\t# print(name)\n",
    "\n",
    "\t\tiv = -999\n",
    "\t\t\n",
    "\t\tfilms = name.split(\":::\")\n",
    "\t\treal_name = films[1]\n",
    "\t\treal_film = films[0]\n",
    "\t\tgen_name = real_name\n",
    "\t\tif gen_name in RIVALS:\n",
    "\t\t\tgen_name = \"Rival\"\n",
    "\t\tgen_name = get_name(gen_name)\n",
    "\n",
    "\t\tfor d in data:\n",
    "\t\t\tif d[0] == i and d[1] == gen_name:\n",
    "\t\t\t\tmean = d[2]\n",
    "\t\t\t\tselfVal = individual_chunks[i][name]\n",
    "\t\t\t\tselfMean = selfVal / chunk_totals[real_film + \"---\" + f\"{i}\"]\n",
    "\t\t\t\tiv = abs(mean - selfMean)\n",
    "\t\t\t\t#print(f\"{iv},{real_name} ({gen_name}),{real_film}\")\n",
    "\t\t\t\tbreak\n",
    "\t\t\n",
    "\t\tif iv < -998:\n",
    "\t\t\traise Exception(\"Difference not found\")\n",
    "\t\t\n",
    "\t\tnewName = name + \":::\" + gen_name\n",
    "\t\t\n",
    "\t\tif newName not in name_totals:\n",
    "\t\t\tname_totals[newName] = 0\n",
    "\t\tname_totals[newName] += iv\n",
    "\t\t\n",
    "\t\tfilm_totals[real_film] += iv\n",
    "\n",
    "name_totals = sorted(name_totals.items(), key = lambda x:x[1], reverse = True)\n",
    "name_totals = dict(name_totals)\n",
    "film_totals = sorted(film_totals.items(), key = lambda x:x[1], reverse = True)\n",
    "film_totals = dict(film_totals)\n",
    "\t\t\n",
    "for p in name_totals:\n",
    "\ts = p.split(\":::\")\n",
    "\tprint(f\"{s[1]},{s[0]} ({s[2]}),{name_totals[p]}\")\n",
    "\n",
    "print(\"\\n\\n\\n\\n\\n\\n\\n\\n\\n\\n\\n\\n\\n\\n\\n\\n\")\n",
    "\n",
    "for f in film_totals:\n",
    "\tprint(f\"{f},{film_totals[f]}\")"
   ]
  }
 ],
 "metadata": {
  "kernelspec": {
   "display_name": "base",
   "language": "python",
   "name": "python3"
  },
  "language_info": {
   "codemirror_mode": {
    "name": "ipython",
    "version": 3
   },
   "file_extension": ".py",
   "mimetype": "text/x-python",
   "name": "python",
   "nbconvert_exporter": "python",
   "pygments_lexer": "ipython3",
   "version": "3.10.9"
  }
 },
 "nbformat": 4,
 "nbformat_minor": 2
}
